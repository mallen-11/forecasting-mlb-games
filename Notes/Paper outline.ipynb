{
 "cells": [
  {
   "cell_type": "markdown",
   "metadata": {},
   "source": [
    "# Paper outline\n",
    "\n",
    "The purpose of this notebook is to outline our paper, including responsibilities."
   ]
  },
  {
   "cell_type": "markdown",
   "metadata": {},
   "source": [
    "## Similar papers\n",
    "\n",
    "List similar (published) papers to help guide our writing:\n",
    "- https://arxiv.org/abs/1912.11762\n",
    "    - This would be a good paper to cite in the introduction. It will provide evidence that our work is something people care about (since plenty of papers already exist). We can also reference the accuracies and types of models use to influence our choices.\n",
    "    - Their paper also compares accuracy of neural nets to non-neural nets, which we should also discuss.\n",
    "- http://www.acsij.org/acsij/article/view/246\n",
    "    - This could be referenced briefly when discussing our data collection, but I don't see a ton of useful stuff for us here.\n",
    "- https://content.iospress.com/download/journal-of-sports-analytics/jsa0018?id=journal-of-sports-analytics%2Fjsa0018\n",
    "    - Obviously we should reference this when discussing our variables.\n",
    "    - This could also be used as one simple baseline to compare our results. If we simply compare the Pythagorean expectation for each team, what would our accuracy be?\n",
    "- https://doi.org/10.1080/08839514.2018.1442991\n",
    "    - PDF: https://mustang.cec.miamioh.edu/Resources/Publication/Baseball_Machine_Learning.pdf\n",
    "    - This seems like a fantastic paper for our introduction. Since it already summarizes lots of past work we can just use what they found.\n",
    "    - It would be really nice if this had a table showing accuracy of various models. Perhaps we can pull out the relavant info from this paper and make our own.\n",
    "- https://www.athensjournals.gr/sports/2016-3-4-1-Tolbert.pdf\n",
    "    - This paper focuses on the world series outcomes. That's obviously very different than what we're doing.\n",
    "    - They focus entirely on using SVM's.\n",
    "    - This paper has some seemingly very impressive results, but their data is also imbalanced. So accuracy is problematic. They're also just predicting something different than we are.\n",
    "    - This paper can be referenced, but only briefly.\n",
    "- https://content.sciendo.com/view/journals/ijcss/15/2/article-p91.xml?language=en\n",
    "    - They get \"nearly 60% accuracy\" (58.92%) using SVM, but also try DTs, KNN and NN\n",
    "    - Their paper seems fairly similar to what we're doing (but we got better results), so this is worth referencing to show that our work is an improvement on past work. We're also just better across the board with all of our models.\n",
    "- https://www.google.com/url?sa=t&rct=j&q=&esrc=s&source=web&cd=&ved=2ahUKEwj0s8qIm7DuAhUOQ60KHU-ZBHwQFjACegQIAxAC&url=http%3A%2F%2Fwww.jds-online.com%2Ffile_download%2F39%2Fjds-142.pdf&usg=AOvVaw16MAtgR6u_aF9eG3viSXw9\n",
    "    - This link is broken for me."
   ]
  },
  {
   "cell_type": "markdown",
   "metadata": {},
   "source": [
    "## Sections\n",
    "\n",
    "List the sections we plan to include in the paper:\n",
    "- Abstract\n",
    "    - Why is this topic important?\n",
    "    - What do we do different?\n",
    "    - Talk about the creation of the data loader for future research\n",
    "    - Results\n",
    "    - Brief Discussion\n",
    "- Introduction\n",
    "    - Why does predicting wins and win probabilities matter?\n",
    "        - Helps identify stats correlating to winning\n",
    "        - Betting\n",
    "        - Gives insight into the mysteries of baseball\n",
    "    - Literature Overview\n",
    "        - See above section\n",
    "- Methodology\n",
    "    - Data Collection\n",
    "        - Discuss that we are looking at predicting whether the home team wins or loses\n",
    "        - Baseball Reference\n",
    "        - Lehman's Dataset\n",
    "        - Batting Covariates\n",
    "        - Data Loader Github\n",
    "            - Talk about how it works and why future researchers can use it\n",
    "    - Features\n",
    "        - Discuss each feature (or group of features) and why it is important\n",
    "        - Possibly only focus on the percent difference columns\n",
    "    - Models\n",
    "        - Baseline Model\n",
    "        - KNN\n",
    "        - XGB\n",
    "        - NN\n",
    "        - Ensemble?\n",
    "    - Model Evaluation\n",
    "        - Accuracy\n",
    "        - Probabilities\n",
    "        - **I know we were discussing how we want to do this which is in the other notebook**\n",
    "- Results\n",
    "    - Show how our models compare at predicting high difference probability games\n",
    "        - This is a good place to show probabilities graph\n",
    "    - Show accuracy results on our models compared to other papers\n",
    "        - Give a table showing compared accuracies\n",
    "    - Also show models probability vs games predicted probability\n",
    "        - This is where we can show that for games where one team has a 0.7 win proba and the other is 0.3 we would expect the models to show this. Whereas if it is 0.56 and 0.54 we want to see how the model does and if it gets it right.\n",
    "- Discussion\n",
    "    - Discuss why the reader should care that we are able to have good accuracy on high difference probability games for most models\n",
    "    - Talk about why the KNN doesn't perform well across the board for probabilities\n",
    "        - Possibly because they predict differently than the XGB and NN\n",
    "    - Talk about how our models across the board outperform all other models in literature\n",
    "- Future work\n",
    "    - Adding in more data on specific players for each team\n",
    "    - Try to find more features that will increase accuracy\n",
    "    - The KNN, XGB, and NN when put together for a theoretical accuracy perform at around 80% therefore we can assume they predict in different ways. How do each predict and is there anyway to make a better ensemble?\n",
    "- Conclusion\n",
    "    - Restate similar to what is found in the abstract"
   ]
  },
  {
   "cell_type": "markdown",
   "metadata": {},
   "source": [
    "## Work still remaining\n",
    "\n",
    "List the work that still needs to be done:\n",
    "- Compute class probabilities for KNN model\n",
    "- Compute class probabilities for ensembled (majority vote) model\n"
   ]
  },
  {
   "cell_type": "code",
   "execution_count": null,
   "metadata": {},
   "outputs": [],
   "source": []
  }
 ],
 "metadata": {
  "kernelspec": {
   "display_name": "Python 3",
   "language": "python",
   "name": "python3"
  },
  "language_info": {
   "codemirror_mode": {
    "name": "ipython",
    "version": 3
   },
   "file_extension": ".py",
   "mimetype": "text/x-python",
   "name": "python",
   "nbconvert_exporter": "python",
   "pygments_lexer": "ipython3",
   "version": "3.7.6"
  }
 },
 "nbformat": 4,
 "nbformat_minor": 4
}
