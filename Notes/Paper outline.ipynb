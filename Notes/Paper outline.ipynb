{
 "cells": [
  {
   "cell_type": "markdown",
   "metadata": {},
   "source": [
    "# Paper outline\n",
    "\n",
    "The purpose of this notebook is to outline our paper, including responsibilities."
   ]
  },
  {
   "cell_type": "markdown",
   "metadata": {},
   "source": [
    "## Similar papers\n",
    "\n",
    "List similar (published) papers to help guide our writing:\n",
    "- https://arxiv.org/abs/1912.11762\n",
    "    - This would be a good paper to cite in the introduction. It will provide evidence that our work is something people care about (since plenty of papers already exist). We can also reference the accuracies and types of models use to influence our choices.\n",
    "    - Their paper also compares accuracy of neural nets to non-neural nets, which we should also discuss.\n",
    "- http://www.acsij.org/acsij/article/view/246\n",
    "    - This could be referenced briefly when discussing our data collection, but I don't see a ton of useful stuff for us here.\n",
    "- https://content.iospress.com/download/journal-of-sports-analytics/jsa0018?id=journal-of-sports-analytics%2Fjsa0018\n",
    "    - Obviously we should reference this when discussing our variables.\n",
    "    - This could also be used as one simple baseline to compare our results. If we simply compare the Pythagorean expectation for each team, what would our accuracy be?\n",
    "- https://doi.org/10.1080/08839514.2018.1442991\n",
    "    - PDF: https://mustang.cec.miamioh.edu/Resources/Publication/Baseball_Machine_Learning.pdf\n",
    "    - This seems like a fantastic paper for our introduction. Since it already summarizes lots of past work we can just use what they found.\n",
    "    - It would be really nice if this had a table showing accuracy of various models. Perhaps we can pull out the relavant info from this paper and make our own.\n",
    "- https://www.athensjournals.gr/sports/2016-3-4-1-Tolbert.pdf\n",
    "    - This paper focuses on the world series outcomes. That's obviously very different than what we're doing.\n",
    "    - They focus entirely on using SVM's.\n",
    "    - This paper has some seemingly very impressive results, but their data is also imbalanced. So accuracy is problematic. They're also just predicting something different than we are.\n",
    "    - This paper can be referenced, but only briefly.\n",
    "- https://content.sciendo.com/view/journals/ijcss/15/2/article-p91.xml?language=en\n",
    "    - They get \"nearly 60% accuracy\" (58.92%) using SVM, but also try DTs, KNN and NN\n",
    "    - Their paper seems fairly similar to what we're doing (but we got better results), so this is worth referencing to show that our work is an improvement on past work. We're also just better across the board with all of our models.\n",
    "- https://www.google.com/url?sa=t&rct=j&q=&esrc=s&source=web&cd=&ved=2ahUKEwj0s8qIm7DuAhUOQ60KHU-ZBHwQFjACegQIAxAC&url=http%3A%2F%2Fwww.jds-online.com%2Ffile_download%2F39%2Fjds-142.pdf&usg=AOvVaw16MAtgR6u_aF9eG3viSXw9\n",
    "    - This link is broken for me."
   ]
  },
  {
   "cell_type": "markdown",
   "metadata": {},
   "source": [
    "## Sections\n",
    "\n",
    "List the sections we plan to include in the paper:\n",
    "- Abstract\n",
    "- Introduction\n",
    "    - ...\n",
    "- ...\n",
    "- Future work\n",
    "- Conclusion"
   ]
  },
  {
   "cell_type": "markdown",
   "metadata": {},
   "source": [
    "## Work still remaining\n",
    "\n",
    "List the work that still needs to be done:\n",
    "- Compute class probabilities for KNN model\n",
    "- Compute class probabilities for ensembled (majority vote) model\n"
   ]
  },
  {
   "cell_type": "code",
   "execution_count": null,
   "metadata": {},
   "outputs": [],
   "source": []
  }
 ],
 "metadata": {
  "kernelspec": {
   "display_name": "Python 3",
   "language": "python",
   "name": "python3"
  },
  "language_info": {
   "codemirror_mode": {
    "name": "ipython",
    "version": 3
   },
   "file_extension": ".py",
   "mimetype": "text/x-python",
   "name": "python",
   "nbconvert_exporter": "python",
   "pygments_lexer": "ipython3",
   "version": "3.8.5"
  }
 },
 "nbformat": 4,
 "nbformat_minor": 4
}
