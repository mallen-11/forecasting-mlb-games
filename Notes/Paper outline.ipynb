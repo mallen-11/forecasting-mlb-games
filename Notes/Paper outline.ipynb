{
 "cells": [
  {
   "cell_type": "markdown",
   "metadata": {},
   "source": [
    "# Paper outline\n",
    "\n",
    "The purpose of this notebook is to outline our paper, including responsibilities."
   ]
  },
  {
   "cell_type": "markdown",
   "metadata": {},
   "source": [
    "## Similar papers\n",
    "\n",
    "List similar (published) papers to help guide our writing:\n",
    "- Paper 1"
   ]
  },
  {
   "cell_type": "markdown",
   "metadata": {},
   "source": [
    "## Sections\n",
    "\n",
    "List the sections we plan to include in the paper:\n",
    "- Abstract\n",
    "- Introduction\n",
    "    - ...\n",
    "- ...\n",
    "- Future work\n",
    "- Conclusion"
   ]
  },
  {
   "cell_type": "markdown",
   "metadata": {},
   "source": [
    "## Work still remaining\n",
    "\n",
    "List the work that still needs to be done:\n",
    "- Compute class probabilities for KNN model\n",
    "- Compute class probabilities for ensembled (majority vote) model\n"
   ]
  },
  {
   "cell_type": "code",
   "execution_count": null,
   "metadata": {},
   "outputs": [],
   "source": []
  }
 ],
 "metadata": {
  "kernelspec": {
   "display_name": "Python 3",
   "language": "python",
   "name": "python3"
  },
  "language_info": {
   "codemirror_mode": {
    "name": "ipython",
    "version": 3
   },
   "file_extension": ".py",
   "mimetype": "text/x-python",
   "name": "python",
   "nbconvert_exporter": "python",
   "pygments_lexer": "ipython3",
   "version": "3.8.5"
  }
 },
 "nbformat": 4,
 "nbformat_minor": 4
}
