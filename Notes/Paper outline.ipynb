{
 "cells": [
  {
   "cell_type": "markdown",
   "metadata": {},
   "source": [
    "# Paper outline\n",
    "\n",
    "The purpose of this notebook is to outline our paper, including responsibilities."
   ]
  },
  {
   "cell_type": "markdown",
   "metadata": {},
   "source": [
    "## Similar papers\n",
    "\n",
    "List similar (published) papers to help guide our writing:\n",
    "- https://arxiv.org/abs/1912.11762\n",
    "- http://www.acsij.org/acsij/article/view/246\n",
    "- https://content.iospress.com/download/journal-of-sports-analytics/jsa0018?id=journal-of-sports-analytics%2Fjsa0018\n",
    "- https://doi.org/10.1080/08839514.2018.1442991\n",
    "- https://www.athensjournals.gr/sports/2016-3-4-1-Tolbert.pdf\n",
    "- https://content.sciendo.com/view/journals/ijcss/15/2/article-p91.xml?language=en\n",
    "- https://www.google.com/url?sa=t&rct=j&q=&esrc=s&source=web&cd=&ved=2ahUKEwj0s8qIm7DuAhUOQ60KHU-ZBHwQFjACegQIAxAC&url=http%3A%2F%2Fwww.jds-online.com%2Ffile_download%2F39%2Fjds-142.pdf&usg=AOvVaw16MAtgR6u_aF9eG3viSXw9"
   ]
  },
  {
   "cell_type": "markdown",
   "metadata": {},
   "source": [
    "## Sections\n",
    "\n",
    "List the sections we plan to include in the paper:\n",
    "- Abstract\n",
    "- Introduction\n",
    "    - ...\n",
    "- ...\n",
    "- Future work\n",
    "- Conclusion"
   ]
  },
  {
   "cell_type": "markdown",
   "metadata": {},
   "source": [
    "## Work still remaining\n",
    "\n",
    "List the work that still needs to be done:\n",
    "- Compute class probabilities for KNN model\n",
    "- Compute class probabilities for ensembled (majority vote) model\n"
   ]
  },
  {
   "cell_type": "code",
   "execution_count": null,
   "metadata": {},
   "outputs": [],
   "source": []
  }
 ],
 "metadata": {
  "kernelspec": {
   "display_name": "Python 3",
   "language": "python",
   "name": "python3"
  },
  "language_info": {
   "codemirror_mode": {
    "name": "ipython",
    "version": 3
   },
   "file_extension": ".py",
   "mimetype": "text/x-python",
   "name": "python",
   "nbconvert_exporter": "python",
   "pygments_lexer": "ipython3",
   "version": "3.7.6"
  }
 },
 "nbformat": 4,
 "nbformat_minor": 4
}
