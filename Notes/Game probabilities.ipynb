{
 "cells": [
  {
   "cell_type": "markdown",
   "metadata": {},
   "source": [
    "# Game probabilities\n",
    "\n",
    "The purpose of this notebook is to figure out how we plan to measure the strength of our models predictions vs how \"likely\" a game is to be won. Obviously there is no direct measure of probability for a game (i.e. no one can say with certainty that \"there's a 75% chance team X will beat team Y\"), so we need to think of how we measure this. That's the purpose of this notebook.\n",
    "\n",
    "This notebook should be ideas/thoughts, not code (or only very minimal code)."
   ]
  },
  {
   "cell_type": "markdown",
   "metadata": {},
   "source": [
    "## Measuring win probability\n",
    "\n",
    "_After_ a game is completed, are there things we can look back at that indicate how likely it was that a certain team would win?\n",
    "\n",
    "- Final point differential - If one team won by 15 runs, can we look back and say that they won \"with high probability\"?\n",
    "- More"
   ]
  },
  {
   "cell_type": "markdown",
   "metadata": {},
   "source": [
    "## Measuring model prediction strength\n",
    "\n",
    "Some models (such as XGB, NN and logistic regression) have built-in prediction probabilities. Some (like KNN or ensembles) do not. For models that do _not_ have such a probability attached to them, how can we measure their probability?\n",
    "\n",
    "- KNN\n",
    "    - Idea \\#1\n",
    "- Ensembles\n",
    "    - Idea \\#1"
   ]
  },
  {
   "cell_type": "markdown",
   "metadata": {},
   "source": [
    "## Tieing model prediction to win probability\n",
    "\n",
    "Once we have decided on ways to measure win probability for a game and win probability for a model, how do we tie these two together?\n",
    "\n",
    "- Cumulative distribution function (CDF) - A CDF is a graph with the x-axis being the model probability (so 0 to 1) and the y-axis being the percentage of games which were predicted correctly by the model, based on their model predicted win probability. So for example, if we look at a model and see that, for all games with a predicted win probability of 25% or less, only 15% of them were predicted correctly, then we would plot the point (0.25, 0.15). Repeat this for all model probabilities between 0 and 1.\n",
    "- Scatterplot comparing model prediction on x-axis and any measure from \"measuring win probability\" (above) on the y-axis."
   ]
  }
 ],
 "metadata": {
  "kernelspec": {
   "display_name": "Python 3",
   "language": "python",
   "name": "python3"
  },
  "language_info": {
   "codemirror_mode": {
    "name": "ipython",
    "version": 3
   },
   "file_extension": ".py",
   "mimetype": "text/x-python",
   "name": "python",
   "nbconvert_exporter": "python",
   "pygments_lexer": "ipython3",
   "version": "3.8.5"
  }
 },
 "nbformat": 4,
 "nbformat_minor": 4
}
