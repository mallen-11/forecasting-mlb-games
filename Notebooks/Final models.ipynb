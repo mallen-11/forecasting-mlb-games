{
 "cells": [
  {
   "cell_type": "markdown",
   "metadata": {},
   "source": [
    "# Final models\n",
    "\n",
    "The purpose of this notebook is to collect \"final versions\" of the models we want to use for ensembling. These will all use the same data (though they can certainly omit columns if you want). The point is to go from zero-to-trained model in one notebook so we can make sure everything looks good."
   ]
  },
  {
   "cell_type": "code",
   "execution_count": 197,
   "metadata": {},
   "outputs": [],
   "source": [
    "import pandas as pd\n",
    "import numpy as np\n",
    "from matplotlib import pyplot as plt\n",
    "\n",
    "from utils.data_loader import Dataset\n",
    "\n",
    "import tensorflow as tf\n",
    "from tensorflow.keras.layers import Dense, Dropout, BatchNormalization, concatenate\n",
    "from tensorflow.keras.layers.experimental import preprocessing\n",
    "\n",
    "import xgboost as xgb\n",
    "\n",
    "from sklearn.preprocessing import LabelEncoder\n",
    "from sklearn.metrics import accuracy_score, classification_report\n",
    "from sklearn.neighbors import KNeighborsClassifier"
   ]
  },
  {
   "cell_type": "markdown",
   "metadata": {},
   "source": [
    "## Data loading\n",
    "\n",
    "Load the data here. Models below can augment it if need-be (for example the neural net needs it as a tensorflow dataset)."
   ]
  },
  {
   "cell_type": "code",
   "execution_count": 198,
   "metadata": {},
   "outputs": [],
   "source": [
    "df = pd.read_csv('../data/Final Data/pct-diff-mlb-games.csv')  #Pct Diff Columns Only (Gives Highest Accuracy)\n",
    "#df = pd.read_csv('../data/Final Data/diff-mlb-games.csv')    #Diff columns only\n",
    "#df = pd.read_csv('../data/Final Data/full-diff-mlb-games.csv')    #All columns\n",
    "\n",
    "train_df = df[df['Y'] <= 2015]\n",
    "test_df = df[df['Y'] > 2015]\n",
    "\n",
    "X_train = train_df.drop('home_win', axis=1)\n",
    "y_train = train_df.home_win\n",
    "\n",
    "X_test = test_df.drop('home_win', axis=1)\n",
    "y_test = test_df.home_win"
   ]
  },
  {
   "cell_type": "markdown",
   "metadata": {},
   "source": [
    "## Data cleaning"
   ]
  },
  {
   "cell_type": "code",
   "execution_count": 199,
   "metadata": {},
   "outputs": [],
   "source": [
    "def fill_na_inf(df):\n",
    "    for c in df.columns:\n",
    "        if df[c].isin([-np.inf, np.inf]).sum() > 0:\n",
    "            df[c] = df[c].replace([-np.inf, np.inf], None)\n",
    "        if df[c].isna().sum() > 0:\n",
    "            med = df[c].median()\n",
    "            df[c] = df[c].fillna(med)\n",
    "    return df"
   ]
  },
  {
   "cell_type": "code",
   "execution_count": 200,
   "metadata": {},
   "outputs": [
    {
     "name": "stderr",
     "output_type": "stream",
     "text": [
      "<ipython-input-199-88a5b3d15245>:7: SettingWithCopyWarning: \n",
      "A value is trying to be set on a copy of a slice from a DataFrame.\n",
      "Try using .loc[row_indexer,col_indexer] = value instead\n",
      "\n",
      "See the caveats in the documentation: https://pandas.pydata.org/pandas-docs/stable/user_guide/indexing.html#returning-a-view-versus-a-copy\n",
      "  df[c] = df[c].fillna(med)\n",
      "<ipython-input-199-88a5b3d15245>:4: SettingWithCopyWarning: \n",
      "A value is trying to be set on a copy of a slice from a DataFrame.\n",
      "Try using .loc[row_indexer,col_indexer] = value instead\n",
      "\n",
      "See the caveats in the documentation: https://pandas.pydata.org/pandas-docs/stable/user_guide/indexing.html#returning-a-view-versus-a-copy\n",
      "  df[c] = df[c].replace([-np.inf, np.inf], None)\n"
     ]
    }
   ],
   "source": [
    "train_df = fill_na_inf(train_df)\n",
    "test_df = fill_na_inf(test_df)\n",
    "\n",
    "X_train = fill_na_inf(X_train)\n",
    "X_test = fill_na_inf(X_test)"
   ]
  },
  {
   "cell_type": "markdown",
   "metadata": {},
   "source": [
    "### Make tensorflow dataset from data"
   ]
  },
  {
   "cell_type": "code",
   "execution_count": 201,
   "metadata": {},
   "outputs": [],
   "source": [
    "def load_ds(df):\n",
    "    cols_to_drop = ['home_pitcher', 'away_pitcher', 'date']\n",
    "    cols_to_drop = list(set(df.columns).intersection(set(cols_to_drop)))\n",
    "    df = df.drop(cols_to_drop, axis='columns')\n",
    "    \n",
    "    embedding_cols = ['home_team', 'away_team', 'Y', 'M']\n",
    "    numeric_cols = list(set(df.columns) - set(embedding_cols))\n",
    "    numeric_cols.remove('home_win')\n",
    "    assert set(numeric_cols).intersection(set(embedding_cols)) == set()\n",
    "    assert len(embedding_cols) + len(numeric_cols) + 1 == len(df.columns)\n",
    "    \n",
    "    df = fill_na_inf(df)\n",
    "            \n",
    "    le = LabelEncoder()\n",
    "    df['away_team'] = le.fit_transform(df['away_team'])\n",
    "    df['home_team'] = le.transform(df['home_team'])\n",
    "    \n",
    "    for c in embedding_cols:\n",
    "        df[c] = df[c].astype(int)\n",
    "        \n",
    "    assert df.isna().sum().sum() == 0\n",
    "    \n",
    "    y = df.pop('home_win')\n",
    "    y = y.astype(int)\n",
    "    X = df\n",
    "    \n",
    "    tf_ds = tf.data.Dataset.from_tensor_slices((dict(X), y)).batch(128)\n",
    "    return tf_ds, df, le, embedding_cols, numeric_cols"
   ]
  },
  {
   "cell_type": "code",
   "execution_count": 202,
   "metadata": {},
   "outputs": [],
   "source": [
    "train_ds, tf_train_df, le, embedding_cols, numeric_cols = load_ds(train_df)\n",
    "test_ds, tf_test_df, _, _, _ = load_ds(test_df)"
   ]
  },
  {
   "cell_type": "markdown",
   "metadata": {},
   "source": [
    "## Drop teams for all other models"
   ]
  },
  {
   "cell_type": "code",
   "execution_count": 203,
   "metadata": {},
   "outputs": [],
   "source": [
    "X_train = X_train.drop(['home_team', 'away_team'], axis='columns')\n",
    "X_test = X_test.drop(['home_team', 'away_team'], axis='columns')\n",
    "\n",
    "train_df = train_df.drop(['home_team', 'away_team'], axis='columns')\n",
    "test_df = test_df.drop(['home_team', 'away_team'], axis='columns')"
   ]
  },
  {
   "cell_type": "markdown",
   "metadata": {},
   "source": [
    "## XGBoost"
   ]
  },
  {
   "cell_type": "code",
   "execution_count": 158,
   "metadata": {},
   "outputs": [],
   "source": [
    "params = {'n_estimators': 100,\n",
    "         'max_depth': 5,\n",
    "         'min_child_weight': 0.3256355793000354,\n",
    "         'eta': 0.3076951770384403,\n",
    "         'subsample': 0.8242904472901268,\n",
    "         'colsample_bytree': 0.9475703665037462,\n",
    "         'gamma': 9.66425615956974,\n",
    "         'seed': 0,\n",
    "         'nthread': 4,\n",
    "         'objective': 'binary:logistic',\n",
    "         'eval_metric': 'auc'}"
   ]
  },
  {
   "cell_type": "code",
   "execution_count": 159,
   "metadata": {},
   "outputs": [],
   "source": [
    "xgb_clf = xgb.XGBClassifier(**params)"
   ]
  },
  {
   "cell_type": "code",
   "execution_count": 160,
   "metadata": {},
   "outputs": [
    {
     "name": "stderr",
     "output_type": "stream",
     "text": [
      "/Users/psavala/.virtualenvs/baseball/lib/python3.8/site-packages/xgboost/sklearn.py:892: UserWarning: The use of label encoder in XGBClassifier is deprecated and will be removed in a future release. To remove this warning, do the following: 1) Pass option use_label_encoder=False when constructing XGBClassifier object; and 2) Encode your labels (y) as integers starting with 0, i.e. 0, 1, 2, ..., [num_class - 1].\n",
      "  warnings.warn(label_encoder_deprecation_msg, UserWarning)\n"
     ]
    },
    {
     "data": {
      "text/plain": [
       "XGBClassifier(base_score=0.5, booster='gbtree', colsample_bylevel=1,\n",
       "              colsample_bynode=1, colsample_bytree=0.9475703665037462,\n",
       "              eta=0.3076951770384403, eval_metric='auc', gamma=9.66425615956974,\n",
       "              gpu_id=-1, importance_type='gain', interaction_constraints='',\n",
       "              learning_rate=0.30769518, max_delta_step=0, max_depth=5,\n",
       "              min_child_weight=0.3256355793000354, missing=nan,\n",
       "              monotone_constraints='()', n_estimators=100, n_jobs=4, nthread=4,\n",
       "              num_parallel_tree=1, random_state=0, reg_alpha=0, reg_lambda=1,\n",
       "              scale_pos_weight=1, seed=0, subsample=0.8242904472901268,\n",
       "              tree_method='exact', validate_parameters=1, verbosity=None)"
      ]
     },
     "execution_count": 160,
     "metadata": {},
     "output_type": "execute_result"
    }
   ],
   "source": [
    "xgb_clf.fit(X_train, y_train)"
   ]
  },
  {
   "cell_type": "code",
   "execution_count": 162,
   "metadata": {},
   "outputs": [
    {
     "name": "stdout",
     "output_type": "stream",
     "text": [
      "Test acc = 62.40%\n"
     ]
    }
   ],
   "source": [
    "xgb_preds = xgb_clf.predict(X_test)\n",
    "\n",
    "test_acc = accuracy_score(y_test, xgb_preds)\n",
    "print(f'Test acc = {100*test_acc:.2f}%')"
   ]
  },
  {
   "cell_type": "code",
   "execution_count": 163,
   "metadata": {},
   "outputs": [
    {
     "name": "stdout",
     "output_type": "stream",
     "text": [
      "              precision    recall  f1-score   support\n",
      "\n",
      "           0       0.62      0.52      0.57      4551\n",
      "           1       0.63      0.71      0.67      5167\n",
      "\n",
      "    accuracy                           0.62      9718\n",
      "   macro avg       0.62      0.62      0.62      9718\n",
      "weighted avg       0.62      0.62      0.62      9718\n",
      "\n"
     ]
    }
   ],
   "source": [
    "print(classification_report(y_test, xgb_preds))"
   ]
  },
  {
   "cell_type": "markdown",
   "metadata": {},
   "source": [
    "### Feature Importance"
   ]
  },
  {
   "cell_type": "code",
   "execution_count": 164,
   "metadata": {},
   "outputs": [],
   "source": [
    "featuredf = pd.DataFrame(xgb_clf.feature_importances_, X_train.columns)   #This makes it in order\n",
    "featuredf = featuredf.sort_values(by=0, ascending=False)"
   ]
  },
  {
   "cell_type": "code",
   "execution_count": 165,
   "metadata": {},
   "outputs": [
    {
     "data": {
      "image/png": "[encoded data removed]",
      "text/plain": [
       "<Figure size 1440x576 with 1 Axes>"
      ]
     },
     "metadata": {
      "needs_background": "light"
     },
     "output_type": "display_data"
    }
   ],
   "source": [
    "plt.figure(figsize=(20, 8))\n",
    "\n",
    "x = featuredf.index\n",
    "y = featuredf[0]\n",
    "\n",
    "plt.bar(x, y)\n",
    "plt.xticks(rotation=90)\n",
    "plt.title('Feature Importances', fontsize=20)\n",
    "plt.ylabel('Weight', fontsize=14);"
   ]
  },
  {
   "cell_type": "markdown",
   "metadata": {},
   "source": [
    "## KNN"
   ]
  },
  {
   "cell_type": "code",
   "execution_count": 176,
   "metadata": {},
   "outputs": [
    {
     "data": {
      "text/plain": [
       "0.6142210331343898"
      ]
     },
     "execution_count": 176,
     "metadata": {},
     "output_type": "execute_result"
    }
   ],
   "source": [
    "knn_clf = KNeighborsClassifier(150)\n",
    "knn_clf.fit(X_train, y_train)\n",
    "\n",
    "knn_preds = nn_clf.predict(X_test)\n",
    "\n",
    "accuracy_score(y_test, nn_preds)"
   ]
  },
  {
   "cell_type": "code",
   "execution_count": 177,
   "metadata": {},
   "outputs": [
    {
     "name": "stdout",
     "output_type": "stream",
     "text": [
      "              precision    recall  f1-score   support\n",
      "\n",
      "           0       0.59      0.34      0.43      4551\n",
      "           1       0.58      0.80      0.67      5167\n",
      "\n",
      "    accuracy                           0.58      9718\n",
      "   macro avg       0.58      0.57      0.55      9718\n",
      "weighted avg       0.58      0.58      0.56      9718\n",
      "\n"
     ]
    }
   ],
   "source": [
    "print(classification_report(y_test, knn_preds))"
   ]
  },
  {
   "cell_type": "markdown",
   "metadata": {},
   "source": [
    "## Neural net"
   ]
  },
  {
   "cell_type": "markdown",
   "metadata": {},
   "source": [
    "### Prepare layers"
   ]
  },
  {
   "cell_type": "code",
   "execution_count": 107,
   "metadata": {},
   "outputs": [],
   "source": [
    "def get_normalization_layer(name, dataset):\n",
    "    # Create a Normalization layer for our feature.\n",
    "    normalizer = preprocessing.Normalization()\n",
    "\n",
    "    # Prepare a Dataset that only yields our feature.\n",
    "    feature_ds = dataset.map(lambda x, y: x[name])\n",
    "\n",
    "    # Learn the statistics of the data.\n",
    "    normalizer.adapt(feature_ds)\n",
    "\n",
    "    return normalizer\n",
    "\n",
    "def get_category_encoding_layer(name, dataset, dtype, max_tokens=None):\n",
    "    # Create a StringLookup layer which will turn strings into integer indices\n",
    "    if dtype == 'string':\n",
    "        index = preprocessing.StringLookup(max_tokens=max_tokens)\n",
    "    else:\n",
    "        index = preprocessing.IntegerLookup(max_values=max_tokens)\n",
    "\n",
    "    # Prepare a Dataset that only yields our feature\n",
    "    feature_ds = dataset.map(lambda x, y: x[name])\n",
    "\n",
    "    # Learn the set of possible values and assign them a fixed integer index.\n",
    "    index.adapt(feature_ds)\n",
    "    \n",
    "    if name == 'home_team':\n",
    "        print('home_team')\n",
    "        print(index.get_vocabulary())\n",
    "        \n",
    "    if name == 'away_team':\n",
    "        print('away_team')\n",
    "        print(index.get_vocabulary())\n",
    "\n",
    "    # Create a Discretization for our integer indices.\n",
    "    encoder = preprocessing.CategoryEncoding(max_tokens=index.vocab_size())\n",
    "\n",
    "    # Prepare a Dataset that only yields our feature.\n",
    "    feature_ds = feature_ds.map(index)\n",
    "\n",
    "    # Learn the space of possible indices.\n",
    "    encoder.adapt(feature_ds)\n",
    "\n",
    "    # Apply one-hot encoding to our indices. The lambda function captures the\n",
    "    # layer so we can use them, or include them in the functional model later.\n",
    "    return lambda feature: encoder(index(feature))\n",
    "\n",
    "def prep_columns(dataset, embedding_dims=10, embedding_cols=None, numeric_cols=None):\n",
    "    cont_inputs = []\n",
    "    cat_inputs = []\n",
    "    encoded_cont_features = []\n",
    "    encoded_cat_features = []\n",
    "    if isinstance(embedding_dims, int):\n",
    "        embedding_dims = [embedding_dims] * len(embedding_cols)\n",
    "    assert len(embedding_dims) == len(embedding_cols), 'embedding_dims must be an integer or a list with the same length as embedding_cols'\n",
    "\n",
    "    # Numeric features.\n",
    "    for header in numeric_cols:\n",
    "        numeric_col = tf.keras.Input(shape=(1,), name=header)\n",
    "        normalization_layer = get_normalization_layer(header, dataset)\n",
    "        encoded_numeric_col = normalization_layer(numeric_col)\n",
    "        encoded_numeric_col = tf.keras.layers.Dropout(0.1)(encoded_numeric_col)\n",
    "        cont_inputs.append(numeric_col)\n",
    "        encoded_cont_features.append(encoded_numeric_col)\n",
    "\n",
    "    # Home and away teams\n",
    "    for i, header in enumerate(['home_team', 'away_team']):\n",
    "        categorical_col = tf.keras.Input(shape=(1,), name=header, dtype='int64')\n",
    "        encoded_categorical_col = tf.keras.layers.Embedding(30, embedding_dims[i], name=f'{header}_embedding')(categorical_col)\n",
    "        encoded_categorical_col = tf.keras.layers.Flatten()(encoded_categorical_col)\n",
    "        cat_inputs.append(categorical_col)\n",
    "        encoded_cat_features.append(encoded_categorical_col)\n",
    "        \n",
    "    # Categorical features encoded as ints.\n",
    "    encoded_embedding_cols = embedding_cols.copy()\n",
    "    encoded_embedding_cols.remove('home_team')\n",
    "    encoded_embedding_cols.remove('away_team')\n",
    "    for i, header in enumerate(encoded_embedding_cols):\n",
    "        categorical_col = tf.keras.Input(shape=(1,), name=header, dtype='int64')\n",
    "        encoding_layer = get_category_encoding_layer(header, dataset, \n",
    "                                                     dtype='int', \n",
    "                                                     max_tokens=20)\n",
    "        encoded_categorical_col = encoding_layer(categorical_col)\n",
    "        encoded_categorical_col = tf.keras.layers.Embedding(20, 5, name=f'{header}_embedding')(encoded_categorical_col)\n",
    "        encoded_categorical_col = tf.keras.layers.Flatten()(encoded_categorical_col)\n",
    "        cat_inputs.append(categorical_col)\n",
    "        encoded_cat_features.append(encoded_categorical_col)\n",
    "        \n",
    "    all_inputs = cont_inputs + cat_inputs\n",
    "        \n",
    "    return all_inputs, encoded_cont_features, encoded_cat_features"
   ]
  },
  {
   "cell_type": "code",
   "execution_count": 108,
   "metadata": {},
   "outputs": [],
   "source": [
    "all_inputs, encoded_cont_features, encoded_cat_features = prep_columns(train_ds,\n",
    "                                                                       10,\n",
    "                                                                       embedding_cols, \n",
    "                                                                       numeric_cols)"
   ]
  },
  {
   "cell_type": "markdown",
   "metadata": {},
   "source": [
    "### Model"
   ]
  },
  {
   "cell_type": "code",
   "execution_count": 132,
   "metadata": {},
   "outputs": [],
   "source": [
    "x = concatenate(encoded_cat_features + encoded_cont_features)\n",
    "x = Dense(32, activation=\"relu\")(x)\n",
    "x = BatchNormalization()(x)\n",
    "x = Dropout(0.2)(x)\n",
    "x = Dense(32, activation=\"relu\")(x)\n",
    "x = BatchNormalization()(x)\n",
    "x = Dropout(0.1)(x)\n",
    "output = Dense(1)(x)\n",
    "try:\n",
    "    del model\n",
    "except NameError:\n",
    "    pass\n",
    "model = tf.keras.Model(all_inputs, output)\n",
    "model.compile(optimizer='adam',\n",
    "              loss=tf.keras.losses.BinaryCrossentropy(from_logits=True),\n",
    "              metrics=[\"accuracy\"])"
   ]
  },
  {
   "cell_type": "code",
   "execution_count": 133,
   "metadata": {},
   "outputs": [
    {
     "name": "stdout",
     "output_type": "stream",
     "text": [
      "Epoch 1/30\n",
      "285/285 [==============================] - 4s 7ms/step - loss: 0.7777 - accuracy: 0.5414 - val_loss: 0.6622 - val_accuracy: 0.5453\n",
      "Epoch 2/30\n",
      "285/285 [==============================] - 2s 5ms/step - loss: 0.6677 - accuracy: 0.5794 - val_loss: 0.6508 - val_accuracy: 0.5684\n",
      "Epoch 3/30\n",
      "285/285 [==============================] - 1s 5ms/step - loss: 0.6563 - accuracy: 0.5816 - val_loss: 0.6485 - val_accuracy: 0.5885\n",
      "Epoch 4/30\n",
      "285/285 [==============================] - 1s 5ms/step - loss: 0.6502 - accuracy: 0.5855 - val_loss: 0.6466 - val_accuracy: 0.5890\n",
      "Epoch 5/30\n",
      "285/285 [==============================] - 2s 5ms/step - loss: 0.6480 - accuracy: 0.5856 - val_loss: 0.6460 - val_accuracy: 0.5890\n",
      "Epoch 6/30\n",
      "285/285 [==============================] - 2s 5ms/step - loss: 0.6460 - accuracy: 0.5884 - val_loss: 0.6456 - val_accuracy: 0.5907\n",
      "Epoch 7/30\n",
      "285/285 [==============================] - 2s 6ms/step - loss: 0.6440 - accuracy: 0.5956 - val_loss: 0.6459 - val_accuracy: 0.5930\n",
      "Epoch 8/30\n",
      "285/285 [==============================] - 2s 5ms/step - loss: 0.6420 - accuracy: 0.5926 - val_loss: 0.6465 - val_accuracy: 0.5901\n",
      "Epoch 9/30\n",
      "285/285 [==============================] - 1s 5ms/step - loss: 0.6415 - accuracy: 0.5958 - val_loss: 0.6458 - val_accuracy: 0.5901\n",
      "Epoch 10/30\n",
      "285/285 [==============================] - 1s 5ms/step - loss: 0.6406 - accuracy: 0.5975 - val_loss: 0.6468 - val_accuracy: 0.5956\n",
      "Epoch 11/30\n",
      "285/285 [==============================] - 1s 5ms/step - loss: 0.6404 - accuracy: 0.5995 - val_loss: 0.6459 - val_accuracy: 0.5941\n",
      "Epoch 12/30\n",
      "285/285 [==============================] - 1s 5ms/step - loss: 0.6398 - accuracy: 0.6032 - val_loss: 0.6459 - val_accuracy: 0.5930\n",
      "Epoch 13/30\n",
      "285/285 [==============================] - 1s 5ms/step - loss: 0.6390 - accuracy: 0.6038 - val_loss: 0.6461 - val_accuracy: 0.5960\n",
      "Epoch 14/30\n",
      "285/285 [==============================] - 1s 5ms/step - loss: 0.6386 - accuracy: 0.6004 - val_loss: 0.6471 - val_accuracy: 0.5954\n",
      "Epoch 15/30\n",
      "285/285 [==============================] - 1s 5ms/step - loss: 0.6377 - accuracy: 0.6019 - val_loss: 0.6477 - val_accuracy: 0.5986\n",
      "Epoch 16/30\n",
      "285/285 [==============================] - 1s 5ms/step - loss: 0.6380 - accuracy: 0.6011 - val_loss: 0.6480 - val_accuracy: 0.5941\n",
      "Epoch 17/30\n",
      "285/285 [==============================] - 1s 5ms/step - loss: 0.6367 - accuracy: 0.6026 - val_loss: 0.6474 - val_accuracy: 0.5897\n",
      "Epoch 18/30\n",
      "285/285 [==============================] - 1s 5ms/step - loss: 0.6375 - accuracy: 0.6037 - val_loss: 0.6477 - val_accuracy: 0.5943\n",
      "Epoch 19/30\n",
      "285/285 [==============================] - 1s 5ms/step - loss: 0.6360 - accuracy: 0.6050 - val_loss: 0.6481 - val_accuracy: 0.5939\n",
      "Epoch 20/30\n",
      "285/285 [==============================] - 1s 5ms/step - loss: 0.6342 - accuracy: 0.6061 - val_loss: 0.6488 - val_accuracy: 0.5992\n",
      "Epoch 21/30\n",
      "285/285 [==============================] - 1s 5ms/step - loss: 0.6346 - accuracy: 0.6066 - val_loss: 0.6501 - val_accuracy: 0.5921\n",
      "Epoch 22/30\n",
      "285/285 [==============================] - 1s 5ms/step - loss: 0.6344 - accuracy: 0.6055 - val_loss: 0.6494 - val_accuracy: 0.5913\n",
      "Epoch 23/30\n",
      "285/285 [==============================] - 1s 5ms/step - loss: 0.6336 - accuracy: 0.6076 - val_loss: 0.6500 - val_accuracy: 0.5921\n",
      "Epoch 24/30\n",
      "285/285 [==============================] - 1s 5ms/step - loss: 0.6324 - accuracy: 0.6090 - val_loss: 0.6501 - val_accuracy: 0.5963\n",
      "Epoch 25/30\n",
      "285/285 [==============================] - 1s 5ms/step - loss: 0.6306 - accuracy: 0.6129 - val_loss: 0.6520 - val_accuracy: 0.5905\n",
      "Epoch 26/30\n",
      "285/285 [==============================] - 1s 5ms/step - loss: 0.6314 - accuracy: 0.6093 - val_loss: 0.6527 - val_accuracy: 0.5900\n",
      "Epoch 27/30\n",
      "285/285 [==============================] - 1s 5ms/step - loss: 0.6306 - accuracy: 0.6118 - val_loss: 0.6533 - val_accuracy: 0.5928\n",
      "Epoch 28/30\n",
      "285/285 [==============================] - 1s 5ms/step - loss: 0.6315 - accuracy: 0.6115 - val_loss: 0.6529 - val_accuracy: 0.5853\n",
      "Epoch 29/30\n",
      "285/285 [==============================] - 1s 5ms/step - loss: 0.6312 - accuracy: 0.6127 - val_loss: 0.6535 - val_accuracy: 0.5948\n",
      "Epoch 30/30\n",
      "285/285 [==============================] - 1s 5ms/step - loss: 0.6292 - accuracy: 0.6111 - val_loss: 0.6564 - val_accuracy: 0.5923\n"
     ]
    },
    {
     "data": {
      "text/plain": [
       "<tensorflow.python.keras.callbacks.History at 0x158865f40>"
      ]
     },
     "execution_count": 133,
     "metadata": {},
     "output_type": "execute_result"
    }
   ],
   "source": [
    "model.fit(train_ds, epochs=30, validation_data=test_ds)"
   ]
  },
  {
   "cell_type": "code",
   "execution_count": 134,
   "metadata": {},
   "outputs": [
    {
     "name": "stdout",
     "output_type": "stream",
     "text": [
      "76/76 [==============================] - 0s 4ms/step - loss: 0.6564 - accuracy: 0.5923\n",
      "Test accuracy = 59.23%\n"
     ]
    }
   ],
   "source": [
    "loss, acc = model.evaluate(test_ds)\n",
    "print(f'Test accuracy = {100*acc:.2f}%')"
   ]
  },
  {
   "cell_type": "code",
   "execution_count": 213,
   "metadata": {},
   "outputs": [
    {
     "data": {
      "text/html": [
       "<div>\n",
       "<style scoped>\n",
       "    .dataframe tbody tr th:only-of-type {\n",
       "        vertical-align: middle;\n",
       "    }\n",
       "\n",
       "    .dataframe tbody tr th {\n",
       "        vertical-align: top;\n",
       "    }\n",
       "\n",
       "    .dataframe thead th {\n",
       "        text-align: right;\n",
       "    }\n",
       "</style>\n",
       "<table border=\"1\" class=\"dataframe\">\n",
       "  <thead>\n",
       "    <tr style=\"text-align: right;\">\n",
       "      <th></th>\n",
       "      <th>home_team</th>\n",
       "      <th>away_team</th>\n",
       "      <th>Y</th>\n",
       "      <th>M</th>\n",
       "      <th>avg_pct_diff</th>\n",
       "      <th>obp_pct_diff</th>\n",
       "      <th>slg_pct_diff</th>\n",
       "      <th>team_ERA_pct_diff</th>\n",
       "      <th>team_WHIP_pct_diff</th>\n",
       "      <th>team_W-L_pct_diff</th>\n",
       "      <th>...</th>\n",
       "      <th>pitcher_WHIP_pct_diff</th>\n",
       "      <th>pitcher_ERA_pct_diff</th>\n",
       "      <th>pitcher_IP_pct_diff</th>\n",
       "      <th>ops_pct_diff</th>\n",
       "      <th>RD_pct_diff</th>\n",
       "      <th>FP_pct_diff</th>\n",
       "      <th>Rank_pct_diff</th>\n",
       "      <th>WPA_pct_diff</th>\n",
       "      <th>log_5</th>\n",
       "      <th>home_win</th>\n",
       "    </tr>\n",
       "  </thead>\n",
       "  <tbody>\n",
       "    <tr>\n",
       "      <th>36441</th>\n",
       "      <td>12</td>\n",
       "      <td>18</td>\n",
       "      <td>2016</td>\n",
       "      <td>4</td>\n",
       "      <td>8.620726</td>\n",
       "      <td>3.092675</td>\n",
       "      <td>2.578581</td>\n",
       "      <td>7.754011</td>\n",
       "      <td>8.007859</td>\n",
       "      <td>5.263158</td>\n",
       "      <td>...</td>\n",
       "      <td>-0.304643</td>\n",
       "      <td>2.121464</td>\n",
       "      <td>0.0</td>\n",
       "      <td>2.805262</td>\n",
       "      <td>15.662651</td>\n",
       "      <td>-0.101523</td>\n",
       "      <td>0.000000</td>\n",
       "      <td>96.381239</td>\n",
       "      <td>0.5</td>\n",
       "      <td>1</td>\n",
       "    </tr>\n",
       "    <tr>\n",
       "      <th>36442</th>\n",
       "      <td>21</td>\n",
       "      <td>25</td>\n",
       "      <td>2016</td>\n",
       "      <td>4</td>\n",
       "      <td>2.309712</td>\n",
       "      <td>0.376945</td>\n",
       "      <td>-0.040732</td>\n",
       "      <td>8.978328</td>\n",
       "      <td>-1.211283</td>\n",
       "      <td>-2.040816</td>\n",
       "      <td>...</td>\n",
       "      <td>-0.304643</td>\n",
       "      <td>2.121464</td>\n",
       "      <td>0.0</td>\n",
       "      <td>0.147930</td>\n",
       "      <td>-20.792079</td>\n",
       "      <td>-0.305810</td>\n",
       "      <td>50.000000</td>\n",
       "      <td>96.381239</td>\n",
       "      <td>0.5</td>\n",
       "      <td>1</td>\n",
       "    </tr>\n",
       "    <tr>\n",
       "      <th>36443</th>\n",
       "      <td>26</td>\n",
       "      <td>28</td>\n",
       "      <td>2016</td>\n",
       "      <td>4</td>\n",
       "      <td>-5.864577</td>\n",
       "      <td>-7.555239</td>\n",
       "      <td>-12.023378</td>\n",
       "      <td>-1.871658</td>\n",
       "      <td>1.468752</td>\n",
       "      <td>-16.250000</td>\n",
       "      <td>...</td>\n",
       "      <td>-0.304643</td>\n",
       "      <td>2.121464</td>\n",
       "      <td>0.0</td>\n",
       "      <td>-10.063876</td>\n",
       "      <td>-10950.000000</td>\n",
       "      <td>-0.101626</td>\n",
       "      <td>75.000000</td>\n",
       "      <td>96.381239</td>\n",
       "      <td>0.5</td>\n",
       "      <td>0</td>\n",
       "    </tr>\n",
       "    <tr>\n",
       "      <th>36444</th>\n",
       "      <td>0</td>\n",
       "      <td>6</td>\n",
       "      <td>2016</td>\n",
       "      <td>4</td>\n",
       "      <td>0.398896</td>\n",
       "      <td>-4.950458</td>\n",
       "      <td>-0.794957</td>\n",
       "      <td>14.720812</td>\n",
       "      <td>8.900281</td>\n",
       "      <td>-14.117647</td>\n",
       "      <td>...</td>\n",
       "      <td>-0.304643</td>\n",
       "      <td>2.121464</td>\n",
       "      <td>0.0</td>\n",
       "      <td>-2.616367</td>\n",
       "      <td>678.571429</td>\n",
       "      <td>0.203252</td>\n",
       "      <td>0.000000</td>\n",
       "      <td>96.381239</td>\n",
       "      <td>0.5</td>\n",
       "      <td>0</td>\n",
       "    </tr>\n",
       "    <tr>\n",
       "      <th>36445</th>\n",
       "      <td>1</td>\n",
       "      <td>9</td>\n",
       "      <td>2016</td>\n",
       "      <td>4</td>\n",
       "      <td>-1.095675</td>\n",
       "      <td>2.427164</td>\n",
       "      <td>-5.196744</td>\n",
       "      <td>-24.444444</td>\n",
       "      <td>-13.778463</td>\n",
       "      <td>13.924051</td>\n",
       "      <td>...</td>\n",
       "      <td>-0.304643</td>\n",
       "      <td>2.121464</td>\n",
       "      <td>0.0</td>\n",
       "      <td>-1.831024</td>\n",
       "      <td>1628.571429</td>\n",
       "      <td>0.101420</td>\n",
       "      <td>-66.666667</td>\n",
       "      <td>96.381239</td>\n",
       "      <td>0.5</td>\n",
       "      <td>0</td>\n",
       "    </tr>\n",
       "  </tbody>\n",
       "</table>\n",
       "<p>5 rows × 27 columns</p>\n",
       "</div>"
      ],
      "text/plain": [
       "       home_team  away_team     Y  M  avg_pct_diff  obp_pct_diff  \\\n",
       "36441         12         18  2016  4      8.620726      3.092675   \n",
       "36442         21         25  2016  4      2.309712      0.376945   \n",
       "36443         26         28  2016  4     -5.864577     -7.555239   \n",
       "36444          0          6  2016  4      0.398896     -4.950458   \n",
       "36445          1          9  2016  4     -1.095675      2.427164   \n",
       "\n",
       "       slg_pct_diff  team_ERA_pct_diff  team_WHIP_pct_diff  team_W-L_pct_diff  \\\n",
       "36441      2.578581           7.754011            8.007859           5.263158   \n",
       "36442     -0.040732           8.978328           -1.211283          -2.040816   \n",
       "36443    -12.023378          -1.871658            1.468752         -16.250000   \n",
       "36444     -0.794957          14.720812            8.900281         -14.117647   \n",
       "36445     -5.196744         -24.444444          -13.778463          13.924051   \n",
       "\n",
       "       ...  pitcher_WHIP_pct_diff  pitcher_ERA_pct_diff  pitcher_IP_pct_diff  \\\n",
       "36441  ...              -0.304643              2.121464                  0.0   \n",
       "36442  ...              -0.304643              2.121464                  0.0   \n",
       "36443  ...              -0.304643              2.121464                  0.0   \n",
       "36444  ...              -0.304643              2.121464                  0.0   \n",
       "36445  ...              -0.304643              2.121464                  0.0   \n",
       "\n",
       "       ops_pct_diff   RD_pct_diff  FP_pct_diff  Rank_pct_diff  WPA_pct_diff  \\\n",
       "36441      2.805262     15.662651    -0.101523       0.000000     96.381239   \n",
       "36442      0.147930    -20.792079    -0.305810      50.000000     96.381239   \n",
       "36443    -10.063876 -10950.000000    -0.101626      75.000000     96.381239   \n",
       "36444     -2.616367    678.571429     0.203252       0.000000     96.381239   \n",
       "36445     -1.831024   1628.571429     0.101420     -66.666667     96.381239   \n",
       "\n",
       "       log_5  home_win  \n",
       "36441    0.5         1  \n",
       "36442    0.5         1  \n",
       "36443    0.5         0  \n",
       "36444    0.5         0  \n",
       "36445    0.5         0  \n",
       "\n",
       "[5 rows x 27 columns]"
      ]
     },
     "execution_count": 213,
     "metadata": {},
     "output_type": "execute_result"
    }
   ],
   "source": [
    "tf_test_df.head()"
   ]
  },
  {
   "cell_type": "markdown",
   "metadata": {},
   "source": [
    "## Monthly accuracy\n",
    "\n",
    "Compare the monthly accuracy for all models."
   ]
  },
  {
   "cell_type": "code",
   "execution_count": null,
   "metadata": {},
   "outputs": [],
   "source": [
    "def monthly_accuracy(model, df, is_tf=False):\n",
    "    monthly_acc = []\n",
    "    months_list = np.sort(df['M'].unique())\n",
    "    for months in months_list:\n",
    "        test_month = df[df['M'] == months]\n",
    "\n",
    "        y_test_month = test_month.pop('home_win')\n",
    "        X_test_month = test_month\n",
    "\n",
    "        if is_tf:\n",
    "            tf_ds = tf.data.Dataset.from_tensor_slices((dict(X_test_month), y_test_month)).batch(128)\n",
    "            test_logits = model.predict(tf_ds).squeeze()\n",
    "            pred = tf.round(tf.nn.sigmoid(test_logits)).numpy()\n",
    "        else:\n",
    "            pred = model.predict(X_test_month)\n",
    "        acc = accuracy_score(y_test_month, pred)\n",
    "\n",
    "        monthly_acc.append(acc)\n",
    "\n",
    "    monthly_acc = pd.DataFrame(monthly_acc)\n",
    "    \n",
    "    return monthly_acc"
   ]
  },
  {
   "cell_type": "code",
   "execution_count": 221,
   "metadata": {},
   "outputs": [],
   "source": [
    "xgb_month = monthly_accuracy(xgb_clf, test_df)\n",
    "knn_month = monthly_accuracy(knn_clf, test_df)\n",
    "tf_test_df['home_win'] = y_test\n",
    "nn_month = monthly_accuracy(model, tf_test_df, is_tf=True)"
   ]
  },
  {
   "cell_type": "code",
   "execution_count": 223,
   "metadata": {},
   "outputs": [
    {
     "data": {
      "image/png": "[encoded data removed]",
      "text/plain": [
       "<Figure size 864x576 with 1 Axes>"
      ]
     },
     "metadata": {
      "needs_background": "light"
     },
     "output_type": "display_data"
    }
   ],
   "source": [
    "plt.figure(figsize=(12,8))\n",
    "plt.plot(xgb_month[0]*100, label='XGB')\n",
    "plt.plot(knn_month[0]*100, label='KNN')\n",
    "plt.plot(nn_month[0]*100, label='NN')\n",
    "plt.ylabel('Accuracy', fontsize=16)\n",
    "plt.xticks(range(8), ['March','April', 'May', 'June','July', 'August', 'September', 'October'])\n",
    "plt.legend();"
   ]
  },
  {
   "cell_type": "markdown",
   "metadata": {},
   "source": [
    "## Ensembling"
   ]
  },
  {
   "cell_type": "code",
   "execution_count": 150,
   "metadata": {},
   "outputs": [],
   "source": [
    "assert xgb_preds.shape == knn_preds.shape == nn_preds.shape == y_test.shape"
   ]
  },
  {
   "cell_type": "code",
   "execution_count": 155,
   "metadata": {},
   "outputs": [
    {
     "name": "stdout",
     "output_type": "stream",
     "text": [
      "Individual model accuracy:\n",
      "XGB: 62.70%\n",
      "KNN: 58.08%\n",
      "NN: 61.42%\n"
     ]
    }
   ],
   "source": [
    "print('Individual model accuracy:')\n",
    "print(f'XGB: {100*accuracy_score(y_test, xgb_preds):.2f}%')\n",
    "print(f'KNN: {100*accuracy_score(y_test, knn_preds):.2f}%')\n",
    "print(f'NN: {100*accuracy_score(y_test, nn_preds):.2f}%')       "
   ]
  },
  {
   "cell_type": "markdown",
   "metadata": {},
   "source": [
    "### Maximum possible accuracy\n",
    "\n",
    "If we could always pick the \"right\" model for each row, what is the best possible test accuracy we could get from these three models?"
   ]
  },
  {
   "cell_type": "code",
   "execution_count": 154,
   "metadata": {},
   "outputs": [
    {
     "name": "stdout",
     "output_type": "stream",
     "text": [
      "Maximum possible accuracy = 79.57%\n"
     ]
    }
   ],
   "source": [
    "num_correct = 0\n",
    "\n",
    "for i in range(y_test.shape[0]):\n",
    "    if y_test.values[i] in [xgb_preds[i], knn_preds[i], nn_preds[i]]:\n",
    "        num_correct += 1\n",
    "\n",
    "print(f'Maximum possible accuracy = {100*num_correct / y_test.shape[0]:.2f}%')"
   ]
  },
  {
   "cell_type": "markdown",
   "metadata": {},
   "source": [
    "### Majority voting\n",
    "\n",
    "Just pick the prediction that the majority of the models voted for."
   ]
  },
  {
   "cell_type": "code",
   "execution_count": 156,
   "metadata": {},
   "outputs": [
    {
     "name": "stdout",
     "output_type": "stream",
     "text": [
      "Majority voting accuracy = 62.53%\n"
     ]
    }
   ],
   "source": [
    "num_correct = 0\n",
    "\n",
    "for i in range(y_test.shape[0]):\n",
    "    # Just add them up. If at least two models voted 1, then choose 1. Otherwise choose 0.\n",
    "    majority_vote = np.sum([xgb_preds[i], knn_preds[i], nn_preds[i]])\n",
    "    if majority_vote > 1:\n",
    "        majority_vote = 1\n",
    "    else:\n",
    "        majority_vote = 0\n",
    "    if y_test.values[i] == majority_vote:\n",
    "        num_correct += 1\n",
    "\n",
    "print(f'Majority voting accuracy = {100*num_correct / y_test.shape[0]:.2f}%')"
   ]
  },
  {
   "cell_type": "markdown",
   "metadata": {},
   "source": [
    "## Recording predictions\n",
    "\n",
    "Save a dataframe with the predictions for each model."
   ]
  },
  {
   "cell_type": "code",
   "execution_count": 224,
   "metadata": {},
   "outputs": [
    {
     "data": {
      "text/html": [
       "<div>\n",
       "<style scoped>\n",
       "    .dataframe tbody tr th:only-of-type {\n",
       "        vertical-align: middle;\n",
       "    }\n",
       "\n",
       "    .dataframe tbody tr th {\n",
       "        vertical-align: top;\n",
       "    }\n",
       "\n",
       "    .dataframe thead th {\n",
       "        text-align: right;\n",
       "    }\n",
       "</style>\n",
       "<table border=\"1\" class=\"dataframe\">\n",
       "  <thead>\n",
       "    <tr style=\"text-align: right;\">\n",
       "      <th></th>\n",
       "      <th>home_win</th>\n",
       "      <th>Y</th>\n",
       "      <th>M</th>\n",
       "      <th>avg_pct_diff</th>\n",
       "      <th>obp_pct_diff</th>\n",
       "      <th>slg_pct_diff</th>\n",
       "      <th>team_ERA_pct_diff</th>\n",
       "      <th>team_WHIP_pct_diff</th>\n",
       "      <th>team_W-L_pct_diff</th>\n",
       "      <th>team_Rank_pct_diff</th>\n",
       "      <th>...</th>\n",
       "      <th>bayes_pct_diff</th>\n",
       "      <th>pitcher_WHIP_pct_diff</th>\n",
       "      <th>pitcher_ERA_pct_diff</th>\n",
       "      <th>pitcher_IP_pct_diff</th>\n",
       "      <th>ops_pct_diff</th>\n",
       "      <th>RD_pct_diff</th>\n",
       "      <th>FP_pct_diff</th>\n",
       "      <th>Rank_pct_diff</th>\n",
       "      <th>WPA_pct_diff</th>\n",
       "      <th>log_5</th>\n",
       "    </tr>\n",
       "  </thead>\n",
       "  <tbody>\n",
       "    <tr>\n",
       "      <th>36441</th>\n",
       "      <td>1</td>\n",
       "      <td>2016</td>\n",
       "      <td>4.0</td>\n",
       "      <td>8.620726</td>\n",
       "      <td>3.092675</td>\n",
       "      <td>2.578581</td>\n",
       "      <td>7.754011</td>\n",
       "      <td>8.007859</td>\n",
       "      <td>5.263158</td>\n",
       "      <td>0.000000</td>\n",
       "      <td>...</td>\n",
       "      <td>-0.0</td>\n",
       "      <td>-0.304643</td>\n",
       "      <td>2.121464</td>\n",
       "      <td>0.0</td>\n",
       "      <td>2.805262</td>\n",
       "      <td>15.662651</td>\n",
       "      <td>-0.101523</td>\n",
       "      <td>0.000000</td>\n",
       "      <td>96.381239</td>\n",
       "      <td>0.5</td>\n",
       "    </tr>\n",
       "    <tr>\n",
       "      <th>36442</th>\n",
       "      <td>1</td>\n",
       "      <td>2016</td>\n",
       "      <td>4.0</td>\n",
       "      <td>2.309712</td>\n",
       "      <td>0.376945</td>\n",
       "      <td>-0.040732</td>\n",
       "      <td>8.978328</td>\n",
       "      <td>-1.211283</td>\n",
       "      <td>-2.040816</td>\n",
       "      <td>50.000000</td>\n",
       "      <td>...</td>\n",
       "      <td>-0.0</td>\n",
       "      <td>-0.304643</td>\n",
       "      <td>2.121464</td>\n",
       "      <td>0.0</td>\n",
       "      <td>0.147930</td>\n",
       "      <td>-20.792079</td>\n",
       "      <td>-0.305810</td>\n",
       "      <td>50.000000</td>\n",
       "      <td>96.381239</td>\n",
       "      <td>0.5</td>\n",
       "    </tr>\n",
       "    <tr>\n",
       "      <th>36443</th>\n",
       "      <td>0</td>\n",
       "      <td>2016</td>\n",
       "      <td>4.0</td>\n",
       "      <td>-5.864577</td>\n",
       "      <td>-7.555239</td>\n",
       "      <td>-12.023378</td>\n",
       "      <td>-1.871658</td>\n",
       "      <td>1.468752</td>\n",
       "      <td>-16.250000</td>\n",
       "      <td>75.000000</td>\n",
       "      <td>...</td>\n",
       "      <td>-0.0</td>\n",
       "      <td>-0.304643</td>\n",
       "      <td>2.121464</td>\n",
       "      <td>0.0</td>\n",
       "      <td>-10.063876</td>\n",
       "      <td>-10950.000000</td>\n",
       "      <td>-0.101626</td>\n",
       "      <td>75.000000</td>\n",
       "      <td>96.381239</td>\n",
       "      <td>0.5</td>\n",
       "    </tr>\n",
       "    <tr>\n",
       "      <th>36444</th>\n",
       "      <td>0</td>\n",
       "      <td>2016</td>\n",
       "      <td>4.0</td>\n",
       "      <td>0.398896</td>\n",
       "      <td>-4.950458</td>\n",
       "      <td>-0.794957</td>\n",
       "      <td>14.720812</td>\n",
       "      <td>8.900281</td>\n",
       "      <td>-14.117647</td>\n",
       "      <td>0.000000</td>\n",
       "      <td>...</td>\n",
       "      <td>-0.0</td>\n",
       "      <td>-0.304643</td>\n",
       "      <td>2.121464</td>\n",
       "      <td>0.0</td>\n",
       "      <td>-2.616367</td>\n",
       "      <td>678.571429</td>\n",
       "      <td>0.203252</td>\n",
       "      <td>0.000000</td>\n",
       "      <td>96.381239</td>\n",
       "      <td>0.5</td>\n",
       "    </tr>\n",
       "    <tr>\n",
       "      <th>36445</th>\n",
       "      <td>0</td>\n",
       "      <td>2016</td>\n",
       "      <td>4.0</td>\n",
       "      <td>-1.095675</td>\n",
       "      <td>2.427164</td>\n",
       "      <td>-5.196744</td>\n",
       "      <td>-24.444444</td>\n",
       "      <td>-13.778463</td>\n",
       "      <td>13.924051</td>\n",
       "      <td>-66.666667</td>\n",
       "      <td>...</td>\n",
       "      <td>-0.0</td>\n",
       "      <td>-0.304643</td>\n",
       "      <td>2.121464</td>\n",
       "      <td>0.0</td>\n",
       "      <td>-1.831024</td>\n",
       "      <td>1628.571429</td>\n",
       "      <td>0.101420</td>\n",
       "      <td>-66.666667</td>\n",
       "      <td>96.381239</td>\n",
       "      <td>0.5</td>\n",
       "    </tr>\n",
       "  </tbody>\n",
       "</table>\n",
       "<p>5 rows × 25 columns</p>\n",
       "</div>"
      ],
      "text/plain": [
       "       home_win     Y    M  avg_pct_diff  obp_pct_diff  slg_pct_diff  \\\n",
       "36441         1  2016  4.0      8.620726      3.092675      2.578581   \n",
       "36442         1  2016  4.0      2.309712      0.376945     -0.040732   \n",
       "36443         0  2016  4.0     -5.864577     -7.555239    -12.023378   \n",
       "36444         0  2016  4.0      0.398896     -4.950458     -0.794957   \n",
       "36445         0  2016  4.0     -1.095675      2.427164     -5.196744   \n",
       "\n",
       "       team_ERA_pct_diff  team_WHIP_pct_diff  team_W-L_pct_diff  \\\n",
       "36441           7.754011            8.007859           5.263158   \n",
       "36442           8.978328           -1.211283          -2.040816   \n",
       "36443          -1.871658            1.468752         -16.250000   \n",
       "36444          14.720812            8.900281         -14.117647   \n",
       "36445         -24.444444          -13.778463          13.924051   \n",
       "\n",
       "       team_Rank_pct_diff  ...  bayes_pct_diff  pitcher_WHIP_pct_diff  \\\n",
       "36441            0.000000  ...            -0.0              -0.304643   \n",
       "36442           50.000000  ...            -0.0              -0.304643   \n",
       "36443           75.000000  ...            -0.0              -0.304643   \n",
       "36444            0.000000  ...            -0.0              -0.304643   \n",
       "36445          -66.666667  ...            -0.0              -0.304643   \n",
       "\n",
       "       pitcher_ERA_pct_diff  pitcher_IP_pct_diff  ops_pct_diff   RD_pct_diff  \\\n",
       "36441              2.121464                  0.0      2.805262     15.662651   \n",
       "36442              2.121464                  0.0      0.147930    -20.792079   \n",
       "36443              2.121464                  0.0    -10.063876 -10950.000000   \n",
       "36444              2.121464                  0.0     -2.616367    678.571429   \n",
       "36445              2.121464                  0.0     -1.831024   1628.571429   \n",
       "\n",
       "       FP_pct_diff  Rank_pct_diff  WPA_pct_diff  log_5  \n",
       "36441    -0.101523       0.000000     96.381239    0.5  \n",
       "36442    -0.305810      50.000000     96.381239    0.5  \n",
       "36443    -0.101626      75.000000     96.381239    0.5  \n",
       "36444     0.203252       0.000000     96.381239    0.5  \n",
       "36445     0.101420     -66.666667     96.381239    0.5  \n",
       "\n",
       "[5 rows x 25 columns]"
      ]
     },
     "execution_count": 224,
     "metadata": {},
     "output_type": "execute_result"
    }
   ],
   "source": [
    "test_df.head()"
   ]
  },
  {
   "cell_type": "code",
   "execution_count": 225,
   "metadata": {},
   "outputs": [],
   "source": [
    "test_df['xgb_pred'] = xgb_preds\n",
    "test_df['knn_pred'] = knn_preds\n",
    "test_df['nn_pred'] = nn_preds"
   ]
  },
  {
   "cell_type": "code",
   "execution_count": 226,
   "metadata": {},
   "outputs": [],
   "source": [
    "test_df.to_csv('../data/Final Data/pct-diff-mlb-games-with-preds.csv', index=False)"
   ]
  }
 ],
 "metadata": {
  "kernelspec": {
   "display_name": "Python 3",
   "language": "python",
   "name": "python3"
  },
  "language_info": {
   "codemirror_mode": {
    "name": "ipython",
    "version": 3
   },
   "file_extension": ".py",
   "mimetype": "text/x-python",
   "name": "python",
   "nbconvert_exporter": "python",
   "pygments_lexer": "ipython3",
   "version": "3.8.5"
  }
 },
 "nbformat": 4,
 "nbformat_minor": 4
}
