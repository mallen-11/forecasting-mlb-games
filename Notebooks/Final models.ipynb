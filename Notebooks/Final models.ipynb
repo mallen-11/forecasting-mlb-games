{
 "cells": [
  {
   "cell_type": "markdown",
   "metadata": {},
   "source": [
    "# Final models\n",
    "\n",
    "The purpose of this notebook is to collect \"final versions\" of the models we want to use for ensembling. These will all use the same data (though they can certainly omit columns if you want). The point is to go from zero-to-trained model in one notebook so we can make sure everything looks good."
   ]
  },
  {
   "cell_type": "code",
   "execution_count": 1,
   "metadata": {},
   "outputs": [],
   "source": [
    "import pandas as pd\n",
    "import numpy as np\n",
    "from matplotlib import pyplot as plt\n",
    "\n",
    "from utils.data_loader import Dataset\n",
    "\n",
    "import tensorflow as tf\n",
    "from tensorflow.keras.layers import Dense, Dropout, BatchNormalization, concatenate\n",
    "from tensorflow.keras.layers.experimental import preprocessing\n",
    "\n",
    "import xgboost as xgb\n",
    "\n",
    "from sklearn.preprocessing import LabelEncoder, StandardScaler\n",
    "from sklearn.metrics import accuracy_score, classification_report\n",
    "from sklearn.neighbors import KNeighborsClassifier"
   ]
  },
  {
   "cell_type": "markdown",
   "metadata": {},
   "source": [
    "## Data loading\n",
    "\n",
    "Load the data here. Models below can augment it if need-be (for example the neural net needs it as a tensorflow dataset)."
   ]
  },
  {
   "cell_type": "code",
   "execution_count": 2,
   "metadata": {},
   "outputs": [],
   "source": [
    "df = pd.read_csv('../data/start_to_finish.csv')  #Pct Diff Columns Only (Gives Highest Accuracy)\n",
    "# df = pd.read_csv('../data/Final Data/pct-diff-mlb-games.csv')  #Pct Diff Columns Only (Gives Highest Accuracy)\n",
    "#df = pd.read_csv('../data/Final Data/diff-mlb-games.csv')    #Diff columns only\n",
    "#df = pd.read_csv('../data/Final Data/full-diff-mlb-games.csv')    #All columns\n",
    "\n",
    "cols = ['team_ops_pct_diff', 'obp_diff', 'team_obp_pct_diff',\n",
    "       'home_Rank_offset1year', 'away_WHIP_offset1year', 'team_ERA_pct_diff',\n",
    "       'home_win_diff_bayes', 'home_RD', 'team_bayes_pct_diff',\n",
    "       'away_win_diff_bayes'] + ['Y', 'M', 'home_win', 'home_team', 'away_team']\n",
    "\n",
    "# cols = ['home_win', 'home_team', 'away_team', 'Y', 'M', 'avg_pct_diff',\n",
    "#        'obp_pct_diff', 'slg_pct_diff', 'team_ERA_pct_diff',\n",
    "#        'team_WHIP_pct_diff', 'team_W-L_pct_diff', 'team_Rank_pct_diff',\n",
    "#        'team_FP_pct_diff', 'team_R_pct_diff', 'team_RA_pct_diff', 'team_pytha_pct_diff',\n",
    "#        'team_W-L_pct_diff', 'team_bayes_pct_diff', 'pitcher_WHIP_pct_diff',\n",
    "#        'pitcher_ERA_pct_diff', 'pitcher_IP_pct_diff', 'team_ops_pct_diff',\n",
    "#        'RD_pct_diff', 'FP_pct_diff', 'Rank_pct_diff', 'team_WPA_pct_diff', 'log_5']\n",
    "\n",
    "\n",
    "def train_test_split(df, include_teams=False):\n",
    "    if not include_teams:\n",
    "        df = df.drop(['home_team', 'away_team'], axis='columns')\n",
    "    \n",
    "    train_df = df[df['Y'] <= 2015]\n",
    "    test_df = df[df['Y'] > 2015]\n",
    "\n",
    "    X_train = train_df.drop('home_win', axis=1)\n",
    "    y_train = train_df.home_win\n",
    "\n",
    "    X_test = test_df.drop('home_win', axis=1)\n",
    "    y_test = test_df.home_win\n",
    "    \n",
    "    return X_train, y_train, train_df, X_test, y_test, test_df"
   ]
  },
  {
   "cell_type": "code",
   "execution_count": 3,
   "metadata": {},
   "outputs": [],
   "source": [
    "X_train, y_train, train_df, X_test, y_test, test_df = train_test_split(df[cols])\n",
    "X_train_all, _, train_df_all, X_test_all, _, test_df_all = train_test_split(df)\n",
    "X_train_nn, _, train_df_nn, X_test_nn, _, test_df_nn = train_test_split(df[cols], include_teams=True)"
   ]
  },
  {
   "cell_type": "markdown",
   "metadata": {},
   "source": [
    "## Data cleaning"
   ]
  },
  {
   "cell_type": "code",
   "execution_count": 4,
   "metadata": {},
   "outputs": [],
   "source": [
    "def fill_na_inf(df):\n",
    "    for c in df.columns:\n",
    "        if df[c].isin([-np.inf, np.inf]).sum() > 0:\n",
    "            df[c] = df[c].replace([-np.inf, np.inf], None)\n",
    "        if df[c].isna().sum() > 0:\n",
    "            med = df[c].median()\n",
    "            df[c] = df[c].fillna(med)\n",
    "    return df"
   ]
  },
  {
   "cell_type": "code",
   "execution_count": 5,
   "metadata": {},
   "outputs": [],
   "source": [
    "# data with cols\n",
    "train_df = fill_na_inf(train_df)\n",
    "test_df = fill_na_inf(test_df)\n",
    "\n",
    "X_train = fill_na_inf(X_train)\n",
    "X_test = fill_na_inf(X_test)\n",
    "\n",
    "# data with _all_ columns\n",
    "train_df_all = fill_na_inf(train_df_all)\n",
    "test_df_all = fill_na_inf(test_df_all)\n",
    "\n",
    "X_train_all = fill_na_inf(X_train_all)\n",
    "X_test_all = fill_na_inf(X_test_all)\n",
    "\n",
    "# nn data\n",
    "train_df_nn = fill_na_inf(train_df_nn)\n",
    "test_df_nn = fill_na_inf(test_df_nn)\n",
    "\n",
    "X_train_nn = fill_na_inf(X_train_nn)\n",
    "X_test_nn = fill_na_inf(X_test_nn)"
   ]
  },
  {
   "cell_type": "markdown",
   "metadata": {},
   "source": [
    "## XGBoost with all columns"
   ]
  },
  {
   "cell_type": "code",
   "execution_count": 6,
   "metadata": {},
   "outputs": [],
   "source": [
    "params = {'n_estimators': 100,\n",
    "         'max_depth': 5,\n",
    "         'min_child_weight': 0.3256355793000354,\n",
    "         'eta': 0.3076951770384403,\n",
    "         'subsample': 0.8242904472901268,\n",
    "         'colsample_bytree': 0.9475703665037462,\n",
    "         'gamma': 9.66425615956974,\n",
    "         'seed': 0,\n",
    "         'nthread': 4,\n",
    "         'objective': 'binary:logistic',\n",
    "         'eval_metric': 'auc'}\n",
    "\n",
    "params40 = {'n_estimators': 100,\n",
    "             'max_depth': 3,\n",
    "             'min_child_weight': 6.292249181210905,\n",
    "             'eta': 1.0,\n",
    "             'subsample': 1.0,\n",
    "             'colsample_bytree': 1.0,\n",
    "             'gamma': 6.4258711159875235,\n",
    "             'seed': 0,\n",
    "             'nthread': 4,\n",
    "             'objective': 'binary:logistic',\n",
    "             'eval_metric': 'auc'}"
   ]
  },
  {
   "cell_type": "code",
   "execution_count": 7,
   "metadata": {},
   "outputs": [],
   "source": [
    "xgb_clf = xgb.XGBClassifier(**params)"
   ]
  },
  {
   "cell_type": "code",
   "execution_count": 8,
   "metadata": {},
   "outputs": [
    {
     "name": "stderr",
     "output_type": "stream",
     "text": [
      "/Users/psavala/.virtualenvs/baseball/lib/python3.8/site-packages/xgboost/sklearn.py:892: UserWarning: The use of label encoder in XGBClassifier is deprecated and will be removed in a future release. To remove this warning, do the following: 1) Pass option use_label_encoder=False when constructing XGBClassifier object; and 2) Encode your labels (y) as integers starting with 0, i.e. 0, 1, 2, ..., [num_class - 1].\n",
      "  warnings.warn(label_encoder_deprecation_msg, UserWarning)\n"
     ]
    },
    {
     "data": {
      "text/plain": [
       "XGBClassifier(base_score=0.5, booster='gbtree', colsample_bylevel=1,\n",
       "              colsample_bynode=1, colsample_bytree=0.9475703665037462,\n",
       "              eta=0.3076951770384403, eval_metric='auc', gamma=9.66425615956974,\n",
       "              gpu_id=-1, importance_type='gain', interaction_constraints='',\n",
       "              learning_rate=0.30769518, max_delta_step=0, max_depth=5,\n",
       "              min_child_weight=0.3256355793000354, missing=nan,\n",
       "              monotone_constraints='()', n_estimators=100, n_jobs=4, nthread=4,\n",
       "              num_parallel_tree=1, random_state=0, reg_alpha=0, reg_lambda=1,\n",
       "              scale_pos_weight=1, seed=0, subsample=0.8242904472901268,\n",
       "              tree_method='exact', validate_parameters=1, verbosity=None)"
      ]
     },
     "execution_count": 8,
     "metadata": {},
     "output_type": "execute_result"
    }
   ],
   "source": [
    "xgb_clf.fit(X_train_all, y_train)"
   ]
  },
  {
   "cell_type": "code",
   "execution_count": 9,
   "metadata": {},
   "outputs": [
    {
     "name": "stdout",
     "output_type": "stream",
     "text": [
      "Test acc = 61.08%\n"
     ]
    }
   ],
   "source": [
    "xgb_preds = xgb_clf.predict(X_test_all)\n",
    "xgb_proba_preds = xgb_clf.predict_proba(X_test_all)\n",
    "\n",
    "test_acc = accuracy_score(y_test, xgb_preds)\n",
    "print(f'Test acc = {100*test_acc:.2f}%')"
   ]
  },
  {
   "cell_type": "code",
   "execution_count": 10,
   "metadata": {},
   "outputs": [
    {
     "name": "stdout",
     "output_type": "stream",
     "text": [
      "              precision    recall  f1-score   support\n",
      "\n",
      "         0.0       0.60      0.53      0.56      4656\n",
      "         1.0       0.62      0.68      0.65      5282\n",
      "\n",
      "    accuracy                           0.61      9938\n",
      "   macro avg       0.61      0.61      0.61      9938\n",
      "weighted avg       0.61      0.61      0.61      9938\n",
      "\n"
     ]
    }
   ],
   "source": [
    "print(classification_report(y_test, xgb_preds))"
   ]
  },
  {
   "cell_type": "markdown",
   "metadata": {},
   "source": [
    "### Feature Importance"
   ]
  },
  {
   "cell_type": "code",
   "execution_count": 11,
   "metadata": {},
   "outputs": [],
   "source": [
    "featuredf = pd.DataFrame(xgb_clf.feature_importances_, X_train_all.columns)   #This makes it in order\n",
    "featuredf = featuredf.sort_values(by=0, ascending=False)"
   ]
  },
  {
   "cell_type": "code",
   "execution_count": 12,
   "metadata": {},
   "outputs": [
    {
     "data": {
      "image/png": "[encoded data removed]",
      "text/plain": [
       "<Figure size 1440x576 with 1 Axes>"
      ]
     },
     "metadata": {
      "needs_background": "light"
     },
     "output_type": "display_data"
    }
   ],
   "source": [
    "plt.figure(figsize=(20, 8))\n",
    "\n",
    "x = featuredf.index\n",
    "y = featuredf[0]\n",
    "\n",
    "plt.bar(x, y)\n",
    "plt.xticks(rotation=90)\n",
    "plt.title('Feature Importances', fontsize=20)\n",
    "plt.ylabel('Weight', fontsize=14);"
   ]
  },
  {
   "cell_type": "code",
   "execution_count": 13,
   "metadata": {},
   "outputs": [],
   "source": [
    "top_cols = featuredf.iloc[:40].index"
   ]
  },
  {
   "cell_type": "code",
   "execution_count": 14,
   "metadata": {},
   "outputs": [
    {
     "data": {
      "text/plain": [
       "Index(['team_ops_pct_diff', 'obp_diff', 'team_obp_pct_diff',\n",
       "       'home_Rank_offset1year', 'away_WHIP_offset1year', 'team_ERA_pct_diff',\n",
       "       'home_win_diff_bayes', 'home_RD', 'team_bayes_pct_diff',\n",
       "       'away_win_diff_bayes', 'team_RA_pct_diff', 'team_slg_pct_diff',\n",
       "       'team_W-L_pct_diff', 'away_ERA_offset1year', 'away_win_pct',\n",
       "       'away_pitcher_IP_avg_162games', 'team_Rank_pct_diff',\n",
       "       'home_pitcher_IP_avg_162games', 'away_RD',\n",
       "       'home_pitcher_WHIP_avg_162games', 'team_WHIP_pct_diff',\n",
       "       'home_bayes_win', 'home_win_diff', 'pitcher_IP_pct_diff',\n",
       "       'away_Rank_offset1year', 'home_total_R', 'home_pythag_expect',\n",
       "       'home_obp', 'team_R_pct_diff', 'home_avg',\n",
       "       'away_pitcher_WPA_avg_162games', 'home_ops', 'away_pitcher_season_game',\n",
       "       'avg_diff', 'team_avg_pct_diff', 'home_W-L-pct_offset1year',\n",
       "       'home_ERA_offset1year', 'away_R_offset1year', 'home_win_pct',\n",
       "       'away_elo'],\n",
       "      dtype='object')"
      ]
     },
     "execution_count": 14,
     "metadata": {},
     "output_type": "execute_result"
    }
   ],
   "source": [
    "top_cols"
   ]
  },
  {
   "cell_type": "markdown",
   "metadata": {},
   "source": [
    "## XGB with top N columns\n",
    "\n",
    "Try rerunning XGB using only the top N columns (ordered by feature importance when using all columns) to find where the cutoff should be by measuring test set accuracy on XGB. Obviously this is using the same fixed hyperparameters, which may not be ideal, but it's a start."
   ]
  },
  {
   "cell_type": "code",
   "execution_count": 15,
   "metadata": {},
   "outputs": [
    {
     "name": "stdout",
     "output_type": "stream",
     "text": [
      "N = 1, acc = 61.75%\n",
      "N = 2, acc = 62.21%\n",
      "N = 3, acc = 62.16%\n",
      "N = 4, acc = 62.50%\n",
      "N = 5, acc = 61.97%\n",
      "N = 6, acc = 62.40%\n",
      "N = 7, acc = 62.31%\n",
      "N = 8, acc = 61.86%\n",
      "N = 9, acc = 61.82%\n",
      "N = 10, acc = 61.70%\n",
      "N = 11, acc = 61.71%\n",
      "N = 12, acc = 61.22%\n",
      "N = 13, acc = 61.63%\n",
      "N = 14, acc = 61.89%\n",
      "N = 15, acc = 62.09%\n",
      "N = 16, acc = 61.55%\n",
      "N = 17, acc = 61.55%\n",
      "N = 18, acc = 62.07%\n",
      "N = 19, acc = 62.06%\n",
      "N = 20, acc = 62.22%\n",
      "N = 21, acc = 60.58%\n",
      "N = 22, acc = 61.95%\n",
      "N = 23, acc = 61.42%\n",
      "N = 24, acc = 61.27%\n",
      "N = 25, acc = 61.27%\n",
      "N = 26, acc = 61.35%\n",
      "N = 27, acc = 60.30%\n",
      "N = 28, acc = 61.60%\n",
      "N = 29, acc = 61.09%\n",
      "N = 30, acc = 60.27%\n",
      "N = 31, acc = 61.56%\n",
      "N = 32, acc = 60.62%\n",
      "N = 33, acc = 60.98%\n",
      "N = 34, acc = 60.46%\n",
      "N = 35, acc = 60.29%\n",
      "N = 36, acc = 60.37%\n",
      "N = 37, acc = 61.50%\n",
      "N = 38, acc = 61.15%\n",
      "N = 39, acc = 60.09%\n",
      "N = 40, acc = 60.66%\n",
      "N = 41, acc = 59.21%\n",
      "N = 42, acc = 61.32%\n",
      "N = 43, acc = 59.75%\n",
      "N = 44, acc = 60.08%\n",
      "N = 45, acc = 60.40%\n",
      "N = 46, acc = 58.76%\n",
      "N = 47, acc = 60.54%\n",
      "N = 48, acc = 60.99%\n",
      "N = 49, acc = 60.78%\n",
      "N = 50, acc = 60.50%\n",
      "N = 51, acc = 59.82%\n",
      "N = 52, acc = 60.63%\n",
      "N = 53, acc = 61.17%\n",
      "N = 54, acc = 61.17%\n",
      "N = 55, acc = 60.20%\n",
      "N = 56, acc = 61.35%\n",
      "N = 57, acc = 61.37%\n",
      "N = 58, acc = 61.51%\n",
      "N = 59, acc = 61.85%\n",
      "N = 60, acc = 61.85%\n"
     ]
    },
    {
     "ename": "KeyboardInterrupt",
     "evalue": "",
     "output_type": "error",
     "traceback": [
      "\u001b[0;31m---------------------------------------------------------------------------\u001b[0m",
      "\u001b[0;31mKeyboardInterrupt\u001b[0m                         Traceback (most recent call last)",
      "\u001b[0;32m<ipython-input-15-39e10b0375ed>\u001b[0m in \u001b[0;36m<module>\u001b[0;34m\u001b[0m\n\u001b[1;32m      4\u001b[0m     \u001b[0mcols\u001b[0m \u001b[0;34m=\u001b[0m \u001b[0mfeaturedf\u001b[0m\u001b[0;34m.\u001b[0m\u001b[0miloc\u001b[0m\u001b[0;34m[\u001b[0m\u001b[0;34m:\u001b[0m\u001b[0mN\u001b[0m\u001b[0;34m]\u001b[0m\u001b[0;34m.\u001b[0m\u001b[0mindex\u001b[0m\u001b[0;34m\u001b[0m\u001b[0;34m\u001b[0m\u001b[0m\n\u001b[1;32m      5\u001b[0m     \u001b[0mxgb_topN_clf\u001b[0m \u001b[0;34m=\u001b[0m \u001b[0mxgb\u001b[0m\u001b[0;34m.\u001b[0m\u001b[0mXGBClassifier\u001b[0m\u001b[0;34m(\u001b[0m\u001b[0;34m**\u001b[0m\u001b[0mparams40\u001b[0m\u001b[0;34m)\u001b[0m\u001b[0;34m\u001b[0m\u001b[0;34m\u001b[0m\u001b[0m\n\u001b[0;32m----> 6\u001b[0;31m     \u001b[0mxgb_topN_clf\u001b[0m\u001b[0;34m.\u001b[0m\u001b[0mfit\u001b[0m\u001b[0;34m(\u001b[0m\u001b[0mX_train_all\u001b[0m\u001b[0;34m[\u001b[0m\u001b[0mcols\u001b[0m\u001b[0;34m]\u001b[0m\u001b[0;34m,\u001b[0m \u001b[0my_train\u001b[0m\u001b[0;34m)\u001b[0m\u001b[0;34m\u001b[0m\u001b[0;34m\u001b[0m\u001b[0m\n\u001b[0m\u001b[1;32m      7\u001b[0m     \u001b[0mxgb_topN_preds\u001b[0m \u001b[0;34m=\u001b[0m \u001b[0mxgb_topN_clf\u001b[0m\u001b[0;34m.\u001b[0m\u001b[0mpredict\u001b[0m\u001b[0;34m(\u001b[0m\u001b[0mX_test_all\u001b[0m\u001b[0;34m[\u001b[0m\u001b[0mcols\u001b[0m\u001b[0;34m]\u001b[0m\u001b[0;34m)\u001b[0m\u001b[0;34m\u001b[0m\u001b[0;34m\u001b[0m\u001b[0m\n\u001b[1;32m      8\u001b[0m     \u001b[0mxgb_topN_proba_preds\u001b[0m \u001b[0;34m=\u001b[0m \u001b[0mxgb_topN_clf\u001b[0m\u001b[0;34m.\u001b[0m\u001b[0mpredict_proba\u001b[0m\u001b[0;34m(\u001b[0m\u001b[0mX_test_all\u001b[0m\u001b[0;34m[\u001b[0m\u001b[0mcols\u001b[0m\u001b[0;34m]\u001b[0m\u001b[0;34m)\u001b[0m\u001b[0;34m\u001b[0m\u001b[0;34m\u001b[0m\u001b[0m\n",
      "\u001b[0;32m~/.virtualenvs/baseball/lib/python3.8/site-packages/xgboost/core.py\u001b[0m in \u001b[0;36minner_f\u001b[0;34m(*args, **kwargs)\u001b[0m\n\u001b[1;32m    420\u001b[0m         \u001b[0;32mfor\u001b[0m \u001b[0mk\u001b[0m\u001b[0;34m,\u001b[0m \u001b[0marg\u001b[0m \u001b[0;32min\u001b[0m \u001b[0mzip\u001b[0m\u001b[0;34m(\u001b[0m\u001b[0msig\u001b[0m\u001b[0;34m.\u001b[0m\u001b[0mparameters\u001b[0m\u001b[0;34m,\u001b[0m \u001b[0margs\u001b[0m\u001b[0;34m)\u001b[0m\u001b[0;34m:\u001b[0m\u001b[0;34m\u001b[0m\u001b[0;34m\u001b[0m\u001b[0m\n\u001b[1;32m    421\u001b[0m             \u001b[0mkwargs\u001b[0m\u001b[0;34m[\u001b[0m\u001b[0mk\u001b[0m\u001b[0;34m]\u001b[0m \u001b[0;34m=\u001b[0m \u001b[0marg\u001b[0m\u001b[0;34m\u001b[0m\u001b[0;34m\u001b[0m\u001b[0m\n\u001b[0;32m--> 422\u001b[0;31m         \u001b[0;32mreturn\u001b[0m \u001b[0mf\u001b[0m\u001b[0;34m(\u001b[0m\u001b[0;34m**\u001b[0m\u001b[0mkwargs\u001b[0m\u001b[0;34m)\u001b[0m\u001b[0;34m\u001b[0m\u001b[0;34m\u001b[0m\u001b[0m\n\u001b[0m\u001b[1;32m    423\u001b[0m \u001b[0;34m\u001b[0m\u001b[0m\n\u001b[1;32m    424\u001b[0m     \u001b[0;32mreturn\u001b[0m \u001b[0minner_f\u001b[0m\u001b[0;34m\u001b[0m\u001b[0;34m\u001b[0m\u001b[0m\n",
      "\u001b[0;32m~/.virtualenvs/baseball/lib/python3.8/site-packages/xgboost/sklearn.py\u001b[0m in \u001b[0;36mfit\u001b[0;34m(self, X, y, sample_weight, base_margin, eval_set, eval_metric, early_stopping_rounds, verbose, xgb_model, sample_weight_eval_set, feature_weights, callbacks)\u001b[0m\n\u001b[1;32m    911\u001b[0m             eval_group=None, label_transform=label_transform)\n\u001b[1;32m    912\u001b[0m \u001b[0;34m\u001b[0m\u001b[0m\n\u001b[0;32m--> 913\u001b[0;31m         self._Booster = train(xgb_options, train_dmatrix,\n\u001b[0m\u001b[1;32m    914\u001b[0m                               \u001b[0mself\u001b[0m\u001b[0;34m.\u001b[0m\u001b[0mget_num_boosting_rounds\u001b[0m\u001b[0;34m(\u001b[0m\u001b[0;34m)\u001b[0m\u001b[0;34m,\u001b[0m\u001b[0;34m\u001b[0m\u001b[0;34m\u001b[0m\u001b[0m\n\u001b[1;32m    915\u001b[0m                               \u001b[0mevals\u001b[0m\u001b[0;34m=\u001b[0m\u001b[0mevals\u001b[0m\u001b[0;34m,\u001b[0m\u001b[0;34m\u001b[0m\u001b[0;34m\u001b[0m\u001b[0m\n",
      "\u001b[0;32m~/.virtualenvs/baseball/lib/python3.8/site-packages/xgboost/training.py\u001b[0m in \u001b[0;36mtrain\u001b[0;34m(params, dtrain, num_boost_round, evals, obj, feval, maximize, early_stopping_rounds, evals_result, verbose_eval, xgb_model, callbacks)\u001b[0m\n\u001b[1;32m    204\u001b[0m     \u001b[0mBooster\u001b[0m \u001b[0;34m:\u001b[0m \u001b[0ma\u001b[0m \u001b[0mtrained\u001b[0m \u001b[0mbooster\u001b[0m \u001b[0mmodel\u001b[0m\u001b[0;34m\u001b[0m\u001b[0;34m\u001b[0m\u001b[0m\n\u001b[1;32m    205\u001b[0m     \"\"\"\n\u001b[0;32m--> 206\u001b[0;31m     bst = _train_internal(params, dtrain,\n\u001b[0m\u001b[1;32m    207\u001b[0m                           \u001b[0mnum_boost_round\u001b[0m\u001b[0;34m=\u001b[0m\u001b[0mnum_boost_round\u001b[0m\u001b[0;34m,\u001b[0m\u001b[0;34m\u001b[0m\u001b[0;34m\u001b[0m\u001b[0m\n\u001b[1;32m    208\u001b[0m                           \u001b[0mevals\u001b[0m\u001b[0;34m=\u001b[0m\u001b[0mevals\u001b[0m\u001b[0;34m,\u001b[0m\u001b[0;34m\u001b[0m\u001b[0;34m\u001b[0m\u001b[0m\n",
      "\u001b[0;32m~/.virtualenvs/baseball/lib/python3.8/site-packages/xgboost/training.py\u001b[0m in \u001b[0;36m_train_internal\u001b[0;34m(params, dtrain, num_boost_round, evals, obj, feval, xgb_model, callbacks, evals_result, maximize, verbose_eval, early_stopping_rounds)\u001b[0m\n\u001b[1;32m     99\u001b[0m         \u001b[0;31m# Skip the first update if it is a recovery step.\u001b[0m\u001b[0;34m\u001b[0m\u001b[0;34m\u001b[0m\u001b[0;34m\u001b[0m\u001b[0m\n\u001b[1;32m    100\u001b[0m         \u001b[0;32mif\u001b[0m \u001b[0mversion\u001b[0m \u001b[0;34m%\u001b[0m \u001b[0;36m2\u001b[0m \u001b[0;34m==\u001b[0m \u001b[0;36m0\u001b[0m\u001b[0;34m:\u001b[0m\u001b[0;34m\u001b[0m\u001b[0;34m\u001b[0m\u001b[0m\n\u001b[0;32m--> 101\u001b[0;31m             \u001b[0mbst\u001b[0m\u001b[0;34m.\u001b[0m\u001b[0mupdate\u001b[0m\u001b[0;34m(\u001b[0m\u001b[0mdtrain\u001b[0m\u001b[0;34m,\u001b[0m \u001b[0mi\u001b[0m\u001b[0;34m,\u001b[0m \u001b[0mobj\u001b[0m\u001b[0;34m)\u001b[0m\u001b[0;34m\u001b[0m\u001b[0;34m\u001b[0m\u001b[0m\n\u001b[0m\u001b[1;32m    102\u001b[0m             \u001b[0mbst\u001b[0m\u001b[0;34m.\u001b[0m\u001b[0msave_rabit_checkpoint\u001b[0m\u001b[0;34m(\u001b[0m\u001b[0;34m)\u001b[0m\u001b[0;34m\u001b[0m\u001b[0;34m\u001b[0m\u001b[0m\n\u001b[1;32m    103\u001b[0m             \u001b[0mversion\u001b[0m \u001b[0;34m+=\u001b[0m \u001b[0;36m1\u001b[0m\u001b[0;34m\u001b[0m\u001b[0;34m\u001b[0m\u001b[0m\n",
      "\u001b[0;32m~/.virtualenvs/baseball/lib/python3.8/site-packages/xgboost/core.py\u001b[0m in \u001b[0;36mupdate\u001b[0;34m(self, dtrain, iteration, fobj)\u001b[0m\n\u001b[1;32m   1278\u001b[0m \u001b[0;34m\u001b[0m\u001b[0m\n\u001b[1;32m   1279\u001b[0m         \u001b[0;32mif\u001b[0m \u001b[0mfobj\u001b[0m \u001b[0;32mis\u001b[0m \u001b[0;32mNone\u001b[0m\u001b[0;34m:\u001b[0m\u001b[0;34m\u001b[0m\u001b[0;34m\u001b[0m\u001b[0m\n\u001b[0;32m-> 1280\u001b[0;31m             _check_call(_LIB.XGBoosterUpdateOneIter(self.handle,\n\u001b[0m\u001b[1;32m   1281\u001b[0m                                                     \u001b[0mctypes\u001b[0m\u001b[0;34m.\u001b[0m\u001b[0mc_int\u001b[0m\u001b[0;34m(\u001b[0m\u001b[0miteration\u001b[0m\u001b[0;34m)\u001b[0m\u001b[0;34m,\u001b[0m\u001b[0;34m\u001b[0m\u001b[0;34m\u001b[0m\u001b[0m\n\u001b[1;32m   1282\u001b[0m                                                     dtrain.handle))\n",
      "\u001b[0;31mKeyboardInterrupt\u001b[0m: "
     ]
    }
   ],
   "source": [
    "test_acc_list = []\n",
    "\n",
    "for N in range(1, featuredf.shape[0]):\n",
    "    cols = featuredf.iloc[:N].index\n",
    "    xgb_topN_clf = xgb.XGBClassifier(**params40)\n",
    "    xgb_topN_clf.fit(X_train_all[cols], y_train)\n",
    "    xgb_topN_preds = xgb_topN_clf.predict(X_test_all[cols])\n",
    "    xgb_topN_proba_preds = xgb_topN_clf.predict_proba(X_test_all[cols])\n",
    "\n",
    "    test_acc = accuracy_score(y_test, xgb_topN_preds)\n",
    "    test_acc_list.append(test_acc)\n",
    "    print(f'N = {N}, acc = {100*test_acc:.2f}%')"
   ]
  },
  {
   "cell_type": "code",
   "execution_count": null,
   "metadata": {},
   "outputs": [],
   "source": [
    "plt.figure(figsize=(12, 8))\n",
    "plt.plot(range(1, featuredf.shape[0]), test_acc_list)\n",
    "plt.xlabel('N')\n",
    "plt.ylabel('XGB accuracy')\n",
    "plt.title('Test set XGB accuracy using top N columns');"
   ]
  },
  {
   "cell_type": "markdown",
   "metadata": {},
   "source": [
    "## XGB with top 10 columns"
   ]
  },
  {
   "cell_type": "code",
   "execution_count": 16,
   "metadata": {},
   "outputs": [
    {
     "data": {
      "text/plain": [
       "XGBClassifier(base_score=0.5, booster='gbtree', colsample_bylevel=1,\n",
       "              colsample_bynode=1, colsample_bytree=0.9475703665037462,\n",
       "              eta=0.3076951770384403, eval_metric='auc', gamma=9.66425615956974,\n",
       "              gpu_id=-1, importance_type='gain', interaction_constraints='',\n",
       "              learning_rate=0.30769518, max_delta_step=0, max_depth=5,\n",
       "              min_child_weight=0.3256355793000354, missing=nan,\n",
       "              monotone_constraints='()', n_estimators=100, n_jobs=4, nthread=4,\n",
       "              num_parallel_tree=1, random_state=0, reg_alpha=0, reg_lambda=1,\n",
       "              scale_pos_weight=1, seed=0, subsample=0.8242904472901268,\n",
       "              tree_method='exact', validate_parameters=1, verbosity=None)"
      ]
     },
     "execution_count": 16,
     "metadata": {},
     "output_type": "execute_result"
    }
   ],
   "source": [
    "xgb_top10_clf = xgb.XGBClassifier(**params)\n",
    "xgb_top10_clf.fit(X_train, y_train)"
   ]
  },
  {
   "cell_type": "code",
   "execution_count": 17,
   "metadata": {},
   "outputs": [
    {
     "name": "stdout",
     "output_type": "stream",
     "text": [
      "Test acc = 62.38%\n"
     ]
    }
   ],
   "source": [
    "xgb_top10_preds = xgb_top10_clf.predict(X_test)\n",
    "xgb_top10_proba_preds = xgb_top10_clf.predict_proba(X_test)\n",
    "\n",
    "test_acc = accuracy_score(y_test, xgb_top10_preds)\n",
    "print(f'Test acc = {100*test_acc:.2f}%')"
   ]
  },
  {
   "cell_type": "markdown",
   "metadata": {},
   "source": [
    "## KNN"
   ]
  },
  {
   "cell_type": "code",
   "execution_count": 18,
   "metadata": {},
   "outputs": [],
   "source": [
    "ss = StandardScaler()\n",
    "ss.fit(pd.concat([X_train, X_test]))\n",
    "X_train_scaled = ss.transform(X_train)\n",
    "X_test_scaled = ss.transform(X_test)"
   ]
  },
  {
   "cell_type": "code",
   "execution_count": 22,
   "metadata": {},
   "outputs": [
    {
     "ename": "ValueError",
     "evalue": "Shape of passed values is (37193, 12), indices imply (37193, 61)",
     "output_type": "error",
     "traceback": [
      "\u001b[0;31m---------------------------------------------------------------------------\u001b[0m",
      "\u001b[0;31mValueError\u001b[0m                                Traceback (most recent call last)",
      "\u001b[0;32m~/.virtualenvs/baseball/lib/python3.8/site-packages/pandas/core/internals/managers.py\u001b[0m in \u001b[0;36mcreate_block_manager_from_blocks\u001b[0;34m(blocks, axes)\u001b[0m\n\u001b[1;32m   1628\u001b[0m                 blocks = [\n\u001b[0;32m-> 1629\u001b[0;31m                     \u001b[0mmake_block\u001b[0m\u001b[0;34m(\u001b[0m\u001b[0mvalues\u001b[0m\u001b[0;34m=\u001b[0m\u001b[0mblocks\u001b[0m\u001b[0;34m[\u001b[0m\u001b[0;36m0\u001b[0m\u001b[0;34m]\u001b[0m\u001b[0;34m,\u001b[0m \u001b[0mplacement\u001b[0m\u001b[0;34m=\u001b[0m\u001b[0mslice\u001b[0m\u001b[0;34m(\u001b[0m\u001b[0;36m0\u001b[0m\u001b[0;34m,\u001b[0m \u001b[0mlen\u001b[0m\u001b[0;34m(\u001b[0m\u001b[0maxes\u001b[0m\u001b[0;34m[\u001b[0m\u001b[0;36m0\u001b[0m\u001b[0;34m]\u001b[0m\u001b[0;34m)\u001b[0m\u001b[0;34m)\u001b[0m\u001b[0;34m)\u001b[0m\u001b[0;34m\u001b[0m\u001b[0;34m\u001b[0m\u001b[0m\n\u001b[0m\u001b[1;32m   1630\u001b[0m                 ]\n",
      "\u001b[0;32m~/.virtualenvs/baseball/lib/python3.8/site-packages/pandas/core/internals/blocks.py\u001b[0m in \u001b[0;36mmake_block\u001b[0;34m(values, placement, klass, ndim, dtype)\u001b[0m\n\u001b[1;32m   2716\u001b[0m \u001b[0;34m\u001b[0m\u001b[0m\n\u001b[0;32m-> 2717\u001b[0;31m     \u001b[0;32mreturn\u001b[0m \u001b[0mklass\u001b[0m\u001b[0;34m(\u001b[0m\u001b[0mvalues\u001b[0m\u001b[0;34m,\u001b[0m \u001b[0mndim\u001b[0m\u001b[0;34m=\u001b[0m\u001b[0mndim\u001b[0m\u001b[0;34m,\u001b[0m \u001b[0mplacement\u001b[0m\u001b[0;34m=\u001b[0m\u001b[0mplacement\u001b[0m\u001b[0;34m)\u001b[0m\u001b[0;34m\u001b[0m\u001b[0;34m\u001b[0m\u001b[0m\n\u001b[0m\u001b[1;32m   2718\u001b[0m \u001b[0;34m\u001b[0m\u001b[0m\n",
      "\u001b[0;32m~/.virtualenvs/baseball/lib/python3.8/site-packages/pandas/core/internals/blocks.py\u001b[0m in \u001b[0;36m__init__\u001b[0;34m(self, values, placement, ndim)\u001b[0m\n\u001b[1;32m    129\u001b[0m         \u001b[0;32mif\u001b[0m \u001b[0mself\u001b[0m\u001b[0;34m.\u001b[0m\u001b[0m_validate_ndim\u001b[0m \u001b[0;32mand\u001b[0m \u001b[0mself\u001b[0m\u001b[0;34m.\u001b[0m\u001b[0mndim\u001b[0m \u001b[0;32mand\u001b[0m \u001b[0mlen\u001b[0m\u001b[0;34m(\u001b[0m\u001b[0mself\u001b[0m\u001b[0;34m.\u001b[0m\u001b[0mmgr_locs\u001b[0m\u001b[0;34m)\u001b[0m \u001b[0;34m!=\u001b[0m \u001b[0mlen\u001b[0m\u001b[0;34m(\u001b[0m\u001b[0mself\u001b[0m\u001b[0;34m.\u001b[0m\u001b[0mvalues\u001b[0m\u001b[0;34m)\u001b[0m\u001b[0;34m:\u001b[0m\u001b[0;34m\u001b[0m\u001b[0;34m\u001b[0m\u001b[0m\n\u001b[0;32m--> 130\u001b[0;31m             raise ValueError(\n\u001b[0m\u001b[1;32m    131\u001b[0m                 \u001b[0;34mf\"Wrong number of items passed {len(self.values)}, \"\u001b[0m\u001b[0;34m\u001b[0m\u001b[0;34m\u001b[0m\u001b[0m\n",
      "\u001b[0;31mValueError\u001b[0m: Wrong number of items passed 12, placement implies 61",
      "\nDuring handling of the above exception, another exception occurred:\n",
      "\u001b[0;31mValueError\u001b[0m                                Traceback (most recent call last)",
      "\u001b[0;32m<ipython-input-22-38dcc02c4e44>\u001b[0m in \u001b[0;36m<module>\u001b[0;34m\u001b[0m\n\u001b[1;32m      4\u001b[0m         \u001b[0mknn_cols\u001b[0m\u001b[0;34m.\u001b[0m\u001b[0mremove\u001b[0m\u001b[0;34m(\u001b[0m\u001b[0mc\u001b[0m\u001b[0;34m)\u001b[0m\u001b[0;34m\u001b[0m\u001b[0;34m\u001b[0m\u001b[0m\n\u001b[1;32m      5\u001b[0m \u001b[0;34m\u001b[0m\u001b[0m\n\u001b[0;32m----> 6\u001b[0;31m \u001b[0mX_train_scaled\u001b[0m \u001b[0;34m=\u001b[0m \u001b[0mpd\u001b[0m\u001b[0;34m.\u001b[0m\u001b[0mDataFrame\u001b[0m\u001b[0;34m(\u001b[0m\u001b[0mX_train_scaled\u001b[0m\u001b[0;34m,\u001b[0m \u001b[0mcolumns\u001b[0m\u001b[0;34m=\u001b[0m\u001b[0mknn_cols\u001b[0m\u001b[0;34m)\u001b[0m\u001b[0;34m\u001b[0m\u001b[0;34m\u001b[0m\u001b[0m\n\u001b[0m\u001b[1;32m      7\u001b[0m \u001b[0mX_test_scaled\u001b[0m \u001b[0;34m=\u001b[0m \u001b[0mpd\u001b[0m\u001b[0;34m.\u001b[0m\u001b[0mDataFrame\u001b[0m\u001b[0;34m(\u001b[0m\u001b[0mX_test_scaled\u001b[0m\u001b[0;34m,\u001b[0m \u001b[0mcolumns\u001b[0m\u001b[0;34m=\u001b[0m\u001b[0mknn_cols\u001b[0m\u001b[0;34m)\u001b[0m\u001b[0;34m\u001b[0m\u001b[0;34m\u001b[0m\u001b[0m\n\u001b[1;32m      8\u001b[0m \u001b[0;34m\u001b[0m\u001b[0m\n",
      "\u001b[0;32m~/.virtualenvs/baseball/lib/python3.8/site-packages/pandas/core/frame.py\u001b[0m in \u001b[0;36m__init__\u001b[0;34m(self, data, index, columns, dtype, copy)\u001b[0m\n\u001b[1;32m    494\u001b[0m                 \u001b[0mmgr\u001b[0m \u001b[0;34m=\u001b[0m \u001b[0minit_dict\u001b[0m\u001b[0;34m(\u001b[0m\u001b[0;34m{\u001b[0m\u001b[0mdata\u001b[0m\u001b[0;34m.\u001b[0m\u001b[0mname\u001b[0m\u001b[0;34m:\u001b[0m \u001b[0mdata\u001b[0m\u001b[0;34m}\u001b[0m\u001b[0;34m,\u001b[0m \u001b[0mindex\u001b[0m\u001b[0;34m,\u001b[0m \u001b[0mcolumns\u001b[0m\u001b[0;34m,\u001b[0m \u001b[0mdtype\u001b[0m\u001b[0;34m=\u001b[0m\u001b[0mdtype\u001b[0m\u001b[0;34m)\u001b[0m\u001b[0;34m\u001b[0m\u001b[0;34m\u001b[0m\u001b[0m\n\u001b[1;32m    495\u001b[0m             \u001b[0;32melse\u001b[0m\u001b[0;34m:\u001b[0m\u001b[0;34m\u001b[0m\u001b[0;34m\u001b[0m\u001b[0m\n\u001b[0;32m--> 496\u001b[0;31m                 \u001b[0mmgr\u001b[0m \u001b[0;34m=\u001b[0m \u001b[0minit_ndarray\u001b[0m\u001b[0;34m(\u001b[0m\u001b[0mdata\u001b[0m\u001b[0;34m,\u001b[0m \u001b[0mindex\u001b[0m\u001b[0;34m,\u001b[0m \u001b[0mcolumns\u001b[0m\u001b[0;34m,\u001b[0m \u001b[0mdtype\u001b[0m\u001b[0;34m=\u001b[0m\u001b[0mdtype\u001b[0m\u001b[0;34m,\u001b[0m \u001b[0mcopy\u001b[0m\u001b[0;34m=\u001b[0m\u001b[0mcopy\u001b[0m\u001b[0;34m)\u001b[0m\u001b[0;34m\u001b[0m\u001b[0;34m\u001b[0m\u001b[0m\n\u001b[0m\u001b[1;32m    497\u001b[0m \u001b[0;34m\u001b[0m\u001b[0m\n\u001b[1;32m    498\u001b[0m         \u001b[0;31m# For data is list-like, or Iterable (will consume into list)\u001b[0m\u001b[0;34m\u001b[0m\u001b[0;34m\u001b[0m\u001b[0;34m\u001b[0m\u001b[0m\n",
      "\u001b[0;32m~/.virtualenvs/baseball/lib/python3.8/site-packages/pandas/core/internals/construction.py\u001b[0m in \u001b[0;36minit_ndarray\u001b[0;34m(values, index, columns, dtype, copy)\u001b[0m\n\u001b[1;32m    232\u001b[0m         \u001b[0mblock_values\u001b[0m \u001b[0;34m=\u001b[0m \u001b[0;34m[\u001b[0m\u001b[0mvalues\u001b[0m\u001b[0;34m]\u001b[0m\u001b[0;34m\u001b[0m\u001b[0;34m\u001b[0m\u001b[0m\n\u001b[1;32m    233\u001b[0m \u001b[0;34m\u001b[0m\u001b[0m\n\u001b[0;32m--> 234\u001b[0;31m     \u001b[0;32mreturn\u001b[0m \u001b[0mcreate_block_manager_from_blocks\u001b[0m\u001b[0;34m(\u001b[0m\u001b[0mblock_values\u001b[0m\u001b[0;34m,\u001b[0m \u001b[0;34m[\u001b[0m\u001b[0mcolumns\u001b[0m\u001b[0;34m,\u001b[0m \u001b[0mindex\u001b[0m\u001b[0;34m]\u001b[0m\u001b[0;34m)\u001b[0m\u001b[0;34m\u001b[0m\u001b[0;34m\u001b[0m\u001b[0m\n\u001b[0m\u001b[1;32m    235\u001b[0m \u001b[0;34m\u001b[0m\u001b[0m\n\u001b[1;32m    236\u001b[0m \u001b[0;34m\u001b[0m\u001b[0m\n",
      "\u001b[0;32m~/.virtualenvs/baseball/lib/python3.8/site-packages/pandas/core/internals/managers.py\u001b[0m in \u001b[0;36mcreate_block_manager_from_blocks\u001b[0;34m(blocks, axes)\u001b[0m\n\u001b[1;32m   1637\u001b[0m         \u001b[0mblocks\u001b[0m \u001b[0;34m=\u001b[0m \u001b[0;34m[\u001b[0m\u001b[0mgetattr\u001b[0m\u001b[0;34m(\u001b[0m\u001b[0mb\u001b[0m\u001b[0;34m,\u001b[0m \u001b[0;34m\"values\"\u001b[0m\u001b[0;34m,\u001b[0m \u001b[0mb\u001b[0m\u001b[0;34m)\u001b[0m \u001b[0;32mfor\u001b[0m \u001b[0mb\u001b[0m \u001b[0;32min\u001b[0m \u001b[0mblocks\u001b[0m\u001b[0;34m]\u001b[0m\u001b[0;34m\u001b[0m\u001b[0;34m\u001b[0m\u001b[0m\n\u001b[1;32m   1638\u001b[0m         \u001b[0mtot_items\u001b[0m \u001b[0;34m=\u001b[0m \u001b[0msum\u001b[0m\u001b[0;34m(\u001b[0m\u001b[0mb\u001b[0m\u001b[0;34m.\u001b[0m\u001b[0mshape\u001b[0m\u001b[0;34m[\u001b[0m\u001b[0;36m0\u001b[0m\u001b[0;34m]\u001b[0m \u001b[0;32mfor\u001b[0m \u001b[0mb\u001b[0m \u001b[0;32min\u001b[0m \u001b[0mblocks\u001b[0m\u001b[0;34m)\u001b[0m\u001b[0;34m\u001b[0m\u001b[0;34m\u001b[0m\u001b[0m\n\u001b[0;32m-> 1639\u001b[0;31m         \u001b[0;32mraise\u001b[0m \u001b[0mconstruction_error\u001b[0m\u001b[0;34m(\u001b[0m\u001b[0mtot_items\u001b[0m\u001b[0;34m,\u001b[0m \u001b[0mblocks\u001b[0m\u001b[0;34m[\u001b[0m\u001b[0;36m0\u001b[0m\u001b[0;34m]\u001b[0m\u001b[0;34m.\u001b[0m\u001b[0mshape\u001b[0m\u001b[0;34m[\u001b[0m\u001b[0;36m1\u001b[0m\u001b[0;34m:\u001b[0m\u001b[0;34m]\u001b[0m\u001b[0;34m,\u001b[0m \u001b[0maxes\u001b[0m\u001b[0;34m,\u001b[0m \u001b[0me\u001b[0m\u001b[0;34m)\u001b[0m\u001b[0;34m\u001b[0m\u001b[0;34m\u001b[0m\u001b[0m\n\u001b[0m\u001b[1;32m   1640\u001b[0m \u001b[0;34m\u001b[0m\u001b[0m\n\u001b[1;32m   1641\u001b[0m \u001b[0;34m\u001b[0m\u001b[0m\n",
      "\u001b[0;31mValueError\u001b[0m: Shape of passed values is (37193, 12), indices imply (37193, 61)"
     ]
    }
   ],
   "source": [
    "knn_cols = list(cols).copy()\n",
    "for c in ['home_team', 'away_team', 'home_win']:\n",
    "    if c in knn_cols:\n",
    "        knn_cols.remove(c)\n",
    "\n",
    "X_train_scaled = pd.DataFrame(X_train_scaled, columns=knn_cols)\n",
    "X_test_scaled = pd.DataFrame(X_test_scaled, columns=knn_cols)\n",
    "\n",
    "# train_df_scaled = X_train_scaled.copy()\n",
    "# train_df_scaled['home_win'] = y_train\n",
    "\n",
    "# test_df_scaled = X_test_scaled.copy()\n",
    "# test_df_scaled['home_win'] = y_test"
   ]
  },
  {
   "cell_type": "code",
   "execution_count": null,
   "metadata": {},
   "outputs": [],
   "source": [
    "knn_clf = KNeighborsClassifier(150)\n",
    "knn_clf.fit(X_train_scaled, y_train)\n",
    "\n",
    "knn_preds = knn_clf.predict(X_test_scaled)\n",
    "knn_proba_preds = knn_clf.predict_proba(X_test_scaled)\n",
    "\n",
    "accuracy_score(y_test, knn_preds)"
   ]
  },
  {
   "cell_type": "code",
   "execution_count": null,
   "metadata": {},
   "outputs": [],
   "source": [
    "print(classification_report(y_test, knn_preds))"
   ]
  },
  {
   "cell_type": "markdown",
   "metadata": {},
   "source": [
    "## KNN without hitting (OPS, OBP, AVG, SLG)\n",
    "\n",
    "Try training KNN with `ops_pct_diff`, `obp_pct_diff`, `avg_pct_diff` and `slg_pct_diff` removed (all hitting stats)."
   ]
  },
  {
   "cell_type": "code",
   "execution_count": null,
   "metadata": {},
   "outputs": [],
   "source": [
    "cols_to_drop = ['team_ops_pct_diff', 'team_obp_pct_diff', 'team_slg_pct_diff', 'team_avg_pct_diff']\n",
    "cols_to_drop = list(set(X_train_scaled.columns).intersection(set(cols_to_drop)))\n",
    "X_train_scaled_no_ops = X_train_scaled.drop(cols_to_drop, axis='columns')\n",
    "X_test_scaled_no_ops = X_test_scaled.drop(cols_to_drop, axis='columns')"
   ]
  },
  {
   "cell_type": "code",
   "execution_count": null,
   "metadata": {},
   "outputs": [],
   "source": [
    "knn_no_ops_clf = KNeighborsClassifier(150)\n",
    "knn_no_ops_clf.fit(X_train_scaled_no_ops, y_train)\n",
    "\n",
    "knn_no_ops_preds = knn_no_ops_clf.predict(X_test_scaled_no_ops)\n",
    "knn_no_ops_proba_preds = knn_no_ops_clf.predict_proba(X_test_scaled_no_ops)\n",
    "\n",
    "accuracy_score(y_test, knn_no_ops_preds)"
   ]
  },
  {
   "cell_type": "markdown",
   "metadata": {},
   "source": [
    "## Neural net"
   ]
  },
  {
   "cell_type": "markdown",
   "metadata": {},
   "source": [
    "### Prepare layers"
   ]
  },
  {
   "cell_type": "code",
   "execution_count": 23,
   "metadata": {},
   "outputs": [],
   "source": [
    "def get_normalization_layer(name, dataset):\n",
    "    # Create a Normalization layer for our feature.\n",
    "    normalizer = preprocessing.Normalization()\n",
    "\n",
    "    # Prepare a Dataset that only yields our feature.\n",
    "    feature_ds = dataset.map(lambda x, y: x[name])\n",
    "\n",
    "    # Learn the statistics of the data.\n",
    "    normalizer.adapt(feature_ds)\n",
    "\n",
    "    return normalizer\n",
    "\n",
    "def get_category_encoding_layer(name, dataset, dtype, max_tokens=None):\n",
    "    # Create a StringLookup layer which will turn strings into integer indices\n",
    "    if dtype == 'string':\n",
    "        index = preprocessing.StringLookup(max_tokens=max_tokens)\n",
    "    else:\n",
    "        index = preprocessing.IntegerLookup(max_values=max_tokens)\n",
    "\n",
    "    # Prepare a Dataset that only yields our feature\n",
    "    feature_ds = dataset.map(lambda x, y: x[name])\n",
    "\n",
    "    # Learn the set of possible values and assign them a fixed integer index.\n",
    "    index.adapt(feature_ds)\n",
    "    \n",
    "    if name == 'home_team':\n",
    "        print('home_team')\n",
    "        print(index.get_vocabulary())\n",
    "        \n",
    "    if name == 'away_team':\n",
    "        print('away_team')\n",
    "        print(index.get_vocabulary())\n",
    "\n",
    "    # Create a Discretization for our integer indices.\n",
    "    encoder = preprocessing.CategoryEncoding(max_tokens=index.vocab_size())\n",
    "\n",
    "    # Prepare a Dataset that only yields our feature.\n",
    "    feature_ds = feature_ds.map(index)\n",
    "\n",
    "    # Learn the space of possible indices.\n",
    "    encoder.adapt(feature_ds)\n",
    "\n",
    "    # Apply one-hot encoding to our indices. The lambda function captures the\n",
    "    # layer so we can use them, or include them in the functional model later.\n",
    "    return lambda feature: encoder(index(feature))\n",
    "\n",
    "def prep_columns(dataset, embedding_dims=10, embedding_cols=None, numeric_cols=None):\n",
    "    cont_inputs = []\n",
    "    cat_inputs = []\n",
    "    encoded_cont_features = []\n",
    "    encoded_cat_features = []\n",
    "    if isinstance(embedding_dims, int):\n",
    "        embedding_dims = [embedding_dims] * len(embedding_cols)\n",
    "    assert len(embedding_dims) == len(embedding_cols), 'embedding_dims must be an integer or a list with the same length as embedding_cols'\n",
    "\n",
    "    # Numeric features.\n",
    "    for header in numeric_cols:\n",
    "        numeric_col = tf.keras.Input(shape=(1,), name=header)\n",
    "        normalization_layer = get_normalization_layer(header, dataset)\n",
    "        encoded_numeric_col = normalization_layer(numeric_col)\n",
    "        encoded_numeric_col = tf.keras.layers.Dropout(0.1)(encoded_numeric_col)\n",
    "        cont_inputs.append(numeric_col)\n",
    "        encoded_cont_features.append(encoded_numeric_col)\n",
    "\n",
    "    # Home and away teams\n",
    "    for i, header in enumerate(['home_team', 'away_team']):\n",
    "        categorical_col = tf.keras.Input(shape=(1,), name=header, dtype='int64')\n",
    "        encoded_categorical_col = tf.keras.layers.Embedding(30, embedding_dims[i], name=f'{header}_embedding')(categorical_col)\n",
    "        encoded_categorical_col = tf.keras.layers.Flatten()(encoded_categorical_col)\n",
    "        cat_inputs.append(categorical_col)\n",
    "        encoded_cat_features.append(encoded_categorical_col)\n",
    "        \n",
    "    # Categorical features encoded as ints.\n",
    "    encoded_embedding_cols = embedding_cols.copy()\n",
    "    encoded_embedding_cols.remove('home_team')\n",
    "    encoded_embedding_cols.remove('away_team')\n",
    "    for i, header in enumerate(encoded_embedding_cols):\n",
    "        categorical_col = tf.keras.Input(shape=(1,), name=header, dtype='int64')\n",
    "        encoding_layer = get_category_encoding_layer(header, dataset, \n",
    "                                                     dtype='int', \n",
    "                                                     max_tokens=20)\n",
    "        encoded_categorical_col = encoding_layer(categorical_col)\n",
    "        encoded_categorical_col = tf.keras.layers.Embedding(20, 5, name=f'{header}_embedding')(encoded_categorical_col)\n",
    "        encoded_categorical_col = tf.keras.layers.Flatten()(encoded_categorical_col)\n",
    "        cat_inputs.append(categorical_col)\n",
    "        encoded_cat_features.append(encoded_categorical_col)\n",
    "        \n",
    "    all_inputs = cont_inputs + cat_inputs\n",
    "        \n",
    "    return all_inputs, encoded_cont_features, encoded_cat_features"
   ]
  },
  {
   "cell_type": "markdown",
   "metadata": {},
   "source": [
    "### Make tensorflow dataset from data"
   ]
  },
  {
   "cell_type": "code",
   "execution_count": 24,
   "metadata": {},
   "outputs": [],
   "source": [
    "def load_ds(df):\n",
    "    cols_to_drop = ['home_pitcher', 'away_pitcher', 'date']\n",
    "    cols_to_drop = list(set(df.columns).intersection(set(cols_to_drop)))\n",
    "    df = df.drop(cols_to_drop, axis='columns')\n",
    "    \n",
    "    embedding_cols = ['home_team', 'away_team', 'Y', 'M']\n",
    "    numeric_cols = list(set(df.columns) - set(embedding_cols))\n",
    "    numeric_cols.remove('home_win')\n",
    "    assert set(numeric_cols).intersection(set(embedding_cols)) == set()\n",
    "    assert len(embedding_cols) + len(numeric_cols) + 1 == len(df.columns)\n",
    "    \n",
    "    df = fill_na_inf(df)\n",
    "            \n",
    "    le = LabelEncoder()\n",
    "    df['away_team'] = le.fit_transform(df['away_team'])\n",
    "    df['home_team'] = le.transform(df['home_team'])\n",
    "    \n",
    "    for c in embedding_cols:\n",
    "        df[c] = df[c].astype(int)\n",
    "        \n",
    "    assert df.isna().sum().sum() == 0\n",
    "    \n",
    "    y = df.pop('home_win')\n",
    "    y = y.astype(int)\n",
    "    X = df\n",
    "    \n",
    "    tf_ds = tf.data.Dataset.from_tensor_slices((dict(X), y)).batch(128)\n",
    "    return tf_ds, df, le, embedding_cols, numeric_cols"
   ]
  },
  {
   "cell_type": "code",
   "execution_count": 25,
   "metadata": {},
   "outputs": [],
   "source": [
    "train_ds, tf_train_df, le, embedding_cols, numeric_cols = load_ds(train_df_nn)\n",
    "test_ds, tf_test_df, _, _, _ = load_ds(test_df_nn)"
   ]
  },
  {
   "cell_type": "code",
   "execution_count": 26,
   "metadata": {},
   "outputs": [],
   "source": [
    "all_inputs, encoded_cont_features, encoded_cat_features = prep_columns(train_ds,\n",
    "                                                                       10,\n",
    "                                                                       embedding_cols, \n",
    "                                                                       numeric_cols)"
   ]
  },
  {
   "cell_type": "markdown",
   "metadata": {},
   "source": [
    "### Model"
   ]
  },
  {
   "cell_type": "code",
   "execution_count": 27,
   "metadata": {},
   "outputs": [],
   "source": [
    "x = concatenate(encoded_cat_features + encoded_cont_features)\n",
    "x = Dense(32, activation=\"relu\")(x)\n",
    "x = BatchNormalization()(x)\n",
    "x = Dropout(0.2)(x)\n",
    "x = Dense(32, activation=\"relu\")(x)\n",
    "x = BatchNormalization()(x)\n",
    "x = Dropout(0.1)(x)\n",
    "output = Dense(1)(x)\n",
    "try:\n",
    "    del model\n",
    "except NameError:\n",
    "    pass\n",
    "model = tf.keras.Model(all_inputs, output)\n",
    "model.compile(optimizer='adam',\n",
    "              loss=tf.keras.losses.BinaryCrossentropy(from_logits=True),\n",
    "              metrics=[\"accuracy\"])"
   ]
  },
  {
   "cell_type": "code",
   "execution_count": 28,
   "metadata": {},
   "outputs": [
    {
     "name": "stdout",
     "output_type": "stream",
     "text": [
      "Epoch 1/30\n",
      "291/291 [==============================] - 2s 4ms/step - loss: 0.7342 - accuracy: 0.5545 - val_loss: 0.6648 - val_accuracy: 0.5139\n",
      "Epoch 2/30\n",
      "291/291 [==============================] - 1s 4ms/step - loss: 0.6675 - accuracy: 0.5697 - val_loss: 0.6500 - val_accuracy: 0.5750\n",
      "Epoch 3/30\n",
      "291/291 [==============================] - 1s 4ms/step - loss: 0.6579 - accuracy: 0.5741 - val_loss: 0.6479 - val_accuracy: 0.5840\n",
      "Epoch 4/30\n",
      "291/291 [==============================] - 1s 3ms/step - loss: 0.6539 - accuracy: 0.5769 - val_loss: 0.6457 - val_accuracy: 0.5893\n",
      "Epoch 5/30\n",
      "291/291 [==============================] - 1s 3ms/step - loss: 0.6509 - accuracy: 0.5791 - val_loss: 0.6452 - val_accuracy: 0.5896\n",
      "Epoch 6/30\n",
      "291/291 [==============================] - 1s 4ms/step - loss: 0.6480 - accuracy: 0.5834 - val_loss: 0.6452 - val_accuracy: 0.5916\n",
      "Epoch 7/30\n",
      "291/291 [==============================] - 1s 3ms/step - loss: 0.6470 - accuracy: 0.5839 - val_loss: 0.6457 - val_accuracy: 0.5871\n",
      "Epoch 8/30\n",
      "291/291 [==============================] - 1s 3ms/step - loss: 0.6456 - accuracy: 0.5856 - val_loss: 0.6461 - val_accuracy: 0.5871\n",
      "Epoch 9/30\n",
      "291/291 [==============================] - 1s 3ms/step - loss: 0.6446 - accuracy: 0.5876 - val_loss: 0.6460 - val_accuracy: 0.5830\n",
      "Epoch 10/30\n",
      "291/291 [==============================] - 1s 4ms/step - loss: 0.6449 - accuracy: 0.5871 - val_loss: 0.6465 - val_accuracy: 0.5841\n",
      "Epoch 11/30\n",
      "291/291 [==============================] - 1s 3ms/step - loss: 0.6441 - accuracy: 0.5895 - val_loss: 0.6464 - val_accuracy: 0.5861\n",
      "Epoch 12/30\n",
      "291/291 [==============================] - 1s 3ms/step - loss: 0.6438 - accuracy: 0.5854 - val_loss: 0.6478 - val_accuracy: 0.5752\n",
      "Epoch 13/30\n",
      "291/291 [==============================] - 1s 3ms/step - loss: 0.6455 - accuracy: 0.5860 - val_loss: 0.6482 - val_accuracy: 0.5827\n",
      "Epoch 14/30\n",
      "291/291 [==============================] - 1s 3ms/step - loss: 0.6426 - accuracy: 0.5903 - val_loss: 0.6479 - val_accuracy: 0.5848\n",
      "Epoch 15/30\n",
      "291/291 [==============================] - 1s 4ms/step - loss: 0.6435 - accuracy: 0.5900 - val_loss: 0.6477 - val_accuracy: 0.5864\n",
      "Epoch 16/30\n",
      "291/291 [==============================] - 1s 4ms/step - loss: 0.6430 - accuracy: 0.5915 - val_loss: 0.6484 - val_accuracy: 0.5827\n",
      "Epoch 17/30\n",
      "291/291 [==============================] - 1s 4ms/step - loss: 0.6424 - accuracy: 0.5893 - val_loss: 0.6487 - val_accuracy: 0.5832\n",
      "Epoch 18/30\n",
      "291/291 [==============================] - 1s 4ms/step - loss: 0.6426 - accuracy: 0.5919 - val_loss: 0.6478 - val_accuracy: 0.5886\n",
      "Epoch 19/30\n",
      "291/291 [==============================] - 1s 4ms/step - loss: 0.6422 - accuracy: 0.5943 - val_loss: 0.6484 - val_accuracy: 0.5841\n",
      "Epoch 20/30\n",
      "291/291 [==============================] - 1s 3ms/step - loss: 0.6400 - accuracy: 0.5965 - val_loss: 0.6479 - val_accuracy: 0.5874\n",
      "Epoch 21/30\n",
      "291/291 [==============================] - 1s 3ms/step - loss: 0.6398 - accuracy: 0.5952 - val_loss: 0.6487 - val_accuracy: 0.5843\n",
      "Epoch 22/30\n",
      "291/291 [==============================] - 1s 3ms/step - loss: 0.6402 - accuracy: 0.5962 - val_loss: 0.6489 - val_accuracy: 0.5760\n",
      "Epoch 23/30\n",
      "291/291 [==============================] - 1s 3ms/step - loss: 0.6394 - accuracy: 0.5961 - val_loss: 0.6493 - val_accuracy: 0.5792\n",
      "Epoch 24/30\n",
      "291/291 [==============================] - 1s 3ms/step - loss: 0.6400 - accuracy: 0.5933 - val_loss: 0.6490 - val_accuracy: 0.5777\n",
      "Epoch 25/30\n",
      "291/291 [==============================] - 1s 4ms/step - loss: 0.6390 - accuracy: 0.5945 - val_loss: 0.6500 - val_accuracy: 0.5855\n",
      "Epoch 26/30\n",
      "291/291 [==============================] - 1s 3ms/step - loss: 0.6389 - accuracy: 0.5957 - val_loss: 0.6497 - val_accuracy: 0.5820\n",
      "Epoch 27/30\n",
      "291/291 [==============================] - 1s 3ms/step - loss: 0.6368 - accuracy: 0.5987 - val_loss: 0.6508 - val_accuracy: 0.5854\n",
      "Epoch 28/30\n",
      "291/291 [==============================] - 1s 4ms/step - loss: 0.6365 - accuracy: 0.6006 - val_loss: 0.6503 - val_accuracy: 0.5836\n",
      "Epoch 29/30\n",
      "291/291 [==============================] - 1s 3ms/step - loss: 0.6373 - accuracy: 0.5996 - val_loss: 0.6503 - val_accuracy: 0.5856\n",
      "Epoch 30/30\n",
      "291/291 [==============================] - 1s 3ms/step - loss: 0.6363 - accuracy: 0.6011 - val_loss: 0.6519 - val_accuracy: 0.5809\n"
     ]
    },
    {
     "data": {
      "text/plain": [
       "<tensorflow.python.keras.callbacks.History at 0x15942b580>"
      ]
     },
     "execution_count": 28,
     "metadata": {},
     "output_type": "execute_result"
    }
   ],
   "source": [
    "model.fit(train_ds, epochs=30, validation_data=test_ds)"
   ]
  },
  {
   "cell_type": "code",
   "execution_count": 29,
   "metadata": {},
   "outputs": [
    {
     "name": "stdout",
     "output_type": "stream",
     "text": [
      "78/78 [==============================] - 0s 3ms/step - loss: 0.6519 - accuracy: 0.5809\n",
      "Test accuracy = 58.09%\n"
     ]
    }
   ],
   "source": [
    "loss, acc = model.evaluate(test_ds)\n",
    "print(f'Test accuracy = {100*acc:.2f}%')"
   ]
  },
  {
   "cell_type": "code",
   "execution_count": 30,
   "metadata": {},
   "outputs": [],
   "source": [
    "nn_logit_preds = model.predict(test_ds).squeeze()\n",
    "nn_softmax_preds = tf.nn.sigmoid(nn_logit_preds)\n",
    "nn_preds = tf.round(nn_softmax_preds).numpy()"
   ]
  },
  {
   "cell_type": "markdown",
   "metadata": {},
   "source": [
    "## Monthly accuracy\n",
    "\n",
    "Compare the monthly accuracy for all models."
   ]
  },
  {
   "cell_type": "code",
   "execution_count": null,
   "metadata": {},
   "outputs": [],
   "source": [
    "def monthly_accuracy(model, df, is_tf=False):\n",
    "    monthly_acc = []\n",
    "    months_list = np.sort(df['M'].unique())\n",
    "    for months in months_list:\n",
    "        test_month = df[df['M'] == months]\n",
    "\n",
    "        y_test_month = test_month.pop('home_win')\n",
    "        X_test_month = test_month\n",
    "\n",
    "        if is_tf:\n",
    "            tf_ds = tf.data.Dataset.from_tensor_slices((dict(X_test_month), y_test_month)).batch(128)\n",
    "            test_logits = model.predict(tf_ds).squeeze()\n",
    "            pred = tf.round(tf.nn.sigmoid(test_logits)).numpy()\n",
    "        else:\n",
    "            pred = model.predict(X_test_month)\n",
    "        acc = accuracy_score(y_test_month, pred)\n",
    "\n",
    "        monthly_acc.append(acc)\n",
    "\n",
    "    monthly_acc = pd.DataFrame(monthly_acc)\n",
    "    \n",
    "    return monthly_acc"
   ]
  },
  {
   "cell_type": "code",
   "execution_count": null,
   "metadata": {},
   "outputs": [],
   "source": [
    "xgb_month = monthly_accuracy(xgb_clf, test_df)\n",
    "knn_month = monthly_accuracy(knn_clf, test_df_scaled)\n",
    "knn_no_ops_month = monthly_accuracy(knn_no_ops_clf, test_df_scaled.drop('ops_pct_diff', axis=1))\n",
    "tf_test_df['home_win'] = y_test\n",
    "nn_month = monthly_accuracy(model, tf_test_df, is_tf=True)"
   ]
  },
  {
   "cell_type": "code",
   "execution_count": null,
   "metadata": {},
   "outputs": [],
   "source": [
    "plt.figure(figsize=(12,8))\n",
    "plt.plot(xgb_month[0]*100, label='XGB')\n",
    "plt.plot(knn_month[0]*100, label='KNN')\n",
    "plt.plot(nn_month[0]*100, label='NN')\n",
    "plt.ylabel('Accuracy', fontsize=16)\n",
    "plt.xticks(range(8), ['March','April', 'May', 'June','July', 'August', 'September', 'October'])\n",
    "plt.legend();"
   ]
  },
  {
   "cell_type": "markdown",
   "metadata": {},
   "source": [
    "## Negative stats\n",
    "\n",
    "Consider stats like `ops_pct_diff` where a positive value is a strong indicator of a win for the home team. In the case where these stats are _negative_ and yet the home team still wins (or positive but the away team wins), how is each model performing?"
   ]
  },
  {
   "cell_type": "code",
   "execution_count": null,
   "metadata": {},
   "outputs": [],
   "source": [
    "tf_test_df['home_win'] = y_test"
   ]
  },
  {
   "cell_type": "code",
   "execution_count": null,
   "metadata": {},
   "outputs": [],
   "source": [
    "tf_test_df.head()"
   ]
  },
  {
   "cell_type": "code",
   "execution_count": null,
   "metadata": {},
   "outputs": [],
   "source": [
    "def negative_stats_acc(df, col, reverse=False):\n",
    "    if not reverse:\n",
    "        unusual_df = df[((df[col] > 0) & (df['home_win'] == 0)) | ((df[col] < 0) & (df['home_win'] == 1))]\n",
    "    else:\n",
    "        unusual_df = df[((df[col] < 0) & (df['home_win'] == 0)) | ((df[col] > 0) & (df['home_win'] == 1))]\n",
    "    \n",
    "    xgb_acc = (unusual_df['xgb_pred'] == unusual_df['home_win']).sum() / unusual_df.shape[0]\n",
    "    nn_acc = (unusual_df['nn_pred'] == unusual_df['home_win']).sum() / unusual_df.shape[0]\n",
    "    knn_acc = (unusual_df['knn_pred'] == unusual_df['home_win']).sum() / unusual_df.shape[0]\n",
    "    knn_no_ops_acc = (unusual_df['knn_no_ops_pred'] == unusual_df['home_win']).sum() / unusual_df.shape[0]\n",
    "    \n",
    "    print(f'{\"=\"*10} {col} {\"=\"*10}')\n",
    "    print(f'XGB acc = {100*xgb_acc:.2f}%')\n",
    "    print(f'NN acc = {100*nn_acc:.2f}%')\n",
    "    print(f'KNN acc = {100*knn_acc:.2f}%')\n",
    "    print(f'KNN (no OPS) acc = {100*knn_no_ops_acc:.2f}%')"
   ]
  },
  {
   "cell_type": "code",
   "execution_count": null,
   "metadata": {},
   "outputs": [],
   "source": [
    "reverse_cols = ['team_ERA_pct_diff', 'pitcher_ERA_pct_diff', 'team_WHIP_pct_diff',\n",
    "                'pitcher_WHIP_pct_diff', 'team_Rank_pct_diff', 'Rank_pct_diff']\n",
    "pct_diff_cols = [c for c in tf_test_df.columns if c.endswith('_pct_diff')]"
   ]
  },
  {
   "cell_type": "code",
   "execution_count": null,
   "metadata": {},
   "outputs": [],
   "source": [
    "for c in reverse_cols:\n",
    "    pct_diff_cols.remove(c)"
   ]
  },
  {
   "cell_type": "code",
   "execution_count": null,
   "metadata": {
    "scrolled": true
   },
   "outputs": [],
   "source": [
    "for c in pct_diff_cols:\n",
    "    negative_stats_acc(tf_test_df, c)"
   ]
  },
  {
   "cell_type": "code",
   "execution_count": null,
   "metadata": {
    "scrolled": true
   },
   "outputs": [],
   "source": [
    "for c in reverse_cols:\n",
    "    negative_stats_acc(tf_test_df, c, reverse=True)"
   ]
  },
  {
   "cell_type": "markdown",
   "metadata": {},
   "source": [
    "## Ensembling"
   ]
  },
  {
   "cell_type": "code",
   "execution_count": null,
   "metadata": {},
   "outputs": [],
   "source": [
    "assert xgb_top10_preds.shape == knn_preds.shape == nn_preds.shape == knn_no_ops_preds.shape == y_test.shape"
   ]
  },
  {
   "cell_type": "code",
   "execution_count": null,
   "metadata": {},
   "outputs": [],
   "source": [
    "print('Individual model accuracy:')\n",
    "print(f'XGB: {100*accuracy_score(y_test, xgb_preds):.2f}%')\n",
    "print(f'KNN: {100*accuracy_score(y_test, knn_preds):.2f}%')\n",
    "print(f'KNN (no hitting): {100*accuracy_score(y_test, knn_no_ops_preds):.2f}%')\n",
    "print(f'NN: {100*accuracy_score(y_test, nn_preds):.2f}%')       "
   ]
  },
  {
   "cell_type": "markdown",
   "metadata": {},
   "source": [
    "### Correlation between models"
   ]
  },
  {
   "cell_type": "code",
   "execution_count": null,
   "metadata": {},
   "outputs": [],
   "source": [
    "from itertools import combinations\n",
    "\n",
    "preds_names = ['XGB (all)', 'XGB (top 10)', 'KNN (top 10)', 'KNN (top 10, no hitting)', 'NN (top 10)']\n",
    "preds_list = [xgb_preds, xgb_top10_preds, knn_preds, knn_no_ops_preds, nn_preds]\n",
    "\n",
    "for idx1, idx2 in combinations(range(len(preds_list)), 2):\n",
    "    model1 = preds_list[idx1]\n",
    "    model2 = preds_list[idx2]\n",
    "    disagree = np.sum(model1 != model2)\n",
    "    print(f'{preds_names[idx1]} <-> {preds_names[idx2]}: {disagree} disagreed on')\n",
    "    \n",
    "    num_correct = 0\n",
    "    for i in range(y_test.shape[0]):\n",
    "        if y_test.values[i] in [model1[i], model2[i]]:\n",
    "            num_correct += 1\n",
    "\n",
    "    print(f'Maximum possible accuracy = {100*num_correct / y_test.shape[0]:.2f}%')\n",
    "    print('='*40)"
   ]
  },
  {
   "cell_type": "code",
   "execution_count": null,
   "metadata": {},
   "outputs": [],
   "source": [
    "for idx1, idx2, idx3 in combinations(range(len(preds_list)), 3):\n",
    "    model1 = preds_list[idx1]\n",
    "    model2 = preds_list[idx2]\n",
    "    model3 = preds_list[idx3]\n",
    "\n",
    "    num_correct = 0\n",
    "    for i in range(y_test.shape[0]):\n",
    "        if y_test.values[i] in [model1[i], model2[i], model3[i]]:\n",
    "            num_correct += 1\n",
    "    print(f'{preds_names[idx1]}, {preds_names[idx2]}, {preds_names[idx3]}')\n",
    "    print(f'Maximum possible accuracy = {100*num_correct / y_test.shape[0]:.2f}%')\n",
    "    print('='*40)"
   ]
  },
  {
   "cell_type": "markdown",
   "metadata": {},
   "source": [
    "### Maximum possible accuracy\n",
    "\n",
    "If we could always pick the \"right\" model for each row, what is the best possible test accuracy we could get from these three models?"
   ]
  },
  {
   "cell_type": "code",
   "execution_count": null,
   "metadata": {},
   "outputs": [],
   "source": [
    "num_correct = 0\n",
    "\n",
    "for i in range(y_test.shape[0]):\n",
    "    if y_test.values[i] in [xgb_top10_preds[i], knn_no_ops_preds[i], nn_preds[i]]:\n",
    "        num_correct += 1\n",
    "\n",
    "print(f'Maximum possible accuracy = {100*num_correct / y_test.shape[0]:.2f}%')"
   ]
  },
  {
   "cell_type": "markdown",
   "metadata": {},
   "source": [
    "### Majority voting\n",
    "\n",
    "Just pick the prediction that the majority of the models voted for."
   ]
  },
  {
   "cell_type": "code",
   "execution_count": null,
   "metadata": {},
   "outputs": [],
   "source": [
    "num_correct = 0\n",
    "\n",
    "for i in range(y_test.shape[0]):\n",
    "    # Just add them up. If at least two models voted 1, then choose 1. Otherwise choose 0.\n",
    "    majority_vote = np.sum([xgb_top10_preds[i], knn_no_ops_preds[i], nn_preds[i]])\n",
    "    if majority_vote > 1:\n",
    "        majority_vote = 1\n",
    "    else:\n",
    "        majority_vote = 0\n",
    "    if y_test.values[i] == majority_vote:\n",
    "        num_correct += 1\n",
    "\n",
    "print(f'Majority voting accuracy = {100*num_correct / y_test.shape[0]:.2f}%')"
   ]
  },
  {
   "cell_type": "markdown",
   "metadata": {},
   "source": [
    "### Number of positive columns\n",
    "Choose a KNN when the number of positive columns (from list below) is < 5, and the NN when it's greater than 5. This work/idea comes from the `Comparing model predictions` notebook."
   ]
  },
  {
   "cell_type": "code",
   "execution_count": null,
   "metadata": {},
   "outputs": [],
   "source": [
    "pct_diff_cols = [c for c in cols if c.endswith('_pct_diff')]\n",
    "pct_diff_reverse_cols = ['pitcher_WHIP_pct_diff', 'team_Rank_pct_diff', \n",
    "                         'team_WHIP_pct_diff', 'team_ERA_pct_diff', 'pitcher_ERA_pct_diff',\n",
    "                         'team_RA_pct_diff']\n",
    "pct_diff_reverse_cols = list(set(pct_diff_cols).intersection(pct_diff_reverse_cols))\n",
    "\n",
    "for c in pct_diff_reverse_cols:\n",
    "    pct_diff_cols.remove(c)"
   ]
  },
  {
   "cell_type": "code",
   "execution_count": null,
   "metadata": {},
   "outputs": [],
   "source": [
    "num_correct = 0\n",
    "\n",
    "for i in range(y_test.shape[0]):\n",
    "    # Just add them up. If at least two models voted 1, then choose 1. Otherwise choose 0.\n",
    "    vote = np.sum([knn_no_ops_preds[i], nn_preds[i]])\n",
    "    if vote == 2:\n",
    "        vote = 1\n",
    "    elif vote == 0:\n",
    "        vote = 0\n",
    "    elif (test_df.iloc[i][pct_diff_cols] > 0).sum() >= 5:\n",
    "        vote = knn_no_ops_preds[i]\n",
    "    else:\n",
    "        vote = nn_preds[i]\n",
    "        \n",
    "    if y_test.values[i] == vote:\n",
    "        num_correct += 1\n",
    "\n",
    "print(f'Majority voting accuracy = {100*num_correct / y_test.shape[0]:.2f}%')"
   ]
  },
  {
   "cell_type": "code",
   "execution_count": null,
   "metadata": {},
   "outputs": [],
   "source": [
    "num_correct = 0\n",
    "\n",
    "for i in range(y_test.shape[0]):\n",
    "    # Just add them up. If at least two models voted 1, then choose 1. Otherwise choose 0.\n",
    "    vote = np.sum([knn_no_ops_preds[i], nn_preds[i]])\n",
    "    if vote == 2:\n",
    "        vote = 1\n",
    "    elif vote == 0:\n",
    "        vote = 0\n",
    "    elif (test_df.iloc[i][pct_diff_reverse_cols] < 0).sum() >= 4:\n",
    "        vote = knn_no_ops_preds[i]\n",
    "    else:\n",
    "        vote = nn_preds[i]\n",
    "        \n",
    "    if y_test.values[i] == vote:\n",
    "        num_correct += 1\n",
    "\n",
    "print(f'Majority voting accuracy = {100*num_correct / y_test.shape[0]:.2f}%')"
   ]
  },
  {
   "cell_type": "code",
   "execution_count": null,
   "metadata": {},
   "outputs": [],
   "source": [
    "num_correct = 0\n",
    "\n",
    "for i in range(y_test.shape[0]):\n",
    "    # Just add them up. If at least two models voted 1, then choose 1. Otherwise choose 0.\n",
    "    vote = np.sum([knn_no_ops_preds[i], nn_preds[i]])\n",
    "    if vote == 2:\n",
    "        vote = 1\n",
    "    elif vote == 0:\n",
    "        vote = 0\n",
    "    elif test_df.iloc[i]['team_bayes_pct_diff'] > 0:\n",
    "        vote = nn_preds[i]\n",
    "    else:\n",
    "        vote = knn_no_ops_preds[i]\n",
    "        \n",
    "    if y_test.values[i] == vote:\n",
    "        num_correct += 1\n",
    "\n",
    "print(f'Majority voting accuracy = {100*num_correct / y_test.shape[0]:.2f}%')"
   ]
  },
  {
   "cell_type": "markdown",
   "metadata": {},
   "source": [
    "## Recording predictions\n",
    "\n",
    "Save a dataframe with the predictions for each model."
   ]
  },
  {
   "cell_type": "code",
   "execution_count": 481,
   "metadata": {},
   "outputs": [
    {
     "data": {
      "text/html": [
       "<div>\n",
       "<style scoped>\n",
       "    .dataframe tbody tr th:only-of-type {\n",
       "        vertical-align: middle;\n",
       "    }\n",
       "\n",
       "    .dataframe tbody tr th {\n",
       "        vertical-align: top;\n",
       "    }\n",
       "\n",
       "    .dataframe thead th {\n",
       "        text-align: right;\n",
       "    }\n",
       "</style>\n",
       "<table border=\"1\" class=\"dataframe\">\n",
       "  <thead>\n",
       "    <tr style=\"text-align: right;\">\n",
       "      <th></th>\n",
       "      <th>team_ops_pct_diff</th>\n",
       "      <th>obp_diff</th>\n",
       "      <th>team_obp_pct_diff</th>\n",
       "      <th>home_Rank_offset1year</th>\n",
       "      <th>away_WHIP_offset1year</th>\n",
       "      <th>team_ERA_pct_diff</th>\n",
       "      <th>home_win_diff_bayes</th>\n",
       "      <th>home_RD</th>\n",
       "      <th>team_bayes_pct_diff</th>\n",
       "      <th>away_win_diff_bayes</th>\n",
       "      <th>...</th>\n",
       "      <th>away_pitcher_IP_avg_162games</th>\n",
       "      <th>team_Rank_pct_diff</th>\n",
       "      <th>home_pitcher_IP_avg_162games</th>\n",
       "      <th>away_RD</th>\n",
       "      <th>home_pitcher_WHIP_avg_162games</th>\n",
       "      <th>Y</th>\n",
       "      <th>M</th>\n",
       "      <th>home_win</th>\n",
       "      <th>home_team</th>\n",
       "      <th>away_team</th>\n",
       "    </tr>\n",
       "  </thead>\n",
       "  <tbody>\n",
       "    <tr>\n",
       "      <th>37193</th>\n",
       "      <td>0.001479</td>\n",
       "      <td>0.001196</td>\n",
       "      <td>0.003769</td>\n",
       "      <td>2.0</td>\n",
       "      <td>1.253927</td>\n",
       "      <td>0.089783</td>\n",
       "      <td>-0.010464</td>\n",
       "      <td>101.0</td>\n",
       "      <td>0.0</td>\n",
       "      <td>-0.010464</td>\n",
       "      <td>...</td>\n",
       "      <td>5.485714</td>\n",
       "      <td>0.50</td>\n",
       "      <td>5.480001</td>\n",
       "      <td>122.0</td>\n",
       "      <td>1.390555</td>\n",
       "      <td>2016</td>\n",
       "      <td>4.0</td>\n",
       "      <td>1.0</td>\n",
       "      <td>PIT</td>\n",
       "      <td>SLN</td>\n",
       "    </tr>\n",
       "    <tr>\n",
       "      <th>37194</th>\n",
       "      <td>-0.100639</td>\n",
       "      <td>-0.023374</td>\n",
       "      <td>-0.075552</td>\n",
       "      <td>4.0</td>\n",
       "      <td>1.214434</td>\n",
       "      <td>-0.018717</td>\n",
       "      <td>-0.010464</td>\n",
       "      <td>2.0</td>\n",
       "      <td>0.0</td>\n",
       "      <td>-0.010464</td>\n",
       "      <td>...</td>\n",
       "      <td>5.485714</td>\n",
       "      <td>0.75</td>\n",
       "      <td>5.480001</td>\n",
       "      <td>221.0</td>\n",
       "      <td>1.390555</td>\n",
       "      <td>2016</td>\n",
       "      <td>4.0</td>\n",
       "      <td>0.0</td>\n",
       "      <td>TBA</td>\n",
       "      <td>TOR</td>\n",
       "    </tr>\n",
       "    <tr>\n",
       "      <th>37195</th>\n",
       "      <td>0.028053</td>\n",
       "      <td>0.009820</td>\n",
       "      <td>0.030927</td>\n",
       "      <td>1.0</td>\n",
       "      <td>1.179045</td>\n",
       "      <td>0.077540</td>\n",
       "      <td>-0.010464</td>\n",
       "      <td>83.0</td>\n",
       "      <td>0.0</td>\n",
       "      <td>-0.010464</td>\n",
       "      <td>...</td>\n",
       "      <td>5.485714</td>\n",
       "      <td>0.00</td>\n",
       "      <td>5.480001</td>\n",
       "      <td>70.0</td>\n",
       "      <td>1.390555</td>\n",
       "      <td>2016</td>\n",
       "      <td>4.0</td>\n",
       "      <td>1.0</td>\n",
       "      <td>KCA</td>\n",
       "      <td>NYN</td>\n",
       "    </tr>\n",
       "    <tr>\n",
       "      <th>37196</th>\n",
       "      <td>0.031095</td>\n",
       "      <td>0.006132</td>\n",
       "      <td>0.019876</td>\n",
       "      <td>5.0</td>\n",
       "      <td>1.320066</td>\n",
       "      <td>0.043269</td>\n",
       "      <td>-0.010464</td>\n",
       "      <td>-35.0</td>\n",
       "      <td>0.0</td>\n",
       "      <td>-0.010464</td>\n",
       "      <td>...</td>\n",
       "      <td>5.485714</td>\n",
       "      <td>0.20</td>\n",
       "      <td>5.480001</td>\n",
       "      <td>-79.0</td>\n",
       "      <td>1.390555</td>\n",
       "      <td>2016</td>\n",
       "      <td>4.0</td>\n",
       "      <td>0.0</td>\n",
       "      <td>OAK</td>\n",
       "      <td>CHA</td>\n",
       "    </tr>\n",
       "    <tr>\n",
       "      <th>37197</th>\n",
       "      <td>-0.026164</td>\n",
       "      <td>-0.014945</td>\n",
       "      <td>-0.049505</td>\n",
       "      <td>3.0</td>\n",
       "      <td>1.151872</td>\n",
       "      <td>0.147208</td>\n",
       "      <td>-0.010464</td>\n",
       "      <td>-14.0</td>\n",
       "      <td>0.0</td>\n",
       "      <td>-0.010464</td>\n",
       "      <td>...</td>\n",
       "      <td>5.485714</td>\n",
       "      <td>0.00</td>\n",
       "      <td>5.480001</td>\n",
       "      <td>81.0</td>\n",
       "      <td>1.390555</td>\n",
       "      <td>2016</td>\n",
       "      <td>4.0</td>\n",
       "      <td>0.0</td>\n",
       "      <td>ANA</td>\n",
       "      <td>CHN</td>\n",
       "    </tr>\n",
       "  </tbody>\n",
       "</table>\n",
       "<p>5 rows × 25 columns</p>\n",
       "</div>"
      ],
      "text/plain": [
       "       team_ops_pct_diff  obp_diff  team_obp_pct_diff  home_Rank_offset1year  \\\n",
       "37193           0.001479  0.001196           0.003769                    2.0   \n",
       "37194          -0.100639 -0.023374          -0.075552                    4.0   \n",
       "37195           0.028053  0.009820           0.030927                    1.0   \n",
       "37196           0.031095  0.006132           0.019876                    5.0   \n",
       "37197          -0.026164 -0.014945          -0.049505                    3.0   \n",
       "\n",
       "       away_WHIP_offset1year  team_ERA_pct_diff  home_win_diff_bayes  home_RD  \\\n",
       "37193               1.253927           0.089783            -0.010464    101.0   \n",
       "37194               1.214434          -0.018717            -0.010464      2.0   \n",
       "37195               1.179045           0.077540            -0.010464     83.0   \n",
       "37196               1.320066           0.043269            -0.010464    -35.0   \n",
       "37197               1.151872           0.147208            -0.010464    -14.0   \n",
       "\n",
       "       team_bayes_pct_diff  away_win_diff_bayes  ...  \\\n",
       "37193                  0.0            -0.010464  ...   \n",
       "37194                  0.0            -0.010464  ...   \n",
       "37195                  0.0            -0.010464  ...   \n",
       "37196                  0.0            -0.010464  ...   \n",
       "37197                  0.0            -0.010464  ...   \n",
       "\n",
       "       away_pitcher_IP_avg_162games  team_Rank_pct_diff  \\\n",
       "37193                      5.485714                0.50   \n",
       "37194                      5.485714                0.75   \n",
       "37195                      5.485714                0.00   \n",
       "37196                      5.485714                0.20   \n",
       "37197                      5.485714                0.00   \n",
       "\n",
       "       home_pitcher_IP_avg_162games  away_RD  home_pitcher_WHIP_avg_162games  \\\n",
       "37193                      5.480001    122.0                        1.390555   \n",
       "37194                      5.480001    221.0                        1.390555   \n",
       "37195                      5.480001     70.0                        1.390555   \n",
       "37196                      5.480001    -79.0                        1.390555   \n",
       "37197                      5.480001     81.0                        1.390555   \n",
       "\n",
       "          Y    M  home_win  home_team  away_team  \n",
       "37193  2016  4.0       1.0        PIT        SLN  \n",
       "37194  2016  4.0       0.0        TBA        TOR  \n",
       "37195  2016  4.0       1.0        KCA        NYN  \n",
       "37196  2016  4.0       0.0        OAK        CHA  \n",
       "37197  2016  4.0       0.0        ANA        CHN  \n",
       "\n",
       "[5 rows x 25 columns]"
      ]
     },
     "execution_count": 481,
     "metadata": {},
     "output_type": "execute_result"
    }
   ],
   "source": [
    "test_df_nn.head()"
   ]
  },
  {
   "cell_type": "code",
   "execution_count": null,
   "metadata": {},
   "outputs": [],
   "source": [
    "test_df_nn['home_team'] = le.inverse_transform(test_df_nn['home_team'])\n",
    "test_df_nn['away_team'] = le.inverse_transform(test_df_nn['away_team'])"
   ]
  },
  {
   "cell_type": "code",
   "execution_count": 483,
   "metadata": {},
   "outputs": [
    {
     "data": {
      "text/html": [
       "<div>\n",
       "<style scoped>\n",
       "    .dataframe tbody tr th:only-of-type {\n",
       "        vertical-align: middle;\n",
       "    }\n",
       "\n",
       "    .dataframe tbody tr th {\n",
       "        vertical-align: top;\n",
       "    }\n",
       "\n",
       "    .dataframe thead th {\n",
       "        text-align: right;\n",
       "    }\n",
       "</style>\n",
       "<table border=\"1\" class=\"dataframe\">\n",
       "  <thead>\n",
       "    <tr style=\"text-align: right;\">\n",
       "      <th></th>\n",
       "      <th>team_ops_pct_diff</th>\n",
       "      <th>obp_diff</th>\n",
       "      <th>team_obp_pct_diff</th>\n",
       "      <th>home_Rank_offset1year</th>\n",
       "      <th>away_WHIP_offset1year</th>\n",
       "      <th>team_ERA_pct_diff</th>\n",
       "      <th>home_win_diff_bayes</th>\n",
       "      <th>home_RD</th>\n",
       "      <th>team_bayes_pct_diff</th>\n",
       "      <th>away_win_diff_bayes</th>\n",
       "      <th>...</th>\n",
       "      <th>away_pitcher_IP_avg_162games</th>\n",
       "      <th>team_Rank_pct_diff</th>\n",
       "      <th>home_pitcher_IP_avg_162games</th>\n",
       "      <th>away_RD</th>\n",
       "      <th>home_pitcher_WHIP_avg_162games</th>\n",
       "      <th>Y</th>\n",
       "      <th>M</th>\n",
       "      <th>home_win</th>\n",
       "      <th>home_team</th>\n",
       "      <th>away_team</th>\n",
       "    </tr>\n",
       "  </thead>\n",
       "  <tbody>\n",
       "    <tr>\n",
       "      <th>37193</th>\n",
       "      <td>0.001479</td>\n",
       "      <td>0.001196</td>\n",
       "      <td>0.003769</td>\n",
       "      <td>2.0</td>\n",
       "      <td>1.253927</td>\n",
       "      <td>0.089783</td>\n",
       "      <td>-0.010464</td>\n",
       "      <td>101.0</td>\n",
       "      <td>0.0</td>\n",
       "      <td>-0.010464</td>\n",
       "      <td>...</td>\n",
       "      <td>5.485714</td>\n",
       "      <td>0.50</td>\n",
       "      <td>5.480001</td>\n",
       "      <td>122.0</td>\n",
       "      <td>1.390555</td>\n",
       "      <td>2016</td>\n",
       "      <td>4.0</td>\n",
       "      <td>1.0</td>\n",
       "      <td>PIT</td>\n",
       "      <td>SLN</td>\n",
       "    </tr>\n",
       "    <tr>\n",
       "      <th>37194</th>\n",
       "      <td>-0.100639</td>\n",
       "      <td>-0.023374</td>\n",
       "      <td>-0.075552</td>\n",
       "      <td>4.0</td>\n",
       "      <td>1.214434</td>\n",
       "      <td>-0.018717</td>\n",
       "      <td>-0.010464</td>\n",
       "      <td>2.0</td>\n",
       "      <td>0.0</td>\n",
       "      <td>-0.010464</td>\n",
       "      <td>...</td>\n",
       "      <td>5.485714</td>\n",
       "      <td>0.75</td>\n",
       "      <td>5.480001</td>\n",
       "      <td>221.0</td>\n",
       "      <td>1.390555</td>\n",
       "      <td>2016</td>\n",
       "      <td>4.0</td>\n",
       "      <td>0.0</td>\n",
       "      <td>TBA</td>\n",
       "      <td>TOR</td>\n",
       "    </tr>\n",
       "    <tr>\n",
       "      <th>37195</th>\n",
       "      <td>0.028053</td>\n",
       "      <td>0.009820</td>\n",
       "      <td>0.030927</td>\n",
       "      <td>1.0</td>\n",
       "      <td>1.179045</td>\n",
       "      <td>0.077540</td>\n",
       "      <td>-0.010464</td>\n",
       "      <td>83.0</td>\n",
       "      <td>0.0</td>\n",
       "      <td>-0.010464</td>\n",
       "      <td>...</td>\n",
       "      <td>5.485714</td>\n",
       "      <td>0.00</td>\n",
       "      <td>5.480001</td>\n",
       "      <td>70.0</td>\n",
       "      <td>1.390555</td>\n",
       "      <td>2016</td>\n",
       "      <td>4.0</td>\n",
       "      <td>1.0</td>\n",
       "      <td>KCA</td>\n",
       "      <td>NYN</td>\n",
       "    </tr>\n",
       "    <tr>\n",
       "      <th>37196</th>\n",
       "      <td>0.031095</td>\n",
       "      <td>0.006132</td>\n",
       "      <td>0.019876</td>\n",
       "      <td>5.0</td>\n",
       "      <td>1.320066</td>\n",
       "      <td>0.043269</td>\n",
       "      <td>-0.010464</td>\n",
       "      <td>-35.0</td>\n",
       "      <td>0.0</td>\n",
       "      <td>-0.010464</td>\n",
       "      <td>...</td>\n",
       "      <td>5.485714</td>\n",
       "      <td>0.20</td>\n",
       "      <td>5.480001</td>\n",
       "      <td>-79.0</td>\n",
       "      <td>1.390555</td>\n",
       "      <td>2016</td>\n",
       "      <td>4.0</td>\n",
       "      <td>0.0</td>\n",
       "      <td>OAK</td>\n",
       "      <td>CHA</td>\n",
       "    </tr>\n",
       "    <tr>\n",
       "      <th>37197</th>\n",
       "      <td>-0.026164</td>\n",
       "      <td>-0.014945</td>\n",
       "      <td>-0.049505</td>\n",
       "      <td>3.0</td>\n",
       "      <td>1.151872</td>\n",
       "      <td>0.147208</td>\n",
       "      <td>-0.010464</td>\n",
       "      <td>-14.0</td>\n",
       "      <td>0.0</td>\n",
       "      <td>-0.010464</td>\n",
       "      <td>...</td>\n",
       "      <td>5.485714</td>\n",
       "      <td>0.00</td>\n",
       "      <td>5.480001</td>\n",
       "      <td>81.0</td>\n",
       "      <td>1.390555</td>\n",
       "      <td>2016</td>\n",
       "      <td>4.0</td>\n",
       "      <td>0.0</td>\n",
       "      <td>ANA</td>\n",
       "      <td>CHN</td>\n",
       "    </tr>\n",
       "  </tbody>\n",
       "</table>\n",
       "<p>5 rows × 25 columns</p>\n",
       "</div>"
      ],
      "text/plain": [
       "       team_ops_pct_diff  obp_diff  team_obp_pct_diff  home_Rank_offset1year  \\\n",
       "37193           0.001479  0.001196           0.003769                    2.0   \n",
       "37194          -0.100639 -0.023374          -0.075552                    4.0   \n",
       "37195           0.028053  0.009820           0.030927                    1.0   \n",
       "37196           0.031095  0.006132           0.019876                    5.0   \n",
       "37197          -0.026164 -0.014945          -0.049505                    3.0   \n",
       "\n",
       "       away_WHIP_offset1year  team_ERA_pct_diff  home_win_diff_bayes  home_RD  \\\n",
       "37193               1.253927           0.089783            -0.010464    101.0   \n",
       "37194               1.214434          -0.018717            -0.010464      2.0   \n",
       "37195               1.179045           0.077540            -0.010464     83.0   \n",
       "37196               1.320066           0.043269            -0.010464    -35.0   \n",
       "37197               1.151872           0.147208            -0.010464    -14.0   \n",
       "\n",
       "       team_bayes_pct_diff  away_win_diff_bayes  ...  \\\n",
       "37193                  0.0            -0.010464  ...   \n",
       "37194                  0.0            -0.010464  ...   \n",
       "37195                  0.0            -0.010464  ...   \n",
       "37196                  0.0            -0.010464  ...   \n",
       "37197                  0.0            -0.010464  ...   \n",
       "\n",
       "       away_pitcher_IP_avg_162games  team_Rank_pct_diff  \\\n",
       "37193                      5.485714                0.50   \n",
       "37194                      5.485714                0.75   \n",
       "37195                      5.485714                0.00   \n",
       "37196                      5.485714                0.20   \n",
       "37197                      5.485714                0.00   \n",
       "\n",
       "       home_pitcher_IP_avg_162games  away_RD  home_pitcher_WHIP_avg_162games  \\\n",
       "37193                      5.480001    122.0                        1.390555   \n",
       "37194                      5.480001    221.0                        1.390555   \n",
       "37195                      5.480001     70.0                        1.390555   \n",
       "37196                      5.480001    -79.0                        1.390555   \n",
       "37197                      5.480001     81.0                        1.390555   \n",
       "\n",
       "          Y    M  home_win  home_team  away_team  \n",
       "37193  2016  4.0       1.0        PIT        SLN  \n",
       "37194  2016  4.0       0.0        TBA        TOR  \n",
       "37195  2016  4.0       1.0        KCA        NYN  \n",
       "37196  2016  4.0       0.0        OAK        CHA  \n",
       "37197  2016  4.0       0.0        ANA        CHN  \n",
       "\n",
       "[5 rows x 25 columns]"
      ]
     },
     "execution_count": 483,
     "metadata": {},
     "output_type": "execute_result"
    }
   ],
   "source": [
    "test_df_nn.head()"
   ]
  },
  {
   "cell_type": "code",
   "execution_count": 485,
   "metadata": {},
   "outputs": [],
   "source": [
    "test_df_nn['xgb_pred'] = xgb_preds\n",
    "test_df_nn['knn_pred'] = knn_preds\n",
    "test_df_nn['knn_no_batting_pred'] = knn_no_ops_preds\n",
    "test_df_nn['nn_pred'] = nn_preds\n",
    "test_df_nn['nn_pred'] = test_df_nn['nn_pred'].astype(int)\n",
    "\n",
    "test_df_nn['xgb_proba'] = xgb_proba_preds[:, 1]\n",
    "test_df_nn['knn_proba'] = knn_proba_preds[:, 1]\n",
    "test_df_nn['knn_no_batting_proba'] = knn_no_ops_proba_preds[:, 1]\n",
    "test_df_nn['nn_proba'] = nn_softmax_preds.numpy()"
   ]
  },
  {
   "cell_type": "code",
   "execution_count": 486,
   "metadata": {},
   "outputs": [
    {
     "data": {
      "text/html": [
       "<div>\n",
       "<style scoped>\n",
       "    .dataframe tbody tr th:only-of-type {\n",
       "        vertical-align: middle;\n",
       "    }\n",
       "\n",
       "    .dataframe tbody tr th {\n",
       "        vertical-align: top;\n",
       "    }\n",
       "\n",
       "    .dataframe thead th {\n",
       "        text-align: right;\n",
       "    }\n",
       "</style>\n",
       "<table border=\"1\" class=\"dataframe\">\n",
       "  <thead>\n",
       "    <tr style=\"text-align: right;\">\n",
       "      <th></th>\n",
       "      <th>team_ops_pct_diff</th>\n",
       "      <th>obp_diff</th>\n",
       "      <th>team_obp_pct_diff</th>\n",
       "      <th>home_Rank_offset1year</th>\n",
       "      <th>away_WHIP_offset1year</th>\n",
       "      <th>team_ERA_pct_diff</th>\n",
       "      <th>home_win_diff_bayes</th>\n",
       "      <th>home_RD</th>\n",
       "      <th>team_bayes_pct_diff</th>\n",
       "      <th>away_win_diff_bayes</th>\n",
       "      <th>...</th>\n",
       "      <th>home_team</th>\n",
       "      <th>away_team</th>\n",
       "      <th>xgb_pred</th>\n",
       "      <th>knn_pred</th>\n",
       "      <th>knn_no_batting_pred</th>\n",
       "      <th>nn_pred</th>\n",
       "      <th>xgb_proba</th>\n",
       "      <th>knn_proba</th>\n",
       "      <th>knn_no_batting_proba</th>\n",
       "      <th>nn_proba</th>\n",
       "    </tr>\n",
       "  </thead>\n",
       "  <tbody>\n",
       "    <tr>\n",
       "      <th>37193</th>\n",
       "      <td>0.001479</td>\n",
       "      <td>0.001196</td>\n",
       "      <td>0.003769</td>\n",
       "      <td>2.0</td>\n",
       "      <td>1.253927</td>\n",
       "      <td>0.089783</td>\n",
       "      <td>-0.010464</td>\n",
       "      <td>101.0</td>\n",
       "      <td>0.0</td>\n",
       "      <td>-0.010464</td>\n",
       "      <td>...</td>\n",
       "      <td>PIT</td>\n",
       "      <td>SLN</td>\n",
       "      <td>0.0</td>\n",
       "      <td>0.0</td>\n",
       "      <td>1.0</td>\n",
       "      <td>0</td>\n",
       "      <td>0.452681</td>\n",
       "      <td>0.500000</td>\n",
       "      <td>0.520000</td>\n",
       "      <td>0.455505</td>\n",
       "    </tr>\n",
       "    <tr>\n",
       "      <th>37194</th>\n",
       "      <td>-0.100639</td>\n",
       "      <td>-0.023374</td>\n",
       "      <td>-0.075552</td>\n",
       "      <td>4.0</td>\n",
       "      <td>1.214434</td>\n",
       "      <td>-0.018717</td>\n",
       "      <td>-0.010464</td>\n",
       "      <td>2.0</td>\n",
       "      <td>0.0</td>\n",
       "      <td>-0.010464</td>\n",
       "      <td>...</td>\n",
       "      <td>TBA</td>\n",
       "      <td>TOR</td>\n",
       "      <td>0.0</td>\n",
       "      <td>0.0</td>\n",
       "      <td>1.0</td>\n",
       "      <td>0</td>\n",
       "      <td>0.377228</td>\n",
       "      <td>0.473333</td>\n",
       "      <td>0.506667</td>\n",
       "      <td>0.395637</td>\n",
       "    </tr>\n",
       "    <tr>\n",
       "      <th>37195</th>\n",
       "      <td>0.028053</td>\n",
       "      <td>0.009820</td>\n",
       "      <td>0.030927</td>\n",
       "      <td>1.0</td>\n",
       "      <td>1.179045</td>\n",
       "      <td>0.077540</td>\n",
       "      <td>-0.010464</td>\n",
       "      <td>83.0</td>\n",
       "      <td>0.0</td>\n",
       "      <td>-0.010464</td>\n",
       "      <td>...</td>\n",
       "      <td>KCA</td>\n",
       "      <td>NYN</td>\n",
       "      <td>1.0</td>\n",
       "      <td>1.0</td>\n",
       "      <td>1.0</td>\n",
       "      <td>1</td>\n",
       "      <td>0.629717</td>\n",
       "      <td>0.533333</td>\n",
       "      <td>0.546667</td>\n",
       "      <td>0.508145</td>\n",
       "    </tr>\n",
       "    <tr>\n",
       "      <th>37196</th>\n",
       "      <td>0.031095</td>\n",
       "      <td>0.006132</td>\n",
       "      <td>0.019876</td>\n",
       "      <td>5.0</td>\n",
       "      <td>1.320066</td>\n",
       "      <td>0.043269</td>\n",
       "      <td>-0.010464</td>\n",
       "      <td>-35.0</td>\n",
       "      <td>0.0</td>\n",
       "      <td>-0.010464</td>\n",
       "      <td>...</td>\n",
       "      <td>OAK</td>\n",
       "      <td>CHA</td>\n",
       "      <td>1.0</td>\n",
       "      <td>0.0</td>\n",
       "      <td>1.0</td>\n",
       "      <td>1</td>\n",
       "      <td>0.572504</td>\n",
       "      <td>0.486667</td>\n",
       "      <td>0.506667</td>\n",
       "      <td>0.525333</td>\n",
       "    </tr>\n",
       "    <tr>\n",
       "      <th>37197</th>\n",
       "      <td>-0.026164</td>\n",
       "      <td>-0.014945</td>\n",
       "      <td>-0.049505</td>\n",
       "      <td>3.0</td>\n",
       "      <td>1.151872</td>\n",
       "      <td>0.147208</td>\n",
       "      <td>-0.010464</td>\n",
       "      <td>-14.0</td>\n",
       "      <td>0.0</td>\n",
       "      <td>-0.010464</td>\n",
       "      <td>...</td>\n",
       "      <td>ANA</td>\n",
       "      <td>CHN</td>\n",
       "      <td>1.0</td>\n",
       "      <td>0.0</td>\n",
       "      <td>0.0</td>\n",
       "      <td>0</td>\n",
       "      <td>0.515874</td>\n",
       "      <td>0.486667</td>\n",
       "      <td>0.486667</td>\n",
       "      <td>0.497620</td>\n",
       "    </tr>\n",
       "  </tbody>\n",
       "</table>\n",
       "<p>5 rows × 33 columns</p>\n",
       "</div>"
      ],
      "text/plain": [
       "       team_ops_pct_diff  obp_diff  team_obp_pct_diff  home_Rank_offset1year  \\\n",
       "37193           0.001479  0.001196           0.003769                    2.0   \n",
       "37194          -0.100639 -0.023374          -0.075552                    4.0   \n",
       "37195           0.028053  0.009820           0.030927                    1.0   \n",
       "37196           0.031095  0.006132           0.019876                    5.0   \n",
       "37197          -0.026164 -0.014945          -0.049505                    3.0   \n",
       "\n",
       "       away_WHIP_offset1year  team_ERA_pct_diff  home_win_diff_bayes  home_RD  \\\n",
       "37193               1.253927           0.089783            -0.010464    101.0   \n",
       "37194               1.214434          -0.018717            -0.010464      2.0   \n",
       "37195               1.179045           0.077540            -0.010464     83.0   \n",
       "37196               1.320066           0.043269            -0.010464    -35.0   \n",
       "37197               1.151872           0.147208            -0.010464    -14.0   \n",
       "\n",
       "       team_bayes_pct_diff  away_win_diff_bayes  ...  home_team  away_team  \\\n",
       "37193                  0.0            -0.010464  ...        PIT        SLN   \n",
       "37194                  0.0            -0.010464  ...        TBA        TOR   \n",
       "37195                  0.0            -0.010464  ...        KCA        NYN   \n",
       "37196                  0.0            -0.010464  ...        OAK        CHA   \n",
       "37197                  0.0            -0.010464  ...        ANA        CHN   \n",
       "\n",
       "       xgb_pred  knn_pred  knn_no_batting_pred  nn_pred  xgb_proba  knn_proba  \\\n",
       "37193       0.0       0.0                  1.0        0   0.452681   0.500000   \n",
       "37194       0.0       0.0                  1.0        0   0.377228   0.473333   \n",
       "37195       1.0       1.0                  1.0        1   0.629717   0.533333   \n",
       "37196       1.0       0.0                  1.0        1   0.572504   0.486667   \n",
       "37197       1.0       0.0                  0.0        0   0.515874   0.486667   \n",
       "\n",
       "       knn_no_batting_proba  nn_proba  \n",
       "37193              0.520000  0.455505  \n",
       "37194              0.506667  0.395637  \n",
       "37195              0.546667  0.508145  \n",
       "37196              0.506667  0.525333  \n",
       "37197              0.486667  0.497620  \n",
       "\n",
       "[5 rows x 33 columns]"
      ]
     },
     "execution_count": 486,
     "metadata": {},
     "output_type": "execute_result"
    }
   ],
   "source": [
    "test_df_nn.head()"
   ]
  },
  {
   "cell_type": "code",
   "execution_count": 487,
   "metadata": {},
   "outputs": [],
   "source": [
    "test_df_nn.to_csv('../data/Final Data/start_to_finish_with_preds.csv', index=False)"
   ]
  },
  {
   "cell_type": "markdown",
   "metadata": {},
   "source": [
    "### For Training Predictions"
   ]
  },
  {
   "cell_type": "code",
   "execution_count": null,
   "metadata": {},
   "outputs": [],
   "source": [
    "xgb_train_pred = xgb_clf.predict(X_train)\n",
    "knn_no_train_pred = knn_no_ops_clf.predict(X_train_scaled_no_ops)\n",
    "nn_train_logit_preds = model.predict(train_ds).squeeze()\n",
    "nn_train_softmax_preds = tf.nn.sigmoid(nn_train_logit_preds)\n",
    "nn_train_pred = tf.round(nn_train_softmax_preds).numpy()"
   ]
  },
  {
   "cell_type": "code",
   "execution_count": null,
   "metadata": {},
   "outputs": [],
   "source": [
    "tf_train_df['home_team'] = le.inverse_transform(tf_train_df['home_team'])\n",
    "tf_train_df['away_team'] = le.inverse_transform(tf_train_df['away_team'])"
   ]
  },
  {
   "cell_type": "code",
   "execution_count": null,
   "metadata": {},
   "outputs": [],
   "source": [
    "tf_train_df['xgb_train_pred'] = xgb_train_pred\n",
    "tf_train_df['knn_no_batting_train_pred'] = knn_no_train_pred\n",
    "tf_train_df['nn_train_pred'] = nn_train_pred\n",
    "tf_train_df['nn_train_pred'] = tf_train_df['nn_train_pred'].astype(int)"
   ]
  },
  {
   "cell_type": "code",
   "execution_count": null,
   "metadata": {},
   "outputs": [],
   "source": [
    "tf_train_df['home_win'] = y_train"
   ]
  },
  {
   "cell_type": "code",
   "execution_count": null,
   "metadata": {},
   "outputs": [],
   "source": [
    "tf_train_df.to_csv('../data/Final Data/training_with_preds.csv', index=False)"
   ]
  },
  {
   "cell_type": "markdown",
   "metadata": {},
   "source": [
    "## Win count error\n",
    "\n",
    "Following the idea on [this site](https://www.bettingpros.com/articles/most-accurate-2019-mlb-futures-analysts/), how does our error compare to human pickers?"
   ]
  },
  {
   "cell_type": "code",
   "execution_count": 41,
   "metadata": {},
   "outputs": [],
   "source": [
    "test_df_nn['xgb_pred'] = xgb_preds"
   ]
  },
  {
   "cell_type": "code",
   "execution_count": 47,
   "metadata": {},
   "outputs": [],
   "source": [
    "home_wins = test_df_nn[test_df_nn['Y']==2019].groupby(['home_team'])['home_win'].sum()"
   ]
  },
  {
   "cell_type": "code",
   "execution_count": 52,
   "metadata": {},
   "outputs": [],
   "source": [
    "away_wins = 162 - test_df_nn[test_df_nn['Y']==2019].groupby(['away_team'])['home_win'].sum()"
   ]
  },
  {
   "cell_type": "code",
   "execution_count": 53,
   "metadata": {},
   "outputs": [
    {
     "data": {
      "text/plain": [
       "home_team\n",
       "ANA    152.0\n",
       "ARI    166.0\n",
       "ATL    177.0\n",
       "BAL    130.0\n",
       "BOS    164.0\n",
       "CHA    157.0\n",
       "CHN    165.0\n",
       "CIN    154.0\n",
       "CLE    177.0\n",
       "COL    150.0\n",
       "DET    126.0\n",
       "HOU    187.0\n",
       "KCA    141.0\n",
       "LAN    187.0\n",
       "MIA    136.0\n",
       "MIL    170.0\n",
       "MIN    183.0\n",
       "NYA    193.0\n",
       "NYN    168.0\n",
       "OAK    176.0\n",
       "PHI    158.0\n",
       "PIT    149.0\n",
       "SDN    151.0\n",
       "SEA    149.0\n",
       "SFN    158.0\n",
       "SLN    176.0\n",
       "TBA    172.0\n",
       "TEX    160.0\n",
       "TOR    148.0\n",
       "WAS    180.0\n",
       "Name: home_win, dtype: float64"
      ]
     },
     "execution_count": 53,
     "metadata": {},
     "output_type": "execute_result"
    }
   ],
   "source": [
    "home_wins + away_wins"
   ]
  },
  {
   "cell_type": "code",
   "execution_count": 55,
   "metadata": {},
   "outputs": [
    {
     "data": {
      "text/plain": [
       "NYA    91\n",
       "CHA    88\n",
       "WAS    87\n",
       "SLN    87\n",
       "CLE    87\n",
       "BAL    85\n",
       "BOS    85\n",
       "TEX    85\n",
       "KCA    85\n",
       "DET    85\n",
       "MIN    83\n",
       "NYN    83\n",
       "COL    83\n",
       "CIN    83\n",
       "TBA    83\n",
       "PHI    81\n",
       "SEA    81\n",
       "ARI    81\n",
       "LAN    81\n",
       "OAK    81\n",
       "SFN    81\n",
       "TOR    81\n",
       "MIA    81\n",
       "CHN    81\n",
       "ATL    81\n",
       "HOU    81\n",
       "MIL    81\n",
       "ANA    81\n",
       "PIT    81\n",
       "SDN    81\n",
       "Name: home_team, dtype: int64"
      ]
     },
     "execution_count": 55,
     "metadata": {},
     "output_type": "execute_result"
    }
   ],
   "source": [
    "test_df_nn[test_df_nn['Y']==2019]['home_team'].value_counts()"
   ]
  },
  {
   "cell_type": "code",
   "execution_count": 56,
   "metadata": {},
   "outputs": [
    {
     "data": {
      "text/plain": [
       "BAL    89\n",
       "TBA    89\n",
       "DET    88\n",
       "MIN    85\n",
       "CIN    85\n",
       "NYA    85\n",
       "PHI    85\n",
       "MIA    83\n",
       "COL    83\n",
       "OAK    83\n",
       "TEX    83\n",
       "ANA    83\n",
       "NYN    83\n",
       "BOS    83\n",
       "CHA    83\n",
       "SFN    83\n",
       "ATL    83\n",
       "KCA    83\n",
       "HOU    83\n",
       "PIT    83\n",
       "CHN    81\n",
       "CLE    81\n",
       "TOR    81\n",
       "WAS    81\n",
       "SLN    81\n",
       "LAN    81\n",
       "SEA    81\n",
       "ARI    81\n",
       "MIL    81\n",
       "SDN    81\n",
       "Name: away_team, dtype: int64"
      ]
     },
     "execution_count": 56,
     "metadata": {},
     "output_type": "execute_result"
    }
   ],
   "source": [
    "test_df_nn[test_df_nn['Y']==2019]['away_team'].value_counts()"
   ]
  },
  {
   "cell_type": "code",
   "execution_count": null,
   "metadata": {},
   "outputs": [],
   "source": []
  }
 ],
 "metadata": {
  "kernelspec": {
   "display_name": "Python 3",
   "language": "python",
   "name": "python3"
  },
  "language_info": {
   "codemirror_mode": {
    "name": "ipython",
    "version": 3
   },
   "file_extension": ".py",
   "mimetype": "text/x-python",
   "name": "python",
   "nbconvert_exporter": "python",
   "pygments_lexer": "ipython3",
   "version": "3.8.5"
  }
 },
 "nbformat": 4,
 "nbformat_minor": 4
}
