{
 "cells": [
  {
   "cell_type": "markdown",
   "metadata": {},
   "source": [
    "# Final models\n",
    "\n",
    "The purpose of this notebook is to collect \"final versions\" of the models we want to use for ensembling. These will all use the same data (though they can certainly omit columns if you want). The point is to go from zero-to-trained model in one notebook so we can make sure everything looks good."
   ]
  },
  {
   "cell_type": "code",
   "execution_count": 294,
   "metadata": {},
   "outputs": [],
   "source": [
    "import pandas as pd\n",
    "import numpy as np\n",
    "from matplotlib import pyplot as plt\n",
    "\n",
    "from utils.data_loader import Dataset\n",
    "\n",
    "import tensorflow as tf\n",
    "from tensorflow.keras.layers import Dense, Dropout, BatchNormalization, concatenate\n",
    "from tensorflow.keras.layers.experimental import preprocessing\n",
    "\n",
    "import xgboost as xgb\n",
    "\n",
    "from sklearn.preprocessing import LabelEncoder, StandardScaler\n",
    "from sklearn.metrics import accuracy_score, classification_report\n",
    "from sklearn.neighbors import KNeighborsClassifier"
   ]
  },
  {
   "cell_type": "markdown",
   "metadata": {},
   "source": [
    "## Data loading\n",
    "\n",
    "Load the data here. Models below can augment it if need-be (for example the neural net needs it as a tensorflow dataset)."
   ]
  },
  {
   "cell_type": "code",
   "execution_count": 295,
   "metadata": {},
   "outputs": [],
   "source": [
    "df = pd.read_csv('../data/start_to_finish.csv')  #Pct Diff Columns Only (Gives Highest Accuracy)\n",
    "# df = pd.read_csv('../data/Final Data/pct-diff-mlb-games.csv')  #Pct Diff Columns Only (Gives Highest Accuracy)\n",
    "#df = pd.read_csv('../data/Final Data/diff-mlb-games.csv')    #Diff columns only\n",
    "#df = pd.read_csv('../data/Final Data/full-diff-mlb-games.csv')    #All columns\n",
    "\n",
    "train_df = df[df['Y'] <= 2015]\n",
    "test_df = df[df['Y'] > 2015]\n",
    "\n",
    "X_train = train_df.drop('home_win', axis=1)\n",
    "y_train = train_df.home_win\n",
    "\n",
    "X_test = test_df.drop('home_win', axis=1)\n",
    "y_test = test_df.home_win"
   ]
  },
  {
   "cell_type": "markdown",
   "metadata": {},
   "source": [
    "## Data cleaning"
   ]
  },
  {
   "cell_type": "code",
   "execution_count": 296,
   "metadata": {},
   "outputs": [],
   "source": [
    "def fill_na_inf(df):\n",
    "    for c in df.columns:\n",
    "        if df[c].isin([-np.inf, np.inf]).sum() > 0:\n",
    "            df[c] = df[c].replace([-np.inf, np.inf], None)\n",
    "        if df[c].isna().sum() > 0:\n",
    "            med = df[c].median()\n",
    "            df[c] = df[c].fillna(med)\n",
    "    return df"
   ]
  },
  {
   "cell_type": "code",
   "execution_count": 297,
   "metadata": {},
   "outputs": [
    {
     "name": "stderr",
     "output_type": "stream",
     "text": [
      "<ipython-input-296-88a5b3d15245>:7: SettingWithCopyWarning: \n",
      "A value is trying to be set on a copy of a slice from a DataFrame.\n",
      "Try using .loc[row_indexer,col_indexer] = value instead\n",
      "\n",
      "See the caveats in the documentation: https://pandas.pydata.org/pandas-docs/stable/user_guide/indexing.html#returning-a-view-versus-a-copy\n",
      "  df[c] = df[c].fillna(med)\n",
      "<ipython-input-296-88a5b3d15245>:4: SettingWithCopyWarning: \n",
      "A value is trying to be set on a copy of a slice from a DataFrame.\n",
      "Try using .loc[row_indexer,col_indexer] = value instead\n",
      "\n",
      "See the caveats in the documentation: https://pandas.pydata.org/pandas-docs/stable/user_guide/indexing.html#returning-a-view-versus-a-copy\n",
      "  df[c] = df[c].replace([-np.inf, np.inf], None)\n"
     ]
    }
   ],
   "source": [
    "train_df = fill_na_inf(train_df)\n",
    "test_df = fill_na_inf(test_df)\n",
    "\n",
    "X_train = fill_na_inf(X_train)\n",
    "X_test = fill_na_inf(X_test)"
   ]
  },
  {
   "cell_type": "markdown",
   "metadata": {},
   "source": [
    "### Make tensorflow dataset from data"
   ]
  },
  {
   "cell_type": "code",
   "execution_count": 298,
   "metadata": {},
   "outputs": [],
   "source": [
    "def load_ds(df):\n",
    "    cols_to_drop = ['home_pitcher', 'away_pitcher', 'date']\n",
    "    cols_to_drop = list(set(df.columns).intersection(set(cols_to_drop)))\n",
    "    df = df.drop(cols_to_drop, axis='columns')\n",
    "    \n",
    "    embedding_cols = ['home_team', 'away_team', 'Y', 'M']\n",
    "    numeric_cols = list(set(df.columns) - set(embedding_cols))\n",
    "    numeric_cols.remove('home_win')\n",
    "    assert set(numeric_cols).intersection(set(embedding_cols)) == set()\n",
    "    assert len(embedding_cols) + len(numeric_cols) + 1 == len(df.columns)\n",
    "    \n",
    "    df = fill_na_inf(df)\n",
    "            \n",
    "    le = LabelEncoder()\n",
    "    df['away_team'] = le.fit_transform(df['away_team'])\n",
    "    df['home_team'] = le.transform(df['home_team'])\n",
    "    \n",
    "    for c in embedding_cols:\n",
    "        df[c] = df[c].astype(int)\n",
    "        \n",
    "    assert df.isna().sum().sum() == 0\n",
    "    \n",
    "    y = df.pop('home_win')\n",
    "    y = y.astype(int)\n",
    "    X = df\n",
    "    \n",
    "    tf_ds = tf.data.Dataset.from_tensor_slices((dict(X), y)).batch(128)\n",
    "    return tf_ds, df, le, embedding_cols, numeric_cols"
   ]
  },
  {
   "cell_type": "code",
   "execution_count": 299,
   "metadata": {},
   "outputs": [],
   "source": [
    "train_ds, tf_train_df, le, embedding_cols, numeric_cols = load_ds(train_df)\n",
    "test_ds, tf_test_df, _, _, _ = load_ds(test_df)"
   ]
  },
  {
   "cell_type": "code",
   "execution_count": 300,
   "metadata": {},
   "outputs": [
    {
     "data": {
      "text/plain": [
       "Index(['Y', 'M', 'home_team', 'away_team', 'home_elo', 'away_elo', 'home_avg',\n",
       "       'away_avg', 'home_obp', 'away_obp', 'home_slg', 'away_slg', 'home_iso',\n",
       "       'away_iso', 'elo_diff', 'elo_pct_diff', 'avg_diff', 'obp_diff',\n",
       "       'slg_diff', 'team_avg_pct_diff', 'team_obp_pct_diff',\n",
       "       'team_slg_pct_diff', 'home_rest', 'away_rest',\n",
       "       'home_W-L-pct_offset1year', 'home_Avg_Attendance_offset1year',\n",
       "       'home_Rank_offset1year', 'home_R_offset1year', 'home_RA_offset1year',\n",
       "       'home_FP_offset1year', 'away_W-L-pct_offset1year',\n",
       "       'away_Avg_Attendance_offset1year', 'away_Rank_offset1year',\n",
       "       'away_R_offset1year', 'away_RA_offset1year', 'away_FP_offset1year',\n",
       "       'home_WHIP_offset1year', 'home_ERA_offset1year',\n",
       "       'away_WHIP_offset1year', 'away_ERA_offset1year',\n",
       "       'home_pitcher_season_game', 'home_pitcher_WHIP_avg_162games',\n",
       "       'home_pitcher_ERA_avg_162games', 'home_pitcher_IP_avg_162games',\n",
       "       'home_pitcher_WPA_avg_162games', 'away_pitcher_season_game',\n",
       "       'away_pitcher_WHIP_avg_162games', 'away_pitcher_ERA_avg_162games',\n",
       "       'away_pitcher_IP_avg_162games', 'away_pitcher_WPA_avg_162games',\n",
       "       'home_total_R', 'home_total_RA', 'away_total_R', 'away_total_RA',\n",
       "       'home_win_pct', 'away_win_pct', 'home_pythag_expect',\n",
       "       'away_pythag_expect', 'home_win_diff', 'away_win_diff',\n",
       "       'home_previous_WL', 'away_previous_WL', 'home_bayes_win',\n",
       "       'away_bayes_win', 'home_win_diff_bayes', 'away_win_diff_bayes',\n",
       "       'home_ops', 'away_ops', 'home_RD', 'away_RD', 'pitcher_WHIP_pct_diff',\n",
       "       'pitcher_ERA_pct_diff', 'pitcher_IP_pct_diff', 'team_W-L_pct_diff',\n",
       "       'team_ops_pct_diff', 'team_RD_pct_diff', 'team_FP_pct_diff',\n",
       "       'team_Rank_pct_diff', 'team_ERA_pct_diff', 'team_RA_pct_diff',\n",
       "       'team_R_pct_diff', 'team_bayes_pct_diff', 'team_pytha_pct_diff',\n",
       "       'log_5', 'team_WHIP_pct_diff'],\n",
       "      dtype='object')"
      ]
     },
     "execution_count": 300,
     "metadata": {},
     "output_type": "execute_result"
    }
   ],
   "source": [
    "tf_test_df.columns"
   ]
  },
  {
   "cell_type": "markdown",
   "metadata": {},
   "source": [
    "## Drop teams for all other models"
   ]
  },
  {
   "cell_type": "code",
   "execution_count": 301,
   "metadata": {},
   "outputs": [],
   "source": [
    "X_train = X_train.drop(['home_team', 'away_team'], axis='columns')\n",
    "X_test = X_test.drop(['home_team', 'away_team'], axis='columns')\n",
    "\n",
    "train_df = train_df.drop(['home_team', 'away_team'], axis='columns')\n",
    "test_df = test_df.drop(['home_team', 'away_team'], axis='columns')"
   ]
  },
  {
   "cell_type": "markdown",
   "metadata": {},
   "source": [
    "## XGBoost"
   ]
  },
  {
   "cell_type": "code",
   "execution_count": 302,
   "metadata": {},
   "outputs": [],
   "source": [
    "params = {'n_estimators': 100,\n",
    "         'max_depth': 5,\n",
    "         'min_child_weight': 0.3256355793000354,\n",
    "         'eta': 0.3076951770384403,\n",
    "         'subsample': 0.8242904472901268,\n",
    "         'colsample_bytree': 0.9475703665037462,\n",
    "         'gamma': 9.66425615956974,\n",
    "         'seed': 0,\n",
    "         'nthread': 4,\n",
    "         'objective': 'binary:logistic',\n",
    "         'eval_metric': 'auc'}"
   ]
  },
  {
   "cell_type": "code",
   "execution_count": 303,
   "metadata": {},
   "outputs": [],
   "source": [
    "xgb_clf = xgb.XGBClassifier(**params)"
   ]
  },
  {
   "cell_type": "code",
   "execution_count": 304,
   "metadata": {},
   "outputs": [
    {
     "name": "stderr",
     "output_type": "stream",
     "text": [
      "/Users/psavala/.virtualenvs/baseball/lib/python3.8/site-packages/xgboost/sklearn.py:892: UserWarning: The use of label encoder in XGBClassifier is deprecated and will be removed in a future release. To remove this warning, do the following: 1) Pass option use_label_encoder=False when constructing XGBClassifier object; and 2) Encode your labels (y) as integers starting with 0, i.e. 0, 1, 2, ..., [num_class - 1].\n",
      "  warnings.warn(label_encoder_deprecation_msg, UserWarning)\n"
     ]
    },
    {
     "data": {
      "text/plain": [
       "XGBClassifier(base_score=0.5, booster='gbtree', colsample_bylevel=1,\n",
       "              colsample_bynode=1, colsample_bytree=0.9475703665037462,\n",
       "              eta=0.3076951770384403, eval_metric='auc', gamma=9.66425615956974,\n",
       "              gpu_id=-1, importance_type='gain', interaction_constraints='',\n",
       "              learning_rate=0.30769518, max_delta_step=0, max_depth=5,\n",
       "              min_child_weight=0.3256355793000354, missing=nan,\n",
       "              monotone_constraints='()', n_estimators=100, n_jobs=4, nthread=4,\n",
       "              num_parallel_tree=1, random_state=0, reg_alpha=0, reg_lambda=1,\n",
       "              scale_pos_weight=1, seed=0, subsample=0.8242904472901268,\n",
       "              tree_method='exact', validate_parameters=1, verbosity=None)"
      ]
     },
     "execution_count": 304,
     "metadata": {},
     "output_type": "execute_result"
    }
   ],
   "source": [
    "xgb_clf.fit(X_train, y_train)"
   ]
  },
  {
   "cell_type": "code",
   "execution_count": 305,
   "metadata": {},
   "outputs": [
    {
     "name": "stdout",
     "output_type": "stream",
     "text": [
      "Test acc = 61.08%\n"
     ]
    }
   ],
   "source": [
    "xgb_preds = xgb_clf.predict(X_test)\n",
    "xgb_proba_preds = xgb_clf.predict_proba(X_test)\n",
    "\n",
    "test_acc = accuracy_score(y_test, xgb_preds)\n",
    "print(f'Test acc = {100*test_acc:.2f}%')"
   ]
  },
  {
   "cell_type": "code",
   "execution_count": 306,
   "metadata": {},
   "outputs": [
    {
     "name": "stdout",
     "output_type": "stream",
     "text": [
      "              precision    recall  f1-score   support\n",
      "\n",
      "         0.0       0.60      0.53      0.56      4656\n",
      "         1.0       0.62      0.68      0.65      5282\n",
      "\n",
      "    accuracy                           0.61      9938\n",
      "   macro avg       0.61      0.61      0.61      9938\n",
      "weighted avg       0.61      0.61      0.61      9938\n",
      "\n"
     ]
    }
   ],
   "source": [
    "print(classification_report(y_test, xgb_preds))"
   ]
  },
  {
   "cell_type": "markdown",
   "metadata": {},
   "source": [
    "### Feature Importance"
   ]
  },
  {
   "cell_type": "code",
   "execution_count": 307,
   "metadata": {},
   "outputs": [],
   "source": [
    "featuredf = pd.DataFrame(xgb_clf.feature_importances_, X_train.columns)   #This makes it in order\n",
    "featuredf = featuredf.sort_values(by=0, ascending=False)"
   ]
  },
  {
   "cell_type": "code",
   "execution_count": 308,
   "metadata": {},
   "outputs": [
    {
     "data": {
      "image/png": "[encoded data removed]",
      "text/plain": [
       "<Figure size 1440x576 with 1 Axes>"
      ]
     },
     "metadata": {
      "needs_background": "light"
     },
     "output_type": "display_data"
    }
   ],
   "source": [
    "plt.figure(figsize=(20, 8))\n",
    "\n",
    "x = featuredf.index\n",
    "y = featuredf[0]\n",
    "\n",
    "plt.bar(x, y)\n",
    "plt.xticks(rotation=90)\n",
    "plt.title('Feature Importances', fontsize=20)\n",
    "plt.ylabel('Weight', fontsize=14);"
   ]
  },
  {
   "cell_type": "markdown",
   "metadata": {},
   "source": [
    "## KNN"
   ]
  },
  {
   "cell_type": "code",
   "execution_count": 309,
   "metadata": {},
   "outputs": [],
   "source": [
    "ss = StandardScaler()\n",
    "ss.fit(pd.concat([X_train, X_test]))\n",
    "X_train_scaled = ss.transform(X_train)\n",
    "X_test_scaled = ss.transform(X_test)"
   ]
  },
  {
   "cell_type": "code",
   "execution_count": 310,
   "metadata": {},
   "outputs": [],
   "source": [
    "X_train_scaled = pd.DataFrame(X_train_scaled, columns=X_train.columns)\n",
    "X_test_scaled = pd.DataFrame(X_test_scaled, columns=X_test.columns)\n",
    "\n",
    "train_df_scaled = X_train_scaled.copy()\n",
    "train_df_scaled['home_win'] = y_train\n",
    "\n",
    "test_df_scaled = X_test_scaled.copy()\n",
    "test_df_scaled['home_win'] = y_test"
   ]
  },
  {
   "cell_type": "code",
   "execution_count": 311,
   "metadata": {},
   "outputs": [
    {
     "data": {
      "text/plain": [
       "0.6168243107265043"
      ]
     },
     "execution_count": 311,
     "metadata": {},
     "output_type": "execute_result"
    }
   ],
   "source": [
    "knn_clf = KNeighborsClassifier(150)\n",
    "knn_clf.fit(X_train_scaled, y_train)\n",
    "\n",
    "knn_preds = knn_clf.predict(X_test_scaled)\n",
    "knn_proba_preds = knn_clf.predict_proba(X_test_scaled)\n",
    "\n",
    "accuracy_score(y_test, knn_preds)"
   ]
  },
  {
   "cell_type": "code",
   "execution_count": 312,
   "metadata": {},
   "outputs": [
    {
     "name": "stdout",
     "output_type": "stream",
     "text": [
      "              precision    recall  f1-score   support\n",
      "\n",
      "         0.0       0.61      0.50      0.55      4656\n",
      "         1.0       0.62      0.72      0.67      5282\n",
      "\n",
      "    accuracy                           0.62      9938\n",
      "   macro avg       0.62      0.61      0.61      9938\n",
      "weighted avg       0.62      0.62      0.61      9938\n",
      "\n"
     ]
    }
   ],
   "source": [
    "print(classification_report(y_test, knn_preds))"
   ]
  },
  {
   "cell_type": "markdown",
   "metadata": {},
   "source": [
    "## KNN without hitting (OPS, OBP, AVG, SLG)\n",
    "\n",
    "Try training KNN with `ops_pct_diff`, `obp_pct_diff`, `avg_pct_diff` and `slg_pct_diff` removed (all hitting stats)."
   ]
  },
  {
   "cell_type": "code",
   "execution_count": 313,
   "metadata": {},
   "outputs": [],
   "source": [
    "X_train_scaled_no_ops = X_train_scaled.drop(['team_ops_pct_diff', 'team_obp_pct_diff', 'team_slg_pct_diff', 'team_avg_pct_diff'], axis='columns')\n",
    "X_test_scaled_no_ops = X_test_scaled.drop(['team_ops_pct_diff', 'team_obp_pct_diff', 'team_slg_pct_diff', 'team_avg_pct_diff'], axis='columns')"
   ]
  },
  {
   "cell_type": "code",
   "execution_count": 314,
   "metadata": {},
   "outputs": [
    {
     "data": {
      "text/plain": [
       "0.6166230629905414"
      ]
     },
     "execution_count": 314,
     "metadata": {},
     "output_type": "execute_result"
    }
   ],
   "source": [
    "knn_no_ops_clf = KNeighborsClassifier(150)\n",
    "knn_no_ops_clf.fit(X_train_scaled_no_ops, y_train)\n",
    "\n",
    "knn_no_ops_preds = knn_no_ops_clf.predict(X_test_scaled_no_ops)\n",
    "knn_no_ops_proba_preds = knn_no_ops_clf.predict_proba(X_test_scaled_no_ops)\n",
    "\n",
    "accuracy_score(y_test, knn_no_ops_preds)"
   ]
  },
  {
   "cell_type": "markdown",
   "metadata": {},
   "source": [
    "## Neural net"
   ]
  },
  {
   "cell_type": "markdown",
   "metadata": {},
   "source": [
    "### Prepare layers"
   ]
  },
  {
   "cell_type": "code",
   "execution_count": 315,
   "metadata": {},
   "outputs": [],
   "source": [
    "def get_normalization_layer(name, dataset):\n",
    "    # Create a Normalization layer for our feature.\n",
    "    normalizer = preprocessing.Normalization()\n",
    "\n",
    "    # Prepare a Dataset that only yields our feature.\n",
    "    feature_ds = dataset.map(lambda x, y: x[name])\n",
    "\n",
    "    # Learn the statistics of the data.\n",
    "    normalizer.adapt(feature_ds)\n",
    "\n",
    "    return normalizer\n",
    "\n",
    "def get_category_encoding_layer(name, dataset, dtype, max_tokens=None):\n",
    "    # Create a StringLookup layer which will turn strings into integer indices\n",
    "    if dtype == 'string':\n",
    "        index = preprocessing.StringLookup(max_tokens=max_tokens)\n",
    "    else:\n",
    "        index = preprocessing.IntegerLookup(max_values=max_tokens)\n",
    "\n",
    "    # Prepare a Dataset that only yields our feature\n",
    "    feature_ds = dataset.map(lambda x, y: x[name])\n",
    "\n",
    "    # Learn the set of possible values and assign them a fixed integer index.\n",
    "    index.adapt(feature_ds)\n",
    "    \n",
    "    if name == 'home_team':\n",
    "        print('home_team')\n",
    "        print(index.get_vocabulary())\n",
    "        \n",
    "    if name == 'away_team':\n",
    "        print('away_team')\n",
    "        print(index.get_vocabulary())\n",
    "\n",
    "    # Create a Discretization for our integer indices.\n",
    "    encoder = preprocessing.CategoryEncoding(max_tokens=index.vocab_size())\n",
    "\n",
    "    # Prepare a Dataset that only yields our feature.\n",
    "    feature_ds = feature_ds.map(index)\n",
    "\n",
    "    # Learn the space of possible indices.\n",
    "    encoder.adapt(feature_ds)\n",
    "\n",
    "    # Apply one-hot encoding to our indices. The lambda function captures the\n",
    "    # layer so we can use them, or include them in the functional model later.\n",
    "    return lambda feature: encoder(index(feature))\n",
    "\n",
    "def prep_columns(dataset, embedding_dims=10, embedding_cols=None, numeric_cols=None):\n",
    "    cont_inputs = []\n",
    "    cat_inputs = []\n",
    "    encoded_cont_features = []\n",
    "    encoded_cat_features = []\n",
    "    if isinstance(embedding_dims, int):\n",
    "        embedding_dims = [embedding_dims] * len(embedding_cols)\n",
    "    assert len(embedding_dims) == len(embedding_cols), 'embedding_dims must be an integer or a list with the same length as embedding_cols'\n",
    "\n",
    "    # Numeric features.\n",
    "    for header in numeric_cols:\n",
    "        numeric_col = tf.keras.Input(shape=(1,), name=header)\n",
    "        normalization_layer = get_normalization_layer(header, dataset)\n",
    "        encoded_numeric_col = normalization_layer(numeric_col)\n",
    "        encoded_numeric_col = tf.keras.layers.Dropout(0.1)(encoded_numeric_col)\n",
    "        cont_inputs.append(numeric_col)\n",
    "        encoded_cont_features.append(encoded_numeric_col)\n",
    "\n",
    "    # Home and away teams\n",
    "    for i, header in enumerate(['home_team', 'away_team']):\n",
    "        categorical_col = tf.keras.Input(shape=(1,), name=header, dtype='int64')\n",
    "        encoded_categorical_col = tf.keras.layers.Embedding(30, embedding_dims[i], name=f'{header}_embedding')(categorical_col)\n",
    "        encoded_categorical_col = tf.keras.layers.Flatten()(encoded_categorical_col)\n",
    "        cat_inputs.append(categorical_col)\n",
    "        encoded_cat_features.append(encoded_categorical_col)\n",
    "        \n",
    "    # Categorical features encoded as ints.\n",
    "    encoded_embedding_cols = embedding_cols.copy()\n",
    "    encoded_embedding_cols.remove('home_team')\n",
    "    encoded_embedding_cols.remove('away_team')\n",
    "    for i, header in enumerate(encoded_embedding_cols):\n",
    "        categorical_col = tf.keras.Input(shape=(1,), name=header, dtype='int64')\n",
    "        encoding_layer = get_category_encoding_layer(header, dataset, \n",
    "                                                     dtype='int', \n",
    "                                                     max_tokens=20)\n",
    "        encoded_categorical_col = encoding_layer(categorical_col)\n",
    "        encoded_categorical_col = tf.keras.layers.Embedding(20, 5, name=f'{header}_embedding')(encoded_categorical_col)\n",
    "        encoded_categorical_col = tf.keras.layers.Flatten()(encoded_categorical_col)\n",
    "        cat_inputs.append(categorical_col)\n",
    "        encoded_cat_features.append(encoded_categorical_col)\n",
    "        \n",
    "    all_inputs = cont_inputs + cat_inputs\n",
    "        \n",
    "    return all_inputs, encoded_cont_features, encoded_cat_features"
   ]
  },
  {
   "cell_type": "code",
   "execution_count": 316,
   "metadata": {},
   "outputs": [],
   "source": [
    "all_inputs, encoded_cont_features, encoded_cat_features = prep_columns(train_ds,\n",
    "                                                                       10,\n",
    "                                                                       embedding_cols, \n",
    "                                                                       numeric_cols)"
   ]
  },
  {
   "cell_type": "markdown",
   "metadata": {},
   "source": [
    "### Model"
   ]
  },
  {
   "cell_type": "code",
   "execution_count": 317,
   "metadata": {},
   "outputs": [],
   "source": [
    "x = concatenate(encoded_cat_features + encoded_cont_features)\n",
    "x = Dense(32, activation=\"relu\")(x)\n",
    "x = BatchNormalization()(x)\n",
    "x = Dropout(0.2)(x)\n",
    "x = Dense(32, activation=\"relu\")(x)\n",
    "x = BatchNormalization()(x)\n",
    "x = Dropout(0.1)(x)\n",
    "output = Dense(1)(x)\n",
    "try:\n",
    "    del model\n",
    "except NameError:\n",
    "    pass\n",
    "model = tf.keras.Model(all_inputs, output)\n",
    "model.compile(optimizer='adam',\n",
    "              loss=tf.keras.losses.BinaryCrossentropy(from_logits=True),\n",
    "              metrics=[\"accuracy\"])"
   ]
  },
  {
   "cell_type": "code",
   "execution_count": 318,
   "metadata": {},
   "outputs": [
    {
     "name": "stdout",
     "output_type": "stream",
     "text": [
      "Epoch 1/30\n",
      "291/291 [==============================] - 8s 16ms/step - loss: 0.7449 - accuracy: 0.5480 - val_loss: 0.6502 - val_accuracy: 0.6032\n",
      "Epoch 2/30\n",
      "291/291 [==============================] - 4s 13ms/step - loss: 0.6590 - accuracy: 0.5784 - val_loss: 0.6491 - val_accuracy: 0.6047\n",
      "Epoch 3/30\n",
      "291/291 [==============================] - 4s 13ms/step - loss: 0.6525 - accuracy: 0.5813 - val_loss: 0.6466 - val_accuracy: 0.5984\n",
      "Epoch 4/30\n",
      "291/291 [==============================] - 4s 13ms/step - loss: 0.6476 - accuracy: 0.5850 - val_loss: 0.6464 - val_accuracy: 0.6005\n",
      "Epoch 5/30\n",
      "291/291 [==============================] - 4s 12ms/step - loss: 0.6450 - accuracy: 0.5849 - val_loss: 0.6460 - val_accuracy: 0.6036\n",
      "Epoch 6/30\n",
      "291/291 [==============================] - 4s 12ms/step - loss: 0.6451 - accuracy: 0.5883 - val_loss: 0.6461 - val_accuracy: 0.6061\n",
      "Epoch 7/30\n",
      "291/291 [==============================] - 4s 13ms/step - loss: 0.6437 - accuracy: 0.5930 - val_loss: 0.6458 - val_accuracy: 0.6016\n",
      "Epoch 8/30\n",
      "291/291 [==============================] - 3s 12ms/step - loss: 0.6421 - accuracy: 0.5914 - val_loss: 0.6465 - val_accuracy: 0.5998\n",
      "Epoch 9/30\n",
      "291/291 [==============================] - 3s 12ms/step - loss: 0.6409 - accuracy: 0.5961 - val_loss: 0.6467 - val_accuracy: 0.5986\n",
      "Epoch 10/30\n",
      "291/291 [==============================] - 4s 13ms/step - loss: 0.6403 - accuracy: 0.5958 - val_loss: 0.6472 - val_accuracy: 0.6013\n",
      "Epoch 11/30\n",
      "291/291 [==============================] - 4s 13ms/step - loss: 0.6392 - accuracy: 0.5961 - val_loss: 0.6480 - val_accuracy: 0.6042\n",
      "Epoch 12/30\n",
      "291/291 [==============================] - 3s 12ms/step - loss: 0.6396 - accuracy: 0.5998 - val_loss: 0.6474 - val_accuracy: 0.6002\n",
      "Epoch 13/30\n",
      "291/291 [==============================] - 3s 12ms/step - loss: 0.6383 - accuracy: 0.6015 - val_loss: 0.6481 - val_accuracy: 0.6031\n",
      "Epoch 14/30\n",
      "291/291 [==============================] - 4s 13ms/step - loss: 0.6384 - accuracy: 0.6018 - val_loss: 0.6491 - val_accuracy: 0.5997\n",
      "Epoch 15/30\n",
      "291/291 [==============================] - 4s 12ms/step - loss: 0.6370 - accuracy: 0.6020 - val_loss: 0.6498 - val_accuracy: 0.6026\n",
      "Epoch 16/30\n",
      "291/291 [==============================] - 4s 12ms/step - loss: 0.6364 - accuracy: 0.6039 - val_loss: 0.6500 - val_accuracy: 0.5983\n",
      "Epoch 17/30\n",
      "291/291 [==============================] - 4s 12ms/step - loss: 0.6354 - accuracy: 0.6060 - val_loss: 0.6503 - val_accuracy: 0.6028\n",
      "Epoch 18/30\n",
      "291/291 [==============================] - 4s 13ms/step - loss: 0.6349 - accuracy: 0.6072 - val_loss: 0.6501 - val_accuracy: 0.5991\n",
      "Epoch 19/30\n",
      "291/291 [==============================] - 3s 12ms/step - loss: 0.6346 - accuracy: 0.6096 - val_loss: 0.6504 - val_accuracy: 0.5998\n",
      "Epoch 20/30\n",
      "291/291 [==============================] - 3s 12ms/step - loss: 0.6341 - accuracy: 0.6109 - val_loss: 0.6518 - val_accuracy: 0.6005\n",
      "Epoch 21/30\n",
      "291/291 [==============================] - 3s 12ms/step - loss: 0.6344 - accuracy: 0.6092 - val_loss: 0.6504 - val_accuracy: 0.6013\n",
      "Epoch 22/30\n",
      "291/291 [==============================] - 3s 12ms/step - loss: 0.6327 - accuracy: 0.6111 - val_loss: 0.6519 - val_accuracy: 0.6009\n",
      "Epoch 23/30\n",
      "291/291 [==============================] - 4s 13ms/step - loss: 0.6321 - accuracy: 0.6096 - val_loss: 0.6524 - val_accuracy: 0.6020\n",
      "Epoch 24/30\n",
      "291/291 [==============================] - 4s 13ms/step - loss: 0.6311 - accuracy: 0.6088 - val_loss: 0.6529 - val_accuracy: 0.6016\n",
      "Epoch 25/30\n",
      "291/291 [==============================] - 4s 12ms/step - loss: 0.6313 - accuracy: 0.6157 - val_loss: 0.6534 - val_accuracy: 0.5992\n",
      "Epoch 26/30\n",
      "291/291 [==============================] - 4s 12ms/step - loss: 0.6306 - accuracy: 0.6152 - val_loss: 0.6533 - val_accuracy: 0.5993\n",
      "Epoch 27/30\n",
      "291/291 [==============================] - 3s 12ms/step - loss: 0.6297 - accuracy: 0.6156 - val_loss: 0.6544 - val_accuracy: 0.5983\n",
      "Epoch 28/30\n",
      "291/291 [==============================] - 3s 12ms/step - loss: 0.6278 - accuracy: 0.6195 - val_loss: 0.6538 - val_accuracy: 0.5994\n",
      "Epoch 29/30\n",
      "291/291 [==============================] - 4s 12ms/step - loss: 0.6294 - accuracy: 0.6132 - val_loss: 0.6553 - val_accuracy: 0.6010\n",
      "Epoch 30/30\n",
      "291/291 [==============================] - 3s 12ms/step - loss: 0.6293 - accuracy: 0.6164 - val_loss: 0.6550 - val_accuracy: 0.6001\n"
     ]
    },
    {
     "data": {
      "text/plain": [
       "<tensorflow.python.keras.callbacks.History at 0x15214cfa0>"
      ]
     },
     "execution_count": 318,
     "metadata": {},
     "output_type": "execute_result"
    }
   ],
   "source": [
    "model.fit(train_ds, epochs=30, validation_data=test_ds)"
   ]
  },
  {
   "cell_type": "code",
   "execution_count": 319,
   "metadata": {},
   "outputs": [
    {
     "name": "stdout",
     "output_type": "stream",
     "text": [
      "78/78 [==============================] - 1s 9ms/step - loss: 0.6550 - accuracy: 0.6001\n",
      "Test accuracy = 60.01%\n"
     ]
    }
   ],
   "source": [
    "loss, acc = model.evaluate(test_ds)\n",
    "print(f'Test accuracy = {100*acc:.2f}%')"
   ]
  },
  {
   "cell_type": "code",
   "execution_count": 320,
   "metadata": {},
   "outputs": [],
   "source": [
    "nn_logit_preds = model.predict(test_ds).squeeze()\n",
    "nn_softmax_preds = tf.nn.sigmoid(nn_logit_preds)\n",
    "nn_preds = tf.round(nn_softmax_preds).numpy()"
   ]
  },
  {
   "cell_type": "markdown",
   "metadata": {},
   "source": [
    "## Monthly accuracy\n",
    "\n",
    "Compare the monthly accuracy for all models."
   ]
  },
  {
   "cell_type": "code",
   "execution_count": 79,
   "metadata": {},
   "outputs": [],
   "source": [
    "def monthly_accuracy(model, df, is_tf=False):\n",
    "    monthly_acc = []\n",
    "    months_list = np.sort(df['M'].unique())\n",
    "    for months in months_list:\n",
    "        test_month = df[df['M'] == months]\n",
    "\n",
    "        y_test_month = test_month.pop('home_win')\n",
    "        X_test_month = test_month\n",
    "\n",
    "        if is_tf:\n",
    "            tf_ds = tf.data.Dataset.from_tensor_slices((dict(X_test_month), y_test_month)).batch(128)\n",
    "            test_logits = model.predict(tf_ds).squeeze()\n",
    "            pred = tf.round(tf.nn.sigmoid(test_logits)).numpy()\n",
    "        else:\n",
    "            pred = model.predict(X_test_month)\n",
    "        acc = accuracy_score(y_test_month, pred)\n",
    "\n",
    "        monthly_acc.append(acc)\n",
    "\n",
    "    monthly_acc = pd.DataFrame(monthly_acc)\n",
    "    \n",
    "    return monthly_acc"
   ]
  },
  {
   "cell_type": "code",
   "execution_count": null,
   "metadata": {},
   "outputs": [],
   "source": [
    "xgb_month = monthly_accuracy(xgb_clf, test_df)\n",
    "knn_month = monthly_accuracy(knn_clf, test_df_scaled)\n",
    "knn_no_ops_month = monthly_accuracy(knn_no_ops_clf, test_df_scaled.drop('ops_pct_diff', axis=1))\n",
    "tf_test_df['home_win'] = y_test\n",
    "nn_month = monthly_accuracy(model, tf_test_df, is_tf=True)"
   ]
  },
  {
   "cell_type": "code",
   "execution_count": 81,
   "metadata": {},
   "outputs": [
    {
     "data": {
      "image/png": "[encoded data removed]",
      "text/plain": [
       "<Figure size 864x576 with 1 Axes>"
      ]
     },
     "metadata": {
      "needs_background": "light"
     },
     "output_type": "display_data"
    }
   ],
   "source": [
    "plt.figure(figsize=(12,8))\n",
    "plt.plot(xgb_month[0]*100, label='XGB')\n",
    "plt.plot(knn_month[0]*100, label='KNN')\n",
    "plt.plot(nn_month[0]*100, label='NN')\n",
    "plt.ylabel('Accuracy', fontsize=16)\n",
    "plt.xticks(range(8), ['March','April', 'May', 'June','July', 'August', 'September', 'October'])\n",
    "plt.legend();"
   ]
  },
  {
   "cell_type": "markdown",
   "metadata": {},
   "source": [
    "## Negative stats\n",
    "\n",
    "Consider stats like `ops_pct_diff` where a positive value is a strong indicator of a win for the home team. In the case where these stats are _negative_ and yet the home team still wins (or positive but the away team wins), how is each model performing?"
   ]
  },
  {
   "cell_type": "code",
   "execution_count": 196,
   "metadata": {},
   "outputs": [],
   "source": [
    "tf_test_df['home_win'] = y_test"
   ]
  },
  {
   "cell_type": "code",
   "execution_count": 197,
   "metadata": {},
   "outputs": [
    {
     "data": {
      "text/html": [
       "<div>\n",
       "<style scoped>\n",
       "    .dataframe tbody tr th:only-of-type {\n",
       "        vertical-align: middle;\n",
       "    }\n",
       "\n",
       "    .dataframe tbody tr th {\n",
       "        vertical-align: top;\n",
       "    }\n",
       "\n",
       "    .dataframe thead th {\n",
       "        text-align: right;\n",
       "    }\n",
       "</style>\n",
       "<table border=\"1\" class=\"dataframe\">\n",
       "  <thead>\n",
       "    <tr style=\"text-align: right;\">\n",
       "      <th></th>\n",
       "      <th>home_team</th>\n",
       "      <th>away_team</th>\n",
       "      <th>Y</th>\n",
       "      <th>M</th>\n",
       "      <th>avg_pct_diff</th>\n",
       "      <th>obp_pct_diff</th>\n",
       "      <th>slg_pct_diff</th>\n",
       "      <th>team_ERA_pct_diff</th>\n",
       "      <th>team_WHIP_pct_diff</th>\n",
       "      <th>team_W-L_pct_diff</th>\n",
       "      <th>...</th>\n",
       "      <th>log_5</th>\n",
       "      <th>xgb_pred</th>\n",
       "      <th>knn_pred</th>\n",
       "      <th>nn_pred</th>\n",
       "      <th>xgb_proba</th>\n",
       "      <th>knn_proba</th>\n",
       "      <th>nn_proba</th>\n",
       "      <th>home_win</th>\n",
       "      <th>knn_no_ops_pred</th>\n",
       "      <th>knn_no_ops_proba</th>\n",
       "    </tr>\n",
       "  </thead>\n",
       "  <tbody>\n",
       "    <tr>\n",
       "      <th>36441</th>\n",
       "      <td>KCA</td>\n",
       "      <td>NYN</td>\n",
       "      <td>2016</td>\n",
       "      <td>4</td>\n",
       "      <td>8.620726</td>\n",
       "      <td>3.092675</td>\n",
       "      <td>2.578581</td>\n",
       "      <td>7.754011</td>\n",
       "      <td>8.007859</td>\n",
       "      <td>5.263158</td>\n",
       "      <td>...</td>\n",
       "      <td>0.5</td>\n",
       "      <td>1</td>\n",
       "      <td>1</td>\n",
       "      <td>1</td>\n",
       "      <td>0.562908</td>\n",
       "      <td>0.533333</td>\n",
       "      <td>0.590414</td>\n",
       "      <td>1</td>\n",
       "      <td>1</td>\n",
       "      <td>0.533333</td>\n",
       "    </tr>\n",
       "    <tr>\n",
       "      <th>36442</th>\n",
       "      <td>PIT</td>\n",
       "      <td>SLN</td>\n",
       "      <td>2016</td>\n",
       "      <td>4</td>\n",
       "      <td>2.309712</td>\n",
       "      <td>0.376945</td>\n",
       "      <td>-0.040732</td>\n",
       "      <td>8.978328</td>\n",
       "      <td>-1.211283</td>\n",
       "      <td>-2.040816</td>\n",
       "      <td>...</td>\n",
       "      <td>0.5</td>\n",
       "      <td>1</td>\n",
       "      <td>0</td>\n",
       "      <td>1</td>\n",
       "      <td>0.533676</td>\n",
       "      <td>0.493333</td>\n",
       "      <td>0.563689</td>\n",
       "      <td>1</td>\n",
       "      <td>1</td>\n",
       "      <td>0.506667</td>\n",
       "    </tr>\n",
       "    <tr>\n",
       "      <th>36443</th>\n",
       "      <td>TBA</td>\n",
       "      <td>TOR</td>\n",
       "      <td>2016</td>\n",
       "      <td>4</td>\n",
       "      <td>-5.864577</td>\n",
       "      <td>-7.555239</td>\n",
       "      <td>-12.023378</td>\n",
       "      <td>-1.871658</td>\n",
       "      <td>1.468752</td>\n",
       "      <td>-16.250000</td>\n",
       "      <td>...</td>\n",
       "      <td>0.5</td>\n",
       "      <td>0</td>\n",
       "      <td>1</td>\n",
       "      <td>1</td>\n",
       "      <td>0.454400</td>\n",
       "      <td>0.566667</td>\n",
       "      <td>0.666198</td>\n",
       "      <td>0</td>\n",
       "      <td>1</td>\n",
       "      <td>0.593333</td>\n",
       "    </tr>\n",
       "    <tr>\n",
       "      <th>36444</th>\n",
       "      <td>ANA</td>\n",
       "      <td>CHN</td>\n",
       "      <td>2016</td>\n",
       "      <td>4</td>\n",
       "      <td>0.398896</td>\n",
       "      <td>-4.950458</td>\n",
       "      <td>-0.794957</td>\n",
       "      <td>14.720812</td>\n",
       "      <td>8.900281</td>\n",
       "      <td>-14.117647</td>\n",
       "      <td>...</td>\n",
       "      <td>0.5</td>\n",
       "      <td>0</td>\n",
       "      <td>0</td>\n",
       "      <td>1</td>\n",
       "      <td>0.450952</td>\n",
       "      <td>0.460000</td>\n",
       "      <td>0.531114</td>\n",
       "      <td>0</td>\n",
       "      <td>0</td>\n",
       "      <td>0.420000</td>\n",
       "    </tr>\n",
       "    <tr>\n",
       "      <th>36445</th>\n",
       "      <td>ARI</td>\n",
       "      <td>COL</td>\n",
       "      <td>2016</td>\n",
       "      <td>4</td>\n",
       "      <td>-1.095675</td>\n",
       "      <td>2.427164</td>\n",
       "      <td>-5.196744</td>\n",
       "      <td>-24.444444</td>\n",
       "      <td>-13.778463</td>\n",
       "      <td>13.924051</td>\n",
       "      <td>...</td>\n",
       "      <td>0.5</td>\n",
       "      <td>1</td>\n",
       "      <td>0</td>\n",
       "      <td>1</td>\n",
       "      <td>0.584152</td>\n",
       "      <td>0.446667</td>\n",
       "      <td>0.562535</td>\n",
       "      <td>0</td>\n",
       "      <td>0</td>\n",
       "      <td>0.466667</td>\n",
       "    </tr>\n",
       "  </tbody>\n",
       "</table>\n",
       "<p>5 rows × 35 columns</p>\n",
       "</div>"
      ],
      "text/plain": [
       "      home_team away_team     Y  M  avg_pct_diff  obp_pct_diff  slg_pct_diff  \\\n",
       "36441       KCA       NYN  2016  4      8.620726      3.092675      2.578581   \n",
       "36442       PIT       SLN  2016  4      2.309712      0.376945     -0.040732   \n",
       "36443       TBA       TOR  2016  4     -5.864577     -7.555239    -12.023378   \n",
       "36444       ANA       CHN  2016  4      0.398896     -4.950458     -0.794957   \n",
       "36445       ARI       COL  2016  4     -1.095675      2.427164     -5.196744   \n",
       "\n",
       "       team_ERA_pct_diff  team_WHIP_pct_diff  team_W-L_pct_diff  ...  log_5  \\\n",
       "36441           7.754011            8.007859           5.263158  ...    0.5   \n",
       "36442           8.978328           -1.211283          -2.040816  ...    0.5   \n",
       "36443          -1.871658            1.468752         -16.250000  ...    0.5   \n",
       "36444          14.720812            8.900281         -14.117647  ...    0.5   \n",
       "36445         -24.444444          -13.778463          13.924051  ...    0.5   \n",
       "\n",
       "       xgb_pred  knn_pred  nn_pred  xgb_proba  knn_proba  nn_proba  home_win  \\\n",
       "36441         1         1        1   0.562908   0.533333  0.590414         1   \n",
       "36442         1         0        1   0.533676   0.493333  0.563689         1   \n",
       "36443         0         1        1   0.454400   0.566667  0.666198         0   \n",
       "36444         0         0        1   0.450952   0.460000  0.531114         0   \n",
       "36445         1         0        1   0.584152   0.446667  0.562535         0   \n",
       "\n",
       "       knn_no_ops_pred  knn_no_ops_proba  \n",
       "36441                1          0.533333  \n",
       "36442                1          0.506667  \n",
       "36443                1          0.593333  \n",
       "36444                0          0.420000  \n",
       "36445                0          0.466667  \n",
       "\n",
       "[5 rows x 35 columns]"
      ]
     },
     "execution_count": 197,
     "metadata": {},
     "output_type": "execute_result"
    }
   ],
   "source": [
    "tf_test_df.head()"
   ]
  },
  {
   "cell_type": "code",
   "execution_count": 204,
   "metadata": {},
   "outputs": [],
   "source": [
    "def negative_stats_acc(df, col, reverse=False):\n",
    "    if not reverse:\n",
    "        unusual_df = df[((df[col] > 0) & (df['home_win'] == 0)) | ((df[col] < 0) & (df['home_win'] == 1))]\n",
    "    else:\n",
    "        unusual_df = df[((df[col] < 0) & (df['home_win'] == 0)) | ((df[col] > 0) & (df['home_win'] == 1))]\n",
    "    \n",
    "    xgb_acc = (unusual_df['xgb_pred'] == unusual_df['home_win']).sum() / unusual_df.shape[0]\n",
    "    nn_acc = (unusual_df['nn_pred'] == unusual_df['home_win']).sum() / unusual_df.shape[0]\n",
    "    knn_acc = (unusual_df['knn_pred'] == unusual_df['home_win']).sum() / unusual_df.shape[0]\n",
    "    knn_no_ops_acc = (unusual_df['knn_no_ops_pred'] == unusual_df['home_win']).sum() / unusual_df.shape[0]\n",
    "    \n",
    "    print(f'{\"=\"*10} {col} {\"=\"*10}')\n",
    "    print(f'XGB acc = {100*xgb_acc:.2f}%')\n",
    "    print(f'NN acc = {100*nn_acc:.2f}%')\n",
    "    print(f'KNN acc = {100*knn_acc:.2f}%')\n",
    "    print(f'KNN (no OPS) acc = {100*knn_no_ops_acc:.2f}%')"
   ]
  },
  {
   "cell_type": "code",
   "execution_count": 293,
   "metadata": {},
   "outputs": [],
   "source": [
    "reverse_cols = ['team_ERA_pct_diff', 'pitcher_ERA_pct_diff', 'team_WHIP_pct_diff',\n",
    "                'pitcher_WHIP_pct_diff', 'team_Rank_pct_diff', 'Rank_pct_diff']\n",
    "pct_diff_cols = [c for c in tf_test_df.columns if c.endswith('_pct_diff')]"
   ]
  },
  {
   "cell_type": "code",
   "execution_count": 206,
   "metadata": {},
   "outputs": [],
   "source": [
    "for c in reverse_cols:\n",
    "    pct_diff_cols.remove(c)"
   ]
  },
  {
   "cell_type": "code",
   "execution_count": 207,
   "metadata": {},
   "outputs": [
    {
     "name": "stdout",
     "output_type": "stream",
     "text": [
      "========== avg_pct_diff ==========\n",
      "XGB acc = 31.32%\n",
      "NN acc = 26.86%\n",
      "KNN acc = 27.62%\n",
      "KNN (no OPS) acc = 27.29%\n",
      "========== obp_pct_diff ==========\n",
      "XGB acc = 26.99%\n",
      "NN acc = 24.87%\n",
      "KNN acc = 24.55%\n",
      "KNN (no OPS) acc = 24.76%\n",
      "========== slg_pct_diff ==========\n",
      "XGB acc = 27.15%\n",
      "NN acc = 22.95%\n",
      "KNN acc = 25.77%\n",
      "KNN (no OPS) acc = 27.76%\n",
      "========== team_W-L_pct_diff ==========\n",
      "XGB acc = 51.64%\n",
      "NN acc = 55.34%\n",
      "KNN acc = 48.38%\n",
      "KNN (no OPS) acc = 48.10%\n",
      "========== team_FP_pct_diff ==========\n",
      "XGB acc = 59.50%\n",
      "NN acc = 61.55%\n",
      "KNN acc = 57.47%\n",
      "KNN (no OPS) acc = 57.61%\n",
      "========== R_pct_diff ==========\n",
      "XGB acc = 54.32%\n",
      "NN acc = 54.22%\n",
      "KNN acc = 49.10%\n",
      "KNN (no OPS) acc = 48.97%\n",
      "========== RA_pct_diff ==========\n",
      "XGB acc = 70.13%\n",
      "NN acc = 67.08%\n",
      "KNN acc = 70.99%\n",
      "KNN (no OPS) acc = 71.23%\n",
      "========== pytha_pct_diff ==========\n",
      "XGB acc = 50.92%\n",
      "NN acc = 53.32%\n",
      "KNN acc = 47.52%\n",
      "KNN (no OPS) acc = 47.26%\n",
      "========== win_pct_diff ==========\n",
      "XGB acc = 52.21%\n",
      "NN acc = 53.85%\n",
      "KNN acc = 48.41%\n",
      "KNN (no OPS) acc = 48.12%\n",
      "========== bayes_pct_diff ==========\n",
      "XGB acc = 57.55%\n",
      "NN acc = 59.09%\n",
      "KNN acc = 56.37%\n",
      "KNN (no OPS) acc = 55.88%\n",
      "========== pitcher_IP_pct_diff ==========\n",
      "XGB acc = 54.15%\n",
      "NN acc = 57.03%\n",
      "KNN acc = 58.02%\n",
      "KNN (no OPS) acc = 57.85%\n",
      "========== ops_pct_diff ==========\n",
      "XGB acc = 21.52%\n",
      "NN acc = 18.02%\n",
      "KNN acc = 20.62%\n",
      "KNN (no OPS) acc = 22.50%\n",
      "========== RD_pct_diff ==========\n",
      "XGB acc = 57.69%\n",
      "NN acc = 60.33%\n",
      "KNN acc = 57.45%\n",
      "KNN (no OPS) acc = 56.91%\n",
      "========== FP_pct_diff ==========\n",
      "XGB acc = 59.50%\n",
      "NN acc = 61.55%\n",
      "KNN acc = 57.47%\n",
      "KNN (no OPS) acc = 57.61%\n",
      "========== WPA_pct_diff ==========\n",
      "XGB acc = 56.01%\n",
      "NN acc = 58.79%\n",
      "KNN acc = 55.56%\n",
      "KNN (no OPS) acc = 55.24%\n"
     ]
    }
   ],
   "source": [
    "for c in pct_diff_cols:\n",
    "    negative_stats_acc(tf_test_df, c)"
   ]
  },
  {
   "cell_type": "code",
   "execution_count": 208,
   "metadata": {},
   "outputs": [
    {
     "name": "stdout",
     "output_type": "stream",
     "text": [
      "========== team_ERA_pct_diff ==========\n",
      "XGB acc = 53.05%\n",
      "NN acc = 55.55%\n",
      "KNN acc = 49.51%\n",
      "KNN (no OPS) acc = 49.21%\n",
      "========== pitcher_ERA_pct_diff ==========\n",
      "XGB acc = 61.37%\n",
      "NN acc = 59.52%\n",
      "KNN acc = 61.23%\n",
      "KNN (no OPS) acc = 61.41%\n",
      "========== team_WHIP_pct_diff ==========\n",
      "XGB acc = 53.26%\n",
      "NN acc = 55.71%\n",
      "KNN acc = 50.12%\n",
      "KNN (no OPS) acc = 49.77%\n",
      "========== pitcher_WHIP_pct_diff ==========\n",
      "XGB acc = 56.96%\n",
      "NN acc = 57.73%\n",
      "KNN acc = 56.55%\n",
      "KNN (no OPS) acc = 56.22%\n",
      "========== team_Rank_pct_diff ==========\n",
      "XGB acc = 50.88%\n",
      "NN acc = 55.41%\n",
      "KNN acc = 47.78%\n",
      "KNN (no OPS) acc = 47.39%\n",
      "========== Rank_pct_diff ==========\n",
      "XGB acc = 50.88%\n",
      "NN acc = 55.41%\n",
      "KNN acc = 47.78%\n",
      "KNN (no OPS) acc = 47.39%\n"
     ]
    }
   ],
   "source": [
    "for c in reverse_cols:\n",
    "    negative_stats_acc(tf_test_df, c, reverse=True)"
   ]
  },
  {
   "cell_type": "markdown",
   "metadata": {},
   "source": [
    "## Ensembling"
   ]
  },
  {
   "cell_type": "code",
   "execution_count": 272,
   "metadata": {},
   "outputs": [],
   "source": [
    "assert xgb_preds.shape == knn_preds.shape == nn_preds.shape == y_test.shape"
   ]
  },
  {
   "cell_type": "code",
   "execution_count": 273,
   "metadata": {},
   "outputs": [
    {
     "name": "stdout",
     "output_type": "stream",
     "text": [
      "Individual model accuracy:\n",
      "XGB: 60.85%\n",
      "KNN: 61.57%\n",
      "KNN (no hitting): 61.59%\n",
      "NN: 61.41%\n"
     ]
    }
   ],
   "source": [
    "print('Individual model accuracy:')\n",
    "print(f'XGB: {100*accuracy_score(y_test, xgb_preds):.2f}%')\n",
    "print(f'KNN: {100*accuracy_score(y_test, knn_preds):.2f}%')\n",
    "print(f'KNN (no hitting): {100*accuracy_score(y_test, knn_no_ops_preds):.2f}%')\n",
    "print(f'NN: {100*accuracy_score(y_test, nn_preds):.2f}%')       "
   ]
  },
  {
   "cell_type": "markdown",
   "metadata": {},
   "source": [
    "### Maximum possible accuracy\n",
    "\n",
    "If we could always pick the \"right\" model for each row, what is the best possible test accuracy we could get from these three models?"
   ]
  },
  {
   "cell_type": "code",
   "execution_count": 274,
   "metadata": {},
   "outputs": [
    {
     "name": "stdout",
     "output_type": "stream",
     "text": [
      "Maximum possible accuracy = 75.50%\n"
     ]
    }
   ],
   "source": [
    "num_correct = 0\n",
    "\n",
    "for i in range(y_test.shape[0]):\n",
    "    if y_test.values[i] in [xgb_preds[i], knn_no_ops_preds[i], nn_preds[i]]:\n",
    "        num_correct += 1\n",
    "\n",
    "print(f'Maximum possible accuracy = {100*num_correct / y_test.shape[0]:.2f}%')"
   ]
  },
  {
   "cell_type": "markdown",
   "metadata": {},
   "source": [
    "### Majority voting\n",
    "\n",
    "Just pick the prediction that the majority of the models voted for."
   ]
  },
  {
   "cell_type": "code",
   "execution_count": 275,
   "metadata": {},
   "outputs": [
    {
     "name": "stdout",
     "output_type": "stream",
     "text": [
      "Majority voting accuracy = 61.85%\n"
     ]
    }
   ],
   "source": [
    "num_correct = 0\n",
    "\n",
    "for i in range(y_test.shape[0]):\n",
    "    # Just add them up. If at least two models voted 1, then choose 1. Otherwise choose 0.\n",
    "    majority_vote = np.sum([xgb_preds[i], knn_no_ops_preds[i], nn_preds[i]])\n",
    "    if majority_vote > 1:\n",
    "        majority_vote = 1\n",
    "    else:\n",
    "        majority_vote = 0\n",
    "    if y_test.values[i] == majority_vote:\n",
    "        num_correct += 1\n",
    "\n",
    "print(f'Majority voting accuracy = {100*num_correct / y_test.shape[0]:.2f}%')"
   ]
  },
  {
   "cell_type": "markdown",
   "metadata": {},
   "source": [
    "### Number of positive columns\n",
    "Choose a KNN when the number of positive columns (from list below) is < 5, and the NN when it's greater than 5. This work/idea comes from the `Comparing model predictions` notebook."
   ]
  },
  {
   "cell_type": "code",
   "execution_count": 330,
   "metadata": {},
   "outputs": [],
   "source": [
    "pct_diff_cols = [c for c in tf_test_df.columns if c.endswith('_pct_diff')]\n",
    "pct_diff_reverse_cols = ['pitcher_WHIP_pct_diff', 'team_Rank_pct_diff', \n",
    "                         'team_WHIP_pct_diff', 'team_ERA_pct_diff', 'pitcher_ERA_pct_diff',\n",
    "                         'team_RA_pct_diff']\n",
    "for c in pct_diff_reverse_cols:\n",
    "    pct_diff_cols.remove(c)"
   ]
  },
  {
   "cell_type": "code",
   "execution_count": 335,
   "metadata": {},
   "outputs": [
    {
     "data": {
      "text/plain": [
       "6"
      ]
     },
     "execution_count": 335,
     "metadata": {},
     "output_type": "execute_result"
    }
   ],
   "source": [
    "(tf_test_df.iloc[0][pct_diff_cols] > 0).sum()"
   ]
  },
  {
   "cell_type": "code",
   "execution_count": 337,
   "metadata": {},
   "outputs": [
    {
     "name": "stdout",
     "output_type": "stream",
     "text": [
      "Majority voting accuracy = 61.87%\n"
     ]
    }
   ],
   "source": [
    "num_correct = 0\n",
    "\n",
    "for i in range(y_test.shape[0]):\n",
    "    # Just add them up. If at least two models voted 1, then choose 1. Otherwise choose 0.\n",
    "    vote = np.sum([knn_no_ops_preds[i], nn_preds[i]])\n",
    "    if vote == 2:\n",
    "        vote = 1\n",
    "    elif vote == 0:\n",
    "        vote = 0\n",
    "    elif (tf_test_df.iloc[i][pct_diff_cols] > 0).sum() >= 5:\n",
    "        vote = knn_no_ops_preds[i]\n",
    "    else:\n",
    "        vote = nn_preds[i]\n",
    "        \n",
    "    if y_test.values[i] == vote:\n",
    "        num_correct += 1\n",
    "\n",
    "print(f'Majority voting accuracy = {100*num_correct / y_test.shape[0]:.2f}%')"
   ]
  },
  {
   "cell_type": "code",
   "execution_count": 338,
   "metadata": {},
   "outputs": [
    {
     "name": "stdout",
     "output_type": "stream",
     "text": [
      "Majority voting accuracy = 61.95%\n"
     ]
    }
   ],
   "source": [
    "num_correct = 0\n",
    "\n",
    "for i in range(y_test.shape[0]):\n",
    "    # Just add them up. If at least two models voted 1, then choose 1. Otherwise choose 0.\n",
    "    vote = np.sum([knn_no_ops_preds[i], nn_preds[i]])\n",
    "    if vote == 2:\n",
    "        vote = 1\n",
    "    elif vote == 0:\n",
    "        vote = 0\n",
    "    elif (tf_test_df.iloc[i][pct_diff_reverse_cols] < 0).sum() >= 4:\n",
    "        vote = knn_no_ops_preds[i]\n",
    "    else:\n",
    "        vote = nn_preds[i]\n",
    "        \n",
    "    if y_test.values[i] == vote:\n",
    "        num_correct += 1\n",
    "\n",
    "print(f'Majority voting accuracy = {100*num_correct / y_test.shape[0]:.2f}%')"
   ]
  },
  {
   "cell_type": "markdown",
   "metadata": {},
   "source": [
    "## Recording predictions\n",
    "\n",
    "Save a dataframe with the predictions for each model."
   ]
  },
  {
   "cell_type": "code",
   "execution_count": 325,
   "metadata": {},
   "outputs": [
    {
     "data": {
      "text/html": [
       "<div>\n",
       "<style scoped>\n",
       "    .dataframe tbody tr th:only-of-type {\n",
       "        vertical-align: middle;\n",
       "    }\n",
       "\n",
       "    .dataframe tbody tr th {\n",
       "        vertical-align: top;\n",
       "    }\n",
       "\n",
       "    .dataframe thead th {\n",
       "        text-align: right;\n",
       "    }\n",
       "</style>\n",
       "<table border=\"1\" class=\"dataframe\">\n",
       "  <thead>\n",
       "    <tr style=\"text-align: right;\">\n",
       "      <th></th>\n",
       "      <th>Y</th>\n",
       "      <th>M</th>\n",
       "      <th>home_team</th>\n",
       "      <th>away_team</th>\n",
       "      <th>home_elo</th>\n",
       "      <th>away_elo</th>\n",
       "      <th>home_avg</th>\n",
       "      <th>away_avg</th>\n",
       "      <th>home_obp</th>\n",
       "      <th>away_obp</th>\n",
       "      <th>...</th>\n",
       "      <th>team_WHIP_pct_diff</th>\n",
       "      <th>xgb_pred</th>\n",
       "      <th>knn_pred</th>\n",
       "      <th>knn_no_batting_pred</th>\n",
       "      <th>nn_pred</th>\n",
       "      <th>xgb_proba</th>\n",
       "      <th>knn_proba</th>\n",
       "      <th>knn_no_batting_proba</th>\n",
       "      <th>nn_proba</th>\n",
       "      <th>home_win</th>\n",
       "    </tr>\n",
       "  </thead>\n",
       "  <tbody>\n",
       "    <tr>\n",
       "      <th>37193</th>\n",
       "      <td>2016</td>\n",
       "      <td>4</td>\n",
       "      <td>PIT</td>\n",
       "      <td>SLN</td>\n",
       "      <td>1533.1644</td>\n",
       "      <td>1526.7958</td>\n",
       "      <td>0.252810</td>\n",
       "      <td>0.246971</td>\n",
       "      <td>0.317378</td>\n",
       "      <td>0.316181</td>\n",
       "      <td>...</td>\n",
       "      <td>-0.012113</td>\n",
       "      <td>0.0</td>\n",
       "      <td>0.0</td>\n",
       "      <td>0.0</td>\n",
       "      <td>1</td>\n",
       "      <td>0.452681</td>\n",
       "      <td>0.500000</td>\n",
       "      <td>0.500000</td>\n",
       "      <td>0.615994</td>\n",
       "      <td>1.0</td>\n",
       "    </tr>\n",
       "    <tr>\n",
       "      <th>37194</th>\n",
       "      <td>2016</td>\n",
       "      <td>4</td>\n",
       "      <td>TBA</td>\n",
       "      <td>TOR</td>\n",
       "      <td>1508.5856</td>\n",
       "      <td>1543.1775</td>\n",
       "      <td>0.246346</td>\n",
       "      <td>0.260793</td>\n",
       "      <td>0.309376</td>\n",
       "      <td>0.332750</td>\n",
       "      <td>...</td>\n",
       "      <td>0.014688</td>\n",
       "      <td>0.0</td>\n",
       "      <td>0.0</td>\n",
       "      <td>0.0</td>\n",
       "      <td>0</td>\n",
       "      <td>0.377228</td>\n",
       "      <td>0.493333</td>\n",
       "      <td>0.500000</td>\n",
       "      <td>0.446586</td>\n",
       "      <td>0.0</td>\n",
       "    </tr>\n",
       "    <tr>\n",
       "      <th>37195</th>\n",
       "      <td>2016</td>\n",
       "      <td>4</td>\n",
       "      <td>KCA</td>\n",
       "      <td>NYN</td>\n",
       "      <td>1542.5957</td>\n",
       "      <td>1524.7207</td>\n",
       "      <td>0.262548</td>\n",
       "      <td>0.239915</td>\n",
       "      <td>0.317525</td>\n",
       "      <td>0.307705</td>\n",
       "      <td>...</td>\n",
       "      <td>0.080079</td>\n",
       "      <td>1.0</td>\n",
       "      <td>0.0</td>\n",
       "      <td>0.0</td>\n",
       "      <td>1</td>\n",
       "      <td>0.629717</td>\n",
       "      <td>0.500000</td>\n",
       "      <td>0.500000</td>\n",
       "      <td>0.588885</td>\n",
       "      <td>1.0</td>\n",
       "    </tr>\n",
       "    <tr>\n",
       "      <th>37196</th>\n",
       "      <td>2016</td>\n",
       "      <td>4</td>\n",
       "      <td>OAK</td>\n",
       "      <td>CHA</td>\n",
       "      <td>1488.3344</td>\n",
       "      <td>1489.9082</td>\n",
       "      <td>0.246621</td>\n",
       "      <td>0.244771</td>\n",
       "      <td>0.308523</td>\n",
       "      <td>0.302390</td>\n",
       "      <td>...</td>\n",
       "      <td>-0.016226</td>\n",
       "      <td>1.0</td>\n",
       "      <td>1.0</td>\n",
       "      <td>1.0</td>\n",
       "      <td>1</td>\n",
       "      <td>0.572504</td>\n",
       "      <td>0.533333</td>\n",
       "      <td>0.540000</td>\n",
       "      <td>0.503614</td>\n",
       "      <td>0.0</td>\n",
       "    </tr>\n",
       "    <tr>\n",
       "      <th>37197</th>\n",
       "      <td>2016</td>\n",
       "      <td>4</td>\n",
       "      <td>ANA</td>\n",
       "      <td>CHN</td>\n",
       "      <td>1509.8676</td>\n",
       "      <td>1526.6748</td>\n",
       "      <td>0.240166</td>\n",
       "      <td>0.239208</td>\n",
       "      <td>0.301890</td>\n",
       "      <td>0.316835</td>\n",
       "      <td>...</td>\n",
       "      <td>0.089003</td>\n",
       "      <td>1.0</td>\n",
       "      <td>1.0</td>\n",
       "      <td>1.0</td>\n",
       "      <td>1</td>\n",
       "      <td>0.515874</td>\n",
       "      <td>0.506667</td>\n",
       "      <td>0.513333</td>\n",
       "      <td>0.609053</td>\n",
       "      <td>0.0</td>\n",
       "    </tr>\n",
       "  </tbody>\n",
       "</table>\n",
       "<p>5 rows × 94 columns</p>\n",
       "</div>"
      ],
      "text/plain": [
       "          Y  M home_team away_team   home_elo   away_elo  home_avg  away_avg  \\\n",
       "37193  2016  4       PIT       SLN  1533.1644  1526.7958  0.252810  0.246971   \n",
       "37194  2016  4       TBA       TOR  1508.5856  1543.1775  0.246346  0.260793   \n",
       "37195  2016  4       KCA       NYN  1542.5957  1524.7207  0.262548  0.239915   \n",
       "37196  2016  4       OAK       CHA  1488.3344  1489.9082  0.246621  0.244771   \n",
       "37197  2016  4       ANA       CHN  1509.8676  1526.6748  0.240166  0.239208   \n",
       "\n",
       "       home_obp  away_obp  ...  team_WHIP_pct_diff  xgb_pred  knn_pred  \\\n",
       "37193  0.317378  0.316181  ...           -0.012113       0.0       0.0   \n",
       "37194  0.309376  0.332750  ...            0.014688       0.0       0.0   \n",
       "37195  0.317525  0.307705  ...            0.080079       1.0       0.0   \n",
       "37196  0.308523  0.302390  ...           -0.016226       1.0       1.0   \n",
       "37197  0.301890  0.316835  ...            0.089003       1.0       1.0   \n",
       "\n",
       "       knn_no_batting_pred  nn_pred  xgb_proba  knn_proba  \\\n",
       "37193                  0.0        1   0.452681   0.500000   \n",
       "37194                  0.0        0   0.377228   0.493333   \n",
       "37195                  0.0        1   0.629717   0.500000   \n",
       "37196                  1.0        1   0.572504   0.533333   \n",
       "37197                  1.0        1   0.515874   0.506667   \n",
       "\n",
       "       knn_no_batting_proba  nn_proba  home_win  \n",
       "37193              0.500000  0.615994       1.0  \n",
       "37194              0.500000  0.446586       0.0  \n",
       "37195              0.500000  0.588885       1.0  \n",
       "37196              0.540000  0.503614       0.0  \n",
       "37197              0.513333  0.609053       0.0  \n",
       "\n",
       "[5 rows x 94 columns]"
      ]
     },
     "execution_count": 325,
     "metadata": {},
     "output_type": "execute_result"
    }
   ],
   "source": [
    "tf_test_df.head()"
   ]
  },
  {
   "cell_type": "code",
   "execution_count": 321,
   "metadata": {},
   "outputs": [],
   "source": [
    "tf_test_df['home_team'] = le.inverse_transform(tf_test_df['home_team'])\n",
    "tf_test_df['away_team'] = le.inverse_transform(tf_test_df['away_team'])"
   ]
  },
  {
   "cell_type": "code",
   "execution_count": 278,
   "metadata": {},
   "outputs": [
    {
     "data": {
      "text/html": [
       "<div>\n",
       "<style scoped>\n",
       "    .dataframe tbody tr th:only-of-type {\n",
       "        vertical-align: middle;\n",
       "    }\n",
       "\n",
       "    .dataframe tbody tr th {\n",
       "        vertical-align: top;\n",
       "    }\n",
       "\n",
       "    .dataframe thead th {\n",
       "        text-align: right;\n",
       "    }\n",
       "</style>\n",
       "<table border=\"1\" class=\"dataframe\">\n",
       "  <thead>\n",
       "    <tr style=\"text-align: right;\">\n",
       "      <th></th>\n",
       "      <th>Y</th>\n",
       "      <th>M</th>\n",
       "      <th>home_team</th>\n",
       "      <th>away_team</th>\n",
       "      <th>home_elo</th>\n",
       "      <th>away_elo</th>\n",
       "      <th>home_avg</th>\n",
       "      <th>away_avg</th>\n",
       "      <th>home_obp</th>\n",
       "      <th>away_obp</th>\n",
       "      <th>...</th>\n",
       "      <th>team_ops_pct_diff</th>\n",
       "      <th>team_RD_pct_diff</th>\n",
       "      <th>team_FP_pct_diff</th>\n",
       "      <th>team_Rank_pct_diff</th>\n",
       "      <th>team_ERA_pct_diff</th>\n",
       "      <th>team_RA_pct_diff</th>\n",
       "      <th>team_R_pct_diff</th>\n",
       "      <th>team_bayes_pct_diff</th>\n",
       "      <th>team_pytha_pct_diff</th>\n",
       "      <th>log_5</th>\n",
       "    </tr>\n",
       "  </thead>\n",
       "  <tbody>\n",
       "    <tr>\n",
       "      <th>37193</th>\n",
       "      <td>2016</td>\n",
       "      <td>4</td>\n",
       "      <td>PIT</td>\n",
       "      <td>SLN</td>\n",
       "      <td>1533.1644</td>\n",
       "      <td>1526.7958</td>\n",
       "      <td>0.252810</td>\n",
       "      <td>0.246971</td>\n",
       "      <td>0.317378</td>\n",
       "      <td>0.316181</td>\n",
       "      <td>...</td>\n",
       "      <td>0.001479</td>\n",
       "      <td>-0.207921</td>\n",
       "      <td>-0.003058</td>\n",
       "      <td>0.50</td>\n",
       "      <td>0.089783</td>\n",
       "      <td>0.119128</td>\n",
       "      <td>0.071736</td>\n",
       "      <td>0.0</td>\n",
       "      <td>0.000714</td>\n",
       "      <td>0.5</td>\n",
       "    </tr>\n",
       "    <tr>\n",
       "      <th>37194</th>\n",
       "      <td>2016</td>\n",
       "      <td>4</td>\n",
       "      <td>TBA</td>\n",
       "      <td>TOR</td>\n",
       "      <td>1508.5856</td>\n",
       "      <td>1543.1775</td>\n",
       "      <td>0.246346</td>\n",
       "      <td>0.260793</td>\n",
       "      <td>0.309376</td>\n",
       "      <td>0.332750</td>\n",
       "      <td>...</td>\n",
       "      <td>-0.100639</td>\n",
       "      <td>-109.500000</td>\n",
       "      <td>-0.001016</td>\n",
       "      <td>0.75</td>\n",
       "      <td>-0.018717</td>\n",
       "      <td>-0.043614</td>\n",
       "      <td>-0.383540</td>\n",
       "      <td>0.0</td>\n",
       "      <td>0.000714</td>\n",
       "      <td>0.5</td>\n",
       "    </tr>\n",
       "    <tr>\n",
       "      <th>37195</th>\n",
       "      <td>2016</td>\n",
       "      <td>4</td>\n",
       "      <td>KCA</td>\n",
       "      <td>NYN</td>\n",
       "      <td>1542.5957</td>\n",
       "      <td>1524.7207</td>\n",
       "      <td>0.262548</td>\n",
       "      <td>0.239915</td>\n",
       "      <td>0.317525</td>\n",
       "      <td>0.307705</td>\n",
       "      <td>...</td>\n",
       "      <td>0.028053</td>\n",
       "      <td>0.156627</td>\n",
       "      <td>-0.001015</td>\n",
       "      <td>0.00</td>\n",
       "      <td>0.077540</td>\n",
       "      <td>0.043682</td>\n",
       "      <td>0.056630</td>\n",
       "      <td>0.0</td>\n",
       "      <td>0.000714</td>\n",
       "      <td>0.5</td>\n",
       "    </tr>\n",
       "    <tr>\n",
       "      <th>37196</th>\n",
       "      <td>2016</td>\n",
       "      <td>4</td>\n",
       "      <td>OAK</td>\n",
       "      <td>CHA</td>\n",
       "      <td>1488.3344</td>\n",
       "      <td>1489.9082</td>\n",
       "      <td>0.246621</td>\n",
       "      <td>0.244771</td>\n",
       "      <td>0.308523</td>\n",
       "      <td>0.302390</td>\n",
       "      <td>...</td>\n",
       "      <td>0.031095</td>\n",
       "      <td>-1.257143</td>\n",
       "      <td>-0.004086</td>\n",
       "      <td>0.20</td>\n",
       "      <td>0.043269</td>\n",
       "      <td>0.038409</td>\n",
       "      <td>0.103746</td>\n",
       "      <td>0.0</td>\n",
       "      <td>0.000714</td>\n",
       "      <td>0.5</td>\n",
       "    </tr>\n",
       "    <tr>\n",
       "      <th>37197</th>\n",
       "      <td>2016</td>\n",
       "      <td>4</td>\n",
       "      <td>ANA</td>\n",
       "      <td>CHN</td>\n",
       "      <td>1509.8676</td>\n",
       "      <td>1526.6748</td>\n",
       "      <td>0.240166</td>\n",
       "      <td>0.239208</td>\n",
       "      <td>0.301890</td>\n",
       "      <td>0.316835</td>\n",
       "      <td>...</td>\n",
       "      <td>-0.026164</td>\n",
       "      <td>6.785714</td>\n",
       "      <td>0.002033</td>\n",
       "      <td>0.00</td>\n",
       "      <td>0.147208</td>\n",
       "      <td>0.099259</td>\n",
       "      <td>-0.042360</td>\n",
       "      <td>0.0</td>\n",
       "      <td>0.000714</td>\n",
       "      <td>0.5</td>\n",
       "    </tr>\n",
       "  </tbody>\n",
       "</table>\n",
       "<p>5 rows × 84 columns</p>\n",
       "</div>"
      ],
      "text/plain": [
       "          Y  M home_team away_team   home_elo   away_elo  home_avg  away_avg  \\\n",
       "37193  2016  4       PIT       SLN  1533.1644  1526.7958  0.252810  0.246971   \n",
       "37194  2016  4       TBA       TOR  1508.5856  1543.1775  0.246346  0.260793   \n",
       "37195  2016  4       KCA       NYN  1542.5957  1524.7207  0.262548  0.239915   \n",
       "37196  2016  4       OAK       CHA  1488.3344  1489.9082  0.246621  0.244771   \n",
       "37197  2016  4       ANA       CHN  1509.8676  1526.6748  0.240166  0.239208   \n",
       "\n",
       "       home_obp  away_obp  ...  team_ops_pct_diff  team_RD_pct_diff  \\\n",
       "37193  0.317378  0.316181  ...           0.001479         -0.207921   \n",
       "37194  0.309376  0.332750  ...          -0.100639       -109.500000   \n",
       "37195  0.317525  0.307705  ...           0.028053          0.156627   \n",
       "37196  0.308523  0.302390  ...           0.031095         -1.257143   \n",
       "37197  0.301890  0.316835  ...          -0.026164          6.785714   \n",
       "\n",
       "       team_FP_pct_diff  team_Rank_pct_diff  team_ERA_pct_diff  \\\n",
       "37193         -0.003058                0.50           0.089783   \n",
       "37194         -0.001016                0.75          -0.018717   \n",
       "37195         -0.001015                0.00           0.077540   \n",
       "37196         -0.004086                0.20           0.043269   \n",
       "37197          0.002033                0.00           0.147208   \n",
       "\n",
       "       team_RA_pct_diff  team_R_pct_diff  team_bayes_pct_diff  \\\n",
       "37193          0.119128         0.071736                  0.0   \n",
       "37194         -0.043614        -0.383540                  0.0   \n",
       "37195          0.043682         0.056630                  0.0   \n",
       "37196          0.038409         0.103746                  0.0   \n",
       "37197          0.099259        -0.042360                  0.0   \n",
       "\n",
       "       team_pytha_pct_diff  log_5  \n",
       "37193             0.000714    0.5  \n",
       "37194             0.000714    0.5  \n",
       "37195             0.000714    0.5  \n",
       "37196             0.000714    0.5  \n",
       "37197             0.000714    0.5  \n",
       "\n",
       "[5 rows x 84 columns]"
      ]
     },
     "execution_count": 278,
     "metadata": {},
     "output_type": "execute_result"
    }
   ],
   "source": [
    "tf_test_df.head()"
   ]
  },
  {
   "cell_type": "code",
   "execution_count": 326,
   "metadata": {},
   "outputs": [],
   "source": [
    "tf_test_df['xgb_pred'] = xgb_preds\n",
    "tf_test_df['knn_pred'] = knn_preds\n",
    "tf_test_df['knn_no_batting_pred'] = knn_no_ops_preds\n",
    "tf_test_df['nn_pred'] = nn_preds\n",
    "tf_test_df['nn_pred'] = tf_test_df['nn_pred'].astype(int)\n",
    "\n",
    "tf_test_df['xgb_proba'] = xgb_proba_preds[:, 1]\n",
    "tf_test_df['knn_proba'] = knn_proba_preds[:, 1]\n",
    "tf_test_df['knn_no_batting_proba'] = knn_no_ops_proba_preds[:, 1]\n",
    "tf_test_df['nn_proba'] = nn_softmax_preds.numpy()"
   ]
  },
  {
   "cell_type": "code",
   "execution_count": 327,
   "metadata": {},
   "outputs": [],
   "source": [
    "tf_test_df['home_win'] = y_test"
   ]
  },
  {
   "cell_type": "code",
   "execution_count": 328,
   "metadata": {},
   "outputs": [
    {
     "data": {
      "text/html": [
       "<div>\n",
       "<style scoped>\n",
       "    .dataframe tbody tr th:only-of-type {\n",
       "        vertical-align: middle;\n",
       "    }\n",
       "\n",
       "    .dataframe tbody tr th {\n",
       "        vertical-align: top;\n",
       "    }\n",
       "\n",
       "    .dataframe thead th {\n",
       "        text-align: right;\n",
       "    }\n",
       "</style>\n",
       "<table border=\"1\" class=\"dataframe\">\n",
       "  <thead>\n",
       "    <tr style=\"text-align: right;\">\n",
       "      <th></th>\n",
       "      <th>Y</th>\n",
       "      <th>M</th>\n",
       "      <th>home_team</th>\n",
       "      <th>away_team</th>\n",
       "      <th>home_elo</th>\n",
       "      <th>away_elo</th>\n",
       "      <th>home_avg</th>\n",
       "      <th>away_avg</th>\n",
       "      <th>home_obp</th>\n",
       "      <th>away_obp</th>\n",
       "      <th>...</th>\n",
       "      <th>team_WHIP_pct_diff</th>\n",
       "      <th>xgb_pred</th>\n",
       "      <th>knn_pred</th>\n",
       "      <th>knn_no_batting_pred</th>\n",
       "      <th>nn_pred</th>\n",
       "      <th>xgb_proba</th>\n",
       "      <th>knn_proba</th>\n",
       "      <th>knn_no_batting_proba</th>\n",
       "      <th>nn_proba</th>\n",
       "      <th>home_win</th>\n",
       "    </tr>\n",
       "  </thead>\n",
       "  <tbody>\n",
       "    <tr>\n",
       "      <th>37193</th>\n",
       "      <td>2016</td>\n",
       "      <td>4</td>\n",
       "      <td>PIT</td>\n",
       "      <td>SLN</td>\n",
       "      <td>1533.1644</td>\n",
       "      <td>1526.7958</td>\n",
       "      <td>0.252810</td>\n",
       "      <td>0.246971</td>\n",
       "      <td>0.317378</td>\n",
       "      <td>0.316181</td>\n",
       "      <td>...</td>\n",
       "      <td>-0.012113</td>\n",
       "      <td>0.0</td>\n",
       "      <td>0.0</td>\n",
       "      <td>0.0</td>\n",
       "      <td>1</td>\n",
       "      <td>0.452681</td>\n",
       "      <td>0.500000</td>\n",
       "      <td>0.500000</td>\n",
       "      <td>0.615994</td>\n",
       "      <td>1.0</td>\n",
       "    </tr>\n",
       "    <tr>\n",
       "      <th>37194</th>\n",
       "      <td>2016</td>\n",
       "      <td>4</td>\n",
       "      <td>TBA</td>\n",
       "      <td>TOR</td>\n",
       "      <td>1508.5856</td>\n",
       "      <td>1543.1775</td>\n",
       "      <td>0.246346</td>\n",
       "      <td>0.260793</td>\n",
       "      <td>0.309376</td>\n",
       "      <td>0.332750</td>\n",
       "      <td>...</td>\n",
       "      <td>0.014688</td>\n",
       "      <td>0.0</td>\n",
       "      <td>0.0</td>\n",
       "      <td>0.0</td>\n",
       "      <td>0</td>\n",
       "      <td>0.377228</td>\n",
       "      <td>0.493333</td>\n",
       "      <td>0.500000</td>\n",
       "      <td>0.446586</td>\n",
       "      <td>0.0</td>\n",
       "    </tr>\n",
       "    <tr>\n",
       "      <th>37195</th>\n",
       "      <td>2016</td>\n",
       "      <td>4</td>\n",
       "      <td>KCA</td>\n",
       "      <td>NYN</td>\n",
       "      <td>1542.5957</td>\n",
       "      <td>1524.7207</td>\n",
       "      <td>0.262548</td>\n",
       "      <td>0.239915</td>\n",
       "      <td>0.317525</td>\n",
       "      <td>0.307705</td>\n",
       "      <td>...</td>\n",
       "      <td>0.080079</td>\n",
       "      <td>1.0</td>\n",
       "      <td>0.0</td>\n",
       "      <td>0.0</td>\n",
       "      <td>1</td>\n",
       "      <td>0.629717</td>\n",
       "      <td>0.500000</td>\n",
       "      <td>0.500000</td>\n",
       "      <td>0.588885</td>\n",
       "      <td>1.0</td>\n",
       "    </tr>\n",
       "    <tr>\n",
       "      <th>37196</th>\n",
       "      <td>2016</td>\n",
       "      <td>4</td>\n",
       "      <td>OAK</td>\n",
       "      <td>CHA</td>\n",
       "      <td>1488.3344</td>\n",
       "      <td>1489.9082</td>\n",
       "      <td>0.246621</td>\n",
       "      <td>0.244771</td>\n",
       "      <td>0.308523</td>\n",
       "      <td>0.302390</td>\n",
       "      <td>...</td>\n",
       "      <td>-0.016226</td>\n",
       "      <td>1.0</td>\n",
       "      <td>1.0</td>\n",
       "      <td>1.0</td>\n",
       "      <td>1</td>\n",
       "      <td>0.572504</td>\n",
       "      <td>0.533333</td>\n",
       "      <td>0.540000</td>\n",
       "      <td>0.503614</td>\n",
       "      <td>0.0</td>\n",
       "    </tr>\n",
       "    <tr>\n",
       "      <th>37197</th>\n",
       "      <td>2016</td>\n",
       "      <td>4</td>\n",
       "      <td>ANA</td>\n",
       "      <td>CHN</td>\n",
       "      <td>1509.8676</td>\n",
       "      <td>1526.6748</td>\n",
       "      <td>0.240166</td>\n",
       "      <td>0.239208</td>\n",
       "      <td>0.301890</td>\n",
       "      <td>0.316835</td>\n",
       "      <td>...</td>\n",
       "      <td>0.089003</td>\n",
       "      <td>1.0</td>\n",
       "      <td>1.0</td>\n",
       "      <td>1.0</td>\n",
       "      <td>1</td>\n",
       "      <td>0.515874</td>\n",
       "      <td>0.506667</td>\n",
       "      <td>0.513333</td>\n",
       "      <td>0.609053</td>\n",
       "      <td>0.0</td>\n",
       "    </tr>\n",
       "  </tbody>\n",
       "</table>\n",
       "<p>5 rows × 94 columns</p>\n",
       "</div>"
      ],
      "text/plain": [
       "          Y  M home_team away_team   home_elo   away_elo  home_avg  away_avg  \\\n",
       "37193  2016  4       PIT       SLN  1533.1644  1526.7958  0.252810  0.246971   \n",
       "37194  2016  4       TBA       TOR  1508.5856  1543.1775  0.246346  0.260793   \n",
       "37195  2016  4       KCA       NYN  1542.5957  1524.7207  0.262548  0.239915   \n",
       "37196  2016  4       OAK       CHA  1488.3344  1489.9082  0.246621  0.244771   \n",
       "37197  2016  4       ANA       CHN  1509.8676  1526.6748  0.240166  0.239208   \n",
       "\n",
       "       home_obp  away_obp  ...  team_WHIP_pct_diff  xgb_pred  knn_pred  \\\n",
       "37193  0.317378  0.316181  ...           -0.012113       0.0       0.0   \n",
       "37194  0.309376  0.332750  ...            0.014688       0.0       0.0   \n",
       "37195  0.317525  0.307705  ...            0.080079       1.0       0.0   \n",
       "37196  0.308523  0.302390  ...           -0.016226       1.0       1.0   \n",
       "37197  0.301890  0.316835  ...            0.089003       1.0       1.0   \n",
       "\n",
       "       knn_no_batting_pred  nn_pred  xgb_proba  knn_proba  \\\n",
       "37193                  0.0        1   0.452681   0.500000   \n",
       "37194                  0.0        0   0.377228   0.493333   \n",
       "37195                  0.0        1   0.629717   0.500000   \n",
       "37196                  1.0        1   0.572504   0.533333   \n",
       "37197                  1.0        1   0.515874   0.506667   \n",
       "\n",
       "       knn_no_batting_proba  nn_proba  home_win  \n",
       "37193              0.500000  0.615994       1.0  \n",
       "37194              0.500000  0.446586       0.0  \n",
       "37195              0.500000  0.588885       1.0  \n",
       "37196              0.540000  0.503614       0.0  \n",
       "37197              0.513333  0.609053       0.0  \n",
       "\n",
       "[5 rows x 94 columns]"
      ]
     },
     "execution_count": 328,
     "metadata": {},
     "output_type": "execute_result"
    }
   ],
   "source": [
    "tf_test_df.head()"
   ]
  },
  {
   "cell_type": "code",
   "execution_count": 329,
   "metadata": {},
   "outputs": [],
   "source": [
    "tf_test_df.to_csv('../data/Final Data/start_to_finish_with_preds.csv', index=False)"
   ]
  },
  {
   "cell_type": "code",
   "execution_count": null,
   "metadata": {},
   "outputs": [],
   "source": []
  }
 ],
 "metadata": {
  "kernelspec": {
   "display_name": "Python 3",
   "language": "python",
   "name": "python3"
  },
  "language_info": {
   "codemirror_mode": {
    "name": "ipython",
    "version": 3
   },
   "file_extension": ".py",
   "mimetype": "text/x-python",
   "name": "python",
   "nbconvert_exporter": "python",
   "pygments_lexer": "ipython3",
   "version": "3.8.5"
  }
 },
 "nbformat": 4,
 "nbformat_minor": 4
}
