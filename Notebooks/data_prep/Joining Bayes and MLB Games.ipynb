{
 "cells": [
  {
   "cell_type": "code",
   "execution_count": null,
   "metadata": {},
   "outputs": [],
   "source": [
    "import pandas as pd\n",
    "import numpy as np\n",
    "from matplotlib import pyplot as plt"
   ]
  },
  {
   "cell_type": "code",
   "execution_count": null,
   "metadata": {},
   "outputs": [],
   "source": [
    "bayes_df = pd.read_csv('../data/data_bayes.csv')\n",
    "df = pd.read_csv('../data/mlb_games_df.csv') #This needs to be data without bayes and pytha but everything else\n",
    "bayes_df = df.drop('Unnamed: 0', axis=1)"
   ]
  },
  {
   "cell_type": "code",
   "execution_count": null,
   "metadata": {},
   "outputs": [],
   "source": [
    "#Sort them in the same order\n",
    "bayes_df = bayes_df.sort_values(by=['date','home_team'])\n",
    "df = df.sort_values(by=['date','home_team'])\n",
    "\n",
    "#Reset their indexes\n",
    "bayes_df = bayes_df.reset_index(drop=True)\n",
    "df = df.reset_index(drop=True)"
   ]
  },
  {
   "cell_type": "code",
   "execution_count": null,
   "metadata": {},
   "outputs": [],
   "source": [
    "full_df = pd.merge(bayes_df, df, left_index=True, right_index=True)"
   ]
  },
  {
   "cell_type": "code",
   "execution_count": null,
   "metadata": {},
   "outputs": [],
   "source": [
    "#drop duplicates\n",
    "full_df = full_df.drop(['date_x', 'home_team_x', 'Y_x', 'D_x', 'away_team_x', 'home_score', 'away_score', 'M_x', 'D_x',\n",
    "              'date_y', 'home_team_y', 'D_y', 'away_team_y', 'home_win_y'], axis=1)"
   ]
  },
  {
   "cell_type": "code",
   "execution_count": null,
   "metadata": {},
   "outputs": [],
   "source": [
    "#rename columns for consistent names\n",
    "full_df = full_df.rename({'home_win_x': 'home_win', 'home_team_x': 'home_team', 'away_team_x': 'away_team',\n",
    "                'Y_y': 'Y', 'M_y': 'M'}, axis=1)"
   ]
  },
  {
   "cell_type": "code",
   "execution_count": null,
   "metadata": {},
   "outputs": [],
   "source": [
    "#only run if you want pct diff columns only\n",
    "full_df = full_df[['home_win', \n",
    "         'home_team', 'away_team',\n",
    "         'Y', 'M',  'avg_pct_diff', 'obp_pct_diff', 'slg_pct_diff', 'ops_pct_diff',\n",
    "       'team_ERA_pct_diff',\n",
    "       'team_WHIP_pct_diff',\n",
    "       'team_W-L_pct_diff',\n",
    "       'team_Rank_pct_diff',\n",
    "       'team_FP_pct_diff',\n",
    "       'R_pct_diff',\n",
    "       'RA_pct_diff',\n",
    "       'pytha_pct_diff',\n",
    "       'win_pct_diff',\n",
    "       'bayes_pct_diff',\n",
    "       'pitcher_WHIP_pct_diff', 'pitcher_ERA_pct_diff',\n",
    "       'pitcher_IP_pct_diff','RD_pct_diff', 'FP_pct_diff',\n",
    "       'Rank_pct_diff', 'WPA_pct_diff', 'log_5']]"
   ]
  },
  {
   "cell_type": "code",
   "execution_count": null,
   "metadata": {},
   "outputs": [],
   "source": [
    "#only run if you want diff columns only\n",
    "full_df = full_df[['home_win_x', \n",
    "         'home_team', 'away_team',\n",
    "         'Y', 'M',  'avg_diff', 'obp_diff', 'slg_diff', \n",
    "       'team_ERA_diff',\n",
    "       'team_WHIP_diff',\n",
    "       'team_W-L_diff',\n",
    "       'team_Rank_diff',\n",
    "       'team_FP_diff',\n",
    "       'R_diff',\n",
    "       'RA_diff',\n",
    "       'pytha_diff',\n",
    "       'win_diff',\n",
    "       'bayes_diff',\n",
    "       'pitcher_WHIP_diff', 'pitcher_ERA_diff',\n",
    "       'pitcher_IP_diff', 'ops_diff', 'RD_diff', 'FP_diff',\n",
    "       'Rank_diff', 'WPA_diff', 'log_5']]"
   ]
  },
  {
   "cell_type": "code",
   "execution_count": null,
   "metadata": {},
   "outputs": [],
   "source": []
  }
 ],
 "metadata": {
  "kernelspec": {
   "display_name": "Python 3",
   "language": "python",
   "name": "python3"
  },
  "language_info": {
   "codemirror_mode": {
    "name": "ipython",
    "version": 3
   },
   "file_extension": ".py",
   "mimetype": "text/x-python",
   "name": "python",
   "nbconvert_exporter": "python",
   "pygments_lexer": "ipython3",
   "version": "3.7.6"
  }
 },
 "nbformat": 4,
 "nbformat_minor": 4
}
