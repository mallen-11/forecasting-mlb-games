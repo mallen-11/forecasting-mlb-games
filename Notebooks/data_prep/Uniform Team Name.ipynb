{
 "cells": [
  {
   "cell_type": "code",
   "execution_count": null,
   "metadata": {},
   "outputs": [],
   "source": [
    "def uniform_name(df, col_name):\n",
    "    df[col_name] = df[col_name].str.replace(r'\\W', '')\n",
    "    df[col_name] = df[col_name].str.lower()\n",
    "    \n",
    "    team_list = ['TOR', 'SFN', 'SEA', 'NYA', 'LAN', 'BAL', 'COL', 'CHN', 'MIA',\n",
    "       'CLE', 'CIN', 'TEX', 'TBA', 'DET', 'ATL', 'HOU', 'MIL', 'WAS',\n",
    "       'PHI', 'OAK', 'ARI', 'CHA', 'BOS', 'KCA', 'SLN', 'PIT', 'NYN',\n",
    "       'MIN', 'SDN', 'ANA']\n",
    "    \n",
    "    \n",
    "    \n",
    "    team_dict = {'jays':'TOR','bluejays':'TOR', 'torontobluejays':'TOR', 'tor':'TOR', \n",
    "                 'giants':'SFN', 'sfg': 'SFN', 'sanfranciscogiants':'SFN', 'sf':'SFN', 'sfn':'SFN', \n",
    "                 'mariners':'SEA', 'seattlemariners':'SEA', 'sea':'SEA', \n",
    "                 'yankees':'NYA', 'nyy': 'NYA', 'newyorkyankees':'NYA', 'nya':'NYA', \n",
    "                 'dodgers':'LAN', 'lad':'LAN', 'losangelesdodgers':'LAN', 'la':'LAN', 'lan':'LAN', \n",
    "                 'orioles':'BAL', 'baltimoreorioles':'BAL', 'bal':'BAL', \n",
    "                 'rockies':'COL', 'coloradorockies':'COL', 'col':'COL', \n",
    "                 'cubs':'CHN', 'chc':'CHN', 'chicagocubs':'CHN', 'chn':'CHN', \n",
    "                 'marlins':'MIA', 'fla':'MIA', 'floridamarlins':'MIA', 'miamimarlins':'MIA', 'mia':'MIA', \n",
    "                 'indians':'CLE', 'clevelandindians':'CLE', 'cle':'CLE', \n",
    "                 'reds':'CIN', 'cincinnatireds':'CIN', 'cin':'CIN', \n",
    "                 'rangers':'TEX', 'texasrangers':'TEX', 'tex':'TEX', \n",
    "                 'rays':'TBA', 'devilrays':'TBA', 'tbd':'TBA', 'tampabayrays':'TBA', 'tampabaydevilrays':'TBA', 'tba':'TBA', \n",
    "                 'tigers':'DET', 'detriottigers':'DET', 'det':'DET', \n",
    "                 'braves':'ATL', 'atlantabraves':'ATL', 'atl':'ATL', \n",
    "                 'astros':'HOU', 'houstonastros':'HOU', 'hou':'HOU', \n",
    "                 'brewers':'MIL', 'milwaukeebrewers':'MIL', 'mil':'MIL', \n",
    "                 'nationals':'WAS', 'wsh':' WAS', 'wsn':'WAS', 'washingtonnationals':'WAS', 'montrealexpos':'WAS', 'expos':'WAS', 'mtl':'WAS','was':'WAS', \n",
    "                 'phillies':'PHI', 'philadelphiaphillies':'PHI', 'phi':'PHI', \n",
    "                 'as':'OAK', 'athletics':'OAK', 'oaklandathletics':'OAK', 'oaklandas':'OAK', 'oaklanda':'OAK', 'oak':'OAK', \n",
    "                 'diamondbacks':'ARI', 'arizonadiamondbacks':'ARI', 'ari':'ARI', \n",
    "                 'whitesox':'CHA', 'cws':'CHA', 'chicagowhitesox':'CHA', 'cha':'CHA', \n",
    "                 'redsox':'BOS', 'bostonredsox':'BOS', 'bos':'BOS', \n",
    "                 'royals':'KCA', 'kcr':'KCA', 'kansascityroyals':'KCA', 'kc':'KCA', 'kca':'KCA', \n",
    "                 'cardinals':'SLN', 'slc':'SLN', 'stl':'SLN', 'saintlouiscardinals':'SLN', 'stlouiscardinals':'SLN', 'sln':'SLN', \n",
    "                 'pirates':'PIT', 'pittsburghpirates':'PIT', 'pit':'PIT', \n",
    "                 'mets':'NYN', 'nym':'NYN', 'newyorkmets':'NYN', 'nyn':'NYN', \n",
    "                 'twins':'MIN', 'minnesotatwins':'MIN', 'min':'MIN', \n",
    "                 'padres':'SDN', 'sdp':'SDN', 'sandiegopadres':'SDN', 'sd':'SDN', 'sdn':'SDN', \n",
    "                 'angels':'ANA', 'laa':'ANA', 'losangelesangels':'ANA', 'losangelesangelsofanaheim':'ANA', 'ana':'ANA', }\n",
    "    \n",
    "    df[col_name] = df[col_name].map(team_dict)\n",
    "    \n",
    "    return df"
   ]
  }
 ],
 "metadata": {
  "kernelspec": {
   "display_name": "Python 3",
   "language": "python",
   "name": "python3"
  },
  "language_info": {
   "codemirror_mode": {
    "name": "ipython",
    "version": 3
   },
   "file_extension": ".py",
   "mimetype": "text/x-python",
   "name": "python",
   "nbconvert_exporter": "python",
   "pygments_lexer": "ipython3",
   "version": "3.7.6"
  }
 },
 "nbformat": 4,
 "nbformat_minor": 4
}
