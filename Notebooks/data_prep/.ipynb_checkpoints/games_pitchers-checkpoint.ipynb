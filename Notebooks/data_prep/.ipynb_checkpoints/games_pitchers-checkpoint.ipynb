{
 "cells": [
  {
   "cell_type": "markdown",
   "metadata": {},
   "source": [
    "# Finding game pitchers\n",
    "\n",
    "The purpose of this notebook is to take the `mlb_games_df.csv` file and substitute the pitcher IDs (for some site) instead of name/whatever ID is currently showing up."
   ]
  },
  {
   "cell_type": "code",
   "execution_count": 4,
   "metadata": {},
   "outputs": [],
   "source": [
    "import pandas as pd\n",
    "import numpy as np\n",
    "import re\n",
    "\n",
    "import pybaseball as pyb"
   ]
  },
  {
   "cell_type": "code",
   "execution_count": 5,
   "metadata": {},
   "outputs": [],
   "source": [
    "games_df = pd.read_csv('../../data/mlb_games_df.csv')"
   ]
  },
  {
   "cell_type": "code",
   "execution_count": 6,
   "metadata": {},
   "outputs": [
    {
     "data": {
      "text/html": [
       "<div>\n",
       "<style scoped>\n",
       "    .dataframe tbody tr th:only-of-type {\n",
       "        vertical-align: middle;\n",
       "    }\n",
       "\n",
       "    .dataframe tbody tr th {\n",
       "        vertical-align: top;\n",
       "    }\n",
       "\n",
       "    .dataframe thead th {\n",
       "        text-align: right;\n",
       "    }\n",
       "</style>\n",
       "<table border=\"1\" class=\"dataframe\">\n",
       "  <thead>\n",
       "    <tr style=\"text-align: right;\">\n",
       "      <th></th>\n",
       "      <th>date</th>\n",
       "      <th>Y</th>\n",
       "      <th>M</th>\n",
       "      <th>D</th>\n",
       "      <th>home_team</th>\n",
       "      <th>away_team</th>\n",
       "      <th>home_win</th>\n",
       "      <th>home_pitcher</th>\n",
       "      <th>away_pitcher</th>\n",
       "      <th>home_elo</th>\n",
       "      <th>...</th>\n",
       "      <th>elo_diff</th>\n",
       "      <th>elo_pct_diff</th>\n",
       "      <th>avg_diff</th>\n",
       "      <th>obp_diff</th>\n",
       "      <th>slg_diff</th>\n",
       "      <th>avg_pct_diff</th>\n",
       "      <th>obp_pct_diff</th>\n",
       "      <th>slg_pct_diff</th>\n",
       "      <th>home_rest</th>\n",
       "      <th>away_rest</th>\n",
       "    </tr>\n",
       "  </thead>\n",
       "  <tbody>\n",
       "    <tr>\n",
       "      <th>0</th>\n",
       "      <td>2001-04-01</td>\n",
       "      <td>2001</td>\n",
       "      <td>4</td>\n",
       "      <td>1</td>\n",
       "      <td>TOR</td>\n",
       "      <td>TEX</td>\n",
       "      <td>1</td>\n",
       "      <td>loaie001</td>\n",
       "      <td>hellr001</td>\n",
       "      <td>1499.563</td>\n",
       "      <td>...</td>\n",
       "      <td>20.400</td>\n",
       "      <td>1.360396</td>\n",
       "      <td>-0.008060</td>\n",
       "      <td>-0.010103</td>\n",
       "      <td>0.023271</td>\n",
       "      <td>-2.947374</td>\n",
       "      <td>-2.977845</td>\n",
       "      <td>4.989568</td>\n",
       "      <td>5</td>\n",
       "      <td>5</td>\n",
       "    </tr>\n",
       "    <tr>\n",
       "      <th>1</th>\n",
       "      <td>2001-04-02</td>\n",
       "      <td>2001</td>\n",
       "      <td>4</td>\n",
       "      <td>2</td>\n",
       "      <td>SFN</td>\n",
       "      <td>SDN</td>\n",
       "      <td>1</td>\n",
       "      <td>hernl003</td>\n",
       "      <td>willw001</td>\n",
       "      <td>1540.841</td>\n",
       "      <td>...</td>\n",
       "      <td>48.041</td>\n",
       "      <td>3.117843</td>\n",
       "      <td>0.024251</td>\n",
       "      <td>0.032292</td>\n",
       "      <td>0.070273</td>\n",
       "      <td>8.784099</td>\n",
       "      <td>8.985458</td>\n",
       "      <td>14.998766</td>\n",
       "      <td>5</td>\n",
       "      <td>5</td>\n",
       "    </tr>\n",
       "    <tr>\n",
       "      <th>2</th>\n",
       "      <td>2001-04-02</td>\n",
       "      <td>2001</td>\n",
       "      <td>4</td>\n",
       "      <td>2</td>\n",
       "      <td>SEA</td>\n",
       "      <td>OAK</td>\n",
       "      <td>1</td>\n",
       "      <td>Freddy Garcia</td>\n",
       "      <td>Tim Hudson</td>\n",
       "      <td>1519.464</td>\n",
       "      <td>...</td>\n",
       "      <td>-15.232</td>\n",
       "      <td>-1.002459</td>\n",
       "      <td>-0.000864</td>\n",
       "      <td>0.001190</td>\n",
       "      <td>-0.016229</td>\n",
       "      <td>-0.323318</td>\n",
       "      <td>0.331871</td>\n",
       "      <td>-3.705210</td>\n",
       "      <td>5</td>\n",
       "      <td>5</td>\n",
       "    </tr>\n",
       "    <tr>\n",
       "      <th>3</th>\n",
       "      <td>2001-04-02</td>\n",
       "      <td>2001</td>\n",
       "      <td>4</td>\n",
       "      <td>2</td>\n",
       "      <td>NYA</td>\n",
       "      <td>KCA</td>\n",
       "      <td>1</td>\n",
       "      <td>clemr001</td>\n",
       "      <td>suppj001</td>\n",
       "      <td>1529.511</td>\n",
       "      <td>...</td>\n",
       "      <td>36.359</td>\n",
       "      <td>2.377165</td>\n",
       "      <td>-0.010188</td>\n",
       "      <td>0.006929</td>\n",
       "      <td>0.024787</td>\n",
       "      <td>-3.703559</td>\n",
       "      <td>1.970596</td>\n",
       "      <td>5.554343</td>\n",
       "      <td>5</td>\n",
       "      <td>5</td>\n",
       "    </tr>\n",
       "    <tr>\n",
       "      <th>4</th>\n",
       "      <td>2001-04-02</td>\n",
       "      <td>2001</td>\n",
       "      <td>4</td>\n",
       "      <td>2</td>\n",
       "      <td>LAN</td>\n",
       "      <td>MIL</td>\n",
       "      <td>1</td>\n",
       "      <td>parkc002</td>\n",
       "      <td>Jamey Wright</td>\n",
       "      <td>1515.925</td>\n",
       "      <td>...</td>\n",
       "      <td>25.529</td>\n",
       "      <td>1.684054</td>\n",
       "      <td>0.010660</td>\n",
       "      <td>0.014276</td>\n",
       "      <td>0.026359</td>\n",
       "      <td>4.193722</td>\n",
       "      <td>4.236467</td>\n",
       "      <td>6.181414</td>\n",
       "      <td>5</td>\n",
       "      <td>5</td>\n",
       "    </tr>\n",
       "  </tbody>\n",
       "</table>\n",
       "<p>5 rows × 29 columns</p>\n",
       "</div>"
      ],
      "text/plain": [
       "         date     Y  M  D home_team away_team  home_win   home_pitcher  \\\n",
       "0  2001-04-01  2001  4  1       TOR       TEX         1       loaie001   \n",
       "1  2001-04-02  2001  4  2       SFN       SDN         1       hernl003   \n",
       "2  2001-04-02  2001  4  2       SEA       OAK         1  Freddy Garcia   \n",
       "3  2001-04-02  2001  4  2       NYA       KCA         1       clemr001   \n",
       "4  2001-04-02  2001  4  2       LAN       MIL         1       parkc002   \n",
       "\n",
       "   away_pitcher  home_elo  ...  elo_diff  elo_pct_diff  avg_diff  obp_diff  \\\n",
       "0      hellr001  1499.563  ...    20.400      1.360396 -0.008060 -0.010103   \n",
       "1      willw001  1540.841  ...    48.041      3.117843  0.024251  0.032292   \n",
       "2    Tim Hudson  1519.464  ...   -15.232     -1.002459 -0.000864  0.001190   \n",
       "3      suppj001  1529.511  ...    36.359      2.377165 -0.010188  0.006929   \n",
       "4  Jamey Wright  1515.925  ...    25.529      1.684054  0.010660  0.014276   \n",
       "\n",
       "   slg_diff  avg_pct_diff  obp_pct_diff  slg_pct_diff  home_rest  away_rest  \n",
       "0  0.023271     -2.947374     -2.977845      4.989568          5          5  \n",
       "1  0.070273      8.784099      8.985458     14.998766          5          5  \n",
       "2 -0.016229     -0.323318      0.331871     -3.705210          5          5  \n",
       "3  0.024787     -3.703559      1.970596      5.554343          5          5  \n",
       "4  0.026359      4.193722      4.236467      6.181414          5          5  \n",
       "\n",
       "[5 rows x 29 columns]"
      ]
     },
     "execution_count": 6,
     "metadata": {},
     "output_type": "execute_result"
    }
   ],
   "source": [
    "games_df.head()"
   ]
  },
  {
   "cell_type": "code",
   "execution_count": 7,
   "metadata": {},
   "outputs": [],
   "source": [
    "pitchers_df = pd.read_csv('../../data/pitchers_summary.csv')"
   ]
  },
  {
   "cell_type": "code",
   "execution_count": 8,
   "metadata": {},
   "outputs": [
    {
     "data": {
      "text/html": [
       "<div>\n",
       "<style scoped>\n",
       "    .dataframe tbody tr th:only-of-type {\n",
       "        vertical-align: middle;\n",
       "    }\n",
       "\n",
       "    .dataframe tbody tr th {\n",
       "        vertical-align: top;\n",
       "    }\n",
       "\n",
       "    .dataframe thead th {\n",
       "        text-align: right;\n",
       "    }\n",
       "</style>\n",
       "<table border=\"1\" class=\"dataframe\">\n",
       "  <thead>\n",
       "    <tr style=\"text-align: right;\">\n",
       "      <th></th>\n",
       "      <th>Name</th>\n",
       "      <th>first_season</th>\n",
       "      <th>last_season</th>\n",
       "      <th>games_played</th>\n",
       "      <th>games_started</th>\n",
       "      <th>teams</th>\n",
       "      <th>num_teams</th>\n",
       "      <th>key_mlbam</th>\n",
       "      <th>key_retro</th>\n",
       "      <th>key_bbref</th>\n",
       "      <th>key_fangraphs</th>\n",
       "    </tr>\n",
       "  </thead>\n",
       "  <tbody>\n",
       "    <tr>\n",
       "      <th>0</th>\n",
       "      <td>A.J. Burnett</td>\n",
       "      <td>2000</td>\n",
       "      <td>2015</td>\n",
       "      <td>428</td>\n",
       "      <td>423</td>\n",
       "      <td>MIA,TOR,NYA,PIT,PHI</td>\n",
       "      <td>5</td>\n",
       "      <td>150359</td>\n",
       "      <td>burna001</td>\n",
       "      <td>burnea.01</td>\n",
       "      <td>512</td>\n",
       "    </tr>\n",
       "    <tr>\n",
       "      <th>1</th>\n",
       "      <td>A.J. Cole</td>\n",
       "      <td>2015</td>\n",
       "      <td>2019</td>\n",
       "      <td>79</td>\n",
       "      <td>19</td>\n",
       "      <td>WAS,CLE</td>\n",
       "      <td>3</td>\n",
       "      <td>595918</td>\n",
       "      <td>colea002</td>\n",
       "      <td>coleaj01</td>\n",
       "      <td>11467</td>\n",
       "    </tr>\n",
       "    <tr>\n",
       "      <th>2</th>\n",
       "      <td>A.J. Griffin</td>\n",
       "      <td>2012</td>\n",
       "      <td>2017</td>\n",
       "      <td>88</td>\n",
       "      <td>85</td>\n",
       "      <td>OAK,TEX</td>\n",
       "      <td>2</td>\n",
       "      <td>456167</td>\n",
       "      <td>grifa002</td>\n",
       "      <td>griffaj01</td>\n",
       "      <td>11132</td>\n",
       "    </tr>\n",
       "    <tr>\n",
       "      <th>3</th>\n",
       "      <td>A.J. Murray</td>\n",
       "      <td>2007</td>\n",
       "      <td>2008</td>\n",
       "      <td>16</td>\n",
       "      <td>4</td>\n",
       "      <td>TEX</td>\n",
       "      <td>1</td>\n",
       "      <td>451262</td>\n",
       "      <td>murra001</td>\n",
       "      <td>murraaj01</td>\n",
       "      <td>3422</td>\n",
       "    </tr>\n",
       "    <tr>\n",
       "      <th>4</th>\n",
       "      <td>Aaron Blair</td>\n",
       "      <td>2016</td>\n",
       "      <td>2017</td>\n",
       "      <td>16</td>\n",
       "      <td>16</td>\n",
       "      <td>ATL</td>\n",
       "      <td>1</td>\n",
       "      <td>594760</td>\n",
       "      <td>blaia001</td>\n",
       "      <td>blairaa01</td>\n",
       "      <td>14934</td>\n",
       "    </tr>\n",
       "  </tbody>\n",
       "</table>\n",
       "</div>"
      ],
      "text/plain": [
       "           Name  first_season  last_season  games_played  games_started  \\\n",
       "0  A.J. Burnett          2000         2015           428            423   \n",
       "1     A.J. Cole          2015         2019            79             19   \n",
       "2  A.J. Griffin          2012         2017            88             85   \n",
       "3   A.J. Murray          2007         2008            16              4   \n",
       "4   Aaron Blair          2016         2017            16             16   \n",
       "\n",
       "                 teams  num_teams  key_mlbam key_retro  key_bbref  \\\n",
       "0  MIA,TOR,NYA,PIT,PHI          5     150359  burna001  burnea.01   \n",
       "1              WAS,CLE          3     595918  colea002   coleaj01   \n",
       "2              OAK,TEX          2     456167  grifa002  griffaj01   \n",
       "3                  TEX          1     451262  murra001  murraaj01   \n",
       "4                  ATL          1     594760  blaia001  blairaa01   \n",
       "\n",
       "   key_fangraphs  \n",
       "0            512  \n",
       "1          11467  \n",
       "2          11132  \n",
       "3           3422  \n",
       "4          14934  "
      ]
     },
     "execution_count": 8,
     "metadata": {},
     "output_type": "execute_result"
    }
   ],
   "source": [
    "pitchers_df.head()"
   ]
  },
  {
   "cell_type": "markdown",
   "metadata": {},
   "source": [
    "## Standardizing team names"
   ]
  },
  {
   "cell_type": "code",
   "execution_count": 9,
   "metadata": {},
   "outputs": [],
   "source": [
    "def uniform_name(df, col_name):\n",
    "    df[col_name] = df[col_name].str.replace(r'[\\W\\s]', '')\n",
    "    df[col_name] = df[col_name].str.lower()\n",
    "    \n",
    "    team_list = ['TOR', 'SFN', 'SEA', 'NYA', 'LAN', 'BAL', 'COL', 'CHN', 'MIA',\n",
    "       'CLE', 'CIN', 'TEX', 'TBA', 'DET', 'ATL', 'HOU', 'MIL', 'WAS',\n",
    "       'PHI', 'OAK', 'ARI', 'CHA', 'BOS', 'KCA', 'SLN', 'PIT', 'NYN',\n",
    "       'MIN', 'SDN', 'ANA']\n",
    "    \n",
    "    \n",
    "    \n",
    "    team_dict = {'jays':'TOR','bluejays':'TOR', 'torontobluejays':'TOR', 'tor':'TOR', \n",
    "                 'giants':'SFN', 'sfg': 'SFN', 'sanfranciscogiants':'SFN', 'sf':'SFN', 'sfn':'SFN', \n",
    "                 'mariners':'SEA', 'seattlemariners':'SEA', 'sea':'SEA', \n",
    "                 'yankees':'NYA', 'nyy': 'NYA', 'newyorkyankees':'NYA', 'nya':'NYA', \n",
    "                 'dodgers':'LAN', 'lad':'LAN', 'losangelesdodgers':'LAN', 'la':'LAN', 'lan':'LAN', \n",
    "                 'orioles':'BAL', 'baltimoreorioles':'BAL', 'bal':'BAL', \n",
    "                 'rockies':'COL', 'coloradorockies':'COL', 'col':'COL', \n",
    "                 'cubs':'CHN', 'chc':'CHN', 'chicagocubs':'CHN', 'chn':'CHN', \n",
    "                 'marlins':'MIA', 'fla':'MIA', 'floridamarlins':'MIA', 'miamimarlins':'MIA', 'mia':'MIA', \n",
    "                 'indians':'CLE', 'clevelandindians':'CLE', 'cle':'CLE', \n",
    "                 'reds':'CIN', 'cincinnatireds':'CIN', 'cin':'CIN', \n",
    "                 'rangers':'TEX', 'texasrangers':'TEX', 'tex':'TEX', \n",
    "                 'rays':'TBA', 'devilrays':'TBA', 'tbd':'TBA', 'tampabayrays':'TBA', 'tampabaydevilrays':'TBA', 'tba':'TBA', \n",
    "                 'tigers':'DET', 'detriottigers':'DET', 'det':'DET', \n",
    "                 'braves':'ATL', 'atlantabraves':'ATL', 'atl':'ATL', \n",
    "                 'astros':'HOU', 'houstonastros':'HOU', 'hou':'HOU', \n",
    "                 'brewers':'MIL', 'milwaukeebrewers':'MIL', 'mil':'MIL', \n",
    "                 'nationals':'WAS', 'wsh':' WAS', 'wsn':'WAS', 'washingtonnationals':'WAS', 'montrealexpos':'WAS', 'expos':'WAS', 'mtl':'WAS','was':'WAS', \n",
    "                 'phillies':'PHI', 'philadelphiaphillies':'PHI', 'phi':'PHI', \n",
    "                 'as':'OAK', 'athletics':'OAK', 'oaklandathletics':'OAK', 'oaklandas':'OAK', 'oaklanda':'OAK', 'oak':'OAK', \n",
    "                 'diamondbacks':'ARI', 'arizonadiamondbacks':'ARI', 'ari':'ARI', \n",
    "                 'whitesox':'CHA', 'cws':'CHA', 'chicagowhitesox':'CHA', 'cha':'CHA', \n",
    "                 'redsox':'BOS', 'bostonredsox':'BOS', 'bos':'BOS', \n",
    "                 'royals':'KCA', 'kcr':'KCA', 'kansascityroyals':'KCA', 'kc':'KCA', 'kca':'KCA', \n",
    "                 'cardinals':'SLN', 'slc':'SLN', 'stl':'SLN', 'saintlouiscardinals':'SLN', 'stlouiscardinals':'SLN', 'sln':'SLN', \n",
    "                 'pirates':'PIT', 'pittsburghpirates':'PIT', 'pit':'PIT', \n",
    "                 'mets':'NYN', 'nym':'NYN', 'newyorkmets':'NYN', 'nyn':'NYN', \n",
    "                 'twins':'MIN', 'minnesotatwins':'MIN', 'min':'MIN', \n",
    "                 'padres':'SDN', 'sdp':'SDN', 'sandiegopadres':'SDN', 'sd':'SDN', 'sdn':'SDN', \n",
    "                 'angels':'ANA', 'laa':'ANA', 'losangelesangels':'ANA', 'losangelesangelsofanaheim':'ANA', 'ana':'ANA', }\n",
    "    \n",
    "    df[col_name] = df[col_name].map(team_dict)\n",
    "    \n",
    "    return df"
   ]
  },
  {
   "cell_type": "code",
   "execution_count": 10,
   "metadata": {},
   "outputs": [],
   "source": [
    "def uniform_name_list(l):\n",
    "    l = [re.sub(r'[\\W\\s]', '', x).lower() for x in l]\n",
    "    team_list = ['TOR', 'SFN', 'SEA', 'NYA', 'LAN', 'BAL', 'COL', 'CHN', 'MIA',\n",
    "       'CLE', 'CIN', 'TEX', 'TBA', 'DET', 'ATL', 'HOU', 'MIL', 'WAS',\n",
    "       'PHI', 'OAK', 'ARI', 'CHA', 'BOS', 'KCA', 'SLN', 'PIT', 'NYN',\n",
    "       'MIN', 'SDN', 'ANA']\n",
    "    \n",
    "    \n",
    "    \n",
    "    team_dict = {'jays':'TOR','bluejays':'TOR', 'torontobluejays':'TOR', 'tor':'TOR', \n",
    "                 'giants':'SFN', 'sfg': 'SFN', 'sanfranciscogiants':'SFN', 'sf':'SFN', 'sfn':'SFN', \n",
    "                 'mariners':'SEA', 'seattlemariners':'SEA', 'sea':'SEA', \n",
    "                 'yankees':'NYA', 'nyy': 'NYA', 'newyorkyankees':'NYA', 'nya':'NYA', \n",
    "                 'dodgers':'LAN', 'lad':'LAN', 'losangelesdodgers':'LAN', 'la':'LAN', 'lan':'LAN', \n",
    "                 'orioles':'BAL', 'baltimoreorioles':'BAL', 'bal':'BAL', \n",
    "                 'rockies':'COL', 'coloradorockies':'COL', 'col':'COL', \n",
    "                 'cubs':'CHN', 'chc':'CHN', 'chicagocubs':'CHN', 'chn':'CHN', \n",
    "                 'marlins':'MIA', 'fla':'MIA', 'floridamarlins':'MIA', 'miamimarlins':'MIA', 'mia':'MIA', \n",
    "                 'indians':'CLE', 'clevelandindians':'CLE', 'cle':'CLE', \n",
    "                 'reds':'CIN', 'cincinnatireds':'CIN', 'cin':'CIN', \n",
    "                 'rangers':'TEX', 'texasrangers':'TEX', 'tex':'TEX', \n",
    "                 'rays':'TBA', 'devilrays':'TBA', 'tbd':'TBA', 'tampabayrays':'TBA', 'tampabaydevilrays':'TBA', 'tba':'TBA', \n",
    "                 'tigers':'DET', 'detriottigers':'DET', 'det':'DET', \n",
    "                 'braves':'ATL', 'atlantabraves':'ATL', 'atl':'ATL', \n",
    "                 'astros':'HOU', 'houstonastros':'HOU', 'hou':'HOU', \n",
    "                 'brewers':'MIL', 'milwaukeebrewers':'MIL', 'mil':'MIL', \n",
    "                 'nationals':'WAS', 'wsh':' WAS', 'wsn':'WAS', 'washingtonnationals':'WAS', 'montrealexpos':'WAS', 'expos':'WAS', 'mtl':'WAS','was':'WAS', \n",
    "                 'phillies':'PHI', 'philadelphiaphillies':'PHI', 'phi':'PHI', \n",
    "                 'as':'OAK', 'athletics':'OAK', 'oaklandathletics':'OAK', 'oaklandas':'OAK', 'oaklanda':'OAK', 'oak':'OAK', \n",
    "                 'diamondbacks':'ARI', 'arizonadiamondbacks':'ARI', 'ari':'ARI', \n",
    "                 'whitesox':'CHA', 'cws':'CHA', 'chicagowhitesox':'CHA', 'cha':'CHA', \n",
    "                 'redsox':'BOS', 'bostonredsox':'BOS', 'bos':'BOS', \n",
    "                 'royals':'KCA', 'kcr':'KCA', 'kansascityroyals':'KCA', 'kc':'KCA', 'kca':'KCA', \n",
    "                 'cardinals':'SLN', 'slc':'SLN', 'stl':'SLN', 'saintlouiscardinals':'SLN', 'stlouiscardinals':'SLN', 'sln':'SLN', \n",
    "                 'pirates':'PIT', 'pittsburghpirates':'PIT', 'pit':'PIT', \n",
    "                 'mets':'NYN', 'nym':'NYN', 'newyorkmets':'NYN', 'nyn':'NYN', \n",
    "                 'twins':'MIN', 'minnesotatwins':'MIN', 'min':'MIN', \n",
    "                 'padres':'SDN', 'sdp':'SDN', 'sandiegopadres':'SDN', 'sd':'SDN', 'sdn':'SDN', \n",
    "                 'angels':'ANA', 'laa':'ANA', 'losangelesangels':'ANA', 'losangelesangelsofanaheim':'ANA', 'ana':'ANA', \n",
    "                '---': 'UNK'}\n",
    "    l = [team_dict.get(x, x) for x in l]\n",
    "    return l"
   ]
  },
  {
   "cell_type": "code",
   "execution_count": 11,
   "metadata": {},
   "outputs": [],
   "source": [
    "test_teams = pitchers_df['teams'].iloc[0]"
   ]
  },
  {
   "cell_type": "code",
   "execution_count": 12,
   "metadata": {},
   "outputs": [
    {
     "data": {
      "text/plain": [
       "'MIA,TOR,NYA,PIT,PHI'"
      ]
     },
     "execution_count": 12,
     "metadata": {},
     "output_type": "execute_result"
    }
   ],
   "source": [
    "test_teams"
   ]
  },
  {
   "cell_type": "code",
   "execution_count": 13,
   "metadata": {},
   "outputs": [],
   "source": [
    "def split_teams(r):\n",
    "    teams = r.split(\"' '\")\n",
    "    teams = [re.sub(r\"[\\[\\]']\", '', x) for x in teams]\n",
    "    teams_str = ','.join(uniform_name_list(teams))\n",
    "    return re.sub(r',,', ',', teams_str)"
   ]
  },
  {
   "cell_type": "code",
   "execution_count": 14,
   "metadata": {},
   "outputs": [
    {
     "data": {
      "text/plain": [
       "'miatornyapitphi'"
      ]
     },
     "execution_count": 14,
     "metadata": {},
     "output_type": "execute_result"
    }
   ],
   "source": [
    "split_teams(test_teams)"
   ]
  },
  {
   "cell_type": "code",
   "execution_count": 15,
   "metadata": {
    "scrolled": false
   },
   "outputs": [
    {
     "ename": "AttributeError",
     "evalue": "'float' object has no attribute 'split'",
     "output_type": "error",
     "traceback": [
      "\u001b[0;31m---------------------------------------------------------------------------\u001b[0m",
      "\u001b[0;31mAttributeError\u001b[0m                            Traceback (most recent call last)",
      "\u001b[0;32m<ipython-input-15-016210425e31>\u001b[0m in \u001b[0;36m<module>\u001b[0;34m\u001b[0m\n\u001b[0;32m----> 1\u001b[0;31m \u001b[0mpitchers_df\u001b[0m\u001b[0;34m[\u001b[0m\u001b[0;34m'teams'\u001b[0m\u001b[0;34m]\u001b[0m \u001b[0;34m=\u001b[0m \u001b[0mpitchers_df\u001b[0m\u001b[0;34m[\u001b[0m\u001b[0;34m'teams'\u001b[0m\u001b[0;34m]\u001b[0m\u001b[0;34m.\u001b[0m\u001b[0mapply\u001b[0m\u001b[0;34m(\u001b[0m\u001b[0msplit_teams\u001b[0m\u001b[0;34m)\u001b[0m\u001b[0;34m\u001b[0m\u001b[0;34m\u001b[0m\u001b[0m\n\u001b[0m",
      "\u001b[0;32m~/.virtualenvs/baseball/lib/python3.8/site-packages/pandas/core/series.py\u001b[0m in \u001b[0;36mapply\u001b[0;34m(self, func, convert_dtype, args, **kwds)\u001b[0m\n\u001b[1;32m   4198\u001b[0m             \u001b[0;32melse\u001b[0m\u001b[0;34m:\u001b[0m\u001b[0;34m\u001b[0m\u001b[0;34m\u001b[0m\u001b[0m\n\u001b[1;32m   4199\u001b[0m                 \u001b[0mvalues\u001b[0m \u001b[0;34m=\u001b[0m \u001b[0mself\u001b[0m\u001b[0;34m.\u001b[0m\u001b[0mastype\u001b[0m\u001b[0;34m(\u001b[0m\u001b[0mobject\u001b[0m\u001b[0;34m)\u001b[0m\u001b[0;34m.\u001b[0m\u001b[0m_values\u001b[0m\u001b[0;34m\u001b[0m\u001b[0;34m\u001b[0m\u001b[0m\n\u001b[0;32m-> 4200\u001b[0;31m                 \u001b[0mmapped\u001b[0m \u001b[0;34m=\u001b[0m \u001b[0mlib\u001b[0m\u001b[0;34m.\u001b[0m\u001b[0mmap_infer\u001b[0m\u001b[0;34m(\u001b[0m\u001b[0mvalues\u001b[0m\u001b[0;34m,\u001b[0m \u001b[0mf\u001b[0m\u001b[0;34m,\u001b[0m \u001b[0mconvert\u001b[0m\u001b[0;34m=\u001b[0m\u001b[0mconvert_dtype\u001b[0m\u001b[0;34m)\u001b[0m\u001b[0;34m\u001b[0m\u001b[0;34m\u001b[0m\u001b[0m\n\u001b[0m\u001b[1;32m   4201\u001b[0m \u001b[0;34m\u001b[0m\u001b[0m\n\u001b[1;32m   4202\u001b[0m         \u001b[0;32mif\u001b[0m \u001b[0mlen\u001b[0m\u001b[0;34m(\u001b[0m\u001b[0mmapped\u001b[0m\u001b[0;34m)\u001b[0m \u001b[0;32mand\u001b[0m \u001b[0misinstance\u001b[0m\u001b[0;34m(\u001b[0m\u001b[0mmapped\u001b[0m\u001b[0;34m[\u001b[0m\u001b[0;36m0\u001b[0m\u001b[0;34m]\u001b[0m\u001b[0;34m,\u001b[0m \u001b[0mSeries\u001b[0m\u001b[0;34m)\u001b[0m\u001b[0;34m:\u001b[0m\u001b[0;34m\u001b[0m\u001b[0;34m\u001b[0m\u001b[0m\n",
      "\u001b[0;32mpandas/_libs/lib.pyx\u001b[0m in \u001b[0;36mpandas._libs.lib.map_infer\u001b[0;34m()\u001b[0m\n",
      "\u001b[0;32m<ipython-input-13-58983334c780>\u001b[0m in \u001b[0;36msplit_teams\u001b[0;34m(r)\u001b[0m\n\u001b[1;32m      1\u001b[0m \u001b[0;32mdef\u001b[0m \u001b[0msplit_teams\u001b[0m\u001b[0;34m(\u001b[0m\u001b[0mr\u001b[0m\u001b[0;34m)\u001b[0m\u001b[0;34m:\u001b[0m\u001b[0;34m\u001b[0m\u001b[0;34m\u001b[0m\u001b[0m\n\u001b[0;32m----> 2\u001b[0;31m     \u001b[0mteams\u001b[0m \u001b[0;34m=\u001b[0m \u001b[0mr\u001b[0m\u001b[0;34m.\u001b[0m\u001b[0msplit\u001b[0m\u001b[0;34m(\u001b[0m\u001b[0;34m\"' '\"\u001b[0m\u001b[0;34m)\u001b[0m\u001b[0;34m\u001b[0m\u001b[0;34m\u001b[0m\u001b[0m\n\u001b[0m\u001b[1;32m      3\u001b[0m     \u001b[0mteams\u001b[0m \u001b[0;34m=\u001b[0m \u001b[0;34m[\u001b[0m\u001b[0mre\u001b[0m\u001b[0;34m.\u001b[0m\u001b[0msub\u001b[0m\u001b[0;34m(\u001b[0m\u001b[0;34mr\"[\\[\\]']\"\u001b[0m\u001b[0;34m,\u001b[0m \u001b[0;34m''\u001b[0m\u001b[0;34m,\u001b[0m \u001b[0mx\u001b[0m\u001b[0;34m)\u001b[0m \u001b[0;32mfor\u001b[0m \u001b[0mx\u001b[0m \u001b[0;32min\u001b[0m \u001b[0mteams\u001b[0m\u001b[0;34m]\u001b[0m\u001b[0;34m\u001b[0m\u001b[0;34m\u001b[0m\u001b[0m\n\u001b[1;32m      4\u001b[0m     \u001b[0mteams_str\u001b[0m \u001b[0;34m=\u001b[0m \u001b[0;34m','\u001b[0m\u001b[0;34m.\u001b[0m\u001b[0mjoin\u001b[0m\u001b[0;34m(\u001b[0m\u001b[0muniform_name_list\u001b[0m\u001b[0;34m(\u001b[0m\u001b[0mteams\u001b[0m\u001b[0;34m)\u001b[0m\u001b[0;34m)\u001b[0m\u001b[0;34m\u001b[0m\u001b[0;34m\u001b[0m\u001b[0m\n\u001b[1;32m      5\u001b[0m     \u001b[0;32mreturn\u001b[0m \u001b[0mre\u001b[0m\u001b[0;34m.\u001b[0m\u001b[0msub\u001b[0m\u001b[0;34m(\u001b[0m\u001b[0;34mr',,'\u001b[0m\u001b[0;34m,\u001b[0m \u001b[0;34m','\u001b[0m\u001b[0;34m,\u001b[0m \u001b[0mteams_str\u001b[0m\u001b[0;34m)\u001b[0m\u001b[0;34m\u001b[0m\u001b[0;34m\u001b[0m\u001b[0m\n",
      "\u001b[0;31mAttributeError\u001b[0m: 'float' object has no attribute 'split'"
     ]
    }
   ],
   "source": [
    "pitchers_df['teams'] = pitchers_df['teams'].apply(split_teams)"
   ]
  },
  {
   "cell_type": "code",
   "execution_count": null,
   "metadata": {},
   "outputs": [],
   "source": [
    "pitchers_df.head(10)"
   ]
  },
  {
   "cell_type": "code",
   "execution_count": null,
   "metadata": {},
   "outputs": [],
   "source": [
    "pitchers_df.to_csv('../data/pitchers_summary.csv', index=False)"
   ]
  },
  {
   "cell_type": "code",
   "execution_count": null,
   "metadata": {},
   "outputs": [],
   "source": [
    "import os\n",
    "\n",
    "num_f = len(os.listdir('../data/pitchers_games'))\n",
    "\n",
    "for i, f in enumerate(os.listdir('../data/pitchers_games')):\n",
    "    df = pd.read_csv(f'../data/pitchers_games/{f}')\n",
    "    df = uniform_name(df, 'Tm')\n",
    "    df.to_csv(f'../data/pitchers_games/{f}')\n",
    "    if i % int(num_f / 10) == 0 and i > 0:\n",
    "        print(f'{10*i / int(num_f / 10)}% complete')"
   ]
  },
  {
   "cell_type": "markdown",
   "metadata": {},
   "source": [
    "## Joining by retro key\n",
    "\n",
    "How much of the games data has a foreign key for retrosheets?"
   ]
  },
  {
   "cell_type": "code",
   "execution_count": null,
   "metadata": {},
   "outputs": [],
   "source": [
    "games_df['home_pitcher'].nunique(), games_df['away_pitcher'].nunique()"
   ]
  },
  {
   "cell_type": "code",
   "execution_count": null,
   "metadata": {},
   "outputs": [],
   "source": [
    "pd.merge(games_df, pitchers_df, left_on='home_pitcher', right_on='key_retro')['home_pitcher'].nunique()"
   ]
  },
  {
   "cell_type": "code",
   "execution_count": null,
   "metadata": {},
   "outputs": [],
   "source": [
    "pd.merge(games_df, pitchers_df, left_on='away_pitcher', right_on='key_retro')['away_pitcher'].nunique()"
   ]
  },
  {
   "cell_type": "markdown",
   "metadata": {},
   "source": [
    "So roughly half of pitchers have a useable retrosheet foreign key. Let's try names."
   ]
  },
  {
   "cell_type": "code",
   "execution_count": null,
   "metadata": {},
   "outputs": [],
   "source": [
    "games_df['home_pitcher_cleaned'] = games_df['home_pitcher'].str.replace(r'[\\s\\.\\-]+', '').str.lower()\n",
    "games_df['away_pitcher_cleaned'] = games_df['away_pitcher'].str.replace(r'[\\s\\.\\-]+', '').str.lower()"
   ]
  },
  {
   "cell_type": "code",
   "execution_count": null,
   "metadata": {},
   "outputs": [],
   "source": [
    "games_df.head()"
   ]
  },
  {
   "cell_type": "code",
   "execution_count": null,
   "metadata": {},
   "outputs": [],
   "source": [
    "pitchers_df['pitcher_cleaned'] = pitchers_df['Name'].str.replace(r'[\\s\\.\\-]+', '').str.lower()"
   ]
  },
  {
   "cell_type": "code",
   "execution_count": null,
   "metadata": {},
   "outputs": [],
   "source": [
    "pitchers_df.head()"
   ]
  },
  {
   "cell_type": "code",
   "execution_count": null,
   "metadata": {},
   "outputs": [],
   "source": [
    "pd.merge(games_df, pitchers_df, left_on='home_pitcher_cleaned', right_on='pitcher_cleaned')['home_pitcher'].nunique()"
   ]
  },
  {
   "cell_type": "markdown",
   "metadata": {},
   "source": [
    "## Join by retrokey"
   ]
  },
  {
   "cell_type": "markdown",
   "metadata": {},
   "source": [
    "It seems like almost all of them can join by retrokey or (cleaned) name. Let's first join by retrokey."
   ]
  },
  {
   "cell_type": "code",
   "execution_count": null,
   "metadata": {},
   "outputs": [],
   "source": [
    "def fill_missing_pitchers(left, right, left_on, right_on):\n",
    "    # The only columns we need from the pitchers\n",
    "    right_keys = right[['key_retro', 'key_bbref', 'pitcher_cleaned']]\n",
    "    # Doing this whole \"reset_index\"...\"set_index\" preserves the indices (otherwise they get reset)\n",
    "    left = left.reset_index()\n",
    "    left = left.merge(right_keys, how='left', left_on=left_on, right_on=right_on)\n",
    "    left = left.set_index('index')\n",
    "    left = left.drop(['key_retro', 'pitcher_cleaned'], axis='columns')\n",
    "    return left"
   ]
  },
  {
   "cell_type": "code",
   "execution_count": null,
   "metadata": {},
   "outputs": [],
   "source": [
    "games_df = fill_missing_pitchers(games_df, pitchers_df, 'home_pitcher', 'key_retro')"
   ]
  },
  {
   "cell_type": "code",
   "execution_count": null,
   "metadata": {},
   "outputs": [],
   "source": [
    "def add_key_bbref(df, prefix):\n",
    "    # Rename the last column to include home/away\n",
    "    cols = list(df.columns)\n",
    "    cols[-1] = f'{prefix}_key_bbref'\n",
    "    df.columns = cols\n",
    "    return df"
   ]
  },
  {
   "cell_type": "code",
   "execution_count": null,
   "metadata": {},
   "outputs": [],
   "source": [
    "games_df = add_key_bbref(games_df, 'home')"
   ]
  },
  {
   "cell_type": "code",
   "execution_count": null,
   "metadata": {},
   "outputs": [],
   "source": [
    "games_df.head()"
   ]
  },
  {
   "cell_type": "markdown",
   "metadata": {},
   "source": [
    "Note that there are some pitchers who have the same name but are different people."
   ]
  },
  {
   "cell_type": "code",
   "execution_count": null,
   "metadata": {},
   "outputs": [],
   "source": [
    "pitchers_df['key_retro'].nunique(), pitchers_df['pitcher_cleaned'].nunique()"
   ]
  },
  {
   "cell_type": "markdown",
   "metadata": {},
   "source": [
    "For now I'll just drop those pitchers to make things easier. Then I'll manually add them."
   ]
  },
  {
   "cell_type": "code",
   "execution_count": null,
   "metadata": {},
   "outputs": [],
   "source": [
    "pitchers_df = pitchers_df.drop_duplicates('pitcher_cleaned', keep=False)"
   ]
  },
  {
   "cell_type": "markdown",
   "metadata": {},
   "source": [
    "Now we'll grab just those who didnt' join on retrokey and try joining by cleaned name."
   ]
  },
  {
   "cell_type": "code",
   "execution_count": null,
   "metadata": {},
   "outputs": [],
   "source": [
    "games_missing_df = games_df[games_df['home_key_bbref'].isna()]\n",
    "games_missing_df = games_missing_df.drop('home_key_bbref', axis='columns')"
   ]
  },
  {
   "cell_type": "code",
   "execution_count": null,
   "metadata": {},
   "outputs": [],
   "source": [
    "games_missing_df.head()"
   ]
  },
  {
   "cell_type": "code",
   "execution_count": null,
   "metadata": {},
   "outputs": [],
   "source": [
    "games_missing_df = fill_missing_pitchers(games_missing_df, pitchers_df, 'home_pitcher_cleaned', 'pitcher_cleaned')"
   ]
  },
  {
   "cell_type": "code",
   "execution_count": null,
   "metadata": {},
   "outputs": [],
   "source": [
    "games_missing_df = add_key_bbref(games_missing_df, 'home')"
   ]
  },
  {
   "cell_type": "code",
   "execution_count": null,
   "metadata": {},
   "outputs": [],
   "source": [
    "games_missing_df.head()"
   ]
  },
  {
   "cell_type": "code",
   "execution_count": null,
   "metadata": {},
   "outputs": [],
   "source": [
    "games_df.update(games_missing_df)"
   ]
  },
  {
   "cell_type": "code",
   "execution_count": null,
   "metadata": {},
   "outputs": [],
   "source": [
    "games_df.head()"
   ]
  },
  {
   "cell_type": "markdown",
   "metadata": {},
   "source": [
    "## Again for away team"
   ]
  },
  {
   "cell_type": "code",
   "execution_count": null,
   "metadata": {},
   "outputs": [],
   "source": [
    "pitchers_df = pd.read_csv('../data/pitchers_summary.csv')\n",
    "pitchers_df['pitcher_cleaned'] = pitchers_df['Name'].str.replace(r'[\\s\\.\\-]+', '').str.lower()\n",
    "\n",
    "games_df = fill_missing_pitchers(games_df, pitchers_df, 'away_pitcher', 'key_retro')\n",
    "games_df = add_key_bbref(games_df, 'away')\n",
    "\n",
    "pitchers_df = pitchers_df.drop_duplicates('pitcher_cleaned', keep=False)\n",
    "\n",
    "games_missing_df = games_df[games_df['away_key_bbref'].isna()]\n",
    "games_missing_df = games_missing_df.drop('away_key_bbref', axis='columns')\n",
    "games_missing_df = fill_missing_pitchers(games_missing_df, pitchers_df, 'away_pitcher_cleaned', 'pitcher_cleaned')\n",
    "games_missing_df = add_key_bbref(games_missing_df, 'away')\n",
    "\n",
    "games_df.update(games_missing_df)"
   ]
  },
  {
   "cell_type": "code",
   "execution_count": null,
   "metadata": {},
   "outputs": [],
   "source": [
    "games_df.head()"
   ]
  },
  {
   "cell_type": "markdown",
   "metadata": {},
   "source": [
    "## That's everyone"
   ]
  },
  {
   "cell_type": "code",
   "execution_count": null,
   "metadata": {},
   "outputs": [],
   "source": [
    "games_df['home_pitcher'] = games_df['home_key_bbref']\n",
    "games_df['away_pitcher'] = games_df['away_key_bbref']"
   ]
  },
  {
   "cell_type": "code",
   "execution_count": null,
   "metadata": {},
   "outputs": [],
   "source": [
    "games_df['home_pitcher'].isna().sum(), games_df['away_pitcher'].isna().sum()"
   ]
  },
  {
   "cell_type": "code",
   "execution_count": null,
   "metadata": {},
   "outputs": [],
   "source": [
    "games_df = games_df.drop(['home_pitcher_cleaned', 'away_pitcher_cleaned', 'home_key_bbref', 'away_key_bbref'], axis='columns')"
   ]
  },
  {
   "cell_type": "code",
   "execution_count": null,
   "metadata": {},
   "outputs": [],
   "source": [
    "games_df.head()"
   ]
  },
  {
   "cell_type": "code",
   "execution_count": 1188,
   "metadata": {},
   "outputs": [],
   "source": [
    "games_df.to_csv('../data/mlb_games_df.csv', index=False)"
   ]
  }
 ],
 "metadata": {
  "kernelspec": {
   "display_name": "Python 3",
   "language": "python",
   "name": "python3"
  },
  "language_info": {
   "codemirror_mode": {
    "name": "ipython",
    "version": 3
   },
   "file_extension": ".py",
   "mimetype": "text/x-python",
   "name": "python",
   "nbconvert_exporter": "python",
   "pygments_lexer": "ipython3",
   "version": "3.8.5"
  }
 },
 "nbformat": 4,
 "nbformat_minor": 4
}
