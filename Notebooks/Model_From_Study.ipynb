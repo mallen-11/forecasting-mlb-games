{
 "cells": [
  {
   "cell_type": "code",
   "execution_count": 4,
   "metadata": {
    "colab": {
     "base_uri": "https://localhost:8080/"
    },
    "id": "pAfxZiYOJfNZ",
    "outputId": "b19aa8cf-f207-40ed-a306-f4fedcae7f44"
   },
   "outputs": [],
   "source": [
    "import pandas as pd\n",
    "import numpy as np\n",
    "from matplotlib import pyplot as plt\n",
    "import datetime as dt\n",
    "\n",
    "import xgboost as xgb\n",
    "\n",
    "from sklearn.metrics import accuracy_score, classification_report\n",
    "\n",
    "# from google.colab import drive\n",
    "# drive.mount('/content/drive')\n",
    "# drive_dir = '/content/drive/My Drive/'"
   ]
  },
  {
   "cell_type": "code",
   "execution_count": 5,
   "metadata": {
    "id": "I6R3C5cdJfNj"
   },
   "outputs": [],
   "source": [
    "df = pd.read_csv('../data/pct_diff_df.csv')\n",
    "# df = pd.read_csv(drive_dir + 'pct_diff_df.csv')\n",
    "df = df.fillna(0)"
   ]
  },
  {
   "cell_type": "code",
   "execution_count": 6,
   "metadata": {
    "colab": {
     "base_uri": "https://localhost:8080/",
     "height": 204
    },
    "id": "BGL7ATH1JfNk",
    "outputId": "2b150ba0-1a64-418e-bc0d-d0500386dabd",
    "scrolled": true
   },
   "outputs": [
    {
     "data": {
      "text/html": [
       "<div>\n",
       "<style scoped>\n",
       "    .dataframe tbody tr th:only-of-type {\n",
       "        vertical-align: middle;\n",
       "    }\n",
       "\n",
       "    .dataframe tbody tr th {\n",
       "        vertical-align: top;\n",
       "    }\n",
       "\n",
       "    .dataframe thead th {\n",
       "        text-align: right;\n",
       "    }\n",
       "</style>\n",
       "<table border=\"1\" class=\"dataframe\">\n",
       "  <thead>\n",
       "    <tr style=\"text-align: right;\">\n",
       "      <th></th>\n",
       "      <th>Y</th>\n",
       "      <th>home_win</th>\n",
       "      <th>elo_pct_diff</th>\n",
       "      <th>obp_pct_diff</th>\n",
       "      <th>fip_pct_diff</th>\n",
       "      <th>whip_pct_diff</th>\n",
       "      <th>k/9_pct_diff</th>\n",
       "      <th>hr/9_pct_diff</th>\n",
       "      <th>k/bb_pct_diff</th>\n",
       "      <th>iso_pct_diff</th>\n",
       "      <th>rest_pct_diff</th>\n",
       "    </tr>\n",
       "  </thead>\n",
       "  <tbody>\n",
       "    <tr>\n",
       "      <th>0</th>\n",
       "      <td>2001</td>\n",
       "      <td>1.0</td>\n",
       "      <td>1.360396</td>\n",
       "      <td>-2.977845</td>\n",
       "      <td>-21.533639</td>\n",
       "      <td>-8.380988</td>\n",
       "      <td>5.602914</td>\n",
       "      <td>-4.176921</td>\n",
       "      <td>20.477432</td>\n",
       "      <td>16.239572</td>\n",
       "      <td>0.0</td>\n",
       "    </tr>\n",
       "    <tr>\n",
       "      <th>1</th>\n",
       "      <td>2001</td>\n",
       "      <td>1.0</td>\n",
       "      <td>3.117843</td>\n",
       "      <td>8.985458</td>\n",
       "      <td>-36.793204</td>\n",
       "      <td>0.217176</td>\n",
       "      <td>1.487938</td>\n",
       "      <td>-25.189709</td>\n",
       "      <td>4.452231</td>\n",
       "      <td>23.914199</td>\n",
       "      <td>0.0</td>\n",
       "    </tr>\n",
       "    <tr>\n",
       "      <th>2</th>\n",
       "      <td>2001</td>\n",
       "      <td>1.0</td>\n",
       "      <td>-1.002459</td>\n",
       "      <td>0.331871</td>\n",
       "      <td>2.966752</td>\n",
       "      <td>-4.004756</td>\n",
       "      <td>3.096863</td>\n",
       "      <td>4.987071</td>\n",
       "      <td>0.525930</td>\n",
       "      <td>-8.999695</td>\n",
       "      <td>0.0</td>\n",
       "    </tr>\n",
       "    <tr>\n",
       "      <th>3</th>\n",
       "      <td>2001</td>\n",
       "      <td>1.0</td>\n",
       "      <td>2.377165</td>\n",
       "      <td>1.970596</td>\n",
       "      <td>-62.331909</td>\n",
       "      <td>-10.774250</td>\n",
       "      <td>11.794451</td>\n",
       "      <td>-33.620825</td>\n",
       "      <td>25.785465</td>\n",
       "      <td>20.430700</td>\n",
       "      <td>0.0</td>\n",
       "    </tr>\n",
       "    <tr>\n",
       "      <th>4</th>\n",
       "      <td>2001</td>\n",
       "      <td>1.0</td>\n",
       "      <td>1.684054</td>\n",
       "      <td>4.236467</td>\n",
       "      <td>-33.069380</td>\n",
       "      <td>-11.011642</td>\n",
       "      <td>17.410484</td>\n",
       "      <td>2.559202</td>\n",
       "      <td>30.937780</td>\n",
       "      <td>9.115030</td>\n",
       "      <td>0.0</td>\n",
       "    </tr>\n",
       "  </tbody>\n",
       "</table>\n",
       "</div>"
      ],
      "text/plain": [
       "      Y  home_win  elo_pct_diff  obp_pct_diff  fip_pct_diff  whip_pct_diff  \\\n",
       "0  2001       1.0      1.360396     -2.977845    -21.533639      -8.380988   \n",
       "1  2001       1.0      3.117843      8.985458    -36.793204       0.217176   \n",
       "2  2001       1.0     -1.002459      0.331871      2.966752      -4.004756   \n",
       "3  2001       1.0      2.377165      1.970596    -62.331909     -10.774250   \n",
       "4  2001       1.0      1.684054      4.236467    -33.069380     -11.011642   \n",
       "\n",
       "   k/9_pct_diff  hr/9_pct_diff  k/bb_pct_diff  iso_pct_diff  rest_pct_diff  \n",
       "0      5.602914      -4.176921      20.477432     16.239572            0.0  \n",
       "1      1.487938     -25.189709       4.452231     23.914199            0.0  \n",
       "2      3.096863       4.987071       0.525930     -8.999695            0.0  \n",
       "3     11.794451     -33.620825      25.785465     20.430700            0.0  \n",
       "4     17.410484       2.559202      30.937780      9.115030            0.0  "
      ]
     },
     "execution_count": 6,
     "metadata": {},
     "output_type": "execute_result"
    }
   ],
   "source": [
    "df.head()"
   ]
  },
  {
   "cell_type": "code",
   "execution_count": 7,
   "metadata": {
    "id": "4oBz2G-eKlZj"
   },
   "outputs": [],
   "source": [
    "df['home_win'] = df['home_win'].astype(int)"
   ]
  },
  {
   "cell_type": "code",
   "execution_count": 8,
   "metadata": {
    "id": "m77jLV-rJfNk"
   },
   "outputs": [],
   "source": [
    "train = df[df['Y'] <= 2015]\n",
    "test = df[df['Y'] > 2015]"
   ]
  },
  {
   "cell_type": "code",
   "execution_count": 9,
   "metadata": {
    "id": "fr408J2IJfNl"
   },
   "outputs": [],
   "source": [
    "train = train.drop('Y', axis=1)\n",
    "test= test.drop('Y', axis=1)"
   ]
  },
  {
   "cell_type": "code",
   "execution_count": 10,
   "metadata": {
    "id": "jcNlvmHrJfNl"
   },
   "outputs": [],
   "source": [
    "X_train = train.drop('home_win', axis=1)\n",
    "y_train = train.home_win\n",
    "X_test = test.drop('home_win', axis=1)\n",
    "y_test = test.home_win"
   ]
  },
  {
   "cell_type": "code",
   "execution_count": 11,
   "metadata": {
    "id": "f24_MqKvJfNl"
   },
   "outputs": [],
   "source": [
    "model = xgb.XGBClassifier()\n",
    "xgb_model = model.fit(X_train, y_train)"
   ]
  },
  {
   "cell_type": "code",
   "execution_count": 12,
   "metadata": {
    "id": "JrBpVsRhKJyM"
   },
   "outputs": [],
   "source": [
    "preds = xgb_model.predict(X_test)"
   ]
  },
  {
   "cell_type": "code",
   "execution_count": 13,
   "metadata": {
    "colab": {
     "base_uri": "https://localhost:8080/"
    },
    "id": "gtcdDF1wKPYh",
    "outputId": "1ee850da-cc9b-4c33-ca2b-206acbbbee53"
   },
   "outputs": [
    {
     "data": {
      "text/plain": [
       "0.6038279481374769"
      ]
     },
     "execution_count": 13,
     "metadata": {},
     "output_type": "execute_result"
    }
   ],
   "source": [
    "accuracy_score(y_test, preds)"
   ]
  },
  {
   "cell_type": "code",
   "execution_count": 14,
   "metadata": {
    "id": "TXvT6vWaKgvF"
   },
   "outputs": [],
   "source": [
    "model = xgb.XGBClassifier(max_depth=3, learning_rate=0.05, n_estimators=300,)# importance_type='total_gain')\n",
    "xgb_m = model.fit(X_train, y_train)"
   ]
  },
  {
   "cell_type": "code",
   "execution_count": 15,
   "metadata": {
    "id": "c_FVd3QlLCoJ"
   },
   "outputs": [],
   "source": [
    "preds = xgb_m.predict(X_test)"
   ]
  },
  {
   "cell_type": "code",
   "execution_count": 16,
   "metadata": {
    "colab": {
     "base_uri": "https://localhost:8080/"
    },
    "id": "MmXlu1X-LFBj",
    "outputId": "05c916a8-5839-44dc-e224-11eb623267fc"
   },
   "outputs": [
    {
     "data": {
      "text/plain": [
       "0.6271866639226178"
      ]
     },
     "execution_count": 16,
     "metadata": {},
     "output_type": "execute_result"
    }
   ],
   "source": [
    "accuracy_score(y_test, preds)"
   ]
  },
  {
   "cell_type": "code",
   "execution_count": 25,
   "metadata": {
    "colab": {
     "base_uri": "https://localhost:8080/"
    },
    "id": "_cR4G4i0YsZO",
    "outputId": "210bbfc0-8825-4fc1-dbb1-974bf476117f"
   },
   "outputs": [
    {
     "name": "stdout",
     "output_type": "stream",
     "text": [
      "              precision    recall  f1-score   support\n",
      "\n",
      "           0       0.62      0.53      0.57      4551\n",
      "           1       0.63      0.71      0.67      5167\n",
      "\n",
      "    accuracy                           0.63      9718\n",
      "   macro avg       0.63      0.62      0.62      9718\n",
      "weighted avg       0.63      0.63      0.62      9718\n",
      "\n"
     ]
    }
   ],
   "source": [
    "print(classification_report(y_test, preds))"
   ]
  },
  {
   "cell_type": "code",
   "execution_count": 14,
   "metadata": {
    "id": "-4NotJEuLFVY"
   },
   "outputs": [],
   "source": [
    "featuredf = pd.DataFrame(xgb_m.feature_importances_, X_train.columns)   #This makes it in order\n",
    "featuredf = featuredf.sort_values(by=0, ascending=False)"
   ]
  },
  {
   "cell_type": "code",
   "execution_count": 15,
   "metadata": {
    "colab": {
     "base_uri": "https://localhost:8080/",
     "height": 504
    },
    "id": "dKiNywctLgyb",
    "outputId": "fb0ed1ed-e549-47c3-fd00-64576761e52d"
   },
   "outputs": [
    {
     "data": {
      "image/png": "[encoded data removed]",
      "text/plain": [
       "<Figure size 1440x576 with 1 Axes>"
      ]
     },
     "metadata": {
      "needs_background": "light",
      "tags": []
     },
     "output_type": "display_data"
    }
   ],
   "source": [
    "plt.figure(figsize=(20, 8))\n",
    "\n",
    "x = featuredf.index\n",
    "y = featuredf[0]\n",
    "\n",
    "plt.bar(x, y)\n",
    "plt.xticks([0,1,2,3,4,5,6,7,8], ['OBP', 'ISO', 'WHIP', 'K/BB', 'FIP', 'K/9', 'ELO', 'HR/9', 'Rest Days'])\n",
    "plt.title('Feature Importances', fontsize=20)\n",
    "plt.ylabel('Weight', fontsize=14)\n",
    "plt.savefig(drive_dir + 'feature_importance.png');"
   ]
  },
  {
   "cell_type": "code",
   "execution_count": 17,
   "metadata": {
    "colab": {
     "base_uri": "https://localhost:8080/",
     "height": 1000
    },
    "id": "Jd7D9HKGOaT4",
    "outputId": "bcc3764e-7719-4e2c-f3f0-87ce9729739b"
   },
   "outputs": [
    {
     "name": "stdout",
     "output_type": "stream",
     "text": [
      "Collecting interpret\n",
      "  Downloading https://files.pythonhosted.org/packages/4c/4a/df3e0d4c47ca7e5734b726d19b2ce43312e46bb0976b475e1b7049265760/interpret-0.2.2-py3-none-any.whl\n",
      "Collecting interpret-core[dash,debug,decisiontree,ebm,lime,linear,notebook,plotly,required,sensitivity,shap,treeinterpreter]>=0.2.2\n",
      "\u001b[?25l  Downloading https://files.pythonhosted.org/packages/e0/f4/b3cd256fae2559c83b9b1d6fcf500d18acf21deec6c4efccc7b52ad62fd7/interpret_core-0.2.2-py3-none-any.whl (5.2MB)\n",
      "\u001b[K     |████████████████████████████████| 5.2MB 5.7MB/s \n",
      "\u001b[?25hRequirement already satisfied: requests>=2.19.0; extra == \"dash\" in /usr/local/lib/python3.6/dist-packages (from interpret-core[dash,debug,decisiontree,ebm,lime,linear,notebook,plotly,required,sensitivity,shap,treeinterpreter]>=0.2.2->interpret) (2.23.0)\n",
      "Collecting gevent>=1.3.6; extra == \"dash\"\n",
      "\u001b[?25l  Downloading https://files.pythonhosted.org/packages/3f/92/b80b922f08f222faca53c8d278e2e612192bc74b0e1f0db2f80a6ee46982/gevent-20.9.0-cp36-cp36m-manylinux2010_x86_64.whl (5.3MB)\n",
      "\u001b[K     |████████████████████████████████| 5.3MB 48.6MB/s \n",
      "\u001b[?25hCollecting dash>=1.0.0; extra == \"dash\"\n",
      "\u001b[?25l  Downloading https://files.pythonhosted.org/packages/dd/17/55244363969638edd1151de0ea4aa10e6a7849b42d7d0994e3082514e19d/dash-1.18.1.tar.gz (74kB)\n",
      "\u001b[K     |████████████████████████████████| 81kB 9.1MB/s \n",
      "\u001b[?25hCollecting dash-table>=4.1.0; extra == \"dash\"\n",
      "\u001b[?25l  Downloading https://files.pythonhosted.org/packages/79/4b/de20584b7dc82dc6e572e8b596d21b1c6e39f13d19e8c9e6f1d67bed67fd/dash_table-4.11.1.tar.gz (1.8MB)\n",
      "\u001b[K     |████████████████████████████████| 1.8MB 46.1MB/s \n",
      "\u001b[?25hCollecting dash-cytoscape>=0.1.1; extra == \"dash\"\n",
      "\u001b[?25l  Downloading https://files.pythonhosted.org/packages/a1/98/93b356b47aca71d4fb1065990137b6b75eb527e8d1cd0e87dc037cead113/dash_cytoscape-0.2.0.tar.gz (3.6MB)\n",
      "\u001b[K     |████████████████████████████████| 3.6MB 43.8MB/s \n",
      "\u001b[?25hCollecting psutil>=5.6.2; extra == \"debug\"\n",
      "\u001b[?25l  Downloading https://files.pythonhosted.org/packages/33/e0/82d459af36bda999f82c7ea86c67610591cf5556168f48fd6509e5fa154d/psutil-5.7.3.tar.gz (465kB)\n",
      "\u001b[K     |████████████████████████████████| 471kB 55.7MB/s \n",
      "\u001b[?25hRequirement already satisfied: joblib>=0.11; extra == \"decisiontree\" in /usr/local/lib/python3.6/dist-packages (from interpret-core[dash,debug,decisiontree,ebm,lime,linear,notebook,plotly,required,sensitivity,shap,treeinterpreter]>=0.2.2->interpret) (0.17.0)\n",
      "Collecting lime>=0.1.1.33; extra == \"lime\"\n",
      "\u001b[?25l  Downloading https://files.pythonhosted.org/packages/f5/86/91a13127d83d793ecb50eb75e716f76e6eda809b6803c5a4ff462339789e/lime-0.2.0.1.tar.gz (275kB)\n",
      "\u001b[K     |████████████████████████████████| 276kB 55.1MB/s \n",
      "\u001b[?25hCollecting ipython>=7.4.0; extra == \"notebook\"\n",
      "\u001b[?25l  Downloading https://files.pythonhosted.org/packages/23/6a/210816c943c9aeeb29e4e18a298f14bf0e118fe222a23e13bfcc2d41b0a4/ipython-7.16.1-py3-none-any.whl (785kB)\n",
      "\u001b[K     |████████████████████████████████| 788kB 50.3MB/s \n",
      "\u001b[?25hCollecting ipykernel>=5.1.0; extra == \"notebook\"\n",
      "\u001b[?25l  Downloading https://files.pythonhosted.org/packages/56/c5/97a972202414c79c28814b1450a31a89777638fb3524e8b5b686a5436abe/ipykernel-5.4.2-py3-none-any.whl (119kB)\n",
      "\u001b[K     |████████████████████████████████| 122kB 37.0MB/s \n",
      "\u001b[?25hRequirement already satisfied: plotly>=3.8.1; extra == \"plotly\" in /usr/local/lib/python3.6/dist-packages (from interpret-core[dash,debug,decisiontree,ebm,lime,linear,notebook,plotly,required,sensitivity,shap,treeinterpreter]>=0.2.2->interpret) (4.4.1)\n",
      "Requirement already satisfied: scikit-learn>=0.18.1; extra == \"required\" in /usr/local/lib/python3.6/dist-packages (from interpret-core[dash,debug,decisiontree,ebm,lime,linear,notebook,plotly,required,sensitivity,shap,treeinterpreter]>=0.2.2->interpret) (0.22.2.post1)\n",
      "Requirement already satisfied: scipy>=0.18.1; extra == \"required\" in /usr/local/lib/python3.6/dist-packages (from interpret-core[dash,debug,decisiontree,ebm,lime,linear,notebook,plotly,required,sensitivity,shap,treeinterpreter]>=0.2.2->interpret) (1.4.1)\n",
      "Requirement already satisfied: numpy>=1.11.1; extra == \"required\" in /usr/local/lib/python3.6/dist-packages (from interpret-core[dash,debug,decisiontree,ebm,lime,linear,notebook,plotly,required,sensitivity,shap,treeinterpreter]>=0.2.2->interpret) (1.18.5)\n",
      "Requirement already satisfied: pandas>=0.19.2; extra == \"required\" in /usr/local/lib/python3.6/dist-packages (from interpret-core[dash,debug,decisiontree,ebm,lime,linear,notebook,plotly,required,sensitivity,shap,treeinterpreter]>=0.2.2->interpret) (1.1.5)\n",
      "Collecting SALib>=1.3.3; extra == \"sensitivity\"\n",
      "\u001b[?25l  Downloading https://files.pythonhosted.org/packages/ba/36/84735444f4faded327e1158ed15228a3ff57268f351c799f0038ee68b53f/SALib-1.3.12.tar.gz (855kB)\n",
      "\u001b[K     |████████████████████████████████| 860kB 50.5MB/s \n",
      "\u001b[?25hCollecting shap>=0.28.5; extra == \"shap\"\n",
      "\u001b[?25l  Downloading https://files.pythonhosted.org/packages/85/a3/c0eab9dd6a894165e2cb87504ff5b2710ac5ede3447d9138620b7341b6a2/shap-0.37.0.tar.gz (326kB)\n",
      "\u001b[K     |████████████████████████████████| 327kB 57.3MB/s \n",
      "\u001b[?25hRequirement already satisfied: dill>=0.2.5; extra == \"shap\" in /usr/local/lib/python3.6/dist-packages (from interpret-core[dash,debug,decisiontree,ebm,lime,linear,notebook,plotly,required,sensitivity,shap,treeinterpreter]>=0.2.2->interpret) (0.3.3)\n",
      "Collecting treeinterpreter>=0.2.2; extra == \"treeinterpreter\"\n",
      "  Downloading https://files.pythonhosted.org/packages/56/cb/78ec761719d2546d4bb75ec02773d01c0a0e8229fe3f8edf6a6ac961e24e/treeinterpreter-0.2.2-py2.py3-none-any.whl\n",
      "Requirement already satisfied: chardet<4,>=3.0.2 in /usr/local/lib/python3.6/dist-packages (from requests>=2.19.0; extra == \"dash\"->interpret-core[dash,debug,decisiontree,ebm,lime,linear,notebook,plotly,required,sensitivity,shap,treeinterpreter]>=0.2.2->interpret) (3.0.4)\n",
      "Requirement already satisfied: certifi>=2017.4.17 in /usr/local/lib/python3.6/dist-packages (from requests>=2.19.0; extra == \"dash\"->interpret-core[dash,debug,decisiontree,ebm,lime,linear,notebook,plotly,required,sensitivity,shap,treeinterpreter]>=0.2.2->interpret) (2020.12.5)\n",
      "Requirement already satisfied: idna<3,>=2.5 in /usr/local/lib/python3.6/dist-packages (from requests>=2.19.0; extra == \"dash\"->interpret-core[dash,debug,decisiontree,ebm,lime,linear,notebook,plotly,required,sensitivity,shap,treeinterpreter]>=0.2.2->interpret) (2.10)\n",
      "Requirement already satisfied: urllib3!=1.25.0,!=1.25.1,<1.26,>=1.21.1 in /usr/local/lib/python3.6/dist-packages (from requests>=2.19.0; extra == \"dash\"->interpret-core[dash,debug,decisiontree,ebm,lime,linear,notebook,plotly,required,sensitivity,shap,treeinterpreter]>=0.2.2->interpret) (1.24.3)\n",
      "Collecting greenlet>=0.4.17; platform_python_implementation == \"CPython\"\n",
      "\u001b[?25l  Downloading https://files.pythonhosted.org/packages/80/d0/532e160c777b42f6f393f9de8c88abb8af6c892037c55e4d3a8a211324dd/greenlet-0.4.17-cp36-cp36m-manylinux1_x86_64.whl (44kB)\n",
      "\u001b[K     |████████████████████████████████| 51kB 8.2MB/s \n",
      "\u001b[?25hCollecting zope.event\n",
      "  Downloading https://files.pythonhosted.org/packages/9e/85/b45408c64f3b888976f1d5b37eed8d746b8d5729a66a49ec846fda27d371/zope.event-4.5.0-py2.py3-none-any.whl\n",
      "Requirement already satisfied: setuptools in /usr/local/lib/python3.6/dist-packages (from gevent>=1.3.6; extra == \"dash\"->interpret-core[dash,debug,decisiontree,ebm,lime,linear,notebook,plotly,required,sensitivity,shap,treeinterpreter]>=0.2.2->interpret) (50.3.2)\n",
      "Collecting zope.interface\n",
      "\u001b[?25l  Downloading https://files.pythonhosted.org/packages/82/b0/da8afd9b3bd50c7665ecdac062f182982af1173c9081f9af7261091c5588/zope.interface-5.2.0-cp36-cp36m-manylinux2010_x86_64.whl (236kB)\n",
      "\u001b[K     |████████████████████████████████| 245kB 59.3MB/s \n",
      "\u001b[?25hRequirement already satisfied: Flask>=1.0.4 in /usr/local/lib/python3.6/dist-packages (from dash>=1.0.0; extra == \"dash\"->interpret-core[dash,debug,decisiontree,ebm,lime,linear,notebook,plotly,required,sensitivity,shap,treeinterpreter]>=0.2.2->interpret) (1.1.2)\n",
      "Collecting flask-compress\n",
      "  Downloading https://files.pythonhosted.org/packages/b2/7a/9c4641f975fb9daaf945dc39da6a52fd5693ab3bbc2d53780eab3b5106f4/Flask_Compress-1.8.0-py3-none-any.whl\n",
      "Collecting dash_renderer==1.8.3\n",
      "\u001b[?25l  Downloading https://files.pythonhosted.org/packages/72/fe/59a322edb128ad15205002c7b81e3f5e580f6791c4a100183289e05dbfcb/dash_renderer-1.8.3.tar.gz (1.0MB)\n",
      "\u001b[K     |████████████████████████████████| 1.0MB 47.7MB/s \n",
      "\u001b[?25hCollecting dash-core-components==1.14.1\n",
      "\u001b[?25l  Downloading https://files.pythonhosted.org/packages/0f/ab/5ffeeed41117383d02485f5b9204dcfaa074bfbb3ff2559afac7b904ad5c/dash_core_components-1.14.1.tar.gz (3.5MB)\n",
      "\u001b[K     |████████████████████████████████| 3.5MB 50.2MB/s \n",
      "\u001b[?25hCollecting dash-html-components==1.1.1\n",
      "\u001b[?25l  Downloading https://files.pythonhosted.org/packages/02/ba/bb9427c62feb25bfbaf243894eeeb4e7c67a92b426ed0575a167100e436e/dash_html_components-1.1.1.tar.gz (188kB)\n",
      "\u001b[K     |████████████████████████████████| 194kB 56.7MB/s \n",
      "\u001b[?25hRequirement already satisfied: future in /usr/local/lib/python3.6/dist-packages (from dash>=1.0.0; extra == \"dash\"->interpret-core[dash,debug,decisiontree,ebm,lime,linear,notebook,plotly,required,sensitivity,shap,treeinterpreter]>=0.2.2->interpret) (0.16.0)\n",
      "Requirement already satisfied: matplotlib in /usr/local/lib/python3.6/dist-packages (from lime>=0.1.1.33; extra == \"lime\"->interpret-core[dash,debug,decisiontree,ebm,lime,linear,notebook,plotly,required,sensitivity,shap,treeinterpreter]>=0.2.2->interpret) (3.2.2)\n",
      "Requirement already satisfied: tqdm in /usr/local/lib/python3.6/dist-packages (from lime>=0.1.1.33; extra == \"lime\"->interpret-core[dash,debug,decisiontree,ebm,lime,linear,notebook,plotly,required,sensitivity,shap,treeinterpreter]>=0.2.2->interpret) (4.41.1)\n",
      "Requirement already satisfied: scikit-image>=0.12 in /usr/local/lib/python3.6/dist-packages (from lime>=0.1.1.33; extra == \"lime\"->interpret-core[dash,debug,decisiontree,ebm,lime,linear,notebook,plotly,required,sensitivity,shap,treeinterpreter]>=0.2.2->interpret) (0.16.2)\n",
      "Requirement already satisfied: decorator in /usr/local/lib/python3.6/dist-packages (from ipython>=7.4.0; extra == \"notebook\"->interpret-core[dash,debug,decisiontree,ebm,lime,linear,notebook,plotly,required,sensitivity,shap,treeinterpreter]>=0.2.2->interpret) (4.4.2)\n",
      "Requirement already satisfied: pickleshare in /usr/local/lib/python3.6/dist-packages (from ipython>=7.4.0; extra == \"notebook\"->interpret-core[dash,debug,decisiontree,ebm,lime,linear,notebook,plotly,required,sensitivity,shap,treeinterpreter]>=0.2.2->interpret) (0.7.5)\n",
      "Requirement already satisfied: traitlets>=4.2 in /usr/local/lib/python3.6/dist-packages (from ipython>=7.4.0; extra == \"notebook\"->interpret-core[dash,debug,decisiontree,ebm,lime,linear,notebook,plotly,required,sensitivity,shap,treeinterpreter]>=0.2.2->interpret) (4.3.3)\n",
      "Requirement already satisfied: pygments in /usr/local/lib/python3.6/dist-packages (from ipython>=7.4.0; extra == \"notebook\"->interpret-core[dash,debug,decisiontree,ebm,lime,linear,notebook,plotly,required,sensitivity,shap,treeinterpreter]>=0.2.2->interpret) (2.6.1)\n",
      "Requirement already satisfied: pexpect; sys_platform != \"win32\" in /usr/local/lib/python3.6/dist-packages (from ipython>=7.4.0; extra == \"notebook\"->interpret-core[dash,debug,decisiontree,ebm,lime,linear,notebook,plotly,required,sensitivity,shap,treeinterpreter]>=0.2.2->interpret) (4.8.0)\n",
      "Collecting prompt-toolkit!=3.0.0,!=3.0.1,<3.1.0,>=2.0.0\n",
      "\u001b[?25l  Downloading https://files.pythonhosted.org/packages/8a/aa/198e6a857e83ea8b711a6ae0c37717c0eb1b23ff52e3732a644fcd389cb3/prompt_toolkit-3.0.8-py3-none-any.whl (355kB)\n",
      "\u001b[K     |████████████████████████████████| 358kB 56.8MB/s \n",
      "\u001b[?25hRequirement already satisfied: jedi>=0.10 in /usr/local/lib/python3.6/dist-packages (from ipython>=7.4.0; extra == \"notebook\"->interpret-core[dash,debug,decisiontree,ebm,lime,linear,notebook,plotly,required,sensitivity,shap,treeinterpreter]>=0.2.2->interpret) (0.17.2)\n",
      "Requirement already satisfied: backcall in /usr/local/lib/python3.6/dist-packages (from ipython>=7.4.0; extra == \"notebook\"->interpret-core[dash,debug,decisiontree,ebm,lime,linear,notebook,plotly,required,sensitivity,shap,treeinterpreter]>=0.2.2->interpret) (0.2.0)\n",
      "Requirement already satisfied: tornado>=4.2 in /usr/local/lib/python3.6/dist-packages (from ipykernel>=5.1.0; extra == \"notebook\"->interpret-core[dash,debug,decisiontree,ebm,lime,linear,notebook,plotly,required,sensitivity,shap,treeinterpreter]>=0.2.2->interpret) (5.1.1)\n",
      "Requirement already satisfied: jupyter-client in /usr/local/lib/python3.6/dist-packages (from ipykernel>=5.1.0; extra == \"notebook\"->interpret-core[dash,debug,decisiontree,ebm,lime,linear,notebook,plotly,required,sensitivity,shap,treeinterpreter]>=0.2.2->interpret) (5.3.5)\n",
      "Requirement already satisfied: retrying>=1.3.3 in /usr/local/lib/python3.6/dist-packages (from plotly>=3.8.1; extra == \"plotly\"->interpret-core[dash,debug,decisiontree,ebm,lime,linear,notebook,plotly,required,sensitivity,shap,treeinterpreter]>=0.2.2->interpret) (1.3.3)\n",
      "Requirement already satisfied: six in /usr/local/lib/python3.6/dist-packages (from plotly>=3.8.1; extra == \"plotly\"->interpret-core[dash,debug,decisiontree,ebm,lime,linear,notebook,plotly,required,sensitivity,shap,treeinterpreter]>=0.2.2->interpret) (1.15.0)\n",
      "Requirement already satisfied: python-dateutil>=2.7.3 in /usr/local/lib/python3.6/dist-packages (from pandas>=0.19.2; extra == \"required\"->interpret-core[dash,debug,decisiontree,ebm,lime,linear,notebook,plotly,required,sensitivity,shap,treeinterpreter]>=0.2.2->interpret) (2.8.1)\n",
      "Requirement already satisfied: pytz>=2017.2 in /usr/local/lib/python3.6/dist-packages (from pandas>=0.19.2; extra == \"required\"->interpret-core[dash,debug,decisiontree,ebm,lime,linear,notebook,plotly,required,sensitivity,shap,treeinterpreter]>=0.2.2->interpret) (2018.9)\n",
      "Collecting slicer==0.0.3\n",
      "  Downloading https://files.pythonhosted.org/packages/02/a6/c708c5a0f338e99cfbcb6288b88794525548e4fc1b8457feec2c552a81a4/slicer-0.0.3-py3-none-any.whl\n",
      "Requirement already satisfied: numba in /usr/local/lib/python3.6/dist-packages (from shap>=0.28.5; extra == \"shap\"->interpret-core[dash,debug,decisiontree,ebm,lime,linear,notebook,plotly,required,sensitivity,shap,treeinterpreter]>=0.2.2->interpret) (0.48.0)\n",
      "Requirement already satisfied: click>=5.1 in /usr/local/lib/python3.6/dist-packages (from Flask>=1.0.4->dash>=1.0.0; extra == \"dash\"->interpret-core[dash,debug,decisiontree,ebm,lime,linear,notebook,plotly,required,sensitivity,shap,treeinterpreter]>=0.2.2->interpret) (7.1.2)\n",
      "Requirement already satisfied: Jinja2>=2.10.1 in /usr/local/lib/python3.6/dist-packages (from Flask>=1.0.4->dash>=1.0.0; extra == \"dash\"->interpret-core[dash,debug,decisiontree,ebm,lime,linear,notebook,plotly,required,sensitivity,shap,treeinterpreter]>=0.2.2->interpret) (2.11.2)\n",
      "Requirement already satisfied: Werkzeug>=0.15 in /usr/local/lib/python3.6/dist-packages (from Flask>=1.0.4->dash>=1.0.0; extra == \"dash\"->interpret-core[dash,debug,decisiontree,ebm,lime,linear,notebook,plotly,required,sensitivity,shap,treeinterpreter]>=0.2.2->interpret) (1.0.1)\n",
      "Requirement already satisfied: itsdangerous>=0.24 in /usr/local/lib/python3.6/dist-packages (from Flask>=1.0.4->dash>=1.0.0; extra == \"dash\"->interpret-core[dash,debug,decisiontree,ebm,lime,linear,notebook,plotly,required,sensitivity,shap,treeinterpreter]>=0.2.2->interpret) (1.1.0)\n",
      "Collecting brotli\n",
      "\u001b[?25l  Downloading https://files.pythonhosted.org/packages/b4/d3/7c98f05b7b9103e2f3a112ba42f269c798155b3e5404fb80bb8f823aaebe/Brotli-1.0.9-cp36-cp36m-manylinux1_x86_64.whl (357kB)\n",
      "\u001b[K     |████████████████████████████████| 358kB 57.7MB/s \n",
      "\u001b[?25hRequirement already satisfied: kiwisolver>=1.0.1 in /usr/local/lib/python3.6/dist-packages (from matplotlib->lime>=0.1.1.33; extra == \"lime\"->interpret-core[dash,debug,decisiontree,ebm,lime,linear,notebook,plotly,required,sensitivity,shap,treeinterpreter]>=0.2.2->interpret) (1.3.1)\n",
      "Requirement already satisfied: pyparsing!=2.0.4,!=2.1.2,!=2.1.6,>=2.0.1 in /usr/local/lib/python3.6/dist-packages (from matplotlib->lime>=0.1.1.33; extra == \"lime\"->interpret-core[dash,debug,decisiontree,ebm,lime,linear,notebook,plotly,required,sensitivity,shap,treeinterpreter]>=0.2.2->interpret) (2.4.7)\n",
      "Requirement already satisfied: cycler>=0.10 in /usr/local/lib/python3.6/dist-packages (from matplotlib->lime>=0.1.1.33; extra == \"lime\"->interpret-core[dash,debug,decisiontree,ebm,lime,linear,notebook,plotly,required,sensitivity,shap,treeinterpreter]>=0.2.2->interpret) (0.10.0)\n",
      "Requirement already satisfied: networkx>=2.0 in /usr/local/lib/python3.6/dist-packages (from scikit-image>=0.12->lime>=0.1.1.33; extra == \"lime\"->interpret-core[dash,debug,decisiontree,ebm,lime,linear,notebook,plotly,required,sensitivity,shap,treeinterpreter]>=0.2.2->interpret) (2.5)\n",
      "Requirement already satisfied: PyWavelets>=0.4.0 in /usr/local/lib/python3.6/dist-packages (from scikit-image>=0.12->lime>=0.1.1.33; extra == \"lime\"->interpret-core[dash,debug,decisiontree,ebm,lime,linear,notebook,plotly,required,sensitivity,shap,treeinterpreter]>=0.2.2->interpret) (1.1.1)\n",
      "Requirement already satisfied: imageio>=2.3.0 in /usr/local/lib/python3.6/dist-packages (from scikit-image>=0.12->lime>=0.1.1.33; extra == \"lime\"->interpret-core[dash,debug,decisiontree,ebm,lime,linear,notebook,plotly,required,sensitivity,shap,treeinterpreter]>=0.2.2->interpret) (2.4.1)\n",
      "Requirement already satisfied: pillow>=4.3.0 in /usr/local/lib/python3.6/dist-packages (from scikit-image>=0.12->lime>=0.1.1.33; extra == \"lime\"->interpret-core[dash,debug,decisiontree,ebm,lime,linear,notebook,plotly,required,sensitivity,shap,treeinterpreter]>=0.2.2->interpret) (7.0.0)\n",
      "Requirement already satisfied: ipython-genutils in /usr/local/lib/python3.6/dist-packages (from traitlets>=4.2->ipython>=7.4.0; extra == \"notebook\"->interpret-core[dash,debug,decisiontree,ebm,lime,linear,notebook,plotly,required,sensitivity,shap,treeinterpreter]>=0.2.2->interpret) (0.2.0)\n",
      "Requirement already satisfied: ptyprocess>=0.5 in /usr/local/lib/python3.6/dist-packages (from pexpect; sys_platform != \"win32\"->ipython>=7.4.0; extra == \"notebook\"->interpret-core[dash,debug,decisiontree,ebm,lime,linear,notebook,plotly,required,sensitivity,shap,treeinterpreter]>=0.2.2->interpret) (0.6.0)\n",
      "Requirement already satisfied: wcwidth in /usr/local/lib/python3.6/dist-packages (from prompt-toolkit!=3.0.0,!=3.0.1,<3.1.0,>=2.0.0->ipython>=7.4.0; extra == \"notebook\"->interpret-core[dash,debug,decisiontree,ebm,lime,linear,notebook,plotly,required,sensitivity,shap,treeinterpreter]>=0.2.2->interpret) (0.2.5)\n",
      "Requirement already satisfied: parso<0.8.0,>=0.7.0 in /usr/local/lib/python3.6/dist-packages (from jedi>=0.10->ipython>=7.4.0; extra == \"notebook\"->interpret-core[dash,debug,decisiontree,ebm,lime,linear,notebook,plotly,required,sensitivity,shap,treeinterpreter]>=0.2.2->interpret) (0.7.1)\n",
      "Requirement already satisfied: jupyter-core>=4.6.0 in /usr/local/lib/python3.6/dist-packages (from jupyter-client->ipykernel>=5.1.0; extra == \"notebook\"->interpret-core[dash,debug,decisiontree,ebm,lime,linear,notebook,plotly,required,sensitivity,shap,treeinterpreter]>=0.2.2->interpret) (4.7.0)\n",
      "Requirement already satisfied: pyzmq>=13 in /usr/local/lib/python3.6/dist-packages (from jupyter-client->ipykernel>=5.1.0; extra == \"notebook\"->interpret-core[dash,debug,decisiontree,ebm,lime,linear,notebook,plotly,required,sensitivity,shap,treeinterpreter]>=0.2.2->interpret) (20.0.0)\n",
      "Requirement already satisfied: llvmlite<0.32.0,>=0.31.0dev0 in /usr/local/lib/python3.6/dist-packages (from numba->shap>=0.28.5; extra == \"shap\"->interpret-core[dash,debug,decisiontree,ebm,lime,linear,notebook,plotly,required,sensitivity,shap,treeinterpreter]>=0.2.2->interpret) (0.31.0)\n",
      "Requirement already satisfied: MarkupSafe>=0.23 in /usr/local/lib/python3.6/dist-packages (from Jinja2>=2.10.1->Flask>=1.0.4->dash>=1.0.0; extra == \"dash\"->interpret-core[dash,debug,decisiontree,ebm,lime,linear,notebook,plotly,required,sensitivity,shap,treeinterpreter]>=0.2.2->interpret) (1.1.1)\n",
      "Building wheels for collected packages: dash, dash-table, dash-cytoscape, psutil, lime, SALib, shap, dash-renderer, dash-core-components, dash-html-components\n",
      "  Building wheel for dash (setup.py) ... \u001b[?25l\u001b[?25hdone\n",
      "  Created wheel for dash: filename=dash-1.18.1-cp36-none-any.whl size=83681 sha256=3632cf15987677e70790256ac9a7645dc66122f6bfb91d89903665bc05ef480c\n",
      "  Stored in directory: /root/.cache/pip/wheels/eb/56/fb/79b2169ce9fcb79753ec57a16abb8f0b7750b4c63d7eb3cea9\n",
      "  Building wheel for dash-table (setup.py) ... \u001b[?25l\u001b[?25hdone\n",
      "  Created wheel for dash-table: filename=dash_table-4.11.1-cp36-none-any.whl size=1839868 sha256=e34d219d84ebe66c97e2755353f584c781812da4f00d29f9a77f6d2d714955fe\n",
      "  Stored in directory: /root/.cache/pip/wheels/53/a0/0e/1105943524ee7060c5c45a22e45c77777a3d8801f2fe49e445\n",
      "  Building wheel for dash-cytoscape (setup.py) ... \u001b[?25l\u001b[?25hdone\n",
      "  Created wheel for dash-cytoscape: filename=dash_cytoscape-0.2.0-cp36-none-any.whl size=3608258 sha256=426090e898d62013250b5bc5d23fb38d80e69f2a8e979c471ad04d83bea101de\n",
      "  Stored in directory: /root/.cache/pip/wheels/4f/1d/23/ab865d134a3af49104ec463cb6b4b8637ce6b763c71d285055\n",
      "  Building wheel for psutil (setup.py) ... \u001b[?25l\u001b[?25hdone\n",
      "  Created wheel for psutil: filename=psutil-5.7.3-cp36-cp36m-linux_x86_64.whl size=281528 sha256=a57159294b49d696896d7bfa8595939165d3acac84ab3930be49f76149ba3604\n",
      "  Stored in directory: /root/.cache/pip/wheels/42/32/da/8b12fd6b138c733efd03cfde6c6c8191a32842f9e82aa45fbf\n",
      "  Building wheel for lime (setup.py) ... \u001b[?25l\u001b[?25hdone\n",
      "  Created wheel for lime: filename=lime-0.2.0.1-cp36-none-any.whl size=283846 sha256=1c21573dd659e90bc878a44264ddec4fcd217f24582afc384a3be411c88ac8ff\n",
      "  Stored in directory: /root/.cache/pip/wheels/4c/4f/a5/0bc765457bd41378bf3ce8d17d7495369d6e7ca3b712c60c89\n",
      "  Building wheel for SALib (setup.py) ... \u001b[?25l\u001b[?25hdone\n",
      "  Created wheel for SALib: filename=SALib-1.3.12-py2.py3-none-any.whl size=729049 sha256=1bddc45c0431645322108ea3c4d6c17b22a705ffe29a66b4c87b427755ad1bb1\n",
      "  Stored in directory: /root/.cache/pip/wheels/04/5c/9f/09d58ab84d5a7ef7d2e5fedc5cd2f46a64a77c99035571aa0c\n",
      "  Building wheel for shap (setup.py) ... \u001b[?25l\u001b[?25hdone\n",
      "  Created wheel for shap: filename=shap-0.37.0-cp36-cp36m-linux_x86_64.whl size=463906 sha256=c36b4dd54962a70a59158deba4a848e8c0e81b096da5ccf6270454ed558375e7\n",
      "  Stored in directory: /root/.cache/pip/wheels/df/ad/b0/aa7815ec68850d66551ef618095eccb962c8f6022f1d3dd989\n",
      "  Building wheel for dash-renderer (setup.py) ... \u001b[?25l\u001b[?25hdone\n",
      "  Created wheel for dash-renderer: filename=dash_renderer-1.8.3-cp36-none-any.whl size=1013944 sha256=20ba2a26f04ae028165cb2606c314d6cf455110b321cedb1c4c3371b2dfdca9f\n",
      "  Stored in directory: /root/.cache/pip/wheels/cf/2b/5f/0928a6d1b7ebf280f21a2e925f36d662e6ba83e00b82c6b6bf\n",
      "  Building wheel for dash-core-components (setup.py) ... \u001b[?25l\u001b[?25hdone\n",
      "  Created wheel for dash-core-components: filename=dash_core_components-1.14.1-cp36-none-any.whl size=3525929 sha256=e9cf2c204b4f1b4279e47928cd8ce59d7b97b52a7d80c433c7fd30a7f20b4fc5\n",
      "  Stored in directory: /root/.cache/pip/wheels/e3/20/48/9022e1f2cb2fed4d9925370d0e17cbb3ab1164f3742d9b5e5a\n",
      "  Building wheel for dash-html-components (setup.py) ... \u001b[?25l\u001b[?25hdone\n",
      "  Created wheel for dash-html-components: filename=dash_html_components-1.1.1-cp36-none-any.whl size=427893 sha256=ffe3f4c5e2b166680f7a430a70150d76fe19b6c45045e273f98ee2f68cdb7bc1\n",
      "  Stored in directory: /root/.cache/pip/wheels/8d/01/46/78e4de185a8a4a2da8ba31da16c52170f036d4cebeeb6e07a2\n",
      "Successfully built dash dash-table dash-cytoscape psutil lime SALib shap dash-renderer dash-core-components dash-html-components\n",
      "\u001b[31mERROR: jupyter-console 5.2.0 has requirement prompt-toolkit<2.0.0,>=1.0.0, but you'll have prompt-toolkit 3.0.8 which is incompatible.\u001b[0m\n",
      "\u001b[31mERROR: google-colab 1.0.0 has requirement ipykernel~=4.10, but you'll have ipykernel 5.4.2 which is incompatible.\u001b[0m\n",
      "\u001b[31mERROR: google-colab 1.0.0 has requirement ipython~=5.5.0, but you'll have ipython 7.16.1 which is incompatible.\u001b[0m\n",
      "Installing collected packages: greenlet, zope.event, zope.interface, gevent, brotli, flask-compress, dash-renderer, dash-core-components, dash-html-components, dash-table, dash, dash-cytoscape, psutil, lime, prompt-toolkit, ipython, ipykernel, SALib, slicer, shap, treeinterpreter, interpret-core, interpret\n",
      "  Found existing installation: psutil 5.4.8\n",
      "    Uninstalling psutil-5.4.8:\n",
      "      Successfully uninstalled psutil-5.4.8\n",
      "  Found existing installation: prompt-toolkit 1.0.18\n",
      "    Uninstalling prompt-toolkit-1.0.18:\n",
      "      Successfully uninstalled prompt-toolkit-1.0.18\n",
      "  Found existing installation: ipython 5.5.0\n",
      "    Uninstalling ipython-5.5.0:\n",
      "      Successfully uninstalled ipython-5.5.0\n",
      "  Found existing installation: ipykernel 4.10.1\n",
      "    Uninstalling ipykernel-4.10.1:\n",
      "      Successfully uninstalled ipykernel-4.10.1\n",
      "Successfully installed SALib-1.3.12 brotli-1.0.9 dash-1.18.1 dash-core-components-1.14.1 dash-cytoscape-0.2.0 dash-html-components-1.1.1 dash-renderer-1.8.3 dash-table-4.11.1 flask-compress-1.8.0 gevent-20.9.0 greenlet-0.4.17 interpret-0.2.2 interpret-core-0.2.2 ipykernel-5.4.2 ipython-7.16.1 lime-0.2.0.1 prompt-toolkit-3.0.8 psutil-5.7.3 shap-0.37.0 slicer-0.0.3 treeinterpreter-0.2.2 zope.event-4.5.0 zope.interface-5.2.0\n"
     ]
    },
    {
     "data": {
      "application/vnd.colab-display-data+json": {
       "pip_warning": {
        "packages": [
         "IPython",
         "ipykernel",
         "prompt_toolkit",
         "psutil"
        ]
       }
      }
     },
     "metadata": {
      "tags": []
     },
     "output_type": "display_data"
    }
   ],
   "source": [
    "!pip install interpret"
   ]
  },
  {
   "cell_type": "code",
   "execution_count": 17,
   "metadata": {
    "colab": {
     "base_uri": "https://localhost:8080/"
    },
    "id": "UAEIFn25Q9Sm",
    "outputId": "40fc1ec7-444f-4e74-98b7-96bc178d0170"
   },
   "outputs": [
    {
     "data": {
      "text/plain": [
       "ExplainableBoostingClassifier(feature_names=['elo_pct_diff', 'obp_pct_diff',\n",
       "                                             'fip_pct_diff', 'whip_pct_diff',\n",
       "                                             'k/9_pct_diff', 'hr/9_pct_diff',\n",
       "                                             'k/bb_pct_diff', 'iso_pct_diff',\n",
       "                                             'rest_pct_diff'],\n",
       "                              feature_types=['continuous', 'continuous',\n",
       "                                             'continuous', 'continuous',\n",
       "                                             'continuous', 'continuous',\n",
       "                                             'continuous', 'continuous',\n",
       "                                             'continuous'])"
      ]
     },
     "execution_count": 17,
     "metadata": {},
     "output_type": "execute_result"
    }
   ],
   "source": [
    "from interpret.glassbox import ExplainableBoostingClassifier\n",
    "\n",
    "ebm = ExplainableBoostingClassifier()\n",
    "ebm.fit(X_train, y_train)"
   ]
  },
  {
   "cell_type": "code",
   "execution_count": 18,
   "metadata": {
    "colab": {
     "base_uri": "https://localhost:8080/",
     "height": 807
    },
    "id": "XveahGBZRT85",
    "outputId": "c67ad1da-0183-4a42-e802-6690dd8699ce"
   },
   "outputs": [
    {
     "data": {
      "text/html": [
       "<!-- http://127.0.0.1:7001/4446615248/ -->\n",
       "<iframe src=\"http://127.0.0.1:7001/4446615248/\" width=100% height=800 frameBorder=\"0\"></iframe>"
      ]
     },
     "metadata": {},
     "output_type": "display_data"
    }
   ],
   "source": [
    "from interpret import show\n",
    "\n",
    "ebm_global = ebm.explain_global()\n",
    "show(ebm_global)"
   ]
  },
  {
   "cell_type": "code",
   "execution_count": 19,
   "metadata": {
    "id": "CnGUQvVvXi3n"
   },
   "outputs": [],
   "source": [
    "ebm_test = X_test[:200]\n",
    "emb_test_labels = y_test[:200]"
   ]
  },
  {
   "cell_type": "code",
   "execution_count": 21,
   "metadata": {},
   "outputs": [
    {
     "data": {
      "text/html": [
       "<div>\n",
       "<style scoped>\n",
       "    .dataframe tbody tr th:only-of-type {\n",
       "        vertical-align: middle;\n",
       "    }\n",
       "\n",
       "    .dataframe tbody tr th {\n",
       "        vertical-align: top;\n",
       "    }\n",
       "\n",
       "    .dataframe thead th {\n",
       "        text-align: right;\n",
       "    }\n",
       "</style>\n",
       "<table border=\"1\" class=\"dataframe\">\n",
       "  <thead>\n",
       "    <tr style=\"text-align: right;\">\n",
       "      <th></th>\n",
       "      <th>elo_pct_diff</th>\n",
       "      <th>obp_pct_diff</th>\n",
       "      <th>fip_pct_diff</th>\n",
       "      <th>whip_pct_diff</th>\n",
       "      <th>k/9_pct_diff</th>\n",
       "      <th>hr/9_pct_diff</th>\n",
       "      <th>k/bb_pct_diff</th>\n",
       "      <th>iso_pct_diff</th>\n",
       "      <th>rest_pct_diff</th>\n",
       "    </tr>\n",
       "  </thead>\n",
       "  <tbody>\n",
       "    <tr>\n",
       "      <th>36441</th>\n",
       "      <td>0.415387</td>\n",
       "      <td>0.376945</td>\n",
       "      <td>-52.561126</td>\n",
       "      <td>-1.211283</td>\n",
       "      <td>-1.023286</td>\n",
       "      <td>-13.727384</td>\n",
       "      <td>5.670248</td>\n",
       "      <td>-4.526830</td>\n",
       "      <td>0.0</td>\n",
       "    </tr>\n",
       "    <tr>\n",
       "      <th>36442</th>\n",
       "      <td>-2.293004</td>\n",
       "      <td>-7.555239</td>\n",
       "      <td>-22.981744</td>\n",
       "      <td>1.468752</td>\n",
       "      <td>16.872370</td>\n",
       "      <td>0.312759</td>\n",
       "      <td>0.952903</td>\n",
       "      <td>-22.156073</td>\n",
       "      <td>0.0</td>\n",
       "    </tr>\n",
       "    <tr>\n",
       "      <th>36443</th>\n",
       "      <td>1.158759</td>\n",
       "      <td>3.092675</td>\n",
       "      <td>56.074878</td>\n",
       "      <td>8.007859</td>\n",
       "      <td>-14.454601</td>\n",
       "      <td>2.619561</td>\n",
       "      <td>-47.157873</td>\n",
       "      <td>-8.748546</td>\n",
       "      <td>0.0</td>\n",
       "    </tr>\n",
       "    <tr>\n",
       "      <th>36444</th>\n",
       "      <td>-0.105746</td>\n",
       "      <td>1.987643</td>\n",
       "      <td>31.262099</td>\n",
       "      <td>-1.622573</td>\n",
       "      <td>-14.632182</td>\n",
       "      <td>6.332813</td>\n",
       "      <td>-15.267176</td>\n",
       "      <td>9.660684</td>\n",
       "      <td>0.0</td>\n",
       "    </tr>\n",
       "    <tr>\n",
       "      <th>36445</th>\n",
       "      <td>-1.113160</td>\n",
       "      <td>-4.950458</td>\n",
       "      <td>82.247078</td>\n",
       "      <td>8.900281</td>\n",
       "      <td>-15.522568</td>\n",
       "      <td>20.431792</td>\n",
       "      <td>-34.188555</td>\n",
       "      <td>-2.749470</td>\n",
       "      <td>0.0</td>\n",
       "    </tr>\n",
       "  </tbody>\n",
       "</table>\n",
       "</div>"
      ],
      "text/plain": [
       "       elo_pct_diff  obp_pct_diff  fip_pct_diff  whip_pct_diff  k/9_pct_diff  \\\n",
       "36441      0.415387      0.376945    -52.561126      -1.211283     -1.023286   \n",
       "36442     -2.293004     -7.555239    -22.981744       1.468752     16.872370   \n",
       "36443      1.158759      3.092675     56.074878       8.007859    -14.454601   \n",
       "36444     -0.105746      1.987643     31.262099      -1.622573    -14.632182   \n",
       "36445     -1.113160     -4.950458     82.247078       8.900281    -15.522568   \n",
       "\n",
       "       hr/9_pct_diff  k/bb_pct_diff  iso_pct_diff  rest_pct_diff  \n",
       "36441     -13.727384       5.670248     -4.526830            0.0  \n",
       "36442       0.312759       0.952903    -22.156073            0.0  \n",
       "36443       2.619561     -47.157873     -8.748546            0.0  \n",
       "36444       6.332813     -15.267176      9.660684            0.0  \n",
       "36445      20.431792     -34.188555     -2.749470            0.0  "
      ]
     },
     "execution_count": 21,
     "metadata": {},
     "output_type": "execute_result"
    }
   ],
   "source": [
    "X_test.head()"
   ]
  },
  {
   "cell_type": "code",
   "execution_count": 22,
   "metadata": {},
   "outputs": [
    {
     "data": {
      "text/plain": [
       "array([1, 0, 1, ..., 1, 1, 1])"
      ]
     },
     "execution_count": 22,
     "metadata": {},
     "output_type": "execute_result"
    }
   ],
   "source": [
    "X_test['preds'] = ebm.predict(X_test)"
   ]
  },
  {
   "cell_type": "code",
   "execution_count": null,
   "metadata": {},
   "outputs": [],
   "source": [
    "ebm_test_misclassified = X_test"
   ]
  },
  {
   "cell_type": "code",
   "execution_count": 20,
   "metadata": {
    "colab": {
     "base_uri": "https://localhost:8080/",
     "height": 759
    },
    "id": "pAgVJ6u2SBEk",
    "outputId": "021b6515-1042-45ff-ffd6-62ed78c7f1d2"
   },
   "outputs": [
    {
     "data": {
      "text/html": [
       "<!-- http://127.0.0.1:7001/4786294992/ -->\n",
       "<iframe src=\"http://127.0.0.1:7001/4786294992/\" width=100% height=800 frameBorder=\"0\"></iframe>"
      ]
     },
     "metadata": {},
     "output_type": "display_data"
    }
   ],
   "source": [
    "ebm_local = ebm.explain_local(ebm_test, emb_test_labels)\n",
    "show(ebm_local)"
   ]
  },
  {
   "cell_type": "code",
   "execution_count": null,
   "metadata": {
    "id": "eXByHOVPSeKA"
   },
   "outputs": [],
   "source": []
  }
 ],
 "metadata": {
  "accelerator": "GPU",
  "colab": {
   "collapsed_sections": [],
   "name": "Model From Study.ipynb",
   "provenance": []
  },
  "kernelspec": {
   "display_name": "Python 3",
   "language": "python",
   "name": "python3"
  },
  "language_info": {
   "codemirror_mode": {
    "name": "ipython",
    "version": 3
   },
   "file_extension": ".py",
   "mimetype": "text/x-python",
   "name": "python",
   "nbconvert_exporter": "python",
   "pygments_lexer": "ipython3",
   "version": "3.8.5"
  }
 },
 "nbformat": 4,
 "nbformat_minor": 1
}
