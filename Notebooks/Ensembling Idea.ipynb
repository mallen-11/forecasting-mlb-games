{
 "cells": [
  {
   "cell_type": "markdown",
   "metadata": {},
   "source": [
    "# Trying Ensembling"
   ]
  },
  {
   "cell_type": "code",
   "execution_count": 1,
   "metadata": {},
   "outputs": [],
   "source": [
    "import pandas as pd\n",
    "import numpy as np\n",
    "from matplotlib import pyplot as plt\n",
    "\n",
    "import xgboost as xgb\n",
    "\n",
    "from sklearn.metrics import accuracy_score"
   ]
  },
  {
   "cell_type": "code",
   "execution_count": 2,
   "metadata": {},
   "outputs": [],
   "source": [
    "df = pd.read_csv('../data/Final Data/pct-diff-mlb-games-with-preds.csv')"
   ]
  },
  {
   "cell_type": "code",
   "execution_count": 3,
   "metadata": {},
   "outputs": [
    {
     "data": {
      "text/html": [
       "<div>\n",
       "<style scoped>\n",
       "    .dataframe tbody tr th:only-of-type {\n",
       "        vertical-align: middle;\n",
       "    }\n",
       "\n",
       "    .dataframe tbody tr th {\n",
       "        vertical-align: top;\n",
       "    }\n",
       "\n",
       "    .dataframe thead th {\n",
       "        text-align: right;\n",
       "    }\n",
       "</style>\n",
       "<table border=\"1\" class=\"dataframe\">\n",
       "  <thead>\n",
       "    <tr style=\"text-align: right;\">\n",
       "      <th></th>\n",
       "      <th>home_team</th>\n",
       "      <th>away_team</th>\n",
       "      <th>Y</th>\n",
       "      <th>M</th>\n",
       "      <th>avg_pct_diff</th>\n",
       "      <th>obp_pct_diff</th>\n",
       "      <th>slg_pct_diff</th>\n",
       "      <th>team_ERA_pct_diff</th>\n",
       "      <th>team_WHIP_pct_diff</th>\n",
       "      <th>team_W-L_pct_diff</th>\n",
       "      <th>...</th>\n",
       "      <th>knn_pred</th>\n",
       "      <th>nn_pred</th>\n",
       "      <th>xgb_proba</th>\n",
       "      <th>knn_proba</th>\n",
       "      <th>nn_proba</th>\n",
       "      <th>home_win</th>\n",
       "      <th>knn_no_ops_pred</th>\n",
       "      <th>knn_no_ops_proba</th>\n",
       "      <th>knn_no_batting_pred</th>\n",
       "      <th>knn_no_batting_proba</th>\n",
       "    </tr>\n",
       "  </thead>\n",
       "  <tbody>\n",
       "    <tr>\n",
       "      <th>0</th>\n",
       "      <td>KCA</td>\n",
       "      <td>NYN</td>\n",
       "      <td>2016</td>\n",
       "      <td>4</td>\n",
       "      <td>8.620726</td>\n",
       "      <td>3.092675</td>\n",
       "      <td>2.578581</td>\n",
       "      <td>7.754011</td>\n",
       "      <td>8.007859</td>\n",
       "      <td>5.263158</td>\n",
       "      <td>...</td>\n",
       "      <td>1</td>\n",
       "      <td>1</td>\n",
       "      <td>0.562908</td>\n",
       "      <td>0.533333</td>\n",
       "      <td>0.590414</td>\n",
       "      <td>1</td>\n",
       "      <td>1</td>\n",
       "      <td>0.533333</td>\n",
       "      <td>1</td>\n",
       "      <td>0.566667</td>\n",
       "    </tr>\n",
       "    <tr>\n",
       "      <th>1</th>\n",
       "      <td>PIT</td>\n",
       "      <td>SLN</td>\n",
       "      <td>2016</td>\n",
       "      <td>4</td>\n",
       "      <td>2.309712</td>\n",
       "      <td>0.376945</td>\n",
       "      <td>-0.040732</td>\n",
       "      <td>8.978328</td>\n",
       "      <td>-1.211283</td>\n",
       "      <td>-2.040816</td>\n",
       "      <td>...</td>\n",
       "      <td>0</td>\n",
       "      <td>1</td>\n",
       "      <td>0.533676</td>\n",
       "      <td>0.493333</td>\n",
       "      <td>0.563689</td>\n",
       "      <td>1</td>\n",
       "      <td>1</td>\n",
       "      <td>0.506667</td>\n",
       "      <td>1</td>\n",
       "      <td>0.513333</td>\n",
       "    </tr>\n",
       "    <tr>\n",
       "      <th>2</th>\n",
       "      <td>TBA</td>\n",
       "      <td>TOR</td>\n",
       "      <td>2016</td>\n",
       "      <td>4</td>\n",
       "      <td>-5.864577</td>\n",
       "      <td>-7.555239</td>\n",
       "      <td>-12.023378</td>\n",
       "      <td>-1.871658</td>\n",
       "      <td>1.468752</td>\n",
       "      <td>-16.250000</td>\n",
       "      <td>...</td>\n",
       "      <td>1</td>\n",
       "      <td>1</td>\n",
       "      <td>0.454400</td>\n",
       "      <td>0.566667</td>\n",
       "      <td>0.666198</td>\n",
       "      <td>0</td>\n",
       "      <td>1</td>\n",
       "      <td>0.593333</td>\n",
       "      <td>1</td>\n",
       "      <td>0.613333</td>\n",
       "    </tr>\n",
       "    <tr>\n",
       "      <th>3</th>\n",
       "      <td>ANA</td>\n",
       "      <td>CHN</td>\n",
       "      <td>2016</td>\n",
       "      <td>4</td>\n",
       "      <td>0.398896</td>\n",
       "      <td>-4.950458</td>\n",
       "      <td>-0.794957</td>\n",
       "      <td>14.720812</td>\n",
       "      <td>8.900281</td>\n",
       "      <td>-14.117647</td>\n",
       "      <td>...</td>\n",
       "      <td>0</td>\n",
       "      <td>1</td>\n",
       "      <td>0.450952</td>\n",
       "      <td>0.460000</td>\n",
       "      <td>0.531114</td>\n",
       "      <td>0</td>\n",
       "      <td>0</td>\n",
       "      <td>0.420000</td>\n",
       "      <td>0</td>\n",
       "      <td>0.500000</td>\n",
       "    </tr>\n",
       "    <tr>\n",
       "      <th>4</th>\n",
       "      <td>ARI</td>\n",
       "      <td>COL</td>\n",
       "      <td>2016</td>\n",
       "      <td>4</td>\n",
       "      <td>-1.095675</td>\n",
       "      <td>2.427164</td>\n",
       "      <td>-5.196744</td>\n",
       "      <td>-24.444444</td>\n",
       "      <td>-13.778463</td>\n",
       "      <td>13.924051</td>\n",
       "      <td>...</td>\n",
       "      <td>0</td>\n",
       "      <td>1</td>\n",
       "      <td>0.584152</td>\n",
       "      <td>0.446667</td>\n",
       "      <td>0.562535</td>\n",
       "      <td>0</td>\n",
       "      <td>0</td>\n",
       "      <td>0.466667</td>\n",
       "      <td>0</td>\n",
       "      <td>0.500000</td>\n",
       "    </tr>\n",
       "  </tbody>\n",
       "</table>\n",
       "<p>5 rows × 37 columns</p>\n",
       "</div>"
      ],
      "text/plain": [
       "  home_team away_team     Y  M  avg_pct_diff  obp_pct_diff  slg_pct_diff  \\\n",
       "0       KCA       NYN  2016  4      8.620726      3.092675      2.578581   \n",
       "1       PIT       SLN  2016  4      2.309712      0.376945     -0.040732   \n",
       "2       TBA       TOR  2016  4     -5.864577     -7.555239    -12.023378   \n",
       "3       ANA       CHN  2016  4      0.398896     -4.950458     -0.794957   \n",
       "4       ARI       COL  2016  4     -1.095675      2.427164     -5.196744   \n",
       "\n",
       "   team_ERA_pct_diff  team_WHIP_pct_diff  team_W-L_pct_diff  ...  knn_pred  \\\n",
       "0           7.754011            8.007859           5.263158  ...         1   \n",
       "1           8.978328           -1.211283          -2.040816  ...         0   \n",
       "2          -1.871658            1.468752         -16.250000  ...         1   \n",
       "3          14.720812            8.900281         -14.117647  ...         0   \n",
       "4         -24.444444          -13.778463          13.924051  ...         0   \n",
       "\n",
       "   nn_pred  xgb_proba  knn_proba  nn_proba  home_win  knn_no_ops_pred  \\\n",
       "0        1   0.562908   0.533333  0.590414         1                1   \n",
       "1        1   0.533676   0.493333  0.563689         1                1   \n",
       "2        1   0.454400   0.566667  0.666198         0                1   \n",
       "3        1   0.450952   0.460000  0.531114         0                0   \n",
       "4        1   0.584152   0.446667  0.562535         0                0   \n",
       "\n",
       "   knn_no_ops_proba  knn_no_batting_pred  knn_no_batting_proba  \n",
       "0          0.533333                    1              0.566667  \n",
       "1          0.506667                    1              0.513333  \n",
       "2          0.593333                    1              0.613333  \n",
       "3          0.420000                    0              0.500000  \n",
       "4          0.466667                    0              0.500000  \n",
       "\n",
       "[5 rows x 37 columns]"
      ]
     },
     "execution_count": 3,
     "metadata": {},
     "output_type": "execute_result"
    }
   ],
   "source": [
    "df.head()"
   ]
  },
  {
   "cell_type": "code",
   "execution_count": 4,
   "metadata": {},
   "outputs": [],
   "source": [
    "nn_pred = df.nn_pred\n",
    "knn_no_batting_pred = df.knn_no_batting_pred\n",
    "\n",
    "y_test = df.home_win"
   ]
  },
  {
   "cell_type": "markdown",
   "metadata": {},
   "source": [
    "### Max Accuracy\n",
    "\n",
    "Below, when only using 'nn_pred' and 'knn_no_batting_pred' predictions the max accuracy we can get is 78.5%. "
   ]
  },
  {
   "cell_type": "code",
   "execution_count": 5,
   "metadata": {},
   "outputs": [
    {
     "name": "stdout",
     "output_type": "stream",
     "text": [
      "Maximum possible accuracy = 78.56%\n"
     ]
    }
   ],
   "source": [
    "num_correct = 0\n",
    "\n",
    "for i in range(y_test.shape[0]):\n",
    "    if y_test.values[i] in [nn_pred[i], knn_no_batting_pred[i]]:\n",
    "        num_correct += 1\n",
    "\n",
    "print(f'Maximum possible accuracy = {100*num_correct / y_test.shape[0]:.2f}%')"
   ]
  },
  {
   "cell_type": "markdown",
   "metadata": {},
   "source": [
    "Now, we need to figure out how to increase closer to that accuracy using those two sets of predictions. Below, we will make two new columns identifying if that row saw predictions that agreed (1,1 or 0,0) or if it has predictions that disagree (0,1 or 1,0)."
   ]
  },
  {
   "cell_type": "code",
   "execution_count": 6,
   "metadata": {},
   "outputs": [],
   "source": [
    "conditions = [(df['knn_no_batting_pred'] != df['nn_pred'])]     #Sets the conditions\n",
    "choices = [1]\n",
    "df['mixed_nn_knn'] = np.select(conditions, choices, 0)"
   ]
  },
  {
   "cell_type": "code",
   "execution_count": 7,
   "metadata": {},
   "outputs": [],
   "source": [
    "conditions = [(df['knn_no_batting_pred'] == df['nn_pred'])]     #Sets the conditions\n",
    "choices = [1]\n",
    "df['agree_nn_knn'] = np.select(conditions, choices, 0)"
   ]
  },
  {
   "cell_type": "markdown",
   "metadata": {},
   "source": [
    "Now, we can make seperate dataframes to analyze these."
   ]
  },
  {
   "cell_type": "code",
   "execution_count": 8,
   "metadata": {},
   "outputs": [],
   "source": [
    "disagree_df = df[df['mixed_nn_knn'] == 1]\n",
    "agree_df = df[df['agree_nn_knn'] == 1]"
   ]
  },
  {
   "cell_type": "markdown",
   "metadata": {},
   "source": [
    "First, we know that if the two models agree then no matter what we do that will be the final prediction of the ensemble. Therefore right off the bat we are going to take that hit of getting that many wrong and that many right. The percent below is a representation of of the rows that agree how many does the models get right. "
   ]
  },
  {
   "cell_type": "code",
   "execution_count": 12,
   "metadata": {},
   "outputs": [
    {
     "name": "stdout",
     "output_type": "stream",
     "text": [
      "64.61%\n"
     ]
    }
   ],
   "source": [
    "agree_correct_pct = agree_df[agree_df['nn_pred'] == agree_df['home_win']].shape[0] / agree_df.shape[0]\n",
    "\n",
    "print(f'{round(agree_correct_pct*100,2)}%')"
   ]
  },
  {
   "cell_type": "markdown",
   "metadata": {},
   "source": [
    "Now we can find the number 3805 which is the actual number correct so far since we know that if the models agree the ensemble has to make that prediction. Since we are just playing a numbers game, we also know that if we want to have 70% accuracy we need to have 6,803 correct predictions (9718 * 0.7)."
   ]
  },
  {
   "cell_type": "code",
   "execution_count": 13,
   "metadata": {},
   "outputs": [
    {
     "data": {
      "text/plain": [
       "3805"
      ]
     },
     "execution_count": 13,
     "metadata": {},
     "output_type": "execute_result"
    }
   ],
   "source": [
    "round(agree_df.shape[0]*agree_correct_pct)"
   ]
  },
  {
   "cell_type": "markdown",
   "metadata": {},
   "source": [
    "Thus now we can figure out that of the ones that disagree (3,829) we need to get 2,998 correct. This is a percentage of 78% accuracy. Now the question is how do we do that."
   ]
  },
  {
   "cell_type": "code",
   "execution_count": 15,
   "metadata": {},
   "outputs": [
    {
     "data": {
      "text/plain": [
       "2998"
      ]
     },
     "execution_count": 15,
     "metadata": {},
     "output_type": "execute_result"
    }
   ],
   "source": [
    "round((9718*.7)-round(agree_df.shape[0]*agree_correct_pct))"
   ]
  },
  {
   "cell_type": "code",
   "execution_count": 19,
   "metadata": {},
   "outputs": [
    {
     "data": {
      "text/plain": [
       "0.7829720553669366"
      ]
     },
     "execution_count": 19,
     "metadata": {},
     "output_type": "execute_result"
    }
   ],
   "source": [
    "round((9718*.7)-round(agree_df.shape[0]*agree_correct_pct)) / disagree_df.shape[0]"
   ]
  },
  {
   "cell_type": "markdown",
   "metadata": {},
   "source": [
    "I have a different notebook with scratch work trying to figure this out. One issue is that using just the predictions doesn't work even if I try to use XGB as well. We are going to have to find a new way to determine this. One thought I had was to take the disagree ones and rerun them through a new model that hopefully will perform better. (I think that technique is called a meta-model {Not completely sure}). I am looking into the characteristics of the disagree ones as well to try to find an anomaly within the data."
   ]
  },
  {
   "cell_type": "code",
   "execution_count": null,
   "metadata": {},
   "outputs": [],
   "source": []
  }
 ],
 "metadata": {
  "kernelspec": {
   "display_name": "Python 3",
   "language": "python",
   "name": "python3"
  },
  "language_info": {
   "codemirror_mode": {
    "name": "ipython",
    "version": 3
   },
   "file_extension": ".py",
   "mimetype": "text/x-python",
   "name": "python",
   "nbconvert_exporter": "python",
   "pygments_lexer": "ipython3",
   "version": "3.8.5"
  }
 },
 "nbformat": 4,
 "nbformat_minor": 4
}
