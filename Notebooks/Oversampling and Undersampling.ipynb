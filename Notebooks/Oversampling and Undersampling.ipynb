{
 "cells": [
  {
   "cell_type": "markdown",
   "metadata": {},
   "source": [
    "# Trying Ensembling"
   ]
  },
  {
   "cell_type": "code",
   "execution_count": 1,
   "metadata": {},
   "outputs": [],
   "source": [
    "import pandas as pd\n",
    "import numpy as np\n",
    "from matplotlib import pyplot as plt\n",
    "import seaborn as sns\n",
    "\n",
    "import xgboost as xgb\n",
    "from xgboost import plot_tree\n",
    "\n",
    "from sklearn.metrics import accuracy_score"
   ]
  },
  {
   "cell_type": "code",
   "execution_count": 2,
   "metadata": {},
   "outputs": [],
   "source": [
    "train_df = pd.read_csv('../data/Final Data/training_with_preds.csv')\n",
    "train_df = train_df.reset_index(drop=True)\n",
    "train_df_orig = train_df.copy()"
   ]
  },
  {
   "cell_type": "code",
   "execution_count": 3,
   "metadata": {},
   "outputs": [],
   "source": [
    "test_df = pd.read_csv('../data/Final Data/start_to_finish_with_preds.csv')\n",
    "test_df_orig = test_df.copy()"
   ]
  },
  {
   "cell_type": "markdown",
   "metadata": {},
   "source": [
    "### Preprocess Data\n",
    "\n",
    "Getting it ready to train and keeping only the rows where 2/3 or more of the models get it wrong."
   ]
  },
  {
   "cell_type": "code",
   "execution_count": 4,
   "metadata": {},
   "outputs": [],
   "source": [
    "xgb_train_pred = train_df.xgb_train_pred\n",
    "knn_no_bat_train_pred = train_df.knn_no_batting_train_pred\n",
    "nn_train_pred = train_df.nn_train_pred\n",
    "\n",
    "xgb_train_pred = xgb_train_pred.astype(int)\n",
    "knn_no_bat_train_pred = knn_no_bat_train_pred.astype(int)"
   ]
  },
  {
   "cell_type": "code",
   "execution_count": 5,
   "metadata": {},
   "outputs": [],
   "source": [
    "train_df['add'] = train_df['xgb_train_pred'] + train_df['knn_no_batting_train_pred'] + train_df['nn_train_pred']"
   ]
  },
  {
   "cell_type": "code",
   "execution_count": 6,
   "metadata": {},
   "outputs": [],
   "source": [
    "conditions = [(train_df['add'] >= 2) & (train_df['home_win'] == 1) | (train_df['add'] < 2) & (train_df['home_win'] == 0)]     #Sets the conditions\n",
    "choices = [1]\n",
    "train_df['should_drop'] = np.select(conditions, choices, 0)"
   ]
  },
  {
   "cell_type": "code",
   "execution_count": 7,
   "metadata": {},
   "outputs": [
    {
     "data": {
      "text/plain": [
       "1    24658\n",
       "0    12535\n",
       "Name: should_drop, dtype: int64"
      ]
     },
     "execution_count": 7,
     "metadata": {},
     "output_type": "execute_result"
    }
   ],
   "source": [
    "train_df['should_drop'].value_counts()"
   ]
  },
  {
   "cell_type": "code",
   "execution_count": 8,
   "metadata": {},
   "outputs": [],
   "source": [
    "# Get only the customers who did not churn\n",
    "train_1_df = train_df[train_df['should_drop'] == 0]\n",
    "# Then select 3620 of them to match the 3620 \"No\" churn customers\n",
    "train_1_df = train_1_df.sample(24658, replace=True)\n",
    "\n",
    "# Also grab the churning customers\n",
    "train_0_df = train_df[train_df['should_drop'] == 1]\n",
    "\n",
    "# And now stick both DataFrames together to make a new undersampled training set\n",
    "oversample_df = pd.concat([train_0_df, train_1_df])"
   ]
  },
  {
   "cell_type": "markdown",
   "metadata": {},
   "source": [
    "### Oversampling Model"
   ]
  },
  {
   "cell_type": "code",
   "execution_count": 9,
   "metadata": {},
   "outputs": [],
   "source": [
    "cols_to_drop = ['home_team', 'away_team', 'should_drop', 'xgb_train_pred', 'nn_train_pred', 'knn_no_batting_train_pred', 'add'] + ['xgb_pred', 'nn_pred', 'knn_pred', 'knn_no_batting_pred', 'xgb_proba', 'nn_proba', 'knn_proba','knn_no_batting_proba', 'home_team', 'away_team']\n",
    "train_cols_to_drop = list(set(oversample_df.columns).intersection(set(cols_to_drop)))\n",
    "test_cols_to_drop = list(set(test_df.columns).intersection(set(cols_to_drop)))\n",
    "\n",
    "oversample_df = oversample_df.drop(train_cols_to_drop, axis=1)\n",
    "test_df = test_df.drop(test_cols_to_drop, axis=1)"
   ]
  },
  {
   "cell_type": "code",
   "execution_count": 10,
   "metadata": {},
   "outputs": [],
   "source": [
    "common_cols = list(set(oversample_df.columns).intersection(set(test_df.columns)))\n",
    "\n",
    "test_df = test_df[common_cols]\n",
    "oversample_df = oversample_df[common_cols]"
   ]
  },
  {
   "cell_type": "code",
   "execution_count": 11,
   "metadata": {},
   "outputs": [],
   "source": [
    "X_train = oversample_df.drop('home_win', axis=1)\n",
    "y_train = oversample_df.home_win.astype(int)\n",
    "X_test = test_df.drop('home_win', axis=1)\n",
    "y_test = test_df.home_win.astype(int)"
   ]
  },
  {
   "cell_type": "code",
   "execution_count": 12,
   "metadata": {},
   "outputs": [
    {
     "name": "stderr",
     "output_type": "stream",
     "text": [
      "/Users/psavala/.virtualenvs/baseball/lib/python3.8/site-packages/xgboost/sklearn.py:892: UserWarning: The use of label encoder in XGBClassifier is deprecated and will be removed in a future release. To remove this warning, do the following: 1) Pass option use_label_encoder=False when constructing XGBClassifier object; and 2) Encode your labels (y) as integers starting with 0, i.e. 0, 1, 2, ..., [num_class - 1].\n",
      "  warnings.warn(label_encoder_deprecation_msg, UserWarning)\n"
     ]
    },
    {
     "data": {
      "text/plain": [
       "XGBClassifier(base_score=0.5, booster='gbtree', colsample_bylevel=1,\n",
       "              colsample_bynode=1, colsample_bytree=0.9475703665037462,\n",
       "              eta=0.3076951770384403, eval_metric='auc', gamma=9.66425615956974,\n",
       "              gpu_id=-1, importance_type='gain', interaction_constraints='',\n",
       "              learning_rate=0.30769518, max_delta_step=0, max_depth=5,\n",
       "              min_child_weight=0.3256355793000354, missing=nan,\n",
       "              monotone_constraints='()', n_estimators=100, n_jobs=4, nthread=4,\n",
       "              num_parallel_tree=1, random_state=0, reg_alpha=0, reg_lambda=1,\n",
       "              scale_pos_weight=1, seed=0, subsample=0.8242904472901268,\n",
       "              tree_method='exact', validate_parameters=1, verbosity=None)"
      ]
     },
     "execution_count": 12,
     "metadata": {},
     "output_type": "execute_result"
    }
   ],
   "source": [
    "params = {'n_estimators': 100,\n",
    "         'max_depth': 5,\n",
    "         'min_child_weight': 0.3256355793000354,\n",
    "         'eta': 0.3076951770384403,\n",
    "         'subsample': 0.8242904472901268,\n",
    "         'colsample_bytree': 0.9475703665037462,\n",
    "         'gamma': 9.66425615956974,\n",
    "         'seed': 0,\n",
    "         'nthread': 4,\n",
    "         'objective': 'binary:logistic',\n",
    "         'eval_metric': 'auc'}\n",
    "\n",
    "xgb_oversample_clf = xgb.XGBClassifier(**params)\n",
    "\n",
    "xgb_oversample_clf.fit(X_train, y_train)"
   ]
  },
  {
   "cell_type": "code",
   "execution_count": 14,
   "metadata": {},
   "outputs": [],
   "source": [
    "xgb_oversample_preds = xgb_oversample_clf.predict(X_test)"
   ]
  },
  {
   "cell_type": "code",
   "execution_count": 15,
   "metadata": {},
   "outputs": [
    {
     "data": {
      "text/plain": [
       "0.544173878043872"
      ]
     },
     "execution_count": 15,
     "metadata": {},
     "output_type": "execute_result"
    }
   ],
   "source": [
    "accuracy_score(y_test, xgb_oversample_preds)"
   ]
  },
  {
   "cell_type": "code",
   "execution_count": 54,
   "metadata": {},
   "outputs": [],
   "source": [
    "feature_df_over = pd.DataFrame(xgb_oversample_clf.feature_importances_, X_train.columns)   #This makes it in order\n",
    "feature_df_over = feature_df_over.sort_values(by=0, ascending=True)"
   ]
  },
  {
   "cell_type": "code",
   "execution_count": 55,
   "metadata": {},
   "outputs": [
    {
     "data": {
      "image/png": "[encoded data removed]",
      "text/plain": [
       "<Figure size 864x1296 with 1 Axes>"
      ]
     },
     "metadata": {
      "needs_background": "light"
     },
     "output_type": "display_data"
    }
   ],
   "source": [
    "plt.figure(figsize=(12, 18))\n",
    "\n",
    "x = feature_df_over.index\n",
    "y = feature_df_over[0]\n",
    "\n",
    "plt.barh(x, y)\n",
    "plt.xticks(rotation=90)\n",
    "plt.title('Feature Importances', fontsize=20)\n",
    "plt.ylabel('Weight', fontsize=14);"
   ]
  },
  {
   "cell_type": "markdown",
   "metadata": {},
   "source": [
    "### Undersample Model"
   ]
  },
  {
   "cell_type": "code",
   "execution_count": 18,
   "metadata": {},
   "outputs": [
    {
     "data": {
      "text/plain": [
       "1    24658\n",
       "0    12535\n",
       "Name: should_drop, dtype: int64"
      ]
     },
     "execution_count": 18,
     "metadata": {},
     "output_type": "execute_result"
    }
   ],
   "source": [
    "train_df['should_drop'].value_counts()"
   ]
  },
  {
   "cell_type": "code",
   "execution_count": 19,
   "metadata": {},
   "outputs": [],
   "source": [
    "# Get only the customers who did not churn\n",
    "train_1_df = train_df[train_df['should_drop'] == 1]\n",
    "# Then select 3620 of them to match the 3620 \"No\" churn customers\n",
    "train_1_df = train_1_df.sample(12535)\n",
    "\n",
    "# Also grab the churning customers\n",
    "train_0_df = train_df[train_df['should_drop'] == 0]\n",
    "\n",
    "# And now stick both DataFrames together to make a new undersampled training set\n",
    "undersample_df = pd.concat([train_0_df, train_1_df])"
   ]
  },
  {
   "cell_type": "code",
   "execution_count": 20,
   "metadata": {},
   "outputs": [],
   "source": [
    "cols_to_drop = ['home_team', 'away_team', 'should_drop', 'xgb_train_pred', 'nn_train_pred', 'knn_no_batting_train_pred', 'add'] + ['xgb_pred', 'nn_pred', 'knn_pred', 'knn_no_batting_pred', 'xgb_proba', 'nn_proba', 'knn_proba','knn_no_batting_proba', 'home_team', 'away_team']\n",
    "train_cols_to_drop = list(set(undersample_df.columns).intersection(set(cols_to_drop)))\n",
    "test_cols_to_drop = list(set(test_df.columns).intersection(set(cols_to_drop)))\n",
    "\n",
    "undersample_df = undersample_df.drop(train_cols_to_drop, axis=1)\n",
    "test_df = test_df.drop(test_cols_to_drop, axis=1)"
   ]
  },
  {
   "cell_type": "code",
   "execution_count": 21,
   "metadata": {},
   "outputs": [],
   "source": [
    "common_cols = list(set(undersample_df.columns).intersection(set(test_df.columns)))\n",
    "\n",
    "test_df = test_df[common_cols]\n",
    "undersample_df = undersample_df[common_cols]"
   ]
  },
  {
   "cell_type": "code",
   "execution_count": 22,
   "metadata": {},
   "outputs": [],
   "source": [
    "X_train = undersample_df.drop('home_win', axis=1)\n",
    "y_train = undersample_df.home_win.astype(int)\n",
    "X_test = test_df.drop('home_win', axis=1)\n",
    "y_test = test_df.home_win.astype(int)"
   ]
  },
  {
   "cell_type": "code",
   "execution_count": 23,
   "metadata": {},
   "outputs": [],
   "source": [
    "params = {'n_estimators': 100,\n",
    "         'max_depth': 5,\n",
    "         'min_child_weight': 0.3256355793000354,\n",
    "         'eta': 0.3076951770384403,\n",
    "         'subsample': 0.8242904472901268,\n",
    "         'colsample_bytree': 0.9475703665037462,\n",
    "         'gamma': 9.66425615956974,\n",
    "         'seed': 0,\n",
    "         'nthread': 4,\n",
    "         'objective': 'binary:logistic',\n",
    "         'eval_metric': 'auc'}"
   ]
  },
  {
   "cell_type": "code",
   "execution_count": 24,
   "metadata": {},
   "outputs": [],
   "source": [
    "xgb_undersample_clf = xgb.XGBClassifier(**params)"
   ]
  },
  {
   "cell_type": "code",
   "execution_count": 25,
   "metadata": {},
   "outputs": [
    {
     "name": "stderr",
     "output_type": "stream",
     "text": [
      "/Users/psavala/.virtualenvs/baseball/lib/python3.8/site-packages/xgboost/sklearn.py:892: UserWarning: The use of label encoder in XGBClassifier is deprecated and will be removed in a future release. To remove this warning, do the following: 1) Pass option use_label_encoder=False when constructing XGBClassifier object; and 2) Encode your labels (y) as integers starting with 0, i.e. 0, 1, 2, ..., [num_class - 1].\n",
      "  warnings.warn(label_encoder_deprecation_msg, UserWarning)\n"
     ]
    },
    {
     "data": {
      "text/plain": [
       "XGBClassifier(base_score=0.5, booster='gbtree', colsample_bylevel=1,\n",
       "              colsample_bynode=1, colsample_bytree=0.9475703665037462,\n",
       "              eta=0.3076951770384403, eval_metric='auc', gamma=9.66425615956974,\n",
       "              gpu_id=-1, importance_type='gain', interaction_constraints='',\n",
       "              learning_rate=0.30769518, max_delta_step=0, max_depth=5,\n",
       "              min_child_weight=0.3256355793000354, missing=nan,\n",
       "              monotone_constraints='()', n_estimators=100, n_jobs=4, nthread=4,\n",
       "              num_parallel_tree=1, random_state=0, reg_alpha=0, reg_lambda=1,\n",
       "              scale_pos_weight=1, seed=0, subsample=0.8242904472901268,\n",
       "              tree_method='exact', validate_parameters=1, verbosity=None)"
      ]
     },
     "execution_count": 25,
     "metadata": {},
     "output_type": "execute_result"
    }
   ],
   "source": [
    "xgb_undersample_clf.fit(X_train, y_train)"
   ]
  },
  {
   "cell_type": "code",
   "execution_count": 26,
   "metadata": {},
   "outputs": [
    {
     "name": "stdout",
     "output_type": "stream",
     "text": [
      "Test acc = 51.90%\n"
     ]
    }
   ],
   "source": [
    "xgb_undersample_preds = xgb_undersample_clf.predict(X_test)\n",
    "\n",
    "test_acc = accuracy_score(y_test, xgb_undersample_preds)\n",
    "print(f'Test acc = {100*test_acc:.2f}%')"
   ]
  },
  {
   "cell_type": "code",
   "execution_count": 52,
   "metadata": {},
   "outputs": [],
   "source": [
    "feature_df_under = pd.DataFrame(xgb_undersample_clf.feature_importances_, X_train.columns)   #This makes it in order\n",
    "feature_df_under = feature_df_under.sort_values(by=0, ascending=True)"
   ]
  },
  {
   "cell_type": "code",
   "execution_count": 53,
   "metadata": {},
   "outputs": [
    {
     "data": {
      "image/png": "[encoded data removed]",
      "text/plain": [
       "<Figure size 864x1296 with 1 Axes>"
      ]
     },
     "metadata": {
      "needs_background": "light"
     },
     "output_type": "display_data"
    }
   ],
   "source": [
    "plt.figure(figsize=(12, 18))\n",
    "\n",
    "x = feature_df_under.index\n",
    "y = feature_df_under[0]\n",
    "\n",
    "plt.barh(x, y)\n",
    "plt.xticks(rotation=90)\n",
    "plt.title('Feature Importances', fontsize=20)\n",
    "plt.ylabel('Weight', fontsize=14);"
   ]
  },
  {
   "cell_type": "markdown",
   "metadata": {},
   "source": [
    "## Undersampled vs oversampled feature importances"
   ]
  },
  {
   "cell_type": "code",
   "execution_count": 58,
   "metadata": {},
   "outputs": [
    {
     "data": {
      "text/plain": [
       "Index(['away_RD', 'Y', 'team_W-L_pct_diff', 'away_win_diff_bayes',\n",
       "       'home_Rank_offset1year', 'away_pitcher_IP_avg_162games',\n",
       "       'home_pitcher_WHIP_avg_162games', 'home_RD', 'team_ERA_pct_diff',\n",
       "       'away_ERA_offset1year', 'away_WHIP_offset1year', 'home_win_diff_bayes',\n",
       "       'M', 'home_pitcher_IP_avg_162games', 'team_bayes_pct_diff',\n",
       "       'away_win_pct', 'team_slg_pct_diff', 'team_RA_pct_diff',\n",
       "       'team_Rank_pct_diff', 'team_obp_pct_diff', 'obp_diff',\n",
       "       'team_ops_pct_diff'],\n",
       "      dtype='object')"
      ]
     },
     "execution_count": 58,
     "metadata": {},
     "output_type": "execute_result"
    }
   ],
   "source": [
    "feature_df_under.index"
   ]
  },
  {
   "cell_type": "code",
   "execution_count": 59,
   "metadata": {},
   "outputs": [
    {
     "data": {
      "text/plain": [
       "Index(['M', 'home_RD', 'away_pitcher_IP_avg_162games', 'team_ERA_pct_diff',\n",
       "       'away_ERA_offset1year', 'Y', 'away_WHIP_offset1year',\n",
       "       'team_Rank_pct_diff', 'home_win_diff_bayes', 'away_RD',\n",
       "       'team_bayes_pct_diff', 'home_pitcher_WHIP_avg_162games',\n",
       "       'away_win_diff_bayes', 'home_pitcher_IP_avg_162games',\n",
       "       'home_Rank_offset1year', 'team_W-L_pct_diff', 'away_win_pct',\n",
       "       'team_RA_pct_diff', 'team_obp_pct_diff', 'team_slg_pct_diff',\n",
       "       'obp_diff', 'team_ops_pct_diff'],\n",
       "      dtype='object')"
      ]
     },
     "execution_count": 59,
     "metadata": {},
     "output_type": "execute_result"
    }
   ],
   "source": [
    "feature_df_over.index"
   ]
  },
  {
   "cell_type": "code",
   "execution_count": 61,
   "metadata": {},
   "outputs": [
    {
     "data": {
      "text/html": [
       "<div>\n",
       "<style scoped>\n",
       "    .dataframe tbody tr th:only-of-type {\n",
       "        vertical-align: middle;\n",
       "    }\n",
       "\n",
       "    .dataframe tbody tr th {\n",
       "        vertical-align: top;\n",
       "    }\n",
       "\n",
       "    .dataframe thead th {\n",
       "        text-align: right;\n",
       "    }\n",
       "</style>\n",
       "<table border=\"1\" class=\"dataframe\">\n",
       "  <thead>\n",
       "    <tr style=\"text-align: right;\">\n",
       "      <th></th>\n",
       "      <th>0</th>\n",
       "    </tr>\n",
       "  </thead>\n",
       "  <tbody>\n",
       "    <tr>\n",
       "      <th>M</th>\n",
       "      <td>0.039232</td>\n",
       "    </tr>\n",
       "    <tr>\n",
       "      <th>home_RD</th>\n",
       "      <td>0.039462</td>\n",
       "    </tr>\n",
       "    <tr>\n",
       "      <th>away_pitcher_IP_avg_162games</th>\n",
       "      <td>0.041819</td>\n",
       "    </tr>\n",
       "    <tr>\n",
       "      <th>team_ERA_pct_diff</th>\n",
       "      <td>0.041954</td>\n",
       "    </tr>\n",
       "    <tr>\n",
       "      <th>away_ERA_offset1year</th>\n",
       "      <td>0.041987</td>\n",
       "    </tr>\n",
       "    <tr>\n",
       "      <th>Y</th>\n",
       "      <td>0.042250</td>\n",
       "    </tr>\n",
       "    <tr>\n",
       "      <th>away_WHIP_offset1year</th>\n",
       "      <td>0.042355</td>\n",
       "    </tr>\n",
       "    <tr>\n",
       "      <th>team_Rank_pct_diff</th>\n",
       "      <td>0.042382</td>\n",
       "    </tr>\n",
       "    <tr>\n",
       "      <th>home_win_diff_bayes</th>\n",
       "      <td>0.042644</td>\n",
       "    </tr>\n",
       "    <tr>\n",
       "      <th>away_RD</th>\n",
       "      <td>0.042964</td>\n",
       "    </tr>\n",
       "    <tr>\n",
       "      <th>team_bayes_pct_diff</th>\n",
       "      <td>0.043065</td>\n",
       "    </tr>\n",
       "    <tr>\n",
       "      <th>home_pitcher_WHIP_avg_162games</th>\n",
       "      <td>0.043435</td>\n",
       "    </tr>\n",
       "    <tr>\n",
       "      <th>away_win_diff_bayes</th>\n",
       "      <td>0.044570</td>\n",
       "    </tr>\n",
       "    <tr>\n",
       "      <th>home_pitcher_IP_avg_162games</th>\n",
       "      <td>0.044930</td>\n",
       "    </tr>\n",
       "    <tr>\n",
       "      <th>home_Rank_offset1year</th>\n",
       "      <td>0.045012</td>\n",
       "    </tr>\n",
       "    <tr>\n",
       "      <th>team_W-L_pct_diff</th>\n",
       "      <td>0.045541</td>\n",
       "    </tr>\n",
       "    <tr>\n",
       "      <th>away_win_pct</th>\n",
       "      <td>0.045576</td>\n",
       "    </tr>\n",
       "    <tr>\n",
       "      <th>team_RA_pct_diff</th>\n",
       "      <td>0.046006</td>\n",
       "    </tr>\n",
       "    <tr>\n",
       "      <th>team_obp_pct_diff</th>\n",
       "      <td>0.047850</td>\n",
       "    </tr>\n",
       "    <tr>\n",
       "      <th>team_slg_pct_diff</th>\n",
       "      <td>0.051415</td>\n",
       "    </tr>\n",
       "    <tr>\n",
       "      <th>obp_diff</th>\n",
       "      <td>0.062500</td>\n",
       "    </tr>\n",
       "    <tr>\n",
       "      <th>team_ops_pct_diff</th>\n",
       "      <td>0.063052</td>\n",
       "    </tr>\n",
       "  </tbody>\n",
       "</table>\n",
       "</div>"
      ],
      "text/plain": [
       "                                       0\n",
       "M                               0.039232\n",
       "home_RD                         0.039462\n",
       "away_pitcher_IP_avg_162games    0.041819\n",
       "team_ERA_pct_diff               0.041954\n",
       "away_ERA_offset1year            0.041987\n",
       "Y                               0.042250\n",
       "away_WHIP_offset1year           0.042355\n",
       "team_Rank_pct_diff              0.042382\n",
       "home_win_diff_bayes             0.042644\n",
       "away_RD                         0.042964\n",
       "team_bayes_pct_diff             0.043065\n",
       "home_pitcher_WHIP_avg_162games  0.043435\n",
       "away_win_diff_bayes             0.044570\n",
       "home_pitcher_IP_avg_162games    0.044930\n",
       "home_Rank_offset1year           0.045012\n",
       "team_W-L_pct_diff               0.045541\n",
       "away_win_pct                    0.045576\n",
       "team_RA_pct_diff                0.046006\n",
       "team_obp_pct_diff               0.047850\n",
       "team_slg_pct_diff               0.051415\n",
       "obp_diff                        0.062500\n",
       "team_ops_pct_diff               0.063052"
      ]
     },
     "execution_count": 61,
     "metadata": {},
     "output_type": "execute_result"
    }
   ],
   "source": [
    "feature_df_over"
   ]
  },
  {
   "cell_type": "code",
   "execution_count": 62,
   "metadata": {},
   "outputs": [
    {
     "data": {
      "text/html": [
       "<div>\n",
       "<style scoped>\n",
       "    .dataframe tbody tr th:only-of-type {\n",
       "        vertical-align: middle;\n",
       "    }\n",
       "\n",
       "    .dataframe tbody tr th {\n",
       "        vertical-align: top;\n",
       "    }\n",
       "\n",
       "    .dataframe thead th {\n",
       "        text-align: right;\n",
       "    }\n",
       "</style>\n",
       "<table border=\"1\" class=\"dataframe\">\n",
       "  <thead>\n",
       "    <tr style=\"text-align: right;\">\n",
       "      <th></th>\n",
       "      <th>0</th>\n",
       "    </tr>\n",
       "  </thead>\n",
       "  <tbody>\n",
       "    <tr>\n",
       "      <th>away_RD</th>\n",
       "      <td>0.032991</td>\n",
       "    </tr>\n",
       "    <tr>\n",
       "      <th>Y</th>\n",
       "      <td>0.036451</td>\n",
       "    </tr>\n",
       "    <tr>\n",
       "      <th>team_W-L_pct_diff</th>\n",
       "      <td>0.037725</td>\n",
       "    </tr>\n",
       "    <tr>\n",
       "      <th>away_win_diff_bayes</th>\n",
       "      <td>0.038006</td>\n",
       "    </tr>\n",
       "    <tr>\n",
       "      <th>home_Rank_offset1year</th>\n",
       "      <td>0.038544</td>\n",
       "    </tr>\n",
       "    <tr>\n",
       "      <th>away_pitcher_IP_avg_162games</th>\n",
       "      <td>0.039222</td>\n",
       "    </tr>\n",
       "    <tr>\n",
       "      <th>home_pitcher_WHIP_avg_162games</th>\n",
       "      <td>0.041042</td>\n",
       "    </tr>\n",
       "    <tr>\n",
       "      <th>home_RD</th>\n",
       "      <td>0.041141</td>\n",
       "    </tr>\n",
       "    <tr>\n",
       "      <th>team_ERA_pct_diff</th>\n",
       "      <td>0.042398</td>\n",
       "    </tr>\n",
       "    <tr>\n",
       "      <th>away_ERA_offset1year</th>\n",
       "      <td>0.042707</td>\n",
       "    </tr>\n",
       "    <tr>\n",
       "      <th>away_WHIP_offset1year</th>\n",
       "      <td>0.044055</td>\n",
       "    </tr>\n",
       "    <tr>\n",
       "      <th>home_win_diff_bayes</th>\n",
       "      <td>0.044279</td>\n",
       "    </tr>\n",
       "    <tr>\n",
       "      <th>M</th>\n",
       "      <td>0.044988</td>\n",
       "    </tr>\n",
       "    <tr>\n",
       "      <th>home_pitcher_IP_avg_162games</th>\n",
       "      <td>0.045115</td>\n",
       "    </tr>\n",
       "    <tr>\n",
       "      <th>team_bayes_pct_diff</th>\n",
       "      <td>0.045355</td>\n",
       "    </tr>\n",
       "    <tr>\n",
       "      <th>away_win_pct</th>\n",
       "      <td>0.045452</td>\n",
       "    </tr>\n",
       "    <tr>\n",
       "      <th>team_slg_pct_diff</th>\n",
       "      <td>0.046348</td>\n",
       "    </tr>\n",
       "    <tr>\n",
       "      <th>team_RA_pct_diff</th>\n",
       "      <td>0.047199</td>\n",
       "    </tr>\n",
       "    <tr>\n",
       "      <th>team_Rank_pct_diff</th>\n",
       "      <td>0.052383</td>\n",
       "    </tr>\n",
       "    <tr>\n",
       "      <th>team_obp_pct_diff</th>\n",
       "      <td>0.053907</td>\n",
       "    </tr>\n",
       "    <tr>\n",
       "      <th>obp_diff</th>\n",
       "      <td>0.068137</td>\n",
       "    </tr>\n",
       "    <tr>\n",
       "      <th>team_ops_pct_diff</th>\n",
       "      <td>0.072553</td>\n",
       "    </tr>\n",
       "  </tbody>\n",
       "</table>\n",
       "</div>"
      ],
      "text/plain": [
       "                                       0\n",
       "away_RD                         0.032991\n",
       "Y                               0.036451\n",
       "team_W-L_pct_diff               0.037725\n",
       "away_win_diff_bayes             0.038006\n",
       "home_Rank_offset1year           0.038544\n",
       "away_pitcher_IP_avg_162games    0.039222\n",
       "home_pitcher_WHIP_avg_162games  0.041042\n",
       "home_RD                         0.041141\n",
       "team_ERA_pct_diff               0.042398\n",
       "away_ERA_offset1year            0.042707\n",
       "away_WHIP_offset1year           0.044055\n",
       "home_win_diff_bayes             0.044279\n",
       "M                               0.044988\n",
       "home_pitcher_IP_avg_162games    0.045115\n",
       "team_bayes_pct_diff             0.045355\n",
       "away_win_pct                    0.045452\n",
       "team_slg_pct_diff               0.046348\n",
       "team_RA_pct_diff                0.047199\n",
       "team_Rank_pct_diff              0.052383\n",
       "team_obp_pct_diff               0.053907\n",
       "obp_diff                        0.068137\n",
       "team_ops_pct_diff               0.072553"
      ]
     },
     "execution_count": 62,
     "metadata": {},
     "output_type": "execute_result"
    }
   ],
   "source": [
    "feature_df_under"
   ]
  },
  {
   "cell_type": "code",
   "execution_count": 63,
   "metadata": {},
   "outputs": [
    {
     "data": {
      "image/png": "[encoded data removed]",
      "text/plain": [
       "<Figure size 864x1296 with 1 Axes>"
      ]
     },
     "metadata": {
      "needs_background": "light"
     },
     "output_type": "display_data"
    }
   ],
   "source": [
    "plt.figure(figsize=(12, 18))\n",
    "\n",
    "plt.barh(feature_df_under.index, feature_df_under[0], alpha=0.5, label='Undersampled')\n",
    "plt.barh(feature_df_over.index, feature_df_over[0], alpha=0.5, label='Oversampled')\n",
    "plt.xticks(rotation=90)\n",
    "plt.title('Feature Importances', fontsize=20)\n",
    "plt.xlabel('Weight', fontsize=14)\n",
    "plt.legend();"
   ]
  },
  {
   "cell_type": "markdown",
   "metadata": {},
   "source": [
    "### Loading Previous XGB Model "
   ]
  },
  {
   "cell_type": "code",
   "execution_count": 29,
   "metadata": {},
   "outputs": [],
   "source": [
    "df = pd.read_csv('../data/Final Data/start_to_finish_with_preds.csv')"
   ]
  },
  {
   "cell_type": "code",
   "execution_count": 30,
   "metadata": {},
   "outputs": [],
   "source": [
    "df['xgb_oversample_pred'] = xgb_oversample_preds\n",
    "df['xgb_undersample_pred'] = xgb_undersample_preds"
   ]
  },
  {
   "cell_type": "markdown",
   "metadata": {},
   "source": [
    "## Comparing Results with each other"
   ]
  },
  {
   "cell_type": "code",
   "execution_count": 31,
   "metadata": {},
   "outputs": [
    {
     "name": "stdout",
     "output_type": "stream",
     "text": [
      "Maximum possible accuracy = 70.27%\n"
     ]
    }
   ],
   "source": [
    "num_correct = 0\n",
    "\n",
    "for i in range(y_test.shape[0]):\n",
    "    if y_test.values[i] in [xgb_oversample_preds[i], xgb_undersample_preds[i]]:\n",
    "        num_correct += 1\n",
    "\n",
    "print(f'Maximum possible accuracy = {100*num_correct / y_test.shape[0]:.2f}%')"
   ]
  },
  {
   "cell_type": "code",
   "execution_count": 32,
   "metadata": {},
   "outputs": [],
   "source": [
    "conditions = [(df['xgb_undersample_pred'] != df['xgb_oversample_pred'])]     #Sets the conditions\n",
    "choices = [1]\n",
    "df['disagree_over_under'] = np.select(conditions, choices, 0)"
   ]
  },
  {
   "cell_type": "code",
   "execution_count": 33,
   "metadata": {},
   "outputs": [],
   "source": [
    "conditions = [(df['xgb_undersample_pred'] == df['xgb_oversample_pred'])]     #Sets the conditions\n",
    "choices = [1]\n",
    "df['agree_over_under'] = np.select(conditions, choices, 0)"
   ]
  },
  {
   "cell_type": "code",
   "execution_count": 34,
   "metadata": {},
   "outputs": [],
   "source": [
    "disagree_df = df[df['disagree_over_under'] == 1]\n",
    "agree_df = df[df['agree_over_under'] == 1]"
   ]
  },
  {
   "cell_type": "code",
   "execution_count": 35,
   "metadata": {},
   "outputs": [
    {
     "data": {
      "text/plain": [
       "3400"
      ]
     },
     "execution_count": 35,
     "metadata": {},
     "output_type": "execute_result"
    }
   ],
   "source": [
    "disagree_df.shape[0]"
   ]
  },
  {
   "cell_type": "code",
   "execution_count": 36,
   "metadata": {},
   "outputs": [
    {
     "name": "stdout",
     "output_type": "stream",
     "text": [
      "54.8%\n"
     ]
    }
   ],
   "source": [
    "agree_correct_pct = agree_df[agree_df['xgb_undersample_pred'] == agree_df['home_win']].shape[0] / agree_df.shape[0]\n",
    "\n",
    "print(f'{round(agree_correct_pct*100,2)}%')"
   ]
  },
  {
   "cell_type": "markdown",
   "metadata": {},
   "source": [
    "## Comparing Results to Main XGB"
   ]
  },
  {
   "cell_type": "code",
   "execution_count": 37,
   "metadata": {},
   "outputs": [],
   "source": [
    "xgb_main_pred = df.xgb_pred"
   ]
  },
  {
   "cell_type": "code",
   "execution_count": 38,
   "metadata": {},
   "outputs": [
    {
     "name": "stdout",
     "output_type": "stream",
     "text": [
      "Maximum possible accuracy = 86.45%\n"
     ]
    }
   ],
   "source": [
    "num_correct = 0\n",
    "\n",
    "for i in range(y_test.shape[0]):\n",
    "    if y_test.values[i] in [xgb_oversample_preds[i], xgb_main_pred[i], xgb_undersample_preds[i]]:\n",
    "        num_correct += 1\n",
    "\n",
    "print(f'Maximum possible accuracy = {100*num_correct / y_test.shape[0]:.2f}%')"
   ]
  },
  {
   "cell_type": "markdown",
   "metadata": {},
   "source": [
    "#### Main and Oversampling"
   ]
  },
  {
   "cell_type": "code",
   "execution_count": 39,
   "metadata": {},
   "outputs": [],
   "source": [
    "conditions = [(df['xgb_pred'] != df['xgb_oversample_pred'])]     #Sets the conditions\n",
    "choices = [1]\n",
    "df['disagree_over_main'] = np.select(conditions, choices, 0)"
   ]
  },
  {
   "cell_type": "code",
   "execution_count": 40,
   "metadata": {},
   "outputs": [],
   "source": [
    "conditions = [(df['xgb_pred'] == df['xgb_oversample_pred'])]     #Sets the conditions\n",
    "choices = [1]\n",
    "df['agree_over_main'] = np.select(conditions, choices, 0)"
   ]
  },
  {
   "cell_type": "code",
   "execution_count": 41,
   "metadata": {},
   "outputs": [],
   "source": [
    "disagree_df = df[df['disagree_over_main'] == 1]\n",
    "agree_df = df[df['agree_over_main'] == 1]"
   ]
  },
  {
   "cell_type": "code",
   "execution_count": 42,
   "metadata": {},
   "outputs": [
    {
     "data": {
      "text/plain": [
       "4150"
      ]
     },
     "execution_count": 42,
     "metadata": {},
     "output_type": "execute_result"
    }
   ],
   "source": [
    "disagree_df.shape[0]"
   ]
  },
  {
   "cell_type": "code",
   "execution_count": 43,
   "metadata": {},
   "outputs": [
    {
     "name": "stdout",
     "output_type": "stream",
     "text": [
      "63.3%\n"
     ]
    }
   ],
   "source": [
    "agree_correct_pct = agree_df[agree_df['xgb_pred'] == agree_df['home_win']].shape[0] / agree_df.shape[0]\n",
    "\n",
    "print(f'{round(agree_correct_pct*100,2)}%')"
   ]
  },
  {
   "cell_type": "markdown",
   "metadata": {},
   "source": [
    "#### Main and Undersampling"
   ]
  },
  {
   "cell_type": "code",
   "execution_count": 44,
   "metadata": {},
   "outputs": [],
   "source": [
    "conditions = [(df['xgb_pred'] != df['xgb_undersample_pred'])]     #Sets the conditions\n",
    "choices = [1]\n",
    "df['disagree_under_main'] = np.select(conditions, choices, 0)"
   ]
  },
  {
   "cell_type": "code",
   "execution_count": 45,
   "metadata": {},
   "outputs": [],
   "source": [
    "conditions = [(df['xgb_pred'] == df['xgb_undersample_pred'])]     #Sets the conditions\n",
    "choices = [1]\n",
    "df['agree_under_main'] = np.select(conditions, choices, 0)"
   ]
  },
  {
   "cell_type": "code",
   "execution_count": 46,
   "metadata": {},
   "outputs": [],
   "source": [
    "disagree_df = df[df['disagree_under_main'] == 1]\n",
    "agree_df = df[df['agree_under_main'] == 1]"
   ]
  },
  {
   "cell_type": "code",
   "execution_count": 47,
   "metadata": {},
   "outputs": [
    {
     "data": {
      "text/plain": [
       "4722"
      ]
     },
     "execution_count": 47,
     "metadata": {},
     "output_type": "execute_result"
    }
   ],
   "source": [
    "disagree_df.shape[0]"
   ]
  },
  {
   "cell_type": "code",
   "execution_count": 48,
   "metadata": {},
   "outputs": [
    {
     "name": "stdout",
     "output_type": "stream",
     "text": [
      "62.37%\n"
     ]
    }
   ],
   "source": [
    "agree_correct_pct = agree_df[agree_df['xgb_pred'] == agree_df['home_win']].shape[0] / agree_df.shape[0]\n",
    "\n",
    "print(f'{round(agree_correct_pct*100,2)}%')"
   ]
  },
  {
   "cell_type": "markdown",
   "metadata": {},
   "source": [
    "## Ensembling\n",
    "\n",
    "### Majority voting\n",
    "\n",
    "Majority voting with original XGB + XGB over + XGB under"
   ]
  },
  {
   "cell_type": "code",
   "execution_count": 67,
   "metadata": {},
   "outputs": [
    {
     "name": "stdout",
     "output_type": "stream",
     "text": [
      "Majority voting accuracy = 56.25%\n"
     ]
    }
   ],
   "source": [
    "num_correct = 0\n",
    "\n",
    "for i in range(y_test.shape[0]):\n",
    "    # Just add them up. If at least two models voted 1, then choose 1. Otherwise choose 0.\n",
    "    majority_vote = np.sum([xgb_main_pred[i], xgb_undersample_preds[i], xgb_oversample_preds[i]])\n",
    "    if majority_vote > 1:\n",
    "        majority_vote = 1\n",
    "    else:\n",
    "        majority_vote = 0\n",
    "    if y_test.values[i] == majority_vote:\n",
    "        num_correct += 1\n",
    "\n",
    "print(f'Majority voting accuracy = {100*num_correct / y_test.shape[0]:.2f}%')"
   ]
  },
  {
   "cell_type": "markdown",
   "metadata": {},
   "source": [
    "## Strength of predictions\n",
    "\n",
    "How does predicted probability compare with results?"
   ]
  },
  {
   "cell_type": "code",
   "execution_count": 68,
   "metadata": {},
   "outputs": [],
   "source": [
    "# Adjust predicted probability to be between 0 and 1, with 0 meaning a predicted\n",
    "# probability of 0.5, and 1 being either a predicted probability of 0 or 1 (in other\n",
    "# words, complete confidence)\n",
    "def adjust_proba(x):\n",
    "    if x > 0.5:\n",
    "        return 2*(x - 0.5)\n",
    "    else:\n",
    "        return 2*(1 - x - 0.5)"
   ]
  },
  {
   "cell_type": "code",
   "execution_count": 69,
   "metadata": {},
   "outputs": [
    {
     "data": {
      "text/html": [
       "<div>\n",
       "<style scoped>\n",
       "    .dataframe tbody tr th:only-of-type {\n",
       "        vertical-align: middle;\n",
       "    }\n",
       "\n",
       "    .dataframe tbody tr th {\n",
       "        vertical-align: top;\n",
       "    }\n",
       "\n",
       "    .dataframe thead th {\n",
       "        text-align: right;\n",
       "    }\n",
       "</style>\n",
       "<table border=\"1\" class=\"dataframe\">\n",
       "  <thead>\n",
       "    <tr style=\"text-align: right;\">\n",
       "      <th></th>\n",
       "      <th>team_ops_pct_diff</th>\n",
       "      <th>obp_diff</th>\n",
       "      <th>team_obp_pct_diff</th>\n",
       "      <th>home_Rank_offset1year</th>\n",
       "      <th>away_WHIP_offset1year</th>\n",
       "      <th>team_ERA_pct_diff</th>\n",
       "      <th>home_win_diff_bayes</th>\n",
       "      <th>home_RD</th>\n",
       "      <th>team_bayes_pct_diff</th>\n",
       "      <th>away_win_diff_bayes</th>\n",
       "      <th>...</th>\n",
       "      <th>knn_no_batting_proba</th>\n",
       "      <th>nn_proba</th>\n",
       "      <th>xgb_oversample_pred</th>\n",
       "      <th>xgb_undersample_pred</th>\n",
       "      <th>disagree_over_under</th>\n",
       "      <th>agree_over_under</th>\n",
       "      <th>disagree_over_main</th>\n",
       "      <th>agree_over_main</th>\n",
       "      <th>disagree_under_main</th>\n",
       "      <th>agree_under_main</th>\n",
       "    </tr>\n",
       "  </thead>\n",
       "  <tbody>\n",
       "    <tr>\n",
       "      <th>0</th>\n",
       "      <td>0.001479</td>\n",
       "      <td>0.001196</td>\n",
       "      <td>0.003769</td>\n",
       "      <td>2.0</td>\n",
       "      <td>1.253927</td>\n",
       "      <td>0.089783</td>\n",
       "      <td>-0.010464</td>\n",
       "      <td>101.0</td>\n",
       "      <td>0.0</td>\n",
       "      <td>-0.010464</td>\n",
       "      <td>...</td>\n",
       "      <td>0.520000</td>\n",
       "      <td>0.455505</td>\n",
       "      <td>0</td>\n",
       "      <td>0</td>\n",
       "      <td>0</td>\n",
       "      <td>1</td>\n",
       "      <td>0</td>\n",
       "      <td>1</td>\n",
       "      <td>0</td>\n",
       "      <td>1</td>\n",
       "    </tr>\n",
       "    <tr>\n",
       "      <th>1</th>\n",
       "      <td>-0.100639</td>\n",
       "      <td>-0.023374</td>\n",
       "      <td>-0.075552</td>\n",
       "      <td>4.0</td>\n",
       "      <td>1.214434</td>\n",
       "      <td>-0.018717</td>\n",
       "      <td>-0.010464</td>\n",
       "      <td>2.0</td>\n",
       "      <td>0.0</td>\n",
       "      <td>-0.010464</td>\n",
       "      <td>...</td>\n",
       "      <td>0.506667</td>\n",
       "      <td>0.395637</td>\n",
       "      <td>0</td>\n",
       "      <td>0</td>\n",
       "      <td>0</td>\n",
       "      <td>1</td>\n",
       "      <td>0</td>\n",
       "      <td>1</td>\n",
       "      <td>0</td>\n",
       "      <td>1</td>\n",
       "    </tr>\n",
       "    <tr>\n",
       "      <th>2</th>\n",
       "      <td>0.028053</td>\n",
       "      <td>0.009820</td>\n",
       "      <td>0.030927</td>\n",
       "      <td>1.0</td>\n",
       "      <td>1.179045</td>\n",
       "      <td>0.077540</td>\n",
       "      <td>-0.010464</td>\n",
       "      <td>83.0</td>\n",
       "      <td>0.0</td>\n",
       "      <td>-0.010464</td>\n",
       "      <td>...</td>\n",
       "      <td>0.546667</td>\n",
       "      <td>0.508145</td>\n",
       "      <td>0</td>\n",
       "      <td>0</td>\n",
       "      <td>0</td>\n",
       "      <td>1</td>\n",
       "      <td>1</td>\n",
       "      <td>0</td>\n",
       "      <td>1</td>\n",
       "      <td>0</td>\n",
       "    </tr>\n",
       "    <tr>\n",
       "      <th>3</th>\n",
       "      <td>0.031095</td>\n",
       "      <td>0.006132</td>\n",
       "      <td>0.019876</td>\n",
       "      <td>5.0</td>\n",
       "      <td>1.320066</td>\n",
       "      <td>0.043269</td>\n",
       "      <td>-0.010464</td>\n",
       "      <td>-35.0</td>\n",
       "      <td>0.0</td>\n",
       "      <td>-0.010464</td>\n",
       "      <td>...</td>\n",
       "      <td>0.506667</td>\n",
       "      <td>0.525333</td>\n",
       "      <td>0</td>\n",
       "      <td>0</td>\n",
       "      <td>0</td>\n",
       "      <td>1</td>\n",
       "      <td>1</td>\n",
       "      <td>0</td>\n",
       "      <td>1</td>\n",
       "      <td>0</td>\n",
       "    </tr>\n",
       "    <tr>\n",
       "      <th>4</th>\n",
       "      <td>-0.026164</td>\n",
       "      <td>-0.014945</td>\n",
       "      <td>-0.049505</td>\n",
       "      <td>3.0</td>\n",
       "      <td>1.151872</td>\n",
       "      <td>0.147208</td>\n",
       "      <td>-0.010464</td>\n",
       "      <td>-14.0</td>\n",
       "      <td>0.0</td>\n",
       "      <td>-0.010464</td>\n",
       "      <td>...</td>\n",
       "      <td>0.486667</td>\n",
       "      <td>0.497620</td>\n",
       "      <td>0</td>\n",
       "      <td>0</td>\n",
       "      <td>0</td>\n",
       "      <td>1</td>\n",
       "      <td>1</td>\n",
       "      <td>0</td>\n",
       "      <td>1</td>\n",
       "      <td>0</td>\n",
       "    </tr>\n",
       "  </tbody>\n",
       "</table>\n",
       "<p>5 rows × 41 columns</p>\n",
       "</div>"
      ],
      "text/plain": [
       "   team_ops_pct_diff  obp_diff  team_obp_pct_diff  home_Rank_offset1year  \\\n",
       "0           0.001479  0.001196           0.003769                    2.0   \n",
       "1          -0.100639 -0.023374          -0.075552                    4.0   \n",
       "2           0.028053  0.009820           0.030927                    1.0   \n",
       "3           0.031095  0.006132           0.019876                    5.0   \n",
       "4          -0.026164 -0.014945          -0.049505                    3.0   \n",
       "\n",
       "   away_WHIP_offset1year  team_ERA_pct_diff  home_win_diff_bayes  home_RD  \\\n",
       "0               1.253927           0.089783            -0.010464    101.0   \n",
       "1               1.214434          -0.018717            -0.010464      2.0   \n",
       "2               1.179045           0.077540            -0.010464     83.0   \n",
       "3               1.320066           0.043269            -0.010464    -35.0   \n",
       "4               1.151872           0.147208            -0.010464    -14.0   \n",
       "\n",
       "   team_bayes_pct_diff  away_win_diff_bayes  ...  knn_no_batting_proba  \\\n",
       "0                  0.0            -0.010464  ...              0.520000   \n",
       "1                  0.0            -0.010464  ...              0.506667   \n",
       "2                  0.0            -0.010464  ...              0.546667   \n",
       "3                  0.0            -0.010464  ...              0.506667   \n",
       "4                  0.0            -0.010464  ...              0.486667   \n",
       "\n",
       "   nn_proba  xgb_oversample_pred  xgb_undersample_pred  disagree_over_under  \\\n",
       "0  0.455505                    0                     0                    0   \n",
       "1  0.395637                    0                     0                    0   \n",
       "2  0.508145                    0                     0                    0   \n",
       "3  0.525333                    0                     0                    0   \n",
       "4  0.497620                    0                     0                    0   \n",
       "\n",
       "   agree_over_under  disagree_over_main  agree_over_main  disagree_under_main  \\\n",
       "0                 1                   0                1                    0   \n",
       "1                 1                   0                1                    0   \n",
       "2                 1                   1                0                    1   \n",
       "3                 1                   1                0                    1   \n",
       "4                 1                   1                0                    1   \n",
       "\n",
       "   agree_under_main  \n",
       "0                 1  \n",
       "1                 1  \n",
       "2                 0  \n",
       "3                 0  \n",
       "4                 0  \n",
       "\n",
       "[5 rows x 41 columns]"
      ]
     },
     "execution_count": 69,
     "metadata": {},
     "output_type": "execute_result"
    }
   ],
   "source": [
    "df.head()"
   ]
  },
  {
   "cell_type": "code",
   "execution_count": 72,
   "metadata": {},
   "outputs": [],
   "source": [
    "df['xgb_undersample_proba'] = xgb_undersample_clf.predict_proba(X_test)[:, 1]\n",
    "df['xgb_oversample_proba'] = xgb_undersample_clf.predict_proba(X_test)[:, 1]\n",
    "\n",
    "df['xgb_undersample_proba_scaled'] = df['xgb_undersample_proba'].apply(adjust_proba)\n",
    "df['xgb_oversample_proba_scaled'] = df['xgb_oversample_proba'].apply(adjust_proba)\n",
    "df['xgb_main_proba_scaled'] = df['xgb_proba'].apply(adjust_proba)"
   ]
  },
  {
   "cell_type": "code",
   "execution_count": 75,
   "metadata": {},
   "outputs": [],
   "source": [
    "df['xgb_main_correct'] = df['xgb_pred'] == df['home_win']\n",
    "df['xgb_undersample_correct'] = df['xgb_undersample_pred'] == df['home_win']\n",
    "df['xgb_oversample_correct'] = df['xgb_oversample_pred'] == df['home_win']"
   ]
  },
  {
   "cell_type": "code",
   "execution_count": 76,
   "metadata": {
    "scrolled": true
   },
   "outputs": [
    {
     "data": {
      "text/html": [
       "<div>\n",
       "<style scoped>\n",
       "    .dataframe tbody tr th:only-of-type {\n",
       "        vertical-align: middle;\n",
       "    }\n",
       "\n",
       "    .dataframe tbody tr th {\n",
       "        vertical-align: top;\n",
       "    }\n",
       "\n",
       "    .dataframe thead th {\n",
       "        text-align: right;\n",
       "    }\n",
       "</style>\n",
       "<table border=\"1\" class=\"dataframe\">\n",
       "  <thead>\n",
       "    <tr style=\"text-align: right;\">\n",
       "      <th></th>\n",
       "      <th>team_ops_pct_diff</th>\n",
       "      <th>obp_diff</th>\n",
       "      <th>team_obp_pct_diff</th>\n",
       "      <th>home_Rank_offset1year</th>\n",
       "      <th>away_WHIP_offset1year</th>\n",
       "      <th>team_ERA_pct_diff</th>\n",
       "      <th>home_win_diff_bayes</th>\n",
       "      <th>home_RD</th>\n",
       "      <th>team_bayes_pct_diff</th>\n",
       "      <th>away_win_diff_bayes</th>\n",
       "      <th>...</th>\n",
       "      <th>disagree_under_main</th>\n",
       "      <th>agree_under_main</th>\n",
       "      <th>xgb_undersample_proba</th>\n",
       "      <th>xgb_oversample_proba</th>\n",
       "      <th>xgb_undersample_proba_scaled</th>\n",
       "      <th>xgb_oversample_proba_scaled</th>\n",
       "      <th>xgb_main_proba_scaled</th>\n",
       "      <th>xgb_main_correct</th>\n",
       "      <th>xgb_undersample_correct</th>\n",
       "      <th>xgb_oversample_correct</th>\n",
       "    </tr>\n",
       "  </thead>\n",
       "  <tbody>\n",
       "    <tr>\n",
       "      <th>0</th>\n",
       "      <td>0.001479</td>\n",
       "      <td>0.001196</td>\n",
       "      <td>0.003769</td>\n",
       "      <td>2.0</td>\n",
       "      <td>1.253927</td>\n",
       "      <td>0.089783</td>\n",
       "      <td>-0.010464</td>\n",
       "      <td>101.0</td>\n",
       "      <td>0.0</td>\n",
       "      <td>-0.010464</td>\n",
       "      <td>...</td>\n",
       "      <td>0</td>\n",
       "      <td>1</td>\n",
       "      <td>0.449442</td>\n",
       "      <td>0.449442</td>\n",
       "      <td>0.101116</td>\n",
       "      <td>0.101116</td>\n",
       "      <td>0.094638</td>\n",
       "      <td>False</td>\n",
       "      <td>False</td>\n",
       "      <td>False</td>\n",
       "    </tr>\n",
       "    <tr>\n",
       "      <th>1</th>\n",
       "      <td>-0.100639</td>\n",
       "      <td>-0.023374</td>\n",
       "      <td>-0.075552</td>\n",
       "      <td>4.0</td>\n",
       "      <td>1.214434</td>\n",
       "      <td>-0.018717</td>\n",
       "      <td>-0.010464</td>\n",
       "      <td>2.0</td>\n",
       "      <td>0.0</td>\n",
       "      <td>-0.010464</td>\n",
       "      <td>...</td>\n",
       "      <td>0</td>\n",
       "      <td>1</td>\n",
       "      <td>0.302884</td>\n",
       "      <td>0.302884</td>\n",
       "      <td>0.394233</td>\n",
       "      <td>0.394233</td>\n",
       "      <td>0.245543</td>\n",
       "      <td>True</td>\n",
       "      <td>True</td>\n",
       "      <td>True</td>\n",
       "    </tr>\n",
       "    <tr>\n",
       "      <th>2</th>\n",
       "      <td>0.028053</td>\n",
       "      <td>0.009820</td>\n",
       "      <td>0.030927</td>\n",
       "      <td>1.0</td>\n",
       "      <td>1.179045</td>\n",
       "      <td>0.077540</td>\n",
       "      <td>-0.010464</td>\n",
       "      <td>83.0</td>\n",
       "      <td>0.0</td>\n",
       "      <td>-0.010464</td>\n",
       "      <td>...</td>\n",
       "      <td>1</td>\n",
       "      <td>0</td>\n",
       "      <td>0.399193</td>\n",
       "      <td>0.399193</td>\n",
       "      <td>0.201613</td>\n",
       "      <td>0.201613</td>\n",
       "      <td>0.259434</td>\n",
       "      <td>True</td>\n",
       "      <td>False</td>\n",
       "      <td>False</td>\n",
       "    </tr>\n",
       "    <tr>\n",
       "      <th>3</th>\n",
       "      <td>0.031095</td>\n",
       "      <td>0.006132</td>\n",
       "      <td>0.019876</td>\n",
       "      <td>5.0</td>\n",
       "      <td>1.320066</td>\n",
       "      <td>0.043269</td>\n",
       "      <td>-0.010464</td>\n",
       "      <td>-35.0</td>\n",
       "      <td>0.0</td>\n",
       "      <td>-0.010464</td>\n",
       "      <td>...</td>\n",
       "      <td>1</td>\n",
       "      <td>0</td>\n",
       "      <td>0.390716</td>\n",
       "      <td>0.390716</td>\n",
       "      <td>0.218569</td>\n",
       "      <td>0.218569</td>\n",
       "      <td>0.145007</td>\n",
       "      <td>False</td>\n",
       "      <td>True</td>\n",
       "      <td>True</td>\n",
       "    </tr>\n",
       "    <tr>\n",
       "      <th>4</th>\n",
       "      <td>-0.026164</td>\n",
       "      <td>-0.014945</td>\n",
       "      <td>-0.049505</td>\n",
       "      <td>3.0</td>\n",
       "      <td>1.151872</td>\n",
       "      <td>0.147208</td>\n",
       "      <td>-0.010464</td>\n",
       "      <td>-14.0</td>\n",
       "      <td>0.0</td>\n",
       "      <td>-0.010464</td>\n",
       "      <td>...</td>\n",
       "      <td>1</td>\n",
       "      <td>0</td>\n",
       "      <td>0.396566</td>\n",
       "      <td>0.396566</td>\n",
       "      <td>0.206869</td>\n",
       "      <td>0.206869</td>\n",
       "      <td>0.031748</td>\n",
       "      <td>False</td>\n",
       "      <td>True</td>\n",
       "      <td>True</td>\n",
       "    </tr>\n",
       "  </tbody>\n",
       "</table>\n",
       "<p>5 rows × 49 columns</p>\n",
       "</div>"
      ],
      "text/plain": [
       "   team_ops_pct_diff  obp_diff  team_obp_pct_diff  home_Rank_offset1year  \\\n",
       "0           0.001479  0.001196           0.003769                    2.0   \n",
       "1          -0.100639 -0.023374          -0.075552                    4.0   \n",
       "2           0.028053  0.009820           0.030927                    1.0   \n",
       "3           0.031095  0.006132           0.019876                    5.0   \n",
       "4          -0.026164 -0.014945          -0.049505                    3.0   \n",
       "\n",
       "   away_WHIP_offset1year  team_ERA_pct_diff  home_win_diff_bayes  home_RD  \\\n",
       "0               1.253927           0.089783            -0.010464    101.0   \n",
       "1               1.214434          -0.018717            -0.010464      2.0   \n",
       "2               1.179045           0.077540            -0.010464     83.0   \n",
       "3               1.320066           0.043269            -0.010464    -35.0   \n",
       "4               1.151872           0.147208            -0.010464    -14.0   \n",
       "\n",
       "   team_bayes_pct_diff  away_win_diff_bayes  ...  disagree_under_main  \\\n",
       "0                  0.0            -0.010464  ...                    0   \n",
       "1                  0.0            -0.010464  ...                    0   \n",
       "2                  0.0            -0.010464  ...                    1   \n",
       "3                  0.0            -0.010464  ...                    1   \n",
       "4                  0.0            -0.010464  ...                    1   \n",
       "\n",
       "   agree_under_main  xgb_undersample_proba  xgb_oversample_proba  \\\n",
       "0                 1               0.449442              0.449442   \n",
       "1                 1               0.302884              0.302884   \n",
       "2                 0               0.399193              0.399193   \n",
       "3                 0               0.390716              0.390716   \n",
       "4                 0               0.396566              0.396566   \n",
       "\n",
       "   xgb_undersample_proba_scaled  xgb_oversample_proba_scaled  \\\n",
       "0                      0.101116                     0.101116   \n",
       "1                      0.394233                     0.394233   \n",
       "2                      0.201613                     0.201613   \n",
       "3                      0.218569                     0.218569   \n",
       "4                      0.206869                     0.206869   \n",
       "\n",
       "   xgb_main_proba_scaled  xgb_main_correct  xgb_undersample_correct  \\\n",
       "0               0.094638             False                    False   \n",
       "1               0.245543              True                     True   \n",
       "2               0.259434              True                    False   \n",
       "3               0.145007             False                     True   \n",
       "4               0.031748             False                     True   \n",
       "\n",
       "   xgb_oversample_correct  \n",
       "0                   False  \n",
       "1                    True  \n",
       "2                   False  \n",
       "3                    True  \n",
       "4                    True  \n",
       "\n",
       "[5 rows x 49 columns]"
      ]
     },
     "execution_count": 76,
     "metadata": {},
     "output_type": "execute_result"
    }
   ],
   "source": [
    "df.head()"
   ]
  },
  {
   "cell_type": "code",
   "execution_count": 77,
   "metadata": {},
   "outputs": [
    {
     "data": {
      "text/plain": [
       "Index(['team_ops_pct_diff', 'obp_diff', 'team_obp_pct_diff',\n",
       "       'home_Rank_offset1year', 'away_WHIP_offset1year', 'team_ERA_pct_diff',\n",
       "       'home_win_diff_bayes', 'home_RD', 'team_bayes_pct_diff',\n",
       "       'away_win_diff_bayes', 'team_RA_pct_diff', 'team_slg_pct_diff',\n",
       "       'team_W-L_pct_diff', 'away_ERA_offset1year', 'away_win_pct',\n",
       "       'away_pitcher_IP_avg_162games', 'team_Rank_pct_diff',\n",
       "       'home_pitcher_IP_avg_162games', 'away_RD',\n",
       "       'home_pitcher_WHIP_avg_162games', 'Y', 'M', 'home_win', 'home_team',\n",
       "       'away_team', 'xgb_pred', 'knn_pred', 'knn_no_batting_pred', 'nn_pred',\n",
       "       'xgb_proba', 'knn_proba', 'knn_no_batting_proba', 'nn_proba',\n",
       "       'xgb_oversample_pred', 'xgb_undersample_pred', 'disagree_over_under',\n",
       "       'agree_over_under', 'disagree_over_main', 'agree_over_main',\n",
       "       'disagree_under_main', 'agree_under_main', 'xgb_undersample_proba',\n",
       "       'xgb_oversample_proba', 'xgb_undersample_proba_scaled',\n",
       "       'xgb_oversample_proba_scaled', 'xgb_main_proba_scaled',\n",
       "       'xgb_main_correct', 'xgb_undersample_correct',\n",
       "       'xgb_oversample_correct'],\n",
       "      dtype='object')"
      ]
     },
     "execution_count": 77,
     "metadata": {},
     "output_type": "execute_result"
    }
   ],
   "source": [
    "df.columns"
   ]
  },
  {
   "cell_type": "code",
   "execution_count": 78,
   "metadata": {},
   "outputs": [
    {
     "data": {
      "image/png": "[encoded data removed]",
      "text/plain": [
       "<Figure size 864x576 with 1 Axes>"
      ]
     },
     "metadata": {
      "needs_background": "light"
     },
     "output_type": "display_data"
    }
   ],
   "source": [
    "plt.figure(figsize=(12, 8))\n",
    "sns.histplot(data=df, x='xgb_main_proba_scaled', hue='xgb_main_correct', stat='density');"
   ]
  },
  {
   "cell_type": "code",
   "execution_count": 79,
   "metadata": {},
   "outputs": [
    {
     "data": {
      "image/png": "[encoded data removed]",
      "text/plain": [
       "<Figure size 864x576 with 1 Axes>"
      ]
     },
     "metadata": {
      "needs_background": "light"
     },
     "output_type": "display_data"
    }
   ],
   "source": [
    "plt.figure(figsize=(12, 8))\n",
    "sns.histplot(data=df, x='xgb_oversample_proba_scaled', hue='xgb_oversample_correct', stat='density');"
   ]
  },
  {
   "cell_type": "code",
   "execution_count": 80,
   "metadata": {},
   "outputs": [
    {
     "data": {
      "image/png": "[encoded data removed]",
      "text/plain": [
       "<Figure size 864x576 with 1 Axes>"
      ]
     },
     "metadata": {
      "needs_background": "light"
     },
     "output_type": "display_data"
    }
   ],
   "source": [
    "plt.figure(figsize=(12, 8))\n",
    "sns.histplot(data=df, x='xgb_undersample_proba_scaled', hue='xgb_undersample_correct', stat='density');"
   ]
  },
  {
   "cell_type": "markdown",
   "metadata": {},
   "source": [
    "## XGB main on high proba games\n",
    "\n",
    "How does XGB main perform if we restrict it to games on which is has high (scaled) predicted probability?"
   ]
  },
  {
   "cell_type": "code",
   "execution_count": 136,
   "metadata": {},
   "outputs": [],
   "source": [
    "cutoffs = np.linspace(0, 1, 50)\n",
    "pct_correct_main = np.zeros_like(cutoffs)\n",
    "\n",
    "for i, c in enumerate(cutoffs):\n",
    "    sub_df = df[df['xgb_main_proba_scaled'] > c]\n",
    "    if sub_df.shape[0] > 0:\n",
    "        acc = sub_df[sub_df['xgb_pred'] == sub_df['home_win']].shape[0] / sub_df.shape[0]\n",
    "    else:\n",
    "        acc = 1\n",
    "    pct_correct_main[i] = acc"
   ]
  },
  {
   "cell_type": "code",
   "execution_count": 137,
   "metadata": {},
   "outputs": [
    {
     "data": {
      "image/png": "[encoded data removed]",
      "text/plain": [
       "<Figure size 864x576 with 1 Axes>"
      ]
     },
     "metadata": {
      "needs_background": "light"
     },
     "output_type": "display_data"
    }
   ],
   "source": [
    "plt.figure(figsize=(12, 8))\n",
    "plt.plot(cutoffs, pct_correct_main)\n",
    "plt.ylabel('Accuracy on high-proba games')\n",
    "plt.xlabel('Cutoff for scaled probability')\n",
    "plt.title('XGB Main', fontsize=20)\n",
    "plt.grid();"
   ]
  },
  {
   "cell_type": "markdown",
   "metadata": {},
   "source": [
    "## Under and oversample accuracy on low proba XGB games\n",
    "\n",
    "When XGB main has low scaled predicted probability, how do the other two models do?"
   ]
  },
  {
   "cell_type": "code",
   "execution_count": 108,
   "metadata": {},
   "outputs": [],
   "source": [
    "pct_correct_under = np.zeros_like(cutoffs)\n",
    "\n",
    "for i, c in enumerate(cutoffs):\n",
    "    sub_df = df[df['xgb_main_proba_scaled'] < c]\n",
    "    if sub_df.shape[0] > 0:\n",
    "        acc = sub_df[sub_df['xgb_undersample_pred'] == sub_df['home_win']].shape[0] / sub_df.shape[0]\n",
    "    else:\n",
    "        acc = 0\n",
    "    pct_correct_under[i] = acc"
   ]
  },
  {
   "cell_type": "code",
   "execution_count": 109,
   "metadata": {},
   "outputs": [],
   "source": [
    "pct_correct_over = np.zeros_like(cutoffs)\n",
    "\n",
    "for i, c in enumerate(cutoffs):\n",
    "    sub_df = df[df['xgb_main_proba_scaled'] < c]\n",
    "    if sub_df.shape[0] > 0:\n",
    "        acc = sub_df[sub_df['xgb_oversample_pred'] == sub_df['home_win']].shape[0] / sub_df.shape[0]\n",
    "    else:\n",
    "        acc = 0\n",
    "    pct_correct_over[i] = acc"
   ]
  },
  {
   "cell_type": "code",
   "execution_count": 110,
   "metadata": {},
   "outputs": [
    {
     "data": {
      "image/png": "[encoded data removed]",
      "text/plain": [
       "<Figure size 864x576 with 1 Axes>"
      ]
     },
     "metadata": {
      "needs_background": "light"
     },
     "output_type": "display_data"
    }
   ],
   "source": [
    "plt.figure(figsize=(12, 8))\n",
    "plt.plot(cutoffs, pct_correct_under, label='Undersampled')\n",
    "plt.plot(cutoffs, pct_correct_over, label='Oversampled')\n",
    "plt.ylabel('Accuracy on low-proba games')\n",
    "plt.xlabel('Cutoff for scaled probability for XGB main')\n",
    "plt.title('XGB Under and Over', fontsize=20)\n",
    "plt.legend()\n",
    "plt.grid();"
   ]
  },
  {
   "cell_type": "markdown",
   "metadata": {},
   "source": [
    "The above graph uses the predicted probability of XGB main as the cutoff. What about if we use the models own predicted probability?"
   ]
  },
  {
   "cell_type": "code",
   "execution_count": 111,
   "metadata": {},
   "outputs": [],
   "source": [
    "pct_correct_under = np.zeros_like(cutoffs)\n",
    "\n",
    "for i, c in enumerate(cutoffs):\n",
    "    sub_df = df[df['xgb_undersample_proba_scaled'] > c]\n",
    "    if sub_df.shape[0] > 0:\n",
    "        acc = sub_df[sub_df['xgb_undersample_pred'] == sub_df['home_win']].shape[0] / sub_df.shape[0]\n",
    "    else:\n",
    "        acc = 1\n",
    "    pct_correct_under[i] = acc"
   ]
  },
  {
   "cell_type": "code",
   "execution_count": 112,
   "metadata": {},
   "outputs": [],
   "source": [
    "pct_correct_over = np.zeros_like(cutoffs)\n",
    "\n",
    "for i, c in enumerate(cutoffs):\n",
    "    sub_df = df[df['xgb_oversample_proba_scaled'] > c]\n",
    "    if sub_df.shape[0] > 0:\n",
    "        acc = sub_df[sub_df['xgb_oversample_pred'] == sub_df['home_win']].shape[0] / sub_df.shape[0]\n",
    "    else:\n",
    "        acc = 1\n",
    "    pct_correct_over[i] = acc"
   ]
  },
  {
   "cell_type": "code",
   "execution_count": 113,
   "metadata": {},
   "outputs": [
    {
     "data": {
      "image/png": "[encoded data removed]",
      "text/plain": [
       "<Figure size 864x576 with 1 Axes>"
      ]
     },
     "metadata": {
      "needs_background": "light"
     },
     "output_type": "display_data"
    }
   ],
   "source": [
    "plt.figure(figsize=(12, 8))\n",
    "plt.plot(cutoffs, pct_correct_under, label='Undersampled')\n",
    "plt.plot(cutoffs, pct_correct_over, label='Oversampled')\n",
    "plt.ylabel('Accuracy on low-proba games')\n",
    "plt.xlabel('Cutoff for scaled probability for XGB main')\n",
    "plt.title('XGB Under and Over', fontsize=20)\n",
    "plt.legend()\n",
    "plt.grid();"
   ]
  },
  {
   "cell_type": "markdown",
   "metadata": {},
   "source": [
    "Though both do much better with higher predicted probabilities.\n",
    "\n",
    "So how many games are there where none of the models are confident enough in their predictions to guarantee (say) 65% accuracy or better?"
   ]
  },
  {
   "cell_type": "code",
   "execution_count": 138,
   "metadata": {},
   "outputs": [],
   "source": [
    "def cutoff_by_acc(acc):\n",
    "    main_cutoff = cutoffs[np.where(pct_correct_main>acc)[0][0]]\n",
    "    under_cutoff = cutoffs[np.where(pct_correct_under>acc)[0][0]]\n",
    "    over_cutoff = cutoffs[np.where(pct_correct_over>acc)[0][0]]\n",
    "    return main_cutoff, under_cutoff, over_cutoff"
   ]
  },
  {
   "cell_type": "code",
   "execution_count": 139,
   "metadata": {},
   "outputs": [],
   "source": [
    "main_65_cutoff, under_65_cutoff, over_65_cutoff = cutoff_by_acc(0.65)"
   ]
  },
  {
   "cell_type": "code",
   "execution_count": 140,
   "metadata": {},
   "outputs": [
    {
     "data": {
      "text/plain": [
       "(0.18367346938775508, 0.3061224489795918, 0.3469387755102041)"
      ]
     },
     "execution_count": 140,
     "metadata": {},
     "output_type": "execute_result"
    }
   ],
   "source": [
    "main_65_cutoff, under_65_cutoff, over_65_cutoff"
   ]
  },
  {
   "cell_type": "code",
   "execution_count": 141,
   "metadata": {},
   "outputs": [
    {
     "name": "stdout",
     "output_type": "stream",
     "text": [
      "3241 low probability games (32.61%)\n"
     ]
    }
   ],
   "source": [
    "total_low_proba = df[(df['xgb_main_proba_scaled'] < main_65_cutoff)&(df['xgb_oversample_proba_scaled'] < over_65_cutoff)&(df['xgb_undersample_proba_scaled'] < under_65_cutoff)].shape[0]\n",
    "pct_low_proba = total_low_proba / df.shape[0]\n",
    "\n",
    "print(f'{total_low_proba} low probability games ({100*pct_low_proba:.2f}%)')"
   ]
  },
  {
   "cell_type": "markdown",
   "metadata": {},
   "source": [
    "### Ensemble by predicted probability\n",
    "\n",
    "If XGB has a high enough scaled predicted probability, use its prediction. If not, and one of the other two models (over/under) have a scaled predicted probability above their threshold, use one of their predictions. If none do, use XGB main anyway."
   ]
  },
  {
   "cell_type": "code",
   "execution_count": 146,
   "metadata": {},
   "outputs": [],
   "source": [
    "acc_list = []\n",
    "acc_range = np.linspace(0.5, 0.9, 50)\n",
    "\n",
    "for acc in acc_range:\n",
    "    ensembled_preds = np.zeros_like(y_test)\n",
    "    main_cutoff, under_cutoff, over_cutoff = cutoff_by_acc(acc)\n",
    "    for i in range(df.shape[0]):\n",
    "        if df['xgb_main_proba_scaled'].iloc[i] > main_cutoff:\n",
    "            ensembled_preds[i] = df['xgb_pred'].iloc[i]\n",
    "        elif df['xgb_undersample_proba_scaled'].iloc[i] > under_cutoff:\n",
    "            ensembled_preds[i] = df['xgb_undersample_pred'].iloc[i]\n",
    "        elif df['xgb_oversample_proba_scaled'].iloc[i] > over_cutoff:\n",
    "            ensembled_preds[i] = df['xgb_oversample_pred'].iloc[i]\n",
    "        else:\n",
    "            ensembled_preds[i] = df['xgb_pred'].iloc[i]\n",
    "            \n",
    "    acc_list.append(accuracy_score(y_test, ensembled_preds))"
   ]
  },
  {
   "cell_type": "code",
   "execution_count": 148,
   "metadata": {},
   "outputs": [
    {
     "data": {
      "image/png": "[encoded data removed]",
      "text/plain": [
       "<Figure size 864x576 with 1 Axes>"
      ]
     },
     "metadata": {
      "needs_background": "light"
     },
     "output_type": "display_data"
    }
   ],
   "source": [
    "plt.figure(figsize=(12, 8))\n",
    "plt.plot(acc_range, acc_list);"
   ]
  },
  {
   "cell_type": "markdown",
   "metadata": {},
   "source": [
    "Not great. But what kind of accuracy do we get if we restrict to only those games where at least one has high enough scaled predicted probability?"
   ]
  },
  {
   "cell_type": "code",
   "execution_count": 157,
   "metadata": {},
   "outputs": [],
   "source": [
    "acc_list = []\n",
    "acc_range = np.linspace(0.5, 0.9, 50)\n",
    "\n",
    "for acc in acc_range:\n",
    "    main_cutoff, under_cutoff, over_cutoff = cutoff_by_acc(acc)\n",
    "    sub_df = df[(df['xgb_main_proba_scaled']>main_cutoff)|(df['xgb_undersample_proba_scaled']>under_cutoff)|(df['xgb_oversample_proba_scaled']>over_cutoff)]\n",
    "    y_test_sub = y_test.loc[sub_df.index]\n",
    "    ensembled_preds = np.zeros_like(y_test_sub)\n",
    "    for i in range(sub_df.shape[0]):\n",
    "        if sub_df['xgb_main_proba_scaled'].iloc[i] > main_cutoff:\n",
    "            ensembled_preds[i] = sub_df['xgb_pred'].iloc[i]\n",
    "        elif sub_df['xgb_undersample_proba_scaled'].iloc[i] > under_cutoff:\n",
    "            ensembled_preds[i] = sub_df['xgb_undersample_pred'].iloc[i]\n",
    "        elif sub_df['xgb_oversample_proba_scaled'].iloc[i] > over_cutoff:\n",
    "            ensembled_preds[i] = sub_df['xgb_oversample_pred'].iloc[i]\n",
    "        else:\n",
    "            print('Something went wrong')\n",
    "            \n",
    "    acc_list.append(accuracy_score(y_test_sub, ensembled_preds))"
   ]
  },
  {
   "cell_type": "code",
   "execution_count": 159,
   "metadata": {},
   "outputs": [
    {
     "data": {
      "image/png": "[encoded data removed]",
      "text/plain": [
       "<Figure size 864x576 with 1 Axes>"
      ]
     },
     "metadata": {
      "needs_background": "light"
     },
     "output_type": "display_data"
    }
   ],
   "source": [
    "plt.figure(figsize=(12, 8))\n",
    "plt.plot(acc_range, acc_list)\n",
    "plt.grid();"
   ]
  },
  {
   "cell_type": "markdown",
   "metadata": {},
   "source": [
    "Roughly linear, which is exactly what you would expect.\n",
    "\n",
    "Finally, what happens if we train an XGB model on just the remaining columns? We then ensemble according to whether or not one of the above models has high enough scaled predicted probability."
   ]
  },
  {
   "cell_type": "code",
   "execution_count": 161,
   "metadata": {},
   "outputs": [
    {
     "data": {
      "text/plain": [
       "263"
      ]
     },
     "execution_count": 161,
     "metadata": {},
     "output_type": "execute_result"
    }
   ],
   "source": [
    "df[df['xgb_proba'] < main_65_cutoff].shape[0]"
   ]
  },
  {
   "cell_type": "code",
   "execution_count": 162,
   "metadata": {},
   "outputs": [
    {
     "data": {
      "text/html": [
       "<div>\n",
       "<style scoped>\n",
       "    .dataframe tbody tr th:only-of-type {\n",
       "        vertical-align: middle;\n",
       "    }\n",
       "\n",
       "    .dataframe tbody tr th {\n",
       "        vertical-align: top;\n",
       "    }\n",
       "\n",
       "    .dataframe thead th {\n",
       "        text-align: right;\n",
       "    }\n",
       "</style>\n",
       "<table border=\"1\" class=\"dataframe\">\n",
       "  <thead>\n",
       "    <tr style=\"text-align: right;\">\n",
       "      <th></th>\n",
       "      <th>Y</th>\n",
       "      <th>M</th>\n",
       "      <th>home_team</th>\n",
       "      <th>away_team</th>\n",
       "      <th>home_elo</th>\n",
       "      <th>away_elo</th>\n",
       "      <th>home_avg</th>\n",
       "      <th>away_avg</th>\n",
       "      <th>home_obp</th>\n",
       "      <th>away_obp</th>\n",
       "      <th>...</th>\n",
       "      <th>team_bayes_pct_diff</th>\n",
       "      <th>team_pytha_pct_diff</th>\n",
       "      <th>log_5</th>\n",
       "      <th>team_WHIP_pct_diff</th>\n",
       "      <th>xgb_train_pred</th>\n",
       "      <th>knn_no_batting_train_pred</th>\n",
       "      <th>nn_train_pred</th>\n",
       "      <th>home_win</th>\n",
       "      <th>add</th>\n",
       "      <th>should_drop</th>\n",
       "    </tr>\n",
       "  </thead>\n",
       "  <tbody>\n",
       "    <tr>\n",
       "      <th>0</th>\n",
       "      <td>2001</td>\n",
       "      <td>4</td>\n",
       "      <td>TOR</td>\n",
       "      <td>TEX</td>\n",
       "      <td>1499.563</td>\n",
       "      <td>1479.163</td>\n",
       "      <td>0.273459</td>\n",
       "      <td>0.281519</td>\n",
       "      <td>0.339283</td>\n",
       "      <td>0.349386</td>\n",
       "      <td>...</td>\n",
       "      <td>0.0</td>\n",
       "      <td>0.000248</td>\n",
       "      <td>0.5</td>\n",
       "      <td>-0.083810</td>\n",
       "      <td>0.0</td>\n",
       "      <td>1.0</td>\n",
       "      <td>1</td>\n",
       "      <td>1.0</td>\n",
       "      <td>2.0</td>\n",
       "      <td>1</td>\n",
       "    </tr>\n",
       "    <tr>\n",
       "      <th>1</th>\n",
       "      <td>2001</td>\n",
       "      <td>4</td>\n",
       "      <td>SFN</td>\n",
       "      <td>SDN</td>\n",
       "      <td>1540.841</td>\n",
       "      <td>1492.800</td>\n",
       "      <td>0.276079</td>\n",
       "      <td>0.251828</td>\n",
       "      <td>0.359380</td>\n",
       "      <td>0.327088</td>\n",
       "      <td>...</td>\n",
       "      <td>0.0</td>\n",
       "      <td>0.000248</td>\n",
       "      <td>0.5</td>\n",
       "      <td>0.002172</td>\n",
       "      <td>1.0</td>\n",
       "      <td>1.0</td>\n",
       "      <td>1</td>\n",
       "      <td>1.0</td>\n",
       "      <td>3.0</td>\n",
       "      <td>1</td>\n",
       "    </tr>\n",
       "    <tr>\n",
       "      <th>2</th>\n",
       "      <td>2001</td>\n",
       "      <td>4</td>\n",
       "      <td>SEA</td>\n",
       "      <td>OAK</td>\n",
       "      <td>1519.464</td>\n",
       "      <td>1534.696</td>\n",
       "      <td>0.267280</td>\n",
       "      <td>0.268144</td>\n",
       "      <td>0.358599</td>\n",
       "      <td>0.357409</td>\n",
       "      <td>...</td>\n",
       "      <td>0.0</td>\n",
       "      <td>0.000248</td>\n",
       "      <td>0.5</td>\n",
       "      <td>-0.040048</td>\n",
       "      <td>0.0</td>\n",
       "      <td>1.0</td>\n",
       "      <td>1</td>\n",
       "      <td>1.0</td>\n",
       "      <td>2.0</td>\n",
       "      <td>1</td>\n",
       "    </tr>\n",
       "    <tr>\n",
       "      <th>3</th>\n",
       "      <td>2001</td>\n",
       "      <td>4</td>\n",
       "      <td>NYA</td>\n",
       "      <td>KCA</td>\n",
       "      <td>1529.511</td>\n",
       "      <td>1493.152</td>\n",
       "      <td>0.275080</td>\n",
       "      <td>0.285268</td>\n",
       "      <td>0.351633</td>\n",
       "      <td>0.344703</td>\n",
       "      <td>...</td>\n",
       "      <td>0.0</td>\n",
       "      <td>0.000248</td>\n",
       "      <td>0.5</td>\n",
       "      <td>-0.107743</td>\n",
       "      <td>1.0</td>\n",
       "      <td>1.0</td>\n",
       "      <td>1</td>\n",
       "      <td>1.0</td>\n",
       "      <td>3.0</td>\n",
       "      <td>1</td>\n",
       "    </tr>\n",
       "    <tr>\n",
       "      <th>4</th>\n",
       "      <td>2001</td>\n",
       "      <td>4</td>\n",
       "      <td>LAN</td>\n",
       "      <td>MIL</td>\n",
       "      <td>1515.925</td>\n",
       "      <td>1490.396</td>\n",
       "      <td>0.254198</td>\n",
       "      <td>0.243537</td>\n",
       "      <td>0.336984</td>\n",
       "      <td>0.322708</td>\n",
       "      <td>...</td>\n",
       "      <td>0.0</td>\n",
       "      <td>0.000248</td>\n",
       "      <td>0.5</td>\n",
       "      <td>-0.110116</td>\n",
       "      <td>1.0</td>\n",
       "      <td>1.0</td>\n",
       "      <td>1</td>\n",
       "      <td>1.0</td>\n",
       "      <td>3.0</td>\n",
       "      <td>1</td>\n",
       "    </tr>\n",
       "  </tbody>\n",
       "</table>\n",
       "<p>5 rows × 91 columns</p>\n",
       "</div>"
      ],
      "text/plain": [
       "      Y  M home_team away_team  home_elo  away_elo  home_avg  away_avg  \\\n",
       "0  2001  4       TOR       TEX  1499.563  1479.163  0.273459  0.281519   \n",
       "1  2001  4       SFN       SDN  1540.841  1492.800  0.276079  0.251828   \n",
       "2  2001  4       SEA       OAK  1519.464  1534.696  0.267280  0.268144   \n",
       "3  2001  4       NYA       KCA  1529.511  1493.152  0.275080  0.285268   \n",
       "4  2001  4       LAN       MIL  1515.925  1490.396  0.254198  0.243537   \n",
       "\n",
       "   home_obp  away_obp  ...  team_bayes_pct_diff  team_pytha_pct_diff  log_5  \\\n",
       "0  0.339283  0.349386  ...                  0.0             0.000248    0.5   \n",
       "1  0.359380  0.327088  ...                  0.0             0.000248    0.5   \n",
       "2  0.358599  0.357409  ...                  0.0             0.000248    0.5   \n",
       "3  0.351633  0.344703  ...                  0.0             0.000248    0.5   \n",
       "4  0.336984  0.322708  ...                  0.0             0.000248    0.5   \n",
       "\n",
       "   team_WHIP_pct_diff  xgb_train_pred  knn_no_batting_train_pred  \\\n",
       "0           -0.083810             0.0                        1.0   \n",
       "1            0.002172             1.0                        1.0   \n",
       "2           -0.040048             0.0                        1.0   \n",
       "3           -0.107743             1.0                        1.0   \n",
       "4           -0.110116             1.0                        1.0   \n",
       "\n",
       "   nn_train_pred  home_win  add  should_drop  \n",
       "0              1       1.0  2.0            1  \n",
       "1              1       1.0  3.0            1  \n",
       "2              1       1.0  2.0            1  \n",
       "3              1       1.0  3.0            1  \n",
       "4              1       1.0  3.0            1  \n",
       "\n",
       "[5 rows x 91 columns]"
      ]
     },
     "execution_count": 162,
     "metadata": {},
     "output_type": "execute_result"
    }
   ],
   "source": [
    "train_df.head()"
   ]
  },
  {
   "cell_type": "code",
   "execution_count": 163,
   "metadata": {},
   "outputs": [
    {
     "data": {
      "text/plain": [
       "Index(['Y', 'M', 'home_team', 'away_team', 'home_elo', 'away_elo', 'home_avg',\n",
       "       'away_avg', 'home_obp', 'away_obp', 'home_slg', 'away_slg', 'home_iso',\n",
       "       'away_iso', 'elo_diff', 'elo_pct_diff', 'avg_diff', 'obp_diff',\n",
       "       'slg_diff', 'team_avg_pct_diff', 'team_obp_pct_diff',\n",
       "       'team_slg_pct_diff', 'home_rest', 'away_rest',\n",
       "       'home_W-L-pct_offset1year', 'home_Avg_Attendance_offset1year',\n",
       "       'home_Rank_offset1year', 'home_R_offset1year', 'home_RA_offset1year',\n",
       "       'home_FP_offset1year', 'away_W-L-pct_offset1year',\n",
       "       'away_Avg_Attendance_offset1year', 'away_Rank_offset1year',\n",
       "       'away_R_offset1year', 'away_RA_offset1year', 'away_FP_offset1year',\n",
       "       'home_WHIP_offset1year', 'home_ERA_offset1year',\n",
       "       'away_WHIP_offset1year', 'away_ERA_offset1year',\n",
       "       'home_pitcher_season_game', 'home_pitcher_WHIP_avg_162games',\n",
       "       'home_pitcher_ERA_avg_162games', 'home_pitcher_IP_avg_162games',\n",
       "       'home_pitcher_WPA_avg_162games', 'away_pitcher_season_game',\n",
       "       'away_pitcher_WHIP_avg_162games', 'away_pitcher_ERA_avg_162games',\n",
       "       'away_pitcher_IP_avg_162games', 'away_pitcher_WPA_avg_162games',\n",
       "       'home_total_R', 'home_total_RA', 'away_total_R', 'away_total_RA',\n",
       "       'home_win_pct', 'away_win_pct', 'home_pythag_expect',\n",
       "       'away_pythag_expect', 'home_win_diff', 'away_win_diff',\n",
       "       'home_previous_WL', 'away_previous_WL', 'home_bayes_win',\n",
       "       'away_bayes_win', 'home_win_diff_bayes', 'away_win_diff_bayes',\n",
       "       'home_ops', 'away_ops', 'home_RD', 'away_RD', 'pitcher_WHIP_pct_diff',\n",
       "       'pitcher_ERA_pct_diff', 'pitcher_IP_pct_diff', 'team_W-L_pct_diff',\n",
       "       'team_ops_pct_diff', 'team_RD_pct_diff', 'team_FP_pct_diff',\n",
       "       'team_Rank_pct_diff', 'team_ERA_pct_diff', 'team_RA_pct_diff',\n",
       "       'team_R_pct_diff', 'team_bayes_pct_diff', 'team_pytha_pct_diff',\n",
       "       'log_5', 'team_WHIP_pct_diff', 'xgb_train_pred',\n",
       "       'knn_no_batting_train_pred', 'nn_train_pred', 'home_win', 'add',\n",
       "       'should_drop'],\n",
       "      dtype='object')"
      ]
     },
     "execution_count": 163,
     "metadata": {},
     "output_type": "execute_result"
    }
   ],
   "source": [
    "train_df.columns"
   ]
  },
  {
   "cell_type": "code",
   "execution_count": null,
   "metadata": {},
   "outputs": [],
   "source": []
  }
 ],
 "metadata": {
  "kernelspec": {
   "display_name": "Python 3",
   "language": "python",
   "name": "python3"
  },
  "language_info": {
   "codemirror_mode": {
    "name": "ipython",
    "version": 3
   },
   "file_extension": ".py",
   "mimetype": "text/x-python",
   "name": "python",
   "nbconvert_exporter": "python",
   "pygments_lexer": "ipython3",
   "version": "3.8.5"
  }
 },
 "nbformat": 4,
 "nbformat_minor": 4
}
