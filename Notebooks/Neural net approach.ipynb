{
 "cells": [
  {
   "cell_type": "markdown",
   "metadata": {},
   "source": [
    "# Neural net approach\n",
    "\n",
    "The goal of this notebook is to try using neural nets (in particular the [`tabular` nets from `fastai`](https://docs.fast.ai/tutorial.tabular)). While just straight-up using a NN is somewhat problematic in terms of explainability, my goal is just to see what kind of accuracy we can get. If there's no real improvement over what we're seeing with XGB then there's no point fussing with NNs anymore. If there _is_ an improvement, then we should turn our attention to this."
   ]
  },
  {
   "cell_type": "code",
   "execution_count": 187,
   "metadata": {},
   "outputs": [],
   "source": [
    "import pandas as pd\n",
    "import numpy as np\n",
    "\n",
    "from utils.data_loader import Dataset\n",
    "\n",
    "import tensorflow as tf\n",
    "from tensorflow.keras.layers import Dense, Dropout\n",
    "from tensorflow.keras.layers.experimental import preprocessing\n",
    "\n",
    "from sklearn.preprocessing import LabelEncoder"
   ]
  },
  {
   "cell_type": "code",
   "execution_count": 188,
   "metadata": {},
   "outputs": [],
   "source": [
    "def load_ds(train_or_test='train'):\n",
    "    if train_or_test == 'train':\n",
    "        start_date = '2000-01-01'\n",
    "        end_date = '2015-01-01'\n",
    "    else:\n",
    "        start_date = '2015-01-01'\n",
    "        end_date = '2020-01-01'\n",
    "        \n",
    "    ds = Dataset('tf')\n",
    "    ds.load_games(start_date, end_date)\n",
    "    ds.add_team_stats(cols=['Avg_Attendance', 'W-L-pct'])\n",
    "    ds.add_team_pitching_stats(cols=['WHIP', 'ERA'])\n",
    "    ds.add_pitcher_stats(cols=['WHIP', 'ERA', 'IP']);\n",
    "\n",
    "    ds.data = ds.data.drop(['home_pitcher', 'away_pitcher', 'date'], axis='columns')\n",
    "    \n",
    "    bucketized_cols = ['D', 'home_rest', 'away_rest', \n",
    "                   'pitcher_away_IP_offset1game', 'pitcher_home_IP_offset1game',\n",
    "                  'home_team_season_game_num', 'away_team_season_game_num',\n",
    "                  'home_W-L-pct_offset1year', 'away_W-L-pct_offset1year']\n",
    "    embedding_cols = ['home_team', 'away_team', 'Y', 'M']\n",
    "    numeric_cols = list(set(ds.data.columns) - set(bucketized_cols).union(set(embedding_cols)))\n",
    "    numeric_cols.remove('home_win')\n",
    "\n",
    "    # Column groups used for making crossed feature columns\n",
    "    date_cols = ['Y', 'M', 'D']\n",
    "    home_cols = [c for c in ds.data.columns if c.startswith('home_')]\n",
    "\n",
    "    home_cols.remove('home_win')\n",
    "    away_cols = [c for c in ds.data.columns if c.startswith('away_')]\n",
    "\n",
    "    home_pitching_cols = [c for c in ds.data.columns if c.startswith('pitcher_home_')]\n",
    "    home_pitching_cols.extend(['home_WHIP_offset1year', 'home_ERA_offset1year'])\n",
    "    away_pitching_cols = [c for c in ds.data.columns if c.startswith('pitcher_away_')]\n",
    "    away_pitching_cols.extend(['away_WHIP_offset1year', 'away_ERA_offset1year'])\n",
    "    \n",
    "    assert len(bucketized_cols) + len(embedding_cols) + len(numeric_cols) + 1 == len(ds.data.columns)\n",
    "    \n",
    "    for c in ds.data.columns:\n",
    "        if ds.data[c].isin([-np.inf, np.inf]).sum() > 0:\n",
    "            ds.data[c] = ds.data[c].replace([-np.inf, np.inf], None)\n",
    "        if ds.data[c].isna().sum() > 0:\n",
    "            med = ds.data[c].median()\n",
    "            ds.data[c] = ds.data[c].fillna(med)\n",
    "            \n",
    "    le = LabelEncoder()\n",
    "    ds.data['away_team'] = le.fit_transform(ds.data['away_team'])\n",
    "    ds.data['home_team'] = le.transform(ds.data['home_team'])\n",
    "    \n",
    "    for c in embedding_cols:\n",
    "        ds.data[c] = ds.data[c].astype(int)\n",
    "        \n",
    "    assert ds.data.isna().sum().sum() == 0\n",
    "    \n",
    "    y = ds.data.pop('home_win')\n",
    "    y = y.astype(int)\n",
    "    X = ds.data\n",
    "    \n",
    "    ds = tf.data.Dataset.from_tensor_slices((dict(X), y)).batch(128)\n",
    "    return ds"
   ]
  },
  {
   "cell_type": "code",
   "execution_count": 189,
   "metadata": {},
   "outputs": [],
   "source": [
    "train_ds = load_ds('train')\n",
    "test_ds = load_ds('test')"
   ]
  },
  {
   "cell_type": "markdown",
   "metadata": {},
   "source": [
    "## Preparing columns"
   ]
  },
  {
   "cell_type": "code",
   "execution_count": 190,
   "metadata": {},
   "outputs": [],
   "source": [
    "# feature_cols = []\n",
    "\n",
    "# for c in numeric_cols:\n",
    "#     feature_cols.append(tf.feature_column.numeric_column(c))\n",
    "    \n",
    "# for c in bucketized_cols:\n",
    "#     cuts = list(np.linspace(ds.data[c].min()-1, ds.data[c].max()+1, 10))\n",
    "#     numeric_c = tf.feature_column.numeric_column(c)\n",
    "#     feature_cols.append(tf.feature_column.bucketized_column(numeric_c, boundaries=cuts))\n",
    "    \n",
    "# for c in embedding_cols:\n",
    "#     embedded_c = tf.feature_column.categorical_column_with_vocabulary_list(c, X[c].unique())\n",
    "#     feature_cols.append(tf.feature_column.embedding_column(embedded_c, dimension=10))\n",
    "    \n",
    "# feature_layer = tf.keras.layers.DenseFeatures(feature_cols)"
   ]
  },
  {
   "cell_type": "markdown",
   "metadata": {},
   "source": [
    "## Preprocessing layers"
   ]
  },
  {
   "cell_type": "code",
   "execution_count": 191,
   "metadata": {},
   "outputs": [],
   "source": [
    "def get_normalization_layer(name, dataset):\n",
    "    # Create a Normalization layer for our feature.\n",
    "    normalizer = preprocessing.Normalization()\n",
    "\n",
    "    # Prepare a Dataset that only yields our feature.\n",
    "    feature_ds = dataset.map(lambda x, y: x[name])\n",
    "\n",
    "    # Learn the statistics of the data.\n",
    "    normalizer.adapt(feature_ds)\n",
    "\n",
    "    return normalizer"
   ]
  },
  {
   "cell_type": "code",
   "execution_count": 253,
   "metadata": {},
   "outputs": [],
   "source": [
    "def get_category_encoding_layer(name, dataset, dtype, max_tokens=None):\n",
    "    # Create a StringLookup layer which will turn strings into integer indices\n",
    "    if dtype == 'string':\n",
    "        index = preprocessing.StringLookup(max_tokens=max_tokens)\n",
    "    else:\n",
    "        index = preprocessing.IntegerLookup(max_values=max_tokens)\n",
    "\n",
    "    # Prepare a Dataset that only yields our feature\n",
    "    feature_ds = dataset.map(lambda x, y: x[name])\n",
    "\n",
    "    # Learn the set of possible values and assign them a fixed integer index.\n",
    "    index.adapt(feature_ds)\n",
    "\n",
    "    # Create a Discretization for our integer indices.\n",
    "    encoder = preprocessing.CategoryEncoding(max_tokens=index.vocab_size())\n",
    "\n",
    "    # Prepare a Dataset that only yields our feature.\n",
    "    feature_ds = feature_ds.map(index)\n",
    "\n",
    "    # Learn the space of possible indices.\n",
    "    encoder.adapt(feature_ds)\n",
    "\n",
    "    # Apply one-hot encoding to our indices. The lambda function captures the\n",
    "    # layer so we can use them, or include them in the functional model later.\n",
    "    return lambda feature: encoder(index(feature))"
   ]
  },
  {
   "cell_type": "code",
   "execution_count": 254,
   "metadata": {},
   "outputs": [],
   "source": [
    "def prep_columns(dataset, embedding_dims=[10]):\n",
    "    cont_inputs = []\n",
    "    cat_inputs = []\n",
    "    encoded_cont_features = []\n",
    "    encoded_cat_features = []\n",
    "    if isinstance(embedding_dims, int):\n",
    "        embedding_dims = [embedding_dim] * len(embedding_cols)\n",
    "    assert len(embedding_dims) == len(embedding_cols), 'embedding_dims must be an integer or a list with the same length as embedding_cols'\n",
    "\n",
    "    # Numeric features.\n",
    "    for header in numeric_cols + bucketized_cols:\n",
    "        numeric_col = tf.keras.Input(shape=(1,), name=header)\n",
    "        normalization_layer = get_normalization_layer(header, dataset)\n",
    "        encoded_numeric_col = normalization_layer(numeric_col)\n",
    "        encoded_numeric_col = tf.keras.layers.Dropout(0.1)(encoded_numeric_col)\n",
    "        cont_inputs.append(numeric_col)\n",
    "        encoded_cont_features.append(encoded_numeric_col)\n",
    "\n",
    "    # Categorical features encoded as ints.\n",
    "    for i, header in enumerate(embedding_cols):\n",
    "        categorical_col = tf.keras.Input(shape=(1,), name=header, dtype='int64')\n",
    "        encoding_layer = get_category_encoding_layer(header, dataset, \n",
    "                                                     dtype='int', \n",
    "                                                     max_tokens=100)\n",
    "        encoded_categorical_col = encoding_layer(categorical_col)\n",
    "        encoded_categorical_col = tf.keras.layers.Embedding(100, embedding_dims[i], name=f'{header}_embedding')(encoded_categorical_col)\n",
    "        encoded_categorical_col = tf.keras.layers.Flatten()(encoded_categorical_col)\n",
    "        cat_inputs.append(categorical_col)\n",
    "        encoded_cat_features.append(encoded_categorical_col)\n",
    "        \n",
    "    all_inputs = cont_inputs + cat_inputs\n",
    "        \n",
    "    return all_inputs, encoded_cont_features, encoded_cat_features"
   ]
  },
  {
   "cell_type": "code",
   "execution_count": 255,
   "metadata": {},
   "outputs": [
    {
     "ename": "AttributeError",
     "evalue": "'CategoryEncoding' object has no attribute 'get_vocabulary'",
     "output_type": "error",
     "traceback": [
      "\u001b[0;31m---------------------------------------------------------------------------\u001b[0m",
      "\u001b[0;31mAttributeError\u001b[0m                            Traceback (most recent call last)",
      "\u001b[0;32m<ipython-input-255-69d97cbf5b75>\u001b[0m in \u001b[0;36m<module>\u001b[0;34m\u001b[0m\n\u001b[0;32m----> 1\u001b[0;31m \u001b[0mall_inputs\u001b[0m\u001b[0;34m,\u001b[0m \u001b[0mencoded_cont_features\u001b[0m\u001b[0;34m,\u001b[0m \u001b[0mencoded_cat_features\u001b[0m \u001b[0;34m=\u001b[0m \u001b[0mprep_columns\u001b[0m\u001b[0;34m(\u001b[0m\u001b[0mtrain_ds\u001b[0m\u001b[0;34m,\u001b[0m \u001b[0;36m10\u001b[0m\u001b[0;34m)\u001b[0m\u001b[0;34m\u001b[0m\u001b[0;34m\u001b[0m\u001b[0m\n\u001b[0m",
      "\u001b[0;32m<ipython-input-254-dc33bb723623>\u001b[0m in \u001b[0;36mprep_columns\u001b[0;34m(dataset, embedding_dims)\u001b[0m\n\u001b[1;32m     20\u001b[0m     \u001b[0;32mfor\u001b[0m \u001b[0mi\u001b[0m\u001b[0;34m,\u001b[0m \u001b[0mheader\u001b[0m \u001b[0;32min\u001b[0m \u001b[0menumerate\u001b[0m\u001b[0;34m(\u001b[0m\u001b[0membedding_cols\u001b[0m\u001b[0;34m)\u001b[0m\u001b[0;34m:\u001b[0m\u001b[0;34m\u001b[0m\u001b[0;34m\u001b[0m\u001b[0m\n\u001b[1;32m     21\u001b[0m         \u001b[0mcategorical_col\u001b[0m \u001b[0;34m=\u001b[0m \u001b[0mtf\u001b[0m\u001b[0;34m.\u001b[0m\u001b[0mkeras\u001b[0m\u001b[0;34m.\u001b[0m\u001b[0mInput\u001b[0m\u001b[0;34m(\u001b[0m\u001b[0mshape\u001b[0m\u001b[0;34m=\u001b[0m\u001b[0;34m(\u001b[0m\u001b[0;36m1\u001b[0m\u001b[0;34m,\u001b[0m\u001b[0;34m)\u001b[0m\u001b[0;34m,\u001b[0m \u001b[0mname\u001b[0m\u001b[0;34m=\u001b[0m\u001b[0mheader\u001b[0m\u001b[0;34m,\u001b[0m \u001b[0mdtype\u001b[0m\u001b[0;34m=\u001b[0m\u001b[0;34m'int64'\u001b[0m\u001b[0;34m)\u001b[0m\u001b[0;34m\u001b[0m\u001b[0;34m\u001b[0m\u001b[0m\n\u001b[0;32m---> 22\u001b[0;31m         encoding_layer = get_category_encoding_layer(header, dataset, \n\u001b[0m\u001b[1;32m     23\u001b[0m                                                      \u001b[0mdtype\u001b[0m\u001b[0;34m=\u001b[0m\u001b[0;34m'int'\u001b[0m\u001b[0;34m,\u001b[0m\u001b[0;34m\u001b[0m\u001b[0;34m\u001b[0m\u001b[0m\n\u001b[1;32m     24\u001b[0m                                                      max_tokens=100)\n",
      "\u001b[0;32m<ipython-input-253-2e0fb0447753>\u001b[0m in \u001b[0;36mget_category_encoding_layer\u001b[0;34m(name, dataset, dtype, max_tokens)\u001b[0m\n\u001b[1;32m     22\u001b[0m \u001b[0;34m\u001b[0m\u001b[0m\n\u001b[1;32m     23\u001b[0m     \u001b[0;32mif\u001b[0m \u001b[0mname\u001b[0m \u001b[0;34m==\u001b[0m \u001b[0;34m'home_team'\u001b[0m\u001b[0;34m:\u001b[0m\u001b[0;34m\u001b[0m\u001b[0;34m\u001b[0m\u001b[0m\n\u001b[0;32m---> 24\u001b[0;31m         \u001b[0mprint\u001b[0m\u001b[0;34m(\u001b[0m\u001b[0mencoder\u001b[0m\u001b[0;34m.\u001b[0m\u001b[0mget_vocabulary\u001b[0m\u001b[0;34m(\u001b[0m\u001b[0;34m)\u001b[0m\u001b[0;34m)\u001b[0m\u001b[0;34m\u001b[0m\u001b[0;34m\u001b[0m\u001b[0m\n\u001b[0m\u001b[1;32m     25\u001b[0m \u001b[0;34m\u001b[0m\u001b[0m\n\u001b[1;32m     26\u001b[0m     \u001b[0;31m# Apply one-hot encoding to our indices. The lambda function captures the\u001b[0m\u001b[0;34m\u001b[0m\u001b[0;34m\u001b[0m\u001b[0;34m\u001b[0m\u001b[0m\n",
      "\u001b[0;31mAttributeError\u001b[0m: 'CategoryEncoding' object has no attribute 'get_vocabulary'"
     ]
    }
   ],
   "source": [
    "all_inputs, encoded_cont_features, encoded_cat_features = prep_columns(train_ds, 10)"
   ]
  },
  {
   "cell_type": "markdown",
   "metadata": {},
   "source": [
    "## Creating the model"
   ]
  },
  {
   "cell_type": "code",
   "execution_count": 245,
   "metadata": {},
   "outputs": [],
   "source": [
    "x = tf.keras.layers.concatenate(encoded_cat_features + encoded_cont_features)\n",
    "x = tf.keras.layers.Dense(128, activation=\"relu\")(x)\n",
    "x = tf.keras.layers.BatchNormalization()(x)\n",
    "x = tf.keras.layers.Dropout(0.5)(x)\n",
    "x = tf.keras.layers.Dense(64, activation=\"relu\")(x)\n",
    "x = tf.keras.layers.BatchNormalization()(x)\n",
    "x = tf.keras.layers.Dropout(0.5)(x)\n",
    "output = tf.keras.layers.Dense(1)(x)\n",
    "model = tf.keras.Model(all_inputs, output)\n",
    "model.compile(optimizer='adam',\n",
    "              loss=tf.keras.losses.BinaryCrossentropy(from_logits=True),\n",
    "              metrics=[\"accuracy\"])"
   ]
  },
  {
   "cell_type": "code",
   "execution_count": 246,
   "metadata": {},
   "outputs": [],
   "source": [
    "# model = tf.keras.Sequential([\n",
    "#   feature_layer,\n",
    "#   Dense(256, activation='relu'),\n",
    "#   Dense(256, activation='relu'),\n",
    "#   Dropout(.1),\n",
    "#   Dense(1)\n",
    "# ])\n",
    "\n",
    "# model.compile(optimizer='adam',\n",
    "#               loss=tf.keras.losses.BinaryCrossentropy(from_logits=True),\n",
    "#               metrics=['accuracy'])"
   ]
  },
  {
   "cell_type": "code",
   "execution_count": 247,
   "metadata": {},
   "outputs": [
    {
     "name": "stdout",
     "output_type": "stream",
     "text": [
      "Epoch 1/20\n",
      "266/266 [==============================] - 5s 12ms/step - loss: 0.8545 - accuracy: 0.5495 - val_loss: 0.6512 - val_accuracy: 0.5685\n",
      "Epoch 2/20\n",
      "266/266 [==============================] - 2s 9ms/step - loss: 0.6881 - accuracy: 0.5611 - val_loss: 0.6483 - val_accuracy: 0.5818\n",
      "Epoch 3/20\n",
      "266/266 [==============================] - 3s 10ms/step - loss: 0.6547 - accuracy: 0.5703 - val_loss: 0.6475 - val_accuracy: 0.5902\n",
      "Epoch 4/20\n",
      "266/266 [==============================] - 2s 9ms/step - loss: 0.6480 - accuracy: 0.5738 - val_loss: 0.6482 - val_accuracy: 0.5935\n",
      "Epoch 5/20\n",
      "266/266 [==============================] - 2s 9ms/step - loss: 0.6442 - accuracy: 0.5827 - val_loss: 0.6487 - val_accuracy: 0.5939\n",
      "Epoch 6/20\n",
      "266/266 [==============================] - 2s 9ms/step - loss: 0.6451 - accuracy: 0.5850 - val_loss: 0.6485 - val_accuracy: 0.5924\n",
      "Epoch 7/20\n",
      "266/266 [==============================] - 2s 9ms/step - loss: 0.6437 - accuracy: 0.5849 - val_loss: 0.6484 - val_accuracy: 0.5979\n",
      "Epoch 8/20\n",
      "266/266 [==============================] - 2s 9ms/step - loss: 0.6421 - accuracy: 0.5895 - val_loss: 0.6495 - val_accuracy: 0.5988\n",
      "Epoch 9/20\n",
      "266/266 [==============================] - 3s 9ms/step - loss: 0.6416 - accuracy: 0.5899 - val_loss: 0.6504 - val_accuracy: 0.6009\n",
      "Epoch 10/20\n",
      "266/266 [==============================] - 2s 9ms/step - loss: 0.6419 - accuracy: 0.5913 - val_loss: 0.6508 - val_accuracy: 0.6010\n",
      "Epoch 11/20\n",
      "266/266 [==============================] - 2s 9ms/step - loss: 0.6394 - accuracy: 0.5935 - val_loss: 0.6509 - val_accuracy: 0.6011\n",
      "Epoch 12/20\n",
      "266/266 [==============================] - 3s 10ms/step - loss: 0.6384 - accuracy: 0.5958 - val_loss: 0.6529 - val_accuracy: 0.6028\n",
      "Epoch 13/20\n",
      "266/266 [==============================] - 3s 9ms/step - loss: 0.6374 - accuracy: 0.5985 - val_loss: 0.6510 - val_accuracy: 0.5988\n",
      "Epoch 14/20\n",
      "266/266 [==============================] - 2s 9ms/step - loss: 0.6387 - accuracy: 0.5989 - val_loss: 0.6560 - val_accuracy: 0.6085\n",
      "Epoch 15/20\n",
      "266/266 [==============================] - 3s 10ms/step - loss: 0.6348 - accuracy: 0.6028 - val_loss: 0.6554 - val_accuracy: 0.6064\n",
      "Epoch 16/20\n",
      "266/266 [==============================] - 3s 9ms/step - loss: 0.6337 - accuracy: 0.6010 - val_loss: 0.6567 - val_accuracy: 0.6094\n",
      "Epoch 17/20\n",
      "266/266 [==============================] - 3s 9ms/step - loss: 0.6330 - accuracy: 0.6067 - val_loss: 0.6563 - val_accuracy: 0.6076\n",
      "Epoch 18/20\n",
      "266/266 [==============================] - 3s 10ms/step - loss: 0.6320 - accuracy: 0.6044 - val_loss: 0.6609 - val_accuracy: 0.6109\n",
      "Epoch 19/20\n",
      "266/266 [==============================] - 3s 9ms/step - loss: 0.6299 - accuracy: 0.6064 - val_loss: 0.6598 - val_accuracy: 0.6113\n",
      "Epoch 20/20\n",
      "266/266 [==============================] - 3s 10ms/step - loss: 0.6286 - accuracy: 0.6152 - val_loss: 0.6608 - val_accuracy: 0.6087\n"
     ]
    },
    {
     "data": {
      "text/plain": [
       "<tensorflow.python.keras.callbacks.History at 0x166488ee0>"
      ]
     },
     "execution_count": 247,
     "metadata": {},
     "output_type": "execute_result"
    }
   ],
   "source": [
    "model.fit(train_ds, epochs=20, validation_data=test_ds)"
   ]
  },
  {
   "cell_type": "code",
   "execution_count": 248,
   "metadata": {},
   "outputs": [
    {
     "name": "stdout",
     "output_type": "stream",
     "text": [
      "95/95 [==============================] - 1s 5ms/step - loss: 0.6608 - accuracy: 0.6087\n",
      "Test accuracy = 60.87%\n"
     ]
    }
   ],
   "source": [
    "loss, acc = model.evaluate(test_ds)\n",
    "print(f'Test accuracy = {100*acc:.2f}%')"
   ]
  },
  {
   "cell_type": "markdown",
   "metadata": {},
   "source": [
    "## Word embeddings\n",
    "\n",
    "Get the team embeddings from the embedding layers. Following [this tutorial](https://www.tensorflow.org/tutorials/text/word_embeddings#retrieve_the_trained_word_embeddings_and_save_them_to_disk)."
   ]
  },
  {
   "cell_type": "code",
   "execution_count": 249,
   "metadata": {},
   "outputs": [],
   "source": [
    "home_team_weights = model.get_layer('home_team_embedding').get_weights()[0]"
   ]
  },
  {
   "cell_type": "code",
   "execution_count": 251,
   "metadata": {},
   "outputs": [
    {
     "data": {
      "text/plain": [
       "(100, 10)"
      ]
     },
     "execution_count": 251,
     "metadata": {},
     "output_type": "execute_result"
    }
   ],
   "source": [
    "home_team_weights.shape"
   ]
  },
  {
   "cell_type": "code",
   "execution_count": null,
   "metadata": {},
   "outputs": [],
   "source": []
  },
  {
   "cell_type": "code",
   "execution_count": null,
   "metadata": {},
   "outputs": [],
   "source": []
  },
  {
   "cell_type": "code",
   "execution_count": null,
   "metadata": {},
   "outputs": [],
   "source": []
  },
  {
   "cell_type": "markdown",
   "metadata": {},
   "source": [
    "## fastai"
   ]
  },
  {
   "cell_type": "code",
   "execution_count": 96,
   "metadata": {},
   "outputs": [],
   "source": [
    "from fastai.tabular.all import *"
   ]
  },
  {
   "cell_type": "code",
   "execution_count": 100,
   "metadata": {},
   "outputs": [],
   "source": [
    "ds = Dataset('tf')\n",
    "ds.load_games()\n",
    "ds.add_team_stats(cols=['Avg_Attendance', 'W-L-pct'])\n",
    "ds.add_team_pitching_stats(cols=['WHIP', 'ERA'])\n",
    "ds.add_pitcher_stats(cols=['WHIP', 'ERA', 'IP']);\n",
    "\n",
    "ds.data = ds.data.drop(['home_pitcher', 'away_pitcher', 'date'], axis='columns')\n",
    "\n",
    "for c in ds.data.columns:\n",
    "    if ds.data[c].isin([-np.inf, np.inf]).sum() > 0:\n",
    "        ds.data[c] = ds.data[c].replace([-np.inf, np.inf], None)\n",
    "    if ds.data[c].isna().sum() > 0:\n",
    "        med = ds.data[c].median()\n",
    "        ds.data[c] = ds.data[c].fillna(med)\n",
    "            \n",
    "le = LabelEncoder()\n",
    "ds.data['away_team'] = le.fit_transform(ds.data['away_team'])\n",
    "ds.data['home_team'] = le.transform(ds.data['home_team'])\n",
    "\n",
    "for c in embedding_cols:\n",
    "    ds.data[c] = ds.data[c].astype(int)\n",
    "\n",
    "assert ds.data.isna().sum().sum() == 0"
   ]
  },
  {
   "cell_type": "code",
   "execution_count": 129,
   "metadata": {},
   "outputs": [],
   "source": [
    "cat_cols = list(ds.data.loc[:,ds.data.nunique().sort_values() < 100].columns)\n",
    "cont_cols = list(set(ds.data.columns) - set(cat_cols))\n",
    "cat_cols.remove('home_win')"
   ]
  },
  {
   "cell_type": "code",
   "execution_count": 130,
   "metadata": {},
   "outputs": [],
   "source": [
    "# bucketized_cols = ['D', 'home_rest', 'away_rest', \n",
    "#                    'pitcher_away_IP_offset1game', 'pitcher_home_IP_offset1game',\n",
    "#                   'home_team_season_game_num', 'away_team_season_game_num',\n",
    "#                   'home_W-L-pct_offset1year', 'away_W-L-pct_offset1year']\n",
    "# embedding_cols = ['home_team', 'away_team', 'Y', 'M']\n",
    "# numeric_cols = list(set(ds.data.columns) - set(bucketized_cols).union(set(embedding_cols)))\n",
    "# numeric_cols.remove('home_win')"
   ]
  },
  {
   "cell_type": "code",
   "execution_count": 131,
   "metadata": {},
   "outputs": [],
   "source": [
    "# cont_names = bucketized_cols + numeric_cols"
   ]
  },
  {
   "cell_type": "code",
   "execution_count": 132,
   "metadata": {},
   "outputs": [],
   "source": [
    "dls = TabularDataLoaders.from_df(ds.data, y_names='home_win', \n",
    "                                 cat_names=cat_cols, cont_names=cont_cols,\n",
    "                                procs=[Categorify, FillMissing, Normalize])"
   ]
  },
  {
   "cell_type": "code",
   "execution_count": 133,
   "metadata": {},
   "outputs": [],
   "source": [
    "learn = tabular_learner(dls, metrics=accuracy, loss_func=BCEWithLogitsLossFlat())"
   ]
  },
  {
   "cell_type": "code",
   "execution_count": 134,
   "metadata": {},
   "outputs": [
    {
     "data": {
      "text/html": [],
      "text/plain": [
       "<IPython.core.display.HTML object>"
      ]
     },
     "metadata": {},
     "output_type": "display_data"
    },
    {
     "data": {
      "text/plain": [
       "SuggestedLRs(lr_min=0.0006309573538601399, lr_steep=0.9120108485221863)"
      ]
     },
     "execution_count": 134,
     "metadata": {},
     "output_type": "execute_result"
    },
    {
     "data": {
      "image/png": "[encoded data removed]",
      "text/plain": [
       "<Figure size 432x288 with 1 Axes>"
      ]
     },
     "metadata": {
      "needs_background": "light"
     },
     "output_type": "display_data"
    }
   ],
   "source": [
    "learn.lr_find()"
   ]
  },
  {
   "cell_type": "code",
   "execution_count": 136,
   "metadata": {},
   "outputs": [
    {
     "data": {
      "text/html": [
       "<table border=\"1\" class=\"dataframe\">\n",
       "  <thead>\n",
       "    <tr style=\"text-align: left;\">\n",
       "      <th>epoch</th>\n",
       "      <th>train_loss</th>\n",
       "      <th>valid_loss</th>\n",
       "      <th>accuracy</th>\n",
       "      <th>time</th>\n",
       "    </tr>\n",
       "  </thead>\n",
       "  <tbody>\n",
       "    <tr>\n",
       "      <td>0</td>\n",
       "      <td>0.561172</td>\n",
       "      <td>0.681562</td>\n",
       "      <td>0.467755</td>\n",
       "      <td>00:07</td>\n",
       "    </tr>\n",
       "    <tr>\n",
       "      <td>1</td>\n",
       "      <td>0.555013</td>\n",
       "      <td>0.694990</td>\n",
       "      <td>0.467755</td>\n",
       "      <td>00:07</td>\n",
       "    </tr>\n",
       "    <tr>\n",
       "      <td>2</td>\n",
       "      <td>0.538123</td>\n",
       "      <td>0.704179</td>\n",
       "      <td>0.467755</td>\n",
       "      <td>00:07</td>\n",
       "    </tr>\n",
       "    <tr>\n",
       "      <td>3</td>\n",
       "      <td>0.523331</td>\n",
       "      <td>0.709097</td>\n",
       "      <td>0.467755</td>\n",
       "      <td>00:07</td>\n",
       "    </tr>\n",
       "    <tr>\n",
       "      <td>4</td>\n",
       "      <td>0.519009</td>\n",
       "      <td>0.710337</td>\n",
       "      <td>0.467755</td>\n",
       "      <td>00:07</td>\n",
       "    </tr>\n",
       "  </tbody>\n",
       "</table>"
      ],
      "text/plain": [
       "<IPython.core.display.HTML object>"
      ]
     },
     "metadata": {},
     "output_type": "display_data"
    }
   ],
   "source": [
    "learn.fit_one_cycle(5, 1e-3)"
   ]
  },
  {
   "cell_type": "code",
   "execution_count": 138,
   "metadata": {},
   "outputs": [
    {
     "data": {
      "text/html": [],
      "text/plain": [
       "<IPython.core.display.HTML object>"
      ]
     },
     "metadata": {},
     "output_type": "display_data"
    }
   ],
   "source": [
    "preds, targs = learn.get_preds()"
   ]
  },
  {
   "cell_type": "code",
   "execution_count": 149,
   "metadata": {},
   "outputs": [
    {
     "name": "stdout",
     "output_type": "stream",
     "text": [
      "0.776 -> 1.0\n",
      "0.908 -> 1.0\n",
      "0.260 -> 0.0\n",
      "0.532 -> 1.0\n",
      "0.454 -> 1.0\n",
      "0.265 -> 0.0\n",
      "0.216 -> 1.0\n",
      "0.927 -> 0.0\n",
      "0.393 -> 0.0\n",
      "0.721 -> 1.0\n"
     ]
    }
   ],
   "source": [
    "for p, t in zip(preds.numpy()[:10], targs.numpy()[:10]):\n",
    "    print(f'{p[0]:.3f} -> {t[0]}')"
   ]
  }
 ],
 "metadata": {
  "kernelspec": {
   "display_name": "Python 3",
   "language": "python",
   "name": "python3"
  },
  "language_info": {
   "codemirror_mode": {
    "name": "ipython",
    "version": 3
   },
   "file_extension": ".py",
   "mimetype": "text/x-python",
   "name": "python",
   "nbconvert_exporter": "python",
   "pygments_lexer": "ipython3",
   "version": "3.8.5"
  }
 },
 "nbformat": 4,
 "nbformat_minor": 4
}
