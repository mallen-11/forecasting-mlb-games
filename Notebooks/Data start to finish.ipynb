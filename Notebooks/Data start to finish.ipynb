{
 "cells": [
  {
   "cell_type": "markdown",
   "metadata": {},
   "source": [
    "# Data start to finish\n",
    "\n",
    "The purpose of this notebook is to go from start to finish with data loading, and have all steps collected in one notebook."
   ]
  },
  {
   "cell_type": "code",
   "execution_count": 794,
   "metadata": {},
   "outputs": [],
   "source": [
    "import pandas as pd\n",
    "import numpy as np\n",
    "from matplotlib import pyplot as plt\n",
    "import datetime as dt\n",
    "\n",
    "from utils.data_loader import Dataset\n",
    "from utils.data_cleaning import optimize, uniform_name"
   ]
  },
  {
   "cell_type": "markdown",
   "metadata": {},
   "source": [
    "## Preprocessing data"
   ]
  },
  {
   "cell_type": "markdown",
   "metadata": {},
   "source": [
    "This link contains every mlb game ever played with their elo scores as well as some other information we will find useful. This will play the role of a starter dataframe to then add the rest of our data to."
   ]
  },
  {
   "cell_type": "code",
   "execution_count": 795,
   "metadata": {},
   "outputs": [],
   "source": [
    "mlb_elo = pd.read_csv('https://projects.fivethirtyeight.com/mlb-api/mlb_elo.csv')"
   ]
  },
  {
   "cell_type": "markdown",
   "metadata": {},
   "source": [
    "We only want dates from 2000-2019 (Not 2020 because of the COVID shortened season)."
   ]
  },
  {
   "cell_type": "code",
   "execution_count": 796,
   "metadata": {},
   "outputs": [],
   "source": [
    "mlb_elo = mlb_elo[(mlb_elo['date'] >= '2001-03-29') & (mlb_elo['date'] <= '2019-9-29')]"
   ]
  },
  {
   "cell_type": "markdown",
   "metadata": {},
   "source": [
    "We are going to drop any row that was a playoff row just giving us regular season games as well."
   ]
  },
  {
   "cell_type": "code",
   "execution_count": 797,
   "metadata": {},
   "outputs": [],
   "source": [
    "mlb_elo = mlb_elo[(mlb_elo['playoff'] != 'w') &\n",
    "                  (mlb_elo['playoff'] != 'l') &\n",
    "                 (mlb_elo['playoff'] != 'd') &\n",
    "                 (mlb_elo['playoff'] != 'c')]"
   ]
  },
  {
   "cell_type": "code",
   "execution_count": 798,
   "metadata": {},
   "outputs": [],
   "source": [
    "mlb_elo['home_win'] = np.where(mlb_elo['score1'] > mlb_elo['score2'], 1, 0)"
   ]
  },
  {
   "cell_type": "markdown",
   "metadata": {},
   "source": [
    "Now, we can rename the columns to be more user friendly and start loading in the rest of our data."
   ]
  },
  {
   "cell_type": "code",
   "execution_count": 799,
   "metadata": {},
   "outputs": [],
   "source": [
    "mlb_elo = mlb_elo[['date', 'team1', 'team2', 'home_win', 'elo1_pre', 'elo2_pre', 'pitcher1', 'pitcher2']]"
   ]
  },
  {
   "cell_type": "code",
   "execution_count": 800,
   "metadata": {
    "scrolled": true
   },
   "outputs": [],
   "source": [
    "mlb_elo = mlb_elo.rename(columns={'date':'date', \n",
    "                'team1': 'home_team',\n",
    "                'team2': 'away_team', \n",
    "                'elo1_pre': 'home_elo', \n",
    "                'elo2_pre': 'away_elo',\n",
    "                'pitcher1': 'home_pitcher',\n",
    "                'pitcher2': 'away_pitcher'})"
   ]
  },
  {
   "cell_type": "code",
   "execution_count": 801,
   "metadata": {},
   "outputs": [
    {
     "data": {
      "text/html": [
       "<div>\n",
       "<style scoped>\n",
       "    .dataframe tbody tr th:only-of-type {\n",
       "        vertical-align: middle;\n",
       "    }\n",
       "\n",
       "    .dataframe tbody tr th {\n",
       "        vertical-align: top;\n",
       "    }\n",
       "\n",
       "    .dataframe thead th {\n",
       "        text-align: right;\n",
       "    }\n",
       "</style>\n",
       "<table border=\"1\" class=\"dataframe\">\n",
       "  <thead>\n",
       "    <tr style=\"text-align: right;\">\n",
       "      <th></th>\n",
       "      <th>date</th>\n",
       "      <th>home_team</th>\n",
       "      <th>away_team</th>\n",
       "      <th>home_win</th>\n",
       "      <th>home_elo</th>\n",
       "      <th>away_elo</th>\n",
       "      <th>home_pitcher</th>\n",
       "      <th>away_pitcher</th>\n",
       "    </tr>\n",
       "  </thead>\n",
       "  <tbody>\n",
       "    <tr>\n",
       "      <th>988</th>\n",
       "      <td>2019-09-29</td>\n",
       "      <td>STL</td>\n",
       "      <td>CHC</td>\n",
       "      <td>1</td>\n",
       "      <td>1545.306947</td>\n",
       "      <td>1531.092895</td>\n",
       "      <td>Jack Flaherty</td>\n",
       "      <td>Derek Holland</td>\n",
       "    </tr>\n",
       "    <tr>\n",
       "      <th>989</th>\n",
       "      <td>2019-09-29</td>\n",
       "      <td>KCR</td>\n",
       "      <td>MIN</td>\n",
       "      <td>1</td>\n",
       "      <td>1429.995452</td>\n",
       "      <td>1549.426829</td>\n",
       "      <td>Jorge Lopez</td>\n",
       "      <td>Martin Perez</td>\n",
       "    </tr>\n",
       "    <tr>\n",
       "      <th>990</th>\n",
       "      <td>2019-09-29</td>\n",
       "      <td>SEA</td>\n",
       "      <td>OAK</td>\n",
       "      <td>1</td>\n",
       "      <td>1467.732500</td>\n",
       "      <td>1577.147150</td>\n",
       "      <td>Justin Dunn</td>\n",
       "      <td>Tanner Roark</td>\n",
       "    </tr>\n",
       "    <tr>\n",
       "      <th>991</th>\n",
       "      <td>2019-09-29</td>\n",
       "      <td>NYM</td>\n",
       "      <td>ATL</td>\n",
       "      <td>1</td>\n",
       "      <td>1528.343228</td>\n",
       "      <td>1548.881950</td>\n",
       "      <td>Noah Syndergaard</td>\n",
       "      <td>Mike Soroka</td>\n",
       "    </tr>\n",
       "    <tr>\n",
       "      <th>992</th>\n",
       "      <td>2019-09-29</td>\n",
       "      <td>COL</td>\n",
       "      <td>MIL</td>\n",
       "      <td>1</td>\n",
       "      <td>1469.463417</td>\n",
       "      <td>1534.015807</td>\n",
       "      <td>Jeff Hoffman</td>\n",
       "      <td>Adrian Houser</td>\n",
       "    </tr>\n",
       "  </tbody>\n",
       "</table>\n",
       "</div>"
      ],
      "text/plain": [
       "           date home_team away_team  home_win     home_elo     away_elo  \\\n",
       "988  2019-09-29       STL       CHC         1  1545.306947  1531.092895   \n",
       "989  2019-09-29       KCR       MIN         1  1429.995452  1549.426829   \n",
       "990  2019-09-29       SEA       OAK         1  1467.732500  1577.147150   \n",
       "991  2019-09-29       NYM       ATL         1  1528.343228  1548.881950   \n",
       "992  2019-09-29       COL       MIL         1  1469.463417  1534.015807   \n",
       "\n",
       "         home_pitcher   away_pitcher  \n",
       "988     Jack Flaherty  Derek Holland  \n",
       "989       Jorge Lopez   Martin Perez  \n",
       "990       Justin Dunn   Tanner Roark  \n",
       "991  Noah Syndergaard    Mike Soroka  \n",
       "992      Jeff Hoffman  Adrian Houser  "
      ]
     },
     "execution_count": 801,
     "metadata": {},
     "output_type": "execute_result"
    }
   ],
   "source": [
    "mlb_elo.head()"
   ]
  },
  {
   "cell_type": "markdown",
   "metadata": {},
   "source": [
    "# Loading hitter data"
   ]
  },
  {
   "cell_type": "code",
   "execution_count": 802,
   "metadata": {},
   "outputs": [],
   "source": [
    "avg_df = pd.read_csv('../data/COVARIATE_AVG.csv', index_col = 'date')\n",
    "obp_df = pd.read_csv('../data/COVARIATE_OBP.csv', index_col = 'date')\n",
    "slg_df = pd.read_csv('../data/COVARIATE_SLG.csv', index_col = 'date')"
   ]
  },
  {
   "cell_type": "code",
   "execution_count": 803,
   "metadata": {},
   "outputs": [],
   "source": [
    "avg_df.index = pd.to_datetime(avg_df.index, format='%Y%m%d')\n",
    "obp_df.index = pd.to_datetime(obp_df.index, format='%Y%m%d')\n",
    "slg_df.index = pd.to_datetime(slg_df.index, format='%Y%m%d')"
   ]
  },
  {
   "cell_type": "code",
   "execution_count": 804,
   "metadata": {},
   "outputs": [
    {
     "data": {
      "text/html": [
       "<div>\n",
       "<style scoped>\n",
       "    .dataframe tbody tr th:only-of-type {\n",
       "        vertical-align: middle;\n",
       "    }\n",
       "\n",
       "    .dataframe tbody tr th {\n",
       "        vertical-align: top;\n",
       "    }\n",
       "\n",
       "    .dataframe thead th {\n",
       "        text-align: right;\n",
       "    }\n",
       "</style>\n",
       "<table border=\"1\" class=\"dataframe\">\n",
       "  <thead>\n",
       "    <tr style=\"text-align: right;\">\n",
       "      <th></th>\n",
       "      <th>ANA</th>\n",
       "      <th>ARI</th>\n",
       "      <th>ATL</th>\n",
       "      <th>BAL</th>\n",
       "      <th>BOS</th>\n",
       "      <th>CHA</th>\n",
       "      <th>CHN</th>\n",
       "      <th>CIN</th>\n",
       "      <th>CLE</th>\n",
       "      <th>COL</th>\n",
       "      <th>...</th>\n",
       "      <th>PHI</th>\n",
       "      <th>PIT</th>\n",
       "      <th>SDN</th>\n",
       "      <th>SEA</th>\n",
       "      <th>SFN</th>\n",
       "      <th>SLN</th>\n",
       "      <th>TBA</th>\n",
       "      <th>TEX</th>\n",
       "      <th>TOR</th>\n",
       "      <th>WAS</th>\n",
       "    </tr>\n",
       "    <tr>\n",
       "      <th>date</th>\n",
       "      <th></th>\n",
       "      <th></th>\n",
       "      <th></th>\n",
       "      <th></th>\n",
       "      <th></th>\n",
       "      <th></th>\n",
       "      <th></th>\n",
       "      <th></th>\n",
       "      <th></th>\n",
       "      <th></th>\n",
       "      <th></th>\n",
       "      <th></th>\n",
       "      <th></th>\n",
       "      <th></th>\n",
       "      <th></th>\n",
       "      <th></th>\n",
       "      <th></th>\n",
       "      <th></th>\n",
       "      <th></th>\n",
       "      <th></th>\n",
       "      <th></th>\n",
       "    </tr>\n",
       "  </thead>\n",
       "  <tbody>\n",
       "    <tr>\n",
       "      <th>2001-04-01</th>\n",
       "      <td>0.277406</td>\n",
       "      <td>0.263385</td>\n",
       "      <td>0.268227</td>\n",
       "      <td>0.269526</td>\n",
       "      <td>0.265407</td>\n",
       "      <td>0.283532</td>\n",
       "      <td>0.254189</td>\n",
       "      <td>0.272199</td>\n",
       "      <td>0.285689</td>\n",
       "      <td>0.290176</td>\n",
       "      <td>...</td>\n",
       "      <td>0.249414</td>\n",
       "      <td>0.264954</td>\n",
       "      <td>0.251828</td>\n",
       "      <td>0.26728</td>\n",
       "      <td>0.276079</td>\n",
       "      <td>0.267825</td>\n",
       "      <td>0.255143</td>\n",
       "      <td>0.281519</td>\n",
       "      <td>0.273459</td>\n",
       "      <td>0.264347</td>\n",
       "    </tr>\n",
       "    <tr>\n",
       "      <th>2001-04-02</th>\n",
       "      <td>0.277406</td>\n",
       "      <td>0.263385</td>\n",
       "      <td>0.268227</td>\n",
       "      <td>0.269526</td>\n",
       "      <td>0.265407</td>\n",
       "      <td>0.283532</td>\n",
       "      <td>0.254189</td>\n",
       "      <td>0.272199</td>\n",
       "      <td>0.285689</td>\n",
       "      <td>0.290176</td>\n",
       "      <td>...</td>\n",
       "      <td>0.249414</td>\n",
       "      <td>0.264954</td>\n",
       "      <td>0.251828</td>\n",
       "      <td>0.26728</td>\n",
       "      <td>0.276079</td>\n",
       "      <td>0.267825</td>\n",
       "      <td>0.255143</td>\n",
       "      <td>0.281519</td>\n",
       "      <td>0.273459</td>\n",
       "      <td>0.264347</td>\n",
       "    </tr>\n",
       "    <tr>\n",
       "      <th>2001-04-03</th>\n",
       "      <td>0.277406</td>\n",
       "      <td>0.263385</td>\n",
       "      <td>0.268227</td>\n",
       "      <td>0.269526</td>\n",
       "      <td>0.265407</td>\n",
       "      <td>0.283532</td>\n",
       "      <td>0.254189</td>\n",
       "      <td>0.272199</td>\n",
       "      <td>0.285689</td>\n",
       "      <td>0.290176</td>\n",
       "      <td>...</td>\n",
       "      <td>0.249414</td>\n",
       "      <td>0.264954</td>\n",
       "      <td>0.251828</td>\n",
       "      <td>0.26728</td>\n",
       "      <td>0.276079</td>\n",
       "      <td>0.267825</td>\n",
       "      <td>0.255143</td>\n",
       "      <td>0.281519</td>\n",
       "      <td>0.273459</td>\n",
       "      <td>0.264347</td>\n",
       "    </tr>\n",
       "    <tr>\n",
       "      <th>2001-04-04</th>\n",
       "      <td>0.277406</td>\n",
       "      <td>0.263385</td>\n",
       "      <td>0.268227</td>\n",
       "      <td>0.269526</td>\n",
       "      <td>0.265407</td>\n",
       "      <td>0.283532</td>\n",
       "      <td>0.254189</td>\n",
       "      <td>0.272199</td>\n",
       "      <td>0.285689</td>\n",
       "      <td>0.290176</td>\n",
       "      <td>...</td>\n",
       "      <td>0.249414</td>\n",
       "      <td>0.264954</td>\n",
       "      <td>0.251828</td>\n",
       "      <td>0.26728</td>\n",
       "      <td>0.276079</td>\n",
       "      <td>0.267825</td>\n",
       "      <td>0.255143</td>\n",
       "      <td>0.281519</td>\n",
       "      <td>0.273459</td>\n",
       "      <td>0.264347</td>\n",
       "    </tr>\n",
       "    <tr>\n",
       "      <th>2001-04-05</th>\n",
       "      <td>0.277406</td>\n",
       "      <td>0.263385</td>\n",
       "      <td>0.268227</td>\n",
       "      <td>0.269526</td>\n",
       "      <td>0.265407</td>\n",
       "      <td>0.283532</td>\n",
       "      <td>0.254189</td>\n",
       "      <td>0.272199</td>\n",
       "      <td>0.285689</td>\n",
       "      <td>0.290176</td>\n",
       "      <td>...</td>\n",
       "      <td>0.249414</td>\n",
       "      <td>0.264954</td>\n",
       "      <td>0.251828</td>\n",
       "      <td>0.26728</td>\n",
       "      <td>0.276079</td>\n",
       "      <td>0.267825</td>\n",
       "      <td>0.255143</td>\n",
       "      <td>0.281519</td>\n",
       "      <td>0.273459</td>\n",
       "      <td>0.264347</td>\n",
       "    </tr>\n",
       "  </tbody>\n",
       "</table>\n",
       "<p>5 rows × 30 columns</p>\n",
       "</div>"
      ],
      "text/plain": [
       "                 ANA       ARI       ATL       BAL       BOS       CHA  \\\n",
       "date                                                                     \n",
       "2001-04-01  0.277406  0.263385  0.268227  0.269526  0.265407  0.283532   \n",
       "2001-04-02  0.277406  0.263385  0.268227  0.269526  0.265407  0.283532   \n",
       "2001-04-03  0.277406  0.263385  0.268227  0.269526  0.265407  0.283532   \n",
       "2001-04-04  0.277406  0.263385  0.268227  0.269526  0.265407  0.283532   \n",
       "2001-04-05  0.277406  0.263385  0.268227  0.269526  0.265407  0.283532   \n",
       "\n",
       "                 CHN       CIN       CLE       COL  ...       PHI       PIT  \\\n",
       "date                                                ...                       \n",
       "2001-04-01  0.254189  0.272199  0.285689  0.290176  ...  0.249414  0.264954   \n",
       "2001-04-02  0.254189  0.272199  0.285689  0.290176  ...  0.249414  0.264954   \n",
       "2001-04-03  0.254189  0.272199  0.285689  0.290176  ...  0.249414  0.264954   \n",
       "2001-04-04  0.254189  0.272199  0.285689  0.290176  ...  0.249414  0.264954   \n",
       "2001-04-05  0.254189  0.272199  0.285689  0.290176  ...  0.249414  0.264954   \n",
       "\n",
       "                 SDN      SEA       SFN       SLN       TBA       TEX  \\\n",
       "date                                                                    \n",
       "2001-04-01  0.251828  0.26728  0.276079  0.267825  0.255143  0.281519   \n",
       "2001-04-02  0.251828  0.26728  0.276079  0.267825  0.255143  0.281519   \n",
       "2001-04-03  0.251828  0.26728  0.276079  0.267825  0.255143  0.281519   \n",
       "2001-04-04  0.251828  0.26728  0.276079  0.267825  0.255143  0.281519   \n",
       "2001-04-05  0.251828  0.26728  0.276079  0.267825  0.255143  0.281519   \n",
       "\n",
       "                 TOR       WAS  \n",
       "date                            \n",
       "2001-04-01  0.273459  0.264347  \n",
       "2001-04-02  0.273459  0.264347  \n",
       "2001-04-03  0.273459  0.264347  \n",
       "2001-04-04  0.273459  0.264347  \n",
       "2001-04-05  0.273459  0.264347  \n",
       "\n",
       "[5 rows x 30 columns]"
      ]
     },
     "execution_count": 804,
     "metadata": {},
     "output_type": "execute_result"
    }
   ],
   "source": [
    "avg_df.head()"
   ]
  },
  {
   "cell_type": "markdown",
   "metadata": {},
   "source": [
    "Below, we are changing the team name abbreviations to match each other for all of the dataframes."
   ]
  },
  {
   "cell_type": "code",
   "execution_count": 805,
   "metadata": {},
   "outputs": [],
   "source": [
    "mlb_elo['home_team'] = mlb_elo['home_team'].apply(uniform_name)\n",
    "mlb_elo['away_team'] = mlb_elo['away_team'].apply(uniform_name)"
   ]
  },
  {
   "cell_type": "code",
   "execution_count": 806,
   "metadata": {},
   "outputs": [],
   "source": [
    "assert set(mlb_elo['home_team'].unique()) ==  set(mlb_elo['away_team'].unique())"
   ]
  },
  {
   "cell_type": "markdown",
   "metadata": {},
   "source": [
    "We are going to make these columns below but first we want to set them to zero just in case a null value occurs."
   ]
  },
  {
   "cell_type": "code",
   "execution_count": 807,
   "metadata": {},
   "outputs": [],
   "source": [
    "mlb_elo['home_avg'] = 0\n",
    "mlb_elo['away_avg'] = 0\n",
    "mlb_elo['home_obp'] = 0\n",
    "mlb_elo['away_obp'] = 0\n",
    "mlb_elo['home_slg'] = 0\n",
    "mlb_elo['away_slg'] = 0"
   ]
  },
  {
   "cell_type": "code",
   "execution_count": 808,
   "metadata": {},
   "outputs": [],
   "source": [
    "mlb_elo['date'] = pd.to_datetime(mlb_elo['date'])"
   ]
  },
  {
   "cell_type": "markdown",
   "metadata": {},
   "source": [
    "The function below will go through the avg_df, obp_df, and slg_df and select the row based on the date and the column based on the specific team and then match that with its corresponding avg, obp, or slg respectively."
   ]
  },
  {
   "cell_type": "code",
   "execution_count": 809,
   "metadata": {},
   "outputs": [],
   "source": [
    "def get_covariates(x):\n",
    "    x['home_avg'] = avg_df.loc[x['date']][x['home_team']]\n",
    "    x['away_avg'] = avg_df.loc[x['date']][x['away_team']]\n",
    "    x['home_obp'] = obp_df.loc[x['date']][x['home_team']]\n",
    "    x['away_obp'] = obp_df.loc[x['date']][x['away_team']]\n",
    "    x['home_slg'] = slg_df.loc[x['date']][x['home_team']]\n",
    "    x['away_slg'] = slg_df.loc[x['date']][x['away_team']]\n",
    "    return x\n",
    "\n",
    "mlb_elo = mlb_elo.apply(get_covariates, axis = 1)"
   ]
  },
  {
   "cell_type": "code",
   "execution_count": 810,
   "metadata": {},
   "outputs": [
    {
     "data": {
      "text/html": [
       "<div>\n",
       "<style scoped>\n",
       "    .dataframe tbody tr th:only-of-type {\n",
       "        vertical-align: middle;\n",
       "    }\n",
       "\n",
       "    .dataframe tbody tr th {\n",
       "        vertical-align: top;\n",
       "    }\n",
       "\n",
       "    .dataframe thead th {\n",
       "        text-align: right;\n",
       "    }\n",
       "</style>\n",
       "<table border=\"1\" class=\"dataframe\">\n",
       "  <thead>\n",
       "    <tr style=\"text-align: right;\">\n",
       "      <th></th>\n",
       "      <th>date</th>\n",
       "      <th>home_team</th>\n",
       "      <th>away_team</th>\n",
       "      <th>home_win</th>\n",
       "      <th>home_elo</th>\n",
       "      <th>away_elo</th>\n",
       "      <th>home_pitcher</th>\n",
       "      <th>away_pitcher</th>\n",
       "      <th>home_avg</th>\n",
       "      <th>away_avg</th>\n",
       "      <th>home_obp</th>\n",
       "      <th>away_obp</th>\n",
       "      <th>home_slg</th>\n",
       "      <th>away_slg</th>\n",
       "    </tr>\n",
       "  </thead>\n",
       "  <tbody>\n",
       "    <tr>\n",
       "      <th>988</th>\n",
       "      <td>2019-09-29</td>\n",
       "      <td>SLN</td>\n",
       "      <td>CHN</td>\n",
       "      <td>1</td>\n",
       "      <td>1545.306947</td>\n",
       "      <td>1531.092895</td>\n",
       "      <td>Jack Flaherty</td>\n",
       "      <td>Derek Holland</td>\n",
       "      <td>0.222222</td>\n",
       "      <td>0.243802</td>\n",
       "      <td>0.321875</td>\n",
       "      <td>0.312030</td>\n",
       "      <td>0.415771</td>\n",
       "      <td>0.392562</td>\n",
       "    </tr>\n",
       "    <tr>\n",
       "      <th>989</th>\n",
       "      <td>2019-09-29</td>\n",
       "      <td>KCA</td>\n",
       "      <td>MIN</td>\n",
       "      <td>1</td>\n",
       "      <td>1429.995452</td>\n",
       "      <td>1549.426829</td>\n",
       "      <td>Jorge Lopez</td>\n",
       "      <td>Martin Perez</td>\n",
       "      <td>0.289256</td>\n",
       "      <td>0.279352</td>\n",
       "      <td>0.350943</td>\n",
       "      <td>0.340741</td>\n",
       "      <td>0.475207</td>\n",
       "      <td>0.510121</td>\n",
       "    </tr>\n",
       "    <tr>\n",
       "      <th>990</th>\n",
       "      <td>2019-09-29</td>\n",
       "      <td>SEA</td>\n",
       "      <td>OAK</td>\n",
       "      <td>1</td>\n",
       "      <td>1467.732500</td>\n",
       "      <td>1577.147150</td>\n",
       "      <td>Justin Dunn</td>\n",
       "      <td>Tanner Roark</td>\n",
       "      <td>0.174312</td>\n",
       "      <td>0.217021</td>\n",
       "      <td>0.227468</td>\n",
       "      <td>0.297710</td>\n",
       "      <td>0.243119</td>\n",
       "      <td>0.357447</td>\n",
       "    </tr>\n",
       "    <tr>\n",
       "      <th>991</th>\n",
       "      <td>2019-09-29</td>\n",
       "      <td>NYN</td>\n",
       "      <td>ATL</td>\n",
       "      <td>1</td>\n",
       "      <td>1528.343228</td>\n",
       "      <td>1548.881950</td>\n",
       "      <td>Noah Syndergaard</td>\n",
       "      <td>Mike Soroka</td>\n",
       "      <td>0.256098</td>\n",
       "      <td>0.237903</td>\n",
       "      <td>0.336957</td>\n",
       "      <td>0.325000</td>\n",
       "      <td>0.443089</td>\n",
       "      <td>0.395161</td>\n",
       "    </tr>\n",
       "    <tr>\n",
       "      <th>992</th>\n",
       "      <td>2019-09-29</td>\n",
       "      <td>COL</td>\n",
       "      <td>MIL</td>\n",
       "      <td>1</td>\n",
       "      <td>1469.463417</td>\n",
       "      <td>1534.015807</td>\n",
       "      <td>Jeff Hoffman</td>\n",
       "      <td>Adrian Houser</td>\n",
       "      <td>0.230496</td>\n",
       "      <td>0.233202</td>\n",
       "      <td>0.306709</td>\n",
       "      <td>0.331034</td>\n",
       "      <td>0.421986</td>\n",
       "      <td>0.430830</td>\n",
       "    </tr>\n",
       "  </tbody>\n",
       "</table>\n",
       "</div>"
      ],
      "text/plain": [
       "          date home_team away_team  home_win     home_elo     away_elo  \\\n",
       "988 2019-09-29       SLN       CHN         1  1545.306947  1531.092895   \n",
       "989 2019-09-29       KCA       MIN         1  1429.995452  1549.426829   \n",
       "990 2019-09-29       SEA       OAK         1  1467.732500  1577.147150   \n",
       "991 2019-09-29       NYN       ATL         1  1528.343228  1548.881950   \n",
       "992 2019-09-29       COL       MIL         1  1469.463417  1534.015807   \n",
       "\n",
       "         home_pitcher   away_pitcher  home_avg  away_avg  home_obp  away_obp  \\\n",
       "988     Jack Flaherty  Derek Holland  0.222222  0.243802  0.321875  0.312030   \n",
       "989       Jorge Lopez   Martin Perez  0.289256  0.279352  0.350943  0.340741   \n",
       "990       Justin Dunn   Tanner Roark  0.174312  0.217021  0.227468  0.297710   \n",
       "991  Noah Syndergaard    Mike Soroka  0.256098  0.237903  0.336957  0.325000   \n",
       "992      Jeff Hoffman  Adrian Houser  0.230496  0.233202  0.306709  0.331034   \n",
       "\n",
       "     home_slg  away_slg  \n",
       "988  0.415771  0.392562  \n",
       "989  0.475207  0.510121  \n",
       "990  0.243119  0.357447  \n",
       "991  0.443089  0.395161  \n",
       "992  0.421986  0.430830  "
      ]
     },
     "execution_count": 810,
     "metadata": {},
     "output_type": "execute_result"
    }
   ],
   "source": [
    "mlb_elo.head()"
   ]
  },
  {
   "cell_type": "code",
   "execution_count": 811,
   "metadata": {},
   "outputs": [],
   "source": [
    "mlb_elo['Y'] = mlb_elo['date'].dt.year\n",
    "mlb_elo['M'] = mlb_elo['date'].dt.month\n",
    "mlb_elo['D'] = mlb_elo['date'].dt.day"
   ]
  },
  {
   "cell_type": "code",
   "execution_count": 812,
   "metadata": {},
   "outputs": [],
   "source": [
    "mlb = mlb_elo[['date', 'Y', 'M', 'D',\n",
    "               'home_team', 'away_team', 'home_win',\n",
    "               'home_pitcher', 'away_pitcher',\n",
    "               'home_elo', 'away_elo',\n",
    "               'home_avg', 'away_avg',\n",
    "               'home_obp', 'away_obp',\n",
    "               'home_slg', 'away_slg']]"
   ]
  },
  {
   "cell_type": "code",
   "execution_count": 813,
   "metadata": {},
   "outputs": [],
   "source": [
    "mlb = mlb.sort_values(by='date')\n",
    "mlb = mlb.reset_index(drop=True)"
   ]
  },
  {
   "cell_type": "code",
   "execution_count": 814,
   "metadata": {
    "scrolled": true
   },
   "outputs": [
    {
     "data": {
      "text/html": [
       "<div>\n",
       "<style scoped>\n",
       "    .dataframe tbody tr th:only-of-type {\n",
       "        vertical-align: middle;\n",
       "    }\n",
       "\n",
       "    .dataframe tbody tr th {\n",
       "        vertical-align: top;\n",
       "    }\n",
       "\n",
       "    .dataframe thead th {\n",
       "        text-align: right;\n",
       "    }\n",
       "</style>\n",
       "<table border=\"1\" class=\"dataframe\">\n",
       "  <thead>\n",
       "    <tr style=\"text-align: right;\">\n",
       "      <th></th>\n",
       "      <th>date</th>\n",
       "      <th>Y</th>\n",
       "      <th>M</th>\n",
       "      <th>D</th>\n",
       "      <th>home_team</th>\n",
       "      <th>away_team</th>\n",
       "      <th>home_win</th>\n",
       "      <th>home_pitcher</th>\n",
       "      <th>away_pitcher</th>\n",
       "      <th>home_elo</th>\n",
       "      <th>away_elo</th>\n",
       "      <th>home_avg</th>\n",
       "      <th>away_avg</th>\n",
       "      <th>home_obp</th>\n",
       "      <th>away_obp</th>\n",
       "      <th>home_slg</th>\n",
       "      <th>away_slg</th>\n",
       "    </tr>\n",
       "  </thead>\n",
       "  <tbody>\n",
       "    <tr>\n",
       "      <th>0</th>\n",
       "      <td>2001-04-01</td>\n",
       "      <td>2001</td>\n",
       "      <td>4</td>\n",
       "      <td>1</td>\n",
       "      <td>TOR</td>\n",
       "      <td>TEX</td>\n",
       "      <td>1</td>\n",
       "      <td>loaie001</td>\n",
       "      <td>hellr001</td>\n",
       "      <td>1499.563</td>\n",
       "      <td>1479.163</td>\n",
       "      <td>0.273459</td>\n",
       "      <td>0.281519</td>\n",
       "      <td>0.339283</td>\n",
       "      <td>0.349386</td>\n",
       "      <td>0.466387</td>\n",
       "      <td>0.443116</td>\n",
       "    </tr>\n",
       "    <tr>\n",
       "      <th>1</th>\n",
       "      <td>2001-04-02</td>\n",
       "      <td>2001</td>\n",
       "      <td>4</td>\n",
       "      <td>2</td>\n",
       "      <td>SFN</td>\n",
       "      <td>SDN</td>\n",
       "      <td>1</td>\n",
       "      <td>hernl003</td>\n",
       "      <td>willw001</td>\n",
       "      <td>1540.841</td>\n",
       "      <td>1492.800</td>\n",
       "      <td>0.276079</td>\n",
       "      <td>0.251828</td>\n",
       "      <td>0.359380</td>\n",
       "      <td>0.327088</td>\n",
       "      <td>0.468525</td>\n",
       "      <td>0.398252</td>\n",
       "    </tr>\n",
       "    <tr>\n",
       "      <th>2</th>\n",
       "      <td>2001-04-02</td>\n",
       "      <td>2001</td>\n",
       "      <td>4</td>\n",
       "      <td>2</td>\n",
       "      <td>SEA</td>\n",
       "      <td>OAK</td>\n",
       "      <td>1</td>\n",
       "      <td>Freddy Garcia</td>\n",
       "      <td>Tim Hudson</td>\n",
       "      <td>1519.464</td>\n",
       "      <td>1534.696</td>\n",
       "      <td>0.267280</td>\n",
       "      <td>0.268144</td>\n",
       "      <td>0.358599</td>\n",
       "      <td>0.357409</td>\n",
       "      <td>0.438008</td>\n",
       "      <td>0.454237</td>\n",
       "    </tr>\n",
       "    <tr>\n",
       "      <th>3</th>\n",
       "      <td>2001-04-02</td>\n",
       "      <td>2001</td>\n",
       "      <td>4</td>\n",
       "      <td>2</td>\n",
       "      <td>NYA</td>\n",
       "      <td>KCA</td>\n",
       "      <td>1</td>\n",
       "      <td>clemr001</td>\n",
       "      <td>suppj001</td>\n",
       "      <td>1529.511</td>\n",
       "      <td>1493.152</td>\n",
       "      <td>0.275080</td>\n",
       "      <td>0.285268</td>\n",
       "      <td>0.351633</td>\n",
       "      <td>0.344703</td>\n",
       "      <td>0.446269</td>\n",
       "      <td>0.421482</td>\n",
       "    </tr>\n",
       "    <tr>\n",
       "      <th>4</th>\n",
       "      <td>2001-04-02</td>\n",
       "      <td>2001</td>\n",
       "      <td>4</td>\n",
       "      <td>2</td>\n",
       "      <td>LAN</td>\n",
       "      <td>MIL</td>\n",
       "      <td>1</td>\n",
       "      <td>parkc002</td>\n",
       "      <td>Jamey Wright</td>\n",
       "      <td>1515.925</td>\n",
       "      <td>1490.396</td>\n",
       "      <td>0.254198</td>\n",
       "      <td>0.243537</td>\n",
       "      <td>0.336984</td>\n",
       "      <td>0.322708</td>\n",
       "      <td>0.426431</td>\n",
       "      <td>0.400071</td>\n",
       "    </tr>\n",
       "  </tbody>\n",
       "</table>\n",
       "</div>"
      ],
      "text/plain": [
       "        date     Y  M  D home_team away_team  home_win   home_pitcher  \\\n",
       "0 2001-04-01  2001  4  1       TOR       TEX         1       loaie001   \n",
       "1 2001-04-02  2001  4  2       SFN       SDN         1       hernl003   \n",
       "2 2001-04-02  2001  4  2       SEA       OAK         1  Freddy Garcia   \n",
       "3 2001-04-02  2001  4  2       NYA       KCA         1       clemr001   \n",
       "4 2001-04-02  2001  4  2       LAN       MIL         1       parkc002   \n",
       "\n",
       "   away_pitcher  home_elo  away_elo  home_avg  away_avg  home_obp  away_obp  \\\n",
       "0      hellr001  1499.563  1479.163  0.273459  0.281519  0.339283  0.349386   \n",
       "1      willw001  1540.841  1492.800  0.276079  0.251828  0.359380  0.327088   \n",
       "2    Tim Hudson  1519.464  1534.696  0.267280  0.268144  0.358599  0.357409   \n",
       "3      suppj001  1529.511  1493.152  0.275080  0.285268  0.351633  0.344703   \n",
       "4  Jamey Wright  1515.925  1490.396  0.254198  0.243537  0.336984  0.322708   \n",
       "\n",
       "   home_slg  away_slg  \n",
       "0  0.466387  0.443116  \n",
       "1  0.468525  0.398252  \n",
       "2  0.438008  0.454237  \n",
       "3  0.446269  0.421482  \n",
       "4  0.426431  0.400071  "
      ]
     },
     "execution_count": 814,
     "metadata": {},
     "output_type": "execute_result"
    }
   ],
   "source": [
    "mlb.head()"
   ]
  },
  {
   "cell_type": "markdown",
   "metadata": {},
   "source": [
    "# Making Features and Difference Columns"
   ]
  },
  {
   "cell_type": "markdown",
   "metadata": {},
   "source": [
    "An important feature is ISO which is just slg minus avg"
   ]
  },
  {
   "cell_type": "code",
   "execution_count": 815,
   "metadata": {},
   "outputs": [],
   "source": [
    "mlb['home_iso'] = mlb['home_slg'] - mlb['home_avg']\n",
    "mlb['away_iso'] = mlb['away_slg'] - mlb['away_avg']"
   ]
  },
  {
   "cell_type": "markdown",
   "metadata": {},
   "source": [
    "We can now make a few difference columns as well as percent difference. I am not sure if these will be useful but it will give the model a different way to look at the data."
   ]
  },
  {
   "cell_type": "code",
   "execution_count": 816,
   "metadata": {},
   "outputs": [],
   "source": [
    "mlb['elo_diff'] = mlb['home_elo'] - mlb['away_elo']\n",
    "mlb['elo_pct_diff'] = (mlb['elo_diff'])/(mlb['home_elo'])*100"
   ]
  },
  {
   "cell_type": "code",
   "execution_count": 817,
   "metadata": {},
   "outputs": [],
   "source": [
    "# > 0 = home is better\n",
    "mlb['avg_diff'] = (mlb['home_avg'] - mlb['away_avg'])\n",
    "mlb['obp_diff'] = (mlb['home_obp'] - mlb['away_obp'])\n",
    "mlb['slg_diff'] = (mlb['home_slg'] - mlb['away_slg'])\n",
    "\n",
    "# scaling doesn't matter for many cases\n",
    "mlb['team_avg_pct_diff'] = (mlb['avg_diff'])/(mlb['home_avg'])*100\n",
    "mlb['team_obp_pct_diff'] = (mlb['obp_diff'])/(mlb['home_obp'])*100\n",
    "mlb['team_slg_pct_diff'] = (mlb['slg_diff'])/(mlb['home_slg'])*100"
   ]
  },
  {
   "cell_type": "code",
   "execution_count": 818,
   "metadata": {},
   "outputs": [
    {
     "data": {
      "text/html": [
       "<div>\n",
       "<style scoped>\n",
       "    .dataframe tbody tr th:only-of-type {\n",
       "        vertical-align: middle;\n",
       "    }\n",
       "\n",
       "    .dataframe tbody tr th {\n",
       "        vertical-align: top;\n",
       "    }\n",
       "\n",
       "    .dataframe thead th {\n",
       "        text-align: right;\n",
       "    }\n",
       "</style>\n",
       "<table border=\"1\" class=\"dataframe\">\n",
       "  <thead>\n",
       "    <tr style=\"text-align: right;\">\n",
       "      <th></th>\n",
       "      <th>date</th>\n",
       "      <th>Y</th>\n",
       "      <th>M</th>\n",
       "      <th>D</th>\n",
       "      <th>home_team</th>\n",
       "      <th>away_team</th>\n",
       "      <th>home_win</th>\n",
       "      <th>home_pitcher</th>\n",
       "      <th>away_pitcher</th>\n",
       "      <th>home_elo</th>\n",
       "      <th>...</th>\n",
       "      <th>home_iso</th>\n",
       "      <th>away_iso</th>\n",
       "      <th>elo_diff</th>\n",
       "      <th>elo_pct_diff</th>\n",
       "      <th>avg_diff</th>\n",
       "      <th>obp_diff</th>\n",
       "      <th>slg_diff</th>\n",
       "      <th>team_avg_pct_diff</th>\n",
       "      <th>team_obp_pct_diff</th>\n",
       "      <th>team_slg_pct_diff</th>\n",
       "    </tr>\n",
       "  </thead>\n",
       "  <tbody>\n",
       "    <tr>\n",
       "      <th>0</th>\n",
       "      <td>2001-04-01</td>\n",
       "      <td>2001</td>\n",
       "      <td>4</td>\n",
       "      <td>1</td>\n",
       "      <td>TOR</td>\n",
       "      <td>TEX</td>\n",
       "      <td>1</td>\n",
       "      <td>loaie001</td>\n",
       "      <td>hellr001</td>\n",
       "      <td>1499.563</td>\n",
       "      <td>...</td>\n",
       "      <td>0.192927</td>\n",
       "      <td>0.161597</td>\n",
       "      <td>20.400</td>\n",
       "      <td>1.360396</td>\n",
       "      <td>-0.008060</td>\n",
       "      <td>-0.010103</td>\n",
       "      <td>0.023271</td>\n",
       "      <td>-2.947374</td>\n",
       "      <td>-2.977845</td>\n",
       "      <td>4.989568</td>\n",
       "    </tr>\n",
       "    <tr>\n",
       "      <th>1</th>\n",
       "      <td>2001-04-02</td>\n",
       "      <td>2001</td>\n",
       "      <td>4</td>\n",
       "      <td>2</td>\n",
       "      <td>SFN</td>\n",
       "      <td>SDN</td>\n",
       "      <td>1</td>\n",
       "      <td>hernl003</td>\n",
       "      <td>willw001</td>\n",
       "      <td>1540.841</td>\n",
       "      <td>...</td>\n",
       "      <td>0.192446</td>\n",
       "      <td>0.146424</td>\n",
       "      <td>48.041</td>\n",
       "      <td>3.117843</td>\n",
       "      <td>0.024251</td>\n",
       "      <td>0.032292</td>\n",
       "      <td>0.070273</td>\n",
       "      <td>8.784099</td>\n",
       "      <td>8.985458</td>\n",
       "      <td>14.998766</td>\n",
       "    </tr>\n",
       "    <tr>\n",
       "      <th>2</th>\n",
       "      <td>2001-04-02</td>\n",
       "      <td>2001</td>\n",
       "      <td>4</td>\n",
       "      <td>2</td>\n",
       "      <td>SEA</td>\n",
       "      <td>OAK</td>\n",
       "      <td>1</td>\n",
       "      <td>Freddy Garcia</td>\n",
       "      <td>Tim Hudson</td>\n",
       "      <td>1519.464</td>\n",
       "      <td>...</td>\n",
       "      <td>0.170727</td>\n",
       "      <td>0.186092</td>\n",
       "      <td>-15.232</td>\n",
       "      <td>-1.002459</td>\n",
       "      <td>-0.000864</td>\n",
       "      <td>0.001190</td>\n",
       "      <td>-0.016229</td>\n",
       "      <td>-0.323318</td>\n",
       "      <td>0.331871</td>\n",
       "      <td>-3.705210</td>\n",
       "    </tr>\n",
       "    <tr>\n",
       "      <th>3</th>\n",
       "      <td>2001-04-02</td>\n",
       "      <td>2001</td>\n",
       "      <td>4</td>\n",
       "      <td>2</td>\n",
       "      <td>NYA</td>\n",
       "      <td>KCA</td>\n",
       "      <td>1</td>\n",
       "      <td>clemr001</td>\n",
       "      <td>suppj001</td>\n",
       "      <td>1529.511</td>\n",
       "      <td>...</td>\n",
       "      <td>0.171189</td>\n",
       "      <td>0.136214</td>\n",
       "      <td>36.359</td>\n",
       "      <td>2.377165</td>\n",
       "      <td>-0.010188</td>\n",
       "      <td>0.006929</td>\n",
       "      <td>0.024787</td>\n",
       "      <td>-3.703559</td>\n",
       "      <td>1.970596</td>\n",
       "      <td>5.554343</td>\n",
       "    </tr>\n",
       "    <tr>\n",
       "      <th>4</th>\n",
       "      <td>2001-04-02</td>\n",
       "      <td>2001</td>\n",
       "      <td>4</td>\n",
       "      <td>2</td>\n",
       "      <td>LAN</td>\n",
       "      <td>MIL</td>\n",
       "      <td>1</td>\n",
       "      <td>parkc002</td>\n",
       "      <td>Jamey Wright</td>\n",
       "      <td>1515.925</td>\n",
       "      <td>...</td>\n",
       "      <td>0.172233</td>\n",
       "      <td>0.156534</td>\n",
       "      <td>25.529</td>\n",
       "      <td>1.684054</td>\n",
       "      <td>0.010660</td>\n",
       "      <td>0.014276</td>\n",
       "      <td>0.026359</td>\n",
       "      <td>4.193722</td>\n",
       "      <td>4.236467</td>\n",
       "      <td>6.181414</td>\n",
       "    </tr>\n",
       "  </tbody>\n",
       "</table>\n",
       "<p>5 rows × 27 columns</p>\n",
       "</div>"
      ],
      "text/plain": [
       "        date     Y  M  D home_team away_team  home_win   home_pitcher  \\\n",
       "0 2001-04-01  2001  4  1       TOR       TEX         1       loaie001   \n",
       "1 2001-04-02  2001  4  2       SFN       SDN         1       hernl003   \n",
       "2 2001-04-02  2001  4  2       SEA       OAK         1  Freddy Garcia   \n",
       "3 2001-04-02  2001  4  2       NYA       KCA         1       clemr001   \n",
       "4 2001-04-02  2001  4  2       LAN       MIL         1       parkc002   \n",
       "\n",
       "   away_pitcher  home_elo  ...  home_iso  away_iso  elo_diff  elo_pct_diff  \\\n",
       "0      hellr001  1499.563  ...  0.192927  0.161597    20.400      1.360396   \n",
       "1      willw001  1540.841  ...  0.192446  0.146424    48.041      3.117843   \n",
       "2    Tim Hudson  1519.464  ...  0.170727  0.186092   -15.232     -1.002459   \n",
       "3      suppj001  1529.511  ...  0.171189  0.136214    36.359      2.377165   \n",
       "4  Jamey Wright  1515.925  ...  0.172233  0.156534    25.529      1.684054   \n",
       "\n",
       "   avg_diff  obp_diff  slg_diff  team_avg_pct_diff  team_obp_pct_diff  \\\n",
       "0 -0.008060 -0.010103  0.023271          -2.947374          -2.977845   \n",
       "1  0.024251  0.032292  0.070273           8.784099           8.985458   \n",
       "2 -0.000864  0.001190 -0.016229          -0.323318           0.331871   \n",
       "3 -0.010188  0.006929  0.024787          -3.703559           1.970596   \n",
       "4  0.010660  0.014276  0.026359           4.193722           4.236467   \n",
       "\n",
       "   team_slg_pct_diff  \n",
       "0           4.989568  \n",
       "1          14.998766  \n",
       "2          -3.705210  \n",
       "3           5.554343  \n",
       "4           6.181414  \n",
       "\n",
       "[5 rows x 27 columns]"
      ]
     },
     "execution_count": 818,
     "metadata": {},
     "output_type": "execute_result"
    }
   ],
   "source": [
    "mlb.head()"
   ]
  },
  {
   "cell_type": "markdown",
   "metadata": {},
   "source": [
    "Figure out how many days of rest each team had in each game."
   ]
  },
  {
   "cell_type": "code",
   "execution_count": 819,
   "metadata": {},
   "outputs": [],
   "source": [
    "mlb['home_rest'] = 0\n",
    "mlb['away_rest'] = 0"
   ]
  },
  {
   "cell_type": "code",
   "execution_count": 820,
   "metadata": {},
   "outputs": [],
   "source": [
    "last_game = dict(zip(mlb['home_team'].unique(), [-1]*30))"
   ]
  },
  {
   "cell_type": "code",
   "execution_count": 821,
   "metadata": {},
   "outputs": [],
   "source": [
    "def home_rest(i):\n",
    "    home_index = mlb.loc[i]['home_team']\n",
    "\n",
    "    try:\n",
    "        days_rest = (mlb.loc[i, 'date'] - last_game[home_index]).days\n",
    "        last_game[home_index] = mlb.loc[i, 'date']\n",
    "        return days_rest\n",
    "    except:\n",
    "        last_game[home_index] = mlb.loc[i, 'date']\n",
    "        return 5 # >= 5\n",
    "\n",
    "def away_rest(i):\n",
    "    away_index = mlb.loc[i]['away_team']\n",
    "\n",
    "    try:\n",
    "        days_rest = (mlb.loc[i, 'date'] - last_game[away_index]).days\n",
    "        last_game[away_index] = mlb.loc[i, 'date']\n",
    "        return days_rest\n",
    "    except:\n",
    "        last_game[away_index] = mlb.loc[i, 'date']\n",
    "        return 5 # >= 5"
   ]
  },
  {
   "cell_type": "code",
   "execution_count": 822,
   "metadata": {},
   "outputs": [],
   "source": [
    "for i in range(len(mlb)):\n",
    "    mlb.loc[i, 'home_rest'] = home_rest(i)\n",
    "    mlb.loc[i, 'away_rest'] = away_rest(i)"
   ]
  },
  {
   "cell_type": "code",
   "execution_count": 823,
   "metadata": {},
   "outputs": [
    {
     "data": {
      "text/html": [
       "<div>\n",
       "<style scoped>\n",
       "    .dataframe tbody tr th:only-of-type {\n",
       "        vertical-align: middle;\n",
       "    }\n",
       "\n",
       "    .dataframe tbody tr th {\n",
       "        vertical-align: top;\n",
       "    }\n",
       "\n",
       "    .dataframe thead th {\n",
       "        text-align: right;\n",
       "    }\n",
       "</style>\n",
       "<table border=\"1\" class=\"dataframe\">\n",
       "  <thead>\n",
       "    <tr style=\"text-align: right;\">\n",
       "      <th></th>\n",
       "      <th>date</th>\n",
       "      <th>Y</th>\n",
       "      <th>M</th>\n",
       "      <th>D</th>\n",
       "      <th>home_team</th>\n",
       "      <th>away_team</th>\n",
       "      <th>home_win</th>\n",
       "      <th>home_pitcher</th>\n",
       "      <th>away_pitcher</th>\n",
       "      <th>home_elo</th>\n",
       "      <th>...</th>\n",
       "      <th>elo_diff</th>\n",
       "      <th>elo_pct_diff</th>\n",
       "      <th>avg_diff</th>\n",
       "      <th>obp_diff</th>\n",
       "      <th>slg_diff</th>\n",
       "      <th>team_avg_pct_diff</th>\n",
       "      <th>team_obp_pct_diff</th>\n",
       "      <th>team_slg_pct_diff</th>\n",
       "      <th>home_rest</th>\n",
       "      <th>away_rest</th>\n",
       "    </tr>\n",
       "  </thead>\n",
       "  <tbody>\n",
       "    <tr>\n",
       "      <th>0</th>\n",
       "      <td>2001-04-01</td>\n",
       "      <td>2001</td>\n",
       "      <td>4</td>\n",
       "      <td>1</td>\n",
       "      <td>TOR</td>\n",
       "      <td>TEX</td>\n",
       "      <td>1</td>\n",
       "      <td>loaie001</td>\n",
       "      <td>hellr001</td>\n",
       "      <td>1499.563</td>\n",
       "      <td>...</td>\n",
       "      <td>20.400</td>\n",
       "      <td>1.360396</td>\n",
       "      <td>-0.008060</td>\n",
       "      <td>-0.010103</td>\n",
       "      <td>0.023271</td>\n",
       "      <td>-2.947374</td>\n",
       "      <td>-2.977845</td>\n",
       "      <td>4.989568</td>\n",
       "      <td>5</td>\n",
       "      <td>5</td>\n",
       "    </tr>\n",
       "    <tr>\n",
       "      <th>1</th>\n",
       "      <td>2001-04-02</td>\n",
       "      <td>2001</td>\n",
       "      <td>4</td>\n",
       "      <td>2</td>\n",
       "      <td>SFN</td>\n",
       "      <td>SDN</td>\n",
       "      <td>1</td>\n",
       "      <td>hernl003</td>\n",
       "      <td>willw001</td>\n",
       "      <td>1540.841</td>\n",
       "      <td>...</td>\n",
       "      <td>48.041</td>\n",
       "      <td>3.117843</td>\n",
       "      <td>0.024251</td>\n",
       "      <td>0.032292</td>\n",
       "      <td>0.070273</td>\n",
       "      <td>8.784099</td>\n",
       "      <td>8.985458</td>\n",
       "      <td>14.998766</td>\n",
       "      <td>5</td>\n",
       "      <td>5</td>\n",
       "    </tr>\n",
       "    <tr>\n",
       "      <th>2</th>\n",
       "      <td>2001-04-02</td>\n",
       "      <td>2001</td>\n",
       "      <td>4</td>\n",
       "      <td>2</td>\n",
       "      <td>SEA</td>\n",
       "      <td>OAK</td>\n",
       "      <td>1</td>\n",
       "      <td>Freddy Garcia</td>\n",
       "      <td>Tim Hudson</td>\n",
       "      <td>1519.464</td>\n",
       "      <td>...</td>\n",
       "      <td>-15.232</td>\n",
       "      <td>-1.002459</td>\n",
       "      <td>-0.000864</td>\n",
       "      <td>0.001190</td>\n",
       "      <td>-0.016229</td>\n",
       "      <td>-0.323318</td>\n",
       "      <td>0.331871</td>\n",
       "      <td>-3.705210</td>\n",
       "      <td>5</td>\n",
       "      <td>5</td>\n",
       "    </tr>\n",
       "    <tr>\n",
       "      <th>3</th>\n",
       "      <td>2001-04-02</td>\n",
       "      <td>2001</td>\n",
       "      <td>4</td>\n",
       "      <td>2</td>\n",
       "      <td>NYA</td>\n",
       "      <td>KCA</td>\n",
       "      <td>1</td>\n",
       "      <td>clemr001</td>\n",
       "      <td>suppj001</td>\n",
       "      <td>1529.511</td>\n",
       "      <td>...</td>\n",
       "      <td>36.359</td>\n",
       "      <td>2.377165</td>\n",
       "      <td>-0.010188</td>\n",
       "      <td>0.006929</td>\n",
       "      <td>0.024787</td>\n",
       "      <td>-3.703559</td>\n",
       "      <td>1.970596</td>\n",
       "      <td>5.554343</td>\n",
       "      <td>5</td>\n",
       "      <td>5</td>\n",
       "    </tr>\n",
       "    <tr>\n",
       "      <th>4</th>\n",
       "      <td>2001-04-02</td>\n",
       "      <td>2001</td>\n",
       "      <td>4</td>\n",
       "      <td>2</td>\n",
       "      <td>LAN</td>\n",
       "      <td>MIL</td>\n",
       "      <td>1</td>\n",
       "      <td>parkc002</td>\n",
       "      <td>Jamey Wright</td>\n",
       "      <td>1515.925</td>\n",
       "      <td>...</td>\n",
       "      <td>25.529</td>\n",
       "      <td>1.684054</td>\n",
       "      <td>0.010660</td>\n",
       "      <td>0.014276</td>\n",
       "      <td>0.026359</td>\n",
       "      <td>4.193722</td>\n",
       "      <td>4.236467</td>\n",
       "      <td>6.181414</td>\n",
       "      <td>5</td>\n",
       "      <td>5</td>\n",
       "    </tr>\n",
       "  </tbody>\n",
       "</table>\n",
       "<p>5 rows × 29 columns</p>\n",
       "</div>"
      ],
      "text/plain": [
       "        date     Y  M  D home_team away_team  home_win   home_pitcher  \\\n",
       "0 2001-04-01  2001  4  1       TOR       TEX         1       loaie001   \n",
       "1 2001-04-02  2001  4  2       SFN       SDN         1       hernl003   \n",
       "2 2001-04-02  2001  4  2       SEA       OAK         1  Freddy Garcia   \n",
       "3 2001-04-02  2001  4  2       NYA       KCA         1       clemr001   \n",
       "4 2001-04-02  2001  4  2       LAN       MIL         1       parkc002   \n",
       "\n",
       "   away_pitcher  home_elo  ...  elo_diff  elo_pct_diff  avg_diff  obp_diff  \\\n",
       "0      hellr001  1499.563  ...    20.400      1.360396 -0.008060 -0.010103   \n",
       "1      willw001  1540.841  ...    48.041      3.117843  0.024251  0.032292   \n",
       "2    Tim Hudson  1519.464  ...   -15.232     -1.002459 -0.000864  0.001190   \n",
       "3      suppj001  1529.511  ...    36.359      2.377165 -0.010188  0.006929   \n",
       "4  Jamey Wright  1515.925  ...    25.529      1.684054  0.010660  0.014276   \n",
       "\n",
       "   slg_diff  team_avg_pct_diff  team_obp_pct_diff  team_slg_pct_diff  \\\n",
       "0  0.023271          -2.947374          -2.977845           4.989568   \n",
       "1  0.070273           8.784099           8.985458          14.998766   \n",
       "2 -0.016229          -0.323318           0.331871          -3.705210   \n",
       "3  0.024787          -3.703559           1.970596           5.554343   \n",
       "4  0.026359           4.193722           4.236467           6.181414   \n",
       "\n",
       "   home_rest  away_rest  \n",
       "0          5          5  \n",
       "1          5          5  \n",
       "2          5          5  \n",
       "3          5          5  \n",
       "4          5          5  \n",
       "\n",
       "[5 rows x 29 columns]"
      ]
     },
     "execution_count": 823,
     "metadata": {},
     "output_type": "execute_result"
    }
   ],
   "source": [
    "mlb.head()"
   ]
  },
  {
   "cell_type": "markdown",
   "metadata": {},
   "source": [
    "## Save results"
   ]
  },
  {
   "cell_type": "code",
   "execution_count": 824,
   "metadata": {},
   "outputs": [],
   "source": [
    "mlb.to_csv('../data/mlb_games_df.csv', index=False)"
   ]
  },
  {
   "cell_type": "markdown",
   "metadata": {},
   "source": [
    "## Fix pitcher names\n",
    "\n",
    "Pitchers have a mixture of names and ids. The code below takes the `pitchers_summary.csv` file (which is created in `data_prep/pitcher_summary.ipynb`) which contains the foreign keys and names of all pitchers, and uses is to replace all pitcher names with their IDs."
   ]
  },
  {
   "cell_type": "code",
   "execution_count": 825,
   "metadata": {},
   "outputs": [],
   "source": [
    "pitchers_df = pd.read_csv('../data/pitchers_summary.csv')"
   ]
  },
  {
   "cell_type": "markdown",
   "metadata": {},
   "source": [
    "Clean up pitcher names (remove spaces, periods, hyphens) to make joining easier (spellings are not identical across the two datasets)."
   ]
  },
  {
   "cell_type": "code",
   "execution_count": 826,
   "metadata": {},
   "outputs": [],
   "source": [
    "mlb['home_pitcher_cleaned'] = mlb['home_pitcher'].str.replace(r'[\\s\\.\\-]+', '').str.lower()\n",
    "mlb['away_pitcher_cleaned'] = mlb['away_pitcher'].str.replace(r'[\\s\\.\\-]+', '').str.lower()\n",
    "\n",
    "pitchers_df['pitcher_cleaned'] = pitchers_df['Name'].str.replace(r'[\\s\\.\\-]+', '').str.lower()"
   ]
  },
  {
   "cell_type": "markdown",
   "metadata": {},
   "source": [
    "Join by retrokey for all that we can. We'll start with just the home pitchers."
   ]
  },
  {
   "cell_type": "code",
   "execution_count": 827,
   "metadata": {},
   "outputs": [],
   "source": [
    "def fill_missing_pitchers(left, right, left_on, right_on):\n",
    "    # The only columns we need from the pitchers\n",
    "    right_keys = right[['key_retro', 'key_bbref', 'pitcher_cleaned']]\n",
    "    # Doing this whole \"reset_index\"...\"set_index\" preserves the indices (otherwise they get reset)\n",
    "    left = left.reset_index()\n",
    "    left = left.merge(right_keys, how='left', left_on=left_on, right_on=right_on)\n",
    "    left = left.set_index('index')\n",
    "    left = left.drop(['key_retro', 'pitcher_cleaned'], axis='columns')\n",
    "    return left"
   ]
  },
  {
   "cell_type": "code",
   "execution_count": 828,
   "metadata": {},
   "outputs": [],
   "source": [
    "mlb = fill_missing_pitchers(mlb, pitchers_df, 'home_pitcher', 'key_retro')"
   ]
  },
  {
   "cell_type": "code",
   "execution_count": 829,
   "metadata": {},
   "outputs": [],
   "source": [
    "def add_key_bbref(df, prefix):\n",
    "    # Rename the last column to include home/away\n",
    "    cols = list(df.columns)\n",
    "    cols[-1] = f'{prefix}_key_bbref'\n",
    "    df.columns = cols\n",
    "    return df"
   ]
  },
  {
   "cell_type": "code",
   "execution_count": 830,
   "metadata": {},
   "outputs": [],
   "source": [
    "mlb = add_key_bbref(mlb, 'home')"
   ]
  },
  {
   "cell_type": "markdown",
   "metadata": {},
   "source": [
    "Now we'll grab just those who didn't join on retrokey and try joining by cleaned name."
   ]
  },
  {
   "cell_type": "code",
   "execution_count": 831,
   "metadata": {},
   "outputs": [],
   "source": [
    "games_missing_df = mlb[mlb['home_key_bbref'].isna()]\n",
    "games_missing_df = games_missing_df.drop('home_key_bbref', axis='columns')\n",
    "\n",
    "games_missing_df = fill_missing_pitchers(games_missing_df, pitchers_df, 'home_pitcher_cleaned', 'pitcher_cleaned')\n",
    "games_missing_df = add_key_bbref(games_missing_df, 'home')"
   ]
  },
  {
   "cell_type": "code",
   "execution_count": 832,
   "metadata": {},
   "outputs": [],
   "source": [
    "mlb.update(games_missing_df)"
   ]
  },
  {
   "cell_type": "markdown",
   "metadata": {},
   "source": [
    "Still 188 games with missing pitchers (far less actual pitchers, as they pitched multiple games)"
   ]
  },
  {
   "cell_type": "code",
   "execution_count": 833,
   "metadata": {},
   "outputs": [
    {
     "data": {
      "text/plain": [
       "188"
      ]
     },
     "execution_count": 833,
     "metadata": {},
     "output_type": "execute_result"
    }
   ],
   "source": [
    "mlb['home_key_bbref'].isna().sum()"
   ]
  },
  {
   "cell_type": "markdown",
   "metadata": {},
   "source": [
    "Repeat for the away team pitcher."
   ]
  },
  {
   "cell_type": "code",
   "execution_count": 834,
   "metadata": {},
   "outputs": [],
   "source": [
    "mlb = fill_missing_pitchers(mlb, pitchers_df, 'away_pitcher', 'key_retro')\n",
    "mlb = add_key_bbref(mlb, 'away')\n",
    "\n",
    "pitchers_df = pitchers_df.drop_duplicates('pitcher_cleaned', keep=False)\n",
    "\n",
    "games_missing_df = mlb[mlb['away_key_bbref'].isna()]\n",
    "games_missing_df = games_missing_df.drop('away_key_bbref', axis='columns')\n",
    "games_missing_df = fill_missing_pitchers(games_missing_df, pitchers_df, 'away_pitcher_cleaned', 'pitcher_cleaned')\n",
    "games_missing_df = add_key_bbref(games_missing_df, 'away')\n",
    "\n",
    "mlb.update(games_missing_df)"
   ]
  },
  {
   "cell_type": "markdown",
   "metadata": {},
   "source": [
    "170 games with missing away pitchers"
   ]
  },
  {
   "cell_type": "code",
   "execution_count": 835,
   "metadata": {},
   "outputs": [
    {
     "data": {
      "text/plain": [
       "170"
      ]
     },
     "execution_count": 835,
     "metadata": {},
     "output_type": "execute_result"
    }
   ],
   "source": [
    "mlb['away_key_bbref'].isna().sum()"
   ]
  },
  {
   "cell_type": "markdown",
   "metadata": {},
   "source": [
    "The following pitchers are still missing. We'll deal with these cases manually."
   ]
  },
  {
   "cell_type": "code",
   "execution_count": 836,
   "metadata": {},
   "outputs": [
    {
     "data": {
      "text/plain": [
       "array(['faustocarmona', 'zachbritton', 'natekarns', 'robbieross',\n",
       "       'joshsmith', 'markleiterjr', 'joepalumbo'], dtype=object)"
      ]
     },
     "execution_count": 836,
     "metadata": {},
     "output_type": "execute_result"
    }
   ],
   "source": [
    "mlb[mlb['home_key_bbref'].isna()]['home_pitcher_cleaned'].unique()"
   ]
  },
  {
   "cell_type": "code",
   "execution_count": 837,
   "metadata": {},
   "outputs": [
    {
     "data": {
      "text/plain": [
       "array(['faustocarmona', 'zachbritton', 'natekarns', 'robbieross',\n",
       "       'joshsmith', 'markleiterjr', 'mattfesta'], dtype=object)"
      ]
     },
     "execution_count": 837,
     "metadata": {},
     "output_type": "execute_result"
    }
   ],
   "source": [
    "mlb[mlb['away_key_bbref'].isna()]['away_pitcher_cleaned'].unique()"
   ]
  },
  {
   "cell_type": "code",
   "execution_count": 838,
   "metadata": {},
   "outputs": [
    {
     "data": {
      "text/html": [
       "<div>\n",
       "<style scoped>\n",
       "    .dataframe tbody tr th:only-of-type {\n",
       "        vertical-align: middle;\n",
       "    }\n",
       "\n",
       "    .dataframe tbody tr th {\n",
       "        vertical-align: top;\n",
       "    }\n",
       "\n",
       "    .dataframe thead th {\n",
       "        text-align: right;\n",
       "    }\n",
       "</style>\n",
       "<table border=\"1\" class=\"dataframe\">\n",
       "  <thead>\n",
       "    <tr style=\"text-align: right;\">\n",
       "      <th></th>\n",
       "      <th>date</th>\n",
       "      <th>Y</th>\n",
       "      <th>M</th>\n",
       "      <th>D</th>\n",
       "      <th>home_team</th>\n",
       "      <th>away_team</th>\n",
       "      <th>home_win</th>\n",
       "      <th>home_pitcher</th>\n",
       "      <th>away_pitcher</th>\n",
       "      <th>home_elo</th>\n",
       "      <th>...</th>\n",
       "      <th>slg_diff</th>\n",
       "      <th>team_avg_pct_diff</th>\n",
       "      <th>team_obp_pct_diff</th>\n",
       "      <th>team_slg_pct_diff</th>\n",
       "      <th>home_rest</th>\n",
       "      <th>away_rest</th>\n",
       "      <th>home_pitcher_cleaned</th>\n",
       "      <th>away_pitcher_cleaned</th>\n",
       "      <th>home_key_bbref</th>\n",
       "      <th>away_key_bbref</th>\n",
       "    </tr>\n",
       "    <tr>\n",
       "      <th>index</th>\n",
       "      <th></th>\n",
       "      <th></th>\n",
       "      <th></th>\n",
       "      <th></th>\n",
       "      <th></th>\n",
       "      <th></th>\n",
       "      <th></th>\n",
       "      <th></th>\n",
       "      <th></th>\n",
       "      <th></th>\n",
       "      <th></th>\n",
       "      <th></th>\n",
       "      <th></th>\n",
       "      <th></th>\n",
       "      <th></th>\n",
       "      <th></th>\n",
       "      <th></th>\n",
       "      <th></th>\n",
       "      <th></th>\n",
       "      <th></th>\n",
       "      <th></th>\n",
       "    </tr>\n",
       "  </thead>\n",
       "  <tbody>\n",
       "    <tr>\n",
       "      <th>0</th>\n",
       "      <td>2001-04-01</td>\n",
       "      <td>2001.0</td>\n",
       "      <td>4.0</td>\n",
       "      <td>1.0</td>\n",
       "      <td>TOR</td>\n",
       "      <td>TEX</td>\n",
       "      <td>1.0</td>\n",
       "      <td>loaie001</td>\n",
       "      <td>hellr001</td>\n",
       "      <td>1499.563</td>\n",
       "      <td>...</td>\n",
       "      <td>0.023271</td>\n",
       "      <td>-2.947374</td>\n",
       "      <td>-2.977845</td>\n",
       "      <td>4.989568</td>\n",
       "      <td>5.0</td>\n",
       "      <td>5.0</td>\n",
       "      <td>loaie001</td>\n",
       "      <td>hellr001</td>\n",
       "      <td>loaizes01</td>\n",
       "      <td>helliri01</td>\n",
       "    </tr>\n",
       "    <tr>\n",
       "      <th>1</th>\n",
       "      <td>2001-04-02</td>\n",
       "      <td>2001.0</td>\n",
       "      <td>4.0</td>\n",
       "      <td>2.0</td>\n",
       "      <td>SFN</td>\n",
       "      <td>SDN</td>\n",
       "      <td>1.0</td>\n",
       "      <td>hernl003</td>\n",
       "      <td>willw001</td>\n",
       "      <td>1540.841</td>\n",
       "      <td>...</td>\n",
       "      <td>0.070273</td>\n",
       "      <td>8.784099</td>\n",
       "      <td>8.985458</td>\n",
       "      <td>14.998766</td>\n",
       "      <td>5.0</td>\n",
       "      <td>5.0</td>\n",
       "      <td>hernl003</td>\n",
       "      <td>willw001</td>\n",
       "      <td>hernali01</td>\n",
       "      <td>williwo02</td>\n",
       "    </tr>\n",
       "    <tr>\n",
       "      <th>2</th>\n",
       "      <td>2001-04-02</td>\n",
       "      <td>2001.0</td>\n",
       "      <td>4.0</td>\n",
       "      <td>2.0</td>\n",
       "      <td>SEA</td>\n",
       "      <td>OAK</td>\n",
       "      <td>1.0</td>\n",
       "      <td>Freddy Garcia</td>\n",
       "      <td>Tim Hudson</td>\n",
       "      <td>1519.464</td>\n",
       "      <td>...</td>\n",
       "      <td>-0.016229</td>\n",
       "      <td>-0.323318</td>\n",
       "      <td>0.331871</td>\n",
       "      <td>-3.705210</td>\n",
       "      <td>5.0</td>\n",
       "      <td>5.0</td>\n",
       "      <td>freddygarcia</td>\n",
       "      <td>timhudson</td>\n",
       "      <td>garcifr03</td>\n",
       "      <td>hudsoti01</td>\n",
       "    </tr>\n",
       "    <tr>\n",
       "      <th>3</th>\n",
       "      <td>2001-04-02</td>\n",
       "      <td>2001.0</td>\n",
       "      <td>4.0</td>\n",
       "      <td>2.0</td>\n",
       "      <td>NYA</td>\n",
       "      <td>KCA</td>\n",
       "      <td>1.0</td>\n",
       "      <td>clemr001</td>\n",
       "      <td>suppj001</td>\n",
       "      <td>1529.511</td>\n",
       "      <td>...</td>\n",
       "      <td>0.024787</td>\n",
       "      <td>-3.703559</td>\n",
       "      <td>1.970596</td>\n",
       "      <td>5.554343</td>\n",
       "      <td>5.0</td>\n",
       "      <td>5.0</td>\n",
       "      <td>clemr001</td>\n",
       "      <td>suppj001</td>\n",
       "      <td>clemero02</td>\n",
       "      <td>suppaje01</td>\n",
       "    </tr>\n",
       "    <tr>\n",
       "      <th>4</th>\n",
       "      <td>2001-04-02</td>\n",
       "      <td>2001.0</td>\n",
       "      <td>4.0</td>\n",
       "      <td>2.0</td>\n",
       "      <td>LAN</td>\n",
       "      <td>MIL</td>\n",
       "      <td>1.0</td>\n",
       "      <td>parkc002</td>\n",
       "      <td>Jamey Wright</td>\n",
       "      <td>1515.925</td>\n",
       "      <td>...</td>\n",
       "      <td>0.026359</td>\n",
       "      <td>4.193722</td>\n",
       "      <td>4.236467</td>\n",
       "      <td>6.181414</td>\n",
       "      <td>5.0</td>\n",
       "      <td>5.0</td>\n",
       "      <td>parkc002</td>\n",
       "      <td>jameywright</td>\n",
       "      <td>parkch01</td>\n",
       "      <td>wrighja01</td>\n",
       "    </tr>\n",
       "  </tbody>\n",
       "</table>\n",
       "<p>5 rows × 33 columns</p>\n",
       "</div>"
      ],
      "text/plain": [
       "            date       Y    M    D home_team away_team  home_win  \\\n",
       "index                                                              \n",
       "0     2001-04-01  2001.0  4.0  1.0       TOR       TEX       1.0   \n",
       "1     2001-04-02  2001.0  4.0  2.0       SFN       SDN       1.0   \n",
       "2     2001-04-02  2001.0  4.0  2.0       SEA       OAK       1.0   \n",
       "3     2001-04-02  2001.0  4.0  2.0       NYA       KCA       1.0   \n",
       "4     2001-04-02  2001.0  4.0  2.0       LAN       MIL       1.0   \n",
       "\n",
       "        home_pitcher  away_pitcher  home_elo  ...  slg_diff  \\\n",
       "index                                         ...             \n",
       "0           loaie001      hellr001  1499.563  ...  0.023271   \n",
       "1           hernl003      willw001  1540.841  ...  0.070273   \n",
       "2      Freddy Garcia    Tim Hudson  1519.464  ... -0.016229   \n",
       "3           clemr001      suppj001  1529.511  ...  0.024787   \n",
       "4           parkc002  Jamey Wright  1515.925  ...  0.026359   \n",
       "\n",
       "       team_avg_pct_diff  team_obp_pct_diff  team_slg_pct_diff  home_rest  \\\n",
       "index                                                                       \n",
       "0              -2.947374          -2.977845           4.989568        5.0   \n",
       "1               8.784099           8.985458          14.998766        5.0   \n",
       "2              -0.323318           0.331871          -3.705210        5.0   \n",
       "3              -3.703559           1.970596           5.554343        5.0   \n",
       "4               4.193722           4.236467           6.181414        5.0   \n",
       "\n",
       "       away_rest  home_pitcher_cleaned  away_pitcher_cleaned  home_key_bbref  \\\n",
       "index                                                                          \n",
       "0            5.0              loaie001              hellr001       loaizes01   \n",
       "1            5.0              hernl003              willw001       hernali01   \n",
       "2            5.0          freddygarcia             timhudson       garcifr03   \n",
       "3            5.0              clemr001              suppj001       clemero02   \n",
       "4            5.0              parkc002           jameywright        parkch01   \n",
       "\n",
       "       away_key_bbref  \n",
       "index                  \n",
       "0           helliri01  \n",
       "1           williwo02  \n",
       "2           hudsoti01  \n",
       "3           suppaje01  \n",
       "4           wrighja01  \n",
       "\n",
       "[5 rows x 33 columns]"
      ]
     },
     "execution_count": 838,
     "metadata": {},
     "output_type": "execute_result"
    }
   ],
   "source": [
    "mlb.head()"
   ]
  },
  {
   "cell_type": "markdown",
   "metadata": {},
   "source": [
    "Just went on BR and found these people. Some are funky spellings, some are where multiple pitchers have the same name."
   ]
  },
  {
   "cell_type": "code",
   "execution_count": 839,
   "metadata": {},
   "outputs": [],
   "source": [
    "pitcher_map = {'faustocarmona': 'carmofa01',\n",
    "              'zachbritton': 'brittza01',\n",
    "              'natekarns': 'karnsna01',\n",
    "              'robbieross': 'rossro01',\n",
    "              'joshsmith': 'smithjo07',\n",
    "              'markleiterjr': 'leitema02',\n",
    "              'joepalumbo': 'palumjo01',\n",
    "              'mattfesta': 'festama01'}"
   ]
  },
  {
   "cell_type": "markdown",
   "metadata": {},
   "source": [
    "Replace missing pitchers. Due to how Pandas handles `.replace()`, we would need an exhaustive dictionary with all pitchers. The code below replaces with those values in the dictionary above, and fills the rest with `None`. That's why we then `.fillna` with the remaining data."
   ]
  },
  {
   "cell_type": "code",
   "execution_count": 840,
   "metadata": {},
   "outputs": [],
   "source": [
    "mlb['home_pitcher'] = mlb['home_pitcher_cleaned'].map(pitcher_map).fillna(mlb['home_key_bbref'])\n",
    "mlb['away_pitcher'] = mlb['away_pitcher_cleaned'].map(pitcher_map).fillna(mlb['away_key_bbref'])"
   ]
  },
  {
   "cell_type": "code",
   "execution_count": 841,
   "metadata": {},
   "outputs": [],
   "source": [
    "assert mlb['home_pitcher'].isna().sum() == mlb['away_pitcher'].isna().sum() == 0, 'There are still some pitchers with missing data!'\n",
    "assert 'freddygarcia' not in mlb['home_pitcher'].unique(), 'There are pitcher names which are invalid keys!'"
   ]
  },
  {
   "cell_type": "markdown",
   "metadata": {},
   "source": [
    "Rename the columns"
   ]
  },
  {
   "cell_type": "code",
   "execution_count": 842,
   "metadata": {},
   "outputs": [],
   "source": [
    "mlb['home_pitcher'] = mlb['home_key_bbref']\n",
    "mlb['away_pitcher'] = mlb['away_key_bbref']"
   ]
  },
  {
   "cell_type": "markdown",
   "metadata": {},
   "source": [
    "Drop unnecessary columns"
   ]
  },
  {
   "cell_type": "code",
   "execution_count": 843,
   "metadata": {},
   "outputs": [],
   "source": [
    "mlb = mlb.drop(['home_pitcher_cleaned', 'away_pitcher_cleaned', 'home_key_bbref', 'away_key_bbref'], axis='columns')"
   ]
  },
  {
   "cell_type": "markdown",
   "metadata": {},
   "source": [
    "## Save the results"
   ]
  },
  {
   "cell_type": "code",
   "execution_count": 844,
   "metadata": {},
   "outputs": [],
   "source": [
    "mlb.to_csv('../data/mlb_games_df.csv', index=False)"
   ]
  },
  {
   "cell_type": "markdown",
   "metadata": {},
   "source": [
    "## Load using data loader\n",
    "\n",
    "Now use the data loader (which uses `mlb_games_df.csv`) to add in other stats."
   ]
  },
  {
   "cell_type": "code",
   "execution_count": 845,
   "metadata": {},
   "outputs": [],
   "source": [
    "ds = Dataset('all')\n",
    "ds.load_games(start_date='2000-01-01', end_date='2020-01-01');"
   ]
  },
  {
   "cell_type": "code",
   "execution_count": 846,
   "metadata": {},
   "outputs": [
    {
     "data": {
      "text/html": [
       "<div>\n",
       "<style scoped>\n",
       "    .dataframe tbody tr th:only-of-type {\n",
       "        vertical-align: middle;\n",
       "    }\n",
       "\n",
       "    .dataframe tbody tr th {\n",
       "        vertical-align: top;\n",
       "    }\n",
       "\n",
       "    .dataframe thead th {\n",
       "        text-align: right;\n",
       "    }\n",
       "</style>\n",
       "<table border=\"1\" class=\"dataframe\">\n",
       "  <thead>\n",
       "    <tr style=\"text-align: right;\">\n",
       "      <th></th>\n",
       "      <th>date</th>\n",
       "      <th>Y</th>\n",
       "      <th>M</th>\n",
       "      <th>D</th>\n",
       "      <th>home_team</th>\n",
       "      <th>away_team</th>\n",
       "      <th>home_win</th>\n",
       "      <th>home_pitcher</th>\n",
       "      <th>away_pitcher</th>\n",
       "      <th>home_elo</th>\n",
       "      <th>...</th>\n",
       "      <th>elo_diff</th>\n",
       "      <th>elo_pct_diff</th>\n",
       "      <th>avg_diff</th>\n",
       "      <th>obp_diff</th>\n",
       "      <th>slg_diff</th>\n",
       "      <th>team_avg_pct_diff</th>\n",
       "      <th>team_obp_pct_diff</th>\n",
       "      <th>team_slg_pct_diff</th>\n",
       "      <th>home_rest</th>\n",
       "      <th>away_rest</th>\n",
       "    </tr>\n",
       "  </thead>\n",
       "  <tbody>\n",
       "    <tr>\n",
       "      <th>0</th>\n",
       "      <td>2001-04-01</td>\n",
       "      <td>2001</td>\n",
       "      <td>4.0</td>\n",
       "      <td>1.0</td>\n",
       "      <td>TOR</td>\n",
       "      <td>TEX</td>\n",
       "      <td>1.0</td>\n",
       "      <td>loaizes01</td>\n",
       "      <td>helliri01</td>\n",
       "      <td>1499.562988</td>\n",
       "      <td>...</td>\n",
       "      <td>20.400000</td>\n",
       "      <td>1.360396</td>\n",
       "      <td>-0.008060</td>\n",
       "      <td>-0.010103</td>\n",
       "      <td>0.023271</td>\n",
       "      <td>-2.947374</td>\n",
       "      <td>-2.977845</td>\n",
       "      <td>4.989568</td>\n",
       "      <td>5.0</td>\n",
       "      <td>5.0</td>\n",
       "    </tr>\n",
       "    <tr>\n",
       "      <th>1</th>\n",
       "      <td>2001-04-02</td>\n",
       "      <td>2001</td>\n",
       "      <td>4.0</td>\n",
       "      <td>2.0</td>\n",
       "      <td>SFN</td>\n",
       "      <td>SDN</td>\n",
       "      <td>1.0</td>\n",
       "      <td>hernali01</td>\n",
       "      <td>williwo02</td>\n",
       "      <td>1540.840942</td>\n",
       "      <td>...</td>\n",
       "      <td>48.041000</td>\n",
       "      <td>3.117843</td>\n",
       "      <td>0.024251</td>\n",
       "      <td>0.032292</td>\n",
       "      <td>0.070273</td>\n",
       "      <td>8.784099</td>\n",
       "      <td>8.985458</td>\n",
       "      <td>14.998766</td>\n",
       "      <td>5.0</td>\n",
       "      <td>5.0</td>\n",
       "    </tr>\n",
       "    <tr>\n",
       "      <th>2</th>\n",
       "      <td>2001-04-02</td>\n",
       "      <td>2001</td>\n",
       "      <td>4.0</td>\n",
       "      <td>2.0</td>\n",
       "      <td>SEA</td>\n",
       "      <td>OAK</td>\n",
       "      <td>1.0</td>\n",
       "      <td>garcifr03</td>\n",
       "      <td>hudsoti01</td>\n",
       "      <td>1519.463989</td>\n",
       "      <td>...</td>\n",
       "      <td>-15.232000</td>\n",
       "      <td>-1.002459</td>\n",
       "      <td>-0.000864</td>\n",
       "      <td>0.001190</td>\n",
       "      <td>-0.016229</td>\n",
       "      <td>-0.323318</td>\n",
       "      <td>0.331871</td>\n",
       "      <td>-3.705210</td>\n",
       "      <td>5.0</td>\n",
       "      <td>5.0</td>\n",
       "    </tr>\n",
       "    <tr>\n",
       "      <th>3</th>\n",
       "      <td>2001-04-02</td>\n",
       "      <td>2001</td>\n",
       "      <td>4.0</td>\n",
       "      <td>2.0</td>\n",
       "      <td>NYA</td>\n",
       "      <td>KCA</td>\n",
       "      <td>1.0</td>\n",
       "      <td>clemero02</td>\n",
       "      <td>suppaje01</td>\n",
       "      <td>1529.510986</td>\n",
       "      <td>...</td>\n",
       "      <td>36.359001</td>\n",
       "      <td>2.377165</td>\n",
       "      <td>-0.010188</td>\n",
       "      <td>0.006929</td>\n",
       "      <td>0.024787</td>\n",
       "      <td>-3.703559</td>\n",
       "      <td>1.970596</td>\n",
       "      <td>5.554343</td>\n",
       "      <td>5.0</td>\n",
       "      <td>5.0</td>\n",
       "    </tr>\n",
       "    <tr>\n",
       "      <th>4</th>\n",
       "      <td>2001-04-02</td>\n",
       "      <td>2001</td>\n",
       "      <td>4.0</td>\n",
       "      <td>2.0</td>\n",
       "      <td>LAN</td>\n",
       "      <td>MIL</td>\n",
       "      <td>1.0</td>\n",
       "      <td>parkch01</td>\n",
       "      <td>wrighja01</td>\n",
       "      <td>1515.925049</td>\n",
       "      <td>...</td>\n",
       "      <td>25.528999</td>\n",
       "      <td>1.684054</td>\n",
       "      <td>0.010660</td>\n",
       "      <td>0.014276</td>\n",
       "      <td>0.026359</td>\n",
       "      <td>4.193722</td>\n",
       "      <td>4.236467</td>\n",
       "      <td>6.181414</td>\n",
       "      <td>5.0</td>\n",
       "      <td>5.0</td>\n",
       "    </tr>\n",
       "  </tbody>\n",
       "</table>\n",
       "<p>5 rows × 29 columns</p>\n",
       "</div>"
      ],
      "text/plain": [
       "        date     Y    M    D home_team away_team  home_win home_pitcher  \\\n",
       "0 2001-04-01  2001  4.0  1.0       TOR       TEX       1.0    loaizes01   \n",
       "1 2001-04-02  2001  4.0  2.0       SFN       SDN       1.0    hernali01   \n",
       "2 2001-04-02  2001  4.0  2.0       SEA       OAK       1.0    garcifr03   \n",
       "3 2001-04-02  2001  4.0  2.0       NYA       KCA       1.0    clemero02   \n",
       "4 2001-04-02  2001  4.0  2.0       LAN       MIL       1.0     parkch01   \n",
       "\n",
       "  away_pitcher     home_elo  ...   elo_diff  elo_pct_diff  avg_diff  obp_diff  \\\n",
       "0    helliri01  1499.562988  ...  20.400000      1.360396 -0.008060 -0.010103   \n",
       "1    williwo02  1540.840942  ...  48.041000      3.117843  0.024251  0.032292   \n",
       "2    hudsoti01  1519.463989  ... -15.232000     -1.002459 -0.000864  0.001190   \n",
       "3    suppaje01  1529.510986  ...  36.359001      2.377165 -0.010188  0.006929   \n",
       "4    wrighja01  1515.925049  ...  25.528999      1.684054  0.010660  0.014276   \n",
       "\n",
       "   slg_diff  team_avg_pct_diff  team_obp_pct_diff  team_slg_pct_diff  \\\n",
       "0  0.023271          -2.947374          -2.977845           4.989568   \n",
       "1  0.070273           8.784099           8.985458          14.998766   \n",
       "2 -0.016229          -0.323318           0.331871          -3.705210   \n",
       "3  0.024787          -3.703559           1.970596           5.554343   \n",
       "4  0.026359           4.193722           4.236467           6.181414   \n",
       "\n",
       "   home_rest  away_rest  \n",
       "0        5.0        5.0  \n",
       "1        5.0        5.0  \n",
       "2        5.0        5.0  \n",
       "3        5.0        5.0  \n",
       "4        5.0        5.0  \n",
       "\n",
       "[5 rows x 29 columns]"
      ]
     },
     "execution_count": 846,
     "metadata": {},
     "output_type": "execute_result"
    }
   ],
   "source": [
    "ds.data.head()"
   ]
  },
  {
   "cell_type": "markdown",
   "metadata": {},
   "source": [
    "## Add team stats, team pitching stats, and pitcher stats\n",
    "\n",
    "Add the team columns shown below for the previous season."
   ]
  },
  {
   "cell_type": "code",
   "execution_count": 847,
   "metadata": {},
   "outputs": [],
   "source": [
    "team_stat_cols = ['W-L-pct', 'Avg_Attendance', 'Rank', 'R', 'RA', 'FP']\n",
    "ds.add_team_stats(cols=team_stat_cols, year_offset=1);"
   ]
  },
  {
   "cell_type": "markdown",
   "metadata": {},
   "source": [
    "Add the team pitching columns shown below for the previous season."
   ]
  },
  {
   "cell_type": "code",
   "execution_count": 848,
   "metadata": {},
   "outputs": [],
   "source": [
    "team_pitching_stat_cols = ['WHIP', 'ERA']\n",
    "ds.add_team_pitching_stats(cols=team_pitching_stat_cols, year_offset=1);"
   ]
  },
  {
   "cell_type": "code",
   "execution_count": 849,
   "metadata": {},
   "outputs": [],
   "source": [
    "pitcher_stat_cols = ['WHIP', 'ERA', 'IP', 'WPA']\n",
    "ds.add_pitcher_stats(cols=pitcher_stat_cols, game_offset=162);"
   ]
  },
  {
   "cell_type": "markdown",
   "metadata": {},
   "source": [
    "## Adding total runs and runs allowed"
   ]
  },
  {
   "cell_type": "markdown",
   "metadata": {},
   "source": [
    "All of the code below just duplicates Morgan's work. However, the assert statement below shows that the calculations give exactly the same results he got in `data/data_bayes.csv`. So commenting out this code now to save time."
   ]
  },
  {
   "cell_type": "markdown",
   "metadata": {},
   "source": [
    "scores_df = pd.read_csv('https://projects.fivethirtyeight.com/mlb-api/mlb_elo.csv')"
   ]
  },
  {
   "cell_type": "markdown",
   "metadata": {},
   "source": [
    "scores_df = scores_df[(scores_df['date'] >= '2000-02-29') & (scores_df['date'] <= '2019-9-29')]\n",
    "scores_df = scores_df.sort_values(by='date')\n",
    "\n",
    "scores_df = scores_df[(scores_df['playoff'] != 'w') &\n",
    "                  (scores_df['playoff'] != 'l') &\n",
    "                 (scores_df['playoff'] != 'd') &\n",
    "                 (scores_df['playoff'] != 'c')]\n",
    "\n",
    "scores_df['date'] = pd.to_datetime(scores_df['date'])\n",
    "\n",
    "scores_df['Y'] = scores_df['date'].dt.year\n",
    "scores_df['M'] = scores_df['date'].dt.month\n",
    "scores_df['D'] = scores_df['date'].dt.day\n",
    "\n",
    "scores_df = scores_df[['date', 'season', 'team1', 'team2', 'score1', 'score2']]\n",
    "\n",
    "scores_df = scores_df.rename({'season':'Y',\n",
    "                'team1': 'home_team',\n",
    "                'team2': 'away_team',\n",
    "                'score1': 'home_score',\n",
    "                'score2': 'away_score'},\n",
    "              axis=1)\n",
    "\n",
    "scores_df = scores_df.reset_index(drop=True)"
   ]
  },
  {
   "cell_type": "markdown",
   "metadata": {},
   "source": [
    "scores_df['home_total_R'] = 0\n",
    "scores_df['home_total_RA'] = 0\n",
    "scores_df['away_total_R'] = 0\n",
    "scores_df['away_total_RA'] = 0"
   ]
  },
  {
   "cell_type": "markdown",
   "metadata": {},
   "source": [
    "# Used to suppress warnings\n",
    "pd.set_option('mode.chained_assignment', None)\n",
    "\n",
    "for i in range(scores_df.shape[0]):\n",
    "    # Go team-by-team\n",
    "    for team in scores_df['home_team'].unique():\n",
    "        # Find games (rows) where that team played (either home or away)\n",
    "        if (scores_df.iloc[i]['home_team'] == team) | (scores_df.iloc[i]['away_team'] == team):\n",
    "            # Find all games prior to the current game (and in the current season) where they played. \n",
    "            # Separate it by where they were home and away team.\n",
    "            home_team_df = scores_df[scores_df['home_team'] == team]\n",
    "            home_team_df = home_team_df[home_team_df['Y'] == (scores_df.iloc[i]['Y'])]\n",
    "            home_team_df = home_team_df[home_team_df['date'] < scores_df.iloc[i]['date']]\n",
    "            \n",
    "            away_team_df = scores_df[scores_df['away_team'] == team]\n",
    "            away_team_df = away_team_df[away_team_df['Y'] == (scores_df.iloc[i]['Y'])]\n",
    "            away_team_df = away_team_df[away_team_df['date'] < scores_df.iloc[i]['date']]\n",
    "            \n",
    "            if scores_df.iloc[i]['home_team'] == team:\n",
    "                scores_df['home_total_R'][i] = home_team_df['home_score'].sum() + away_team_df['away_score'].sum()\n",
    "                scores_df['home_total_RA'][i] = home_team_df['away_score'].sum() + away_team_df['home_score'].sum()\n",
    "            if scores_df.iloc[i]['away_team'] == team:\n",
    "                scores_df['away_total_R'][i] = away_team_df['away_score'].sum() + home_team_df['home_score'].sum()\n",
    "                scores_df['away_total_RA'][i] = away_team_df['home_score'].sum() + home_team_df['away_score'].sum()"
   ]
  },
  {
   "cell_type": "markdown",
   "metadata": {},
   "source": [
    "scores_df.head()"
   ]
  },
  {
   "cell_type": "markdown",
   "metadata": {},
   "source": [
    "scores_df['date'] = pd.to_datetime(scores_df['date'])"
   ]
  },
  {
   "cell_type": "markdown",
   "metadata": {},
   "source": [
    "scores_df = scores_df[scores_df['date'] > '2001-01-01']"
   ]
  },
  {
   "cell_type": "code",
   "execution_count": 850,
   "metadata": {},
   "outputs": [],
   "source": [
    "bayes_df = pd.read_csv('../data/data_bayes.csv')"
   ]
  },
  {
   "cell_type": "code",
   "execution_count": 851,
   "metadata": {},
   "outputs": [],
   "source": [
    "bayes_df['date'] = pd.to_datetime(bayes_df['date'])"
   ]
  },
  {
   "cell_type": "code",
   "execution_count": 852,
   "metadata": {},
   "outputs": [],
   "source": [
    "bayes_df['home_team'] = bayes_df['home_team'].apply(uniform_name)\n",
    "bayes_df['away_team'] = bayes_df['away_team'].apply(uniform_name)\n",
    "\n",
    "scores_df['home_team'] = scores_df['home_team'].apply(uniform_name)\n",
    "scores_df['away_team'] = scores_df['away_team'].apply(uniform_name)"
   ]
  },
  {
   "cell_type": "markdown",
   "metadata": {},
   "source": [
    "bayes_df.head()"
   ]
  },
  {
   "cell_type": "markdown",
   "metadata": {},
   "source": [
    "bayes_df.columns"
   ]
  },
  {
   "cell_type": "code",
   "execution_count": 853,
   "metadata": {},
   "outputs": [],
   "source": [
    "cols = ['date', 'home_team', 'away_team', 'home_total_R', 'home_total_RA',\n",
    "       'away_total_R', 'away_total_RA']"
   ]
  },
  {
   "cell_type": "markdown",
   "metadata": {},
   "source": [
    "We can see that the data in `data/data_bayes.csv` matches exactly what we just calculated for R, RA, etc. So we'll just use that data for simplicity."
   ]
  },
  {
   "cell_type": "markdown",
   "metadata": {},
   "source": [
    "assert np.all(scores_df[cols].values == bayes_df[cols].values)"
   ]
  },
  {
   "cell_type": "markdown",
   "metadata": {},
   "source": [
    "Merge back with the dataset"
   ]
  },
  {
   "cell_type": "code",
   "execution_count": 854,
   "metadata": {},
   "outputs": [],
   "source": [
    "bayes_df = bayes_df.drop(['Y', 'home_win', 'home_score', 'away_score', 'M', 'D'], axis='columns')\n",
    "ds.data = ds.data.merge(bayes_df, on=['date', 'home_team', 'away_team'])"
   ]
  },
  {
   "cell_type": "markdown",
   "metadata": {},
   "source": [
    "## Adding custom percent difference columns\n",
    "\n",
    "Add in Morgan's percent difference columns."
   ]
  },
  {
   "cell_type": "code",
   "execution_count": 855,
   "metadata": {},
   "outputs": [],
   "source": [
    "def make_pct_diff_col(df, home_col, away_col):\n",
    "    return (df[home_col] - df[away_col]) / df[home_col]"
   ]
  },
  {
   "cell_type": "code",
   "execution_count": 856,
   "metadata": {},
   "outputs": [
    {
     "data": {
      "text/plain": [
       "Index(['date', 'Y', 'M', 'D', 'home_team', 'away_team', 'home_win',\n",
       "       'home_pitcher', 'away_pitcher', 'home_elo', 'away_elo', 'home_avg',\n",
       "       'away_avg', 'home_obp', 'away_obp', 'home_slg', 'away_slg', 'home_iso',\n",
       "       'away_iso', 'elo_diff', 'elo_pct_diff', 'avg_diff', 'obp_diff',\n",
       "       'slg_diff', 'team_avg_pct_diff', 'team_obp_pct_diff',\n",
       "       'team_slg_pct_diff', 'home_rest', 'away_rest',\n",
       "       'home_W-L-pct_offset1year', 'home_Avg_Attendance_offset1year',\n",
       "       'home_Rank_offset1year', 'home_R_offset1year', 'home_RA_offset1year',\n",
       "       'home_FP_offset1year', 'away_W-L-pct_offset1year',\n",
       "       'away_Avg_Attendance_offset1year', 'away_Rank_offset1year',\n",
       "       'away_R_offset1year', 'away_RA_offset1year', 'away_FP_offset1year',\n",
       "       'home_WHIP_offset1year', 'home_ERA_offset1year',\n",
       "       'away_WHIP_offset1year', 'away_ERA_offset1year',\n",
       "       'home_pitcher_season_game', 'home_pitcher_WHIP_avg_162games',\n",
       "       'home_pitcher_ERA_avg_162games', 'home_pitcher_IP_avg_162games',\n",
       "       'home_pitcher_WPA_avg_162games', 'away_pitcher_season_game',\n",
       "       'away_pitcher_WHIP_avg_162games', 'away_pitcher_ERA_avg_162games',\n",
       "       'away_pitcher_IP_avg_162games', 'away_pitcher_WPA_avg_162games',\n",
       "       'home_total_R', 'home_total_RA', 'away_total_R', 'away_total_RA',\n",
       "       'home_win_pct', 'away_win_pct', 'home_pythag_expect',\n",
       "       'away_pythag_expect', 'home_win_diff', 'away_win_diff',\n",
       "       'home_previous_WL', 'away_previous_WL', 'home_bayes_win',\n",
       "       'away_bayes_win', 'home_win_diff_bayes', 'away_win_diff_bayes'],\n",
       "      dtype='object')"
      ]
     },
     "execution_count": 856,
     "metadata": {},
     "output_type": "execute_result"
    }
   ],
   "source": [
    "ds.data.columns"
   ]
  },
  {
   "cell_type": "code",
   "execution_count": 867,
   "metadata": {},
   "outputs": [],
   "source": [
    "ds.data['home_ops'] = ds.data['home_slg'] + ds.data['home_obp']\n",
    "ds.data['away_ops'] = ds.data['away_slg'] + ds.data['away_obp']\n",
    "\n",
    "ds.data['home_RD'] = ds.data['home_R_offset1year'] - ds.data['home_RA_offset1year']\n",
    "ds.data['away_RD'] = ds.data['away_R_offset1year'] - ds.data['away_RA_offset1year']\n",
    "\n",
    "ds.data['pitcher_WHIP_pct_diff'] = make_pct_diff_col(ds.data, 'home_pitcher_WHIP_avg_162games', 'away_pitcher_WHIP_avg_162games')\n",
    "ds.data['pitcher_ERA_pct_diff'] = make_pct_diff_col(ds.data, 'home_pitcher_ERA_avg_162games', 'away_pitcher_ERA_avg_162games')\n",
    "ds.data['pitcher_IP_pct_diff'] = make_pct_diff_col(ds.data, 'home_pitcher_IP_avg_162games', 'away_pitcher_IP_avg_162games')\n",
    "\n",
    "ds.data['team_W-L_pct_diff'] = make_pct_diff_col(ds.data, 'home_W-L-pct_offset1year', 'away_W-L-pct_offset1year')\n",
    "ds.data['team_ops_pct_diff'] = make_pct_diff_col(ds.data, 'home_ops', 'away_ops')\n",
    "ds.data['team_obp_pct_diff'] = make_pct_diff_col(ds.data, 'home_obp', 'away_obp')\n",
    "ds.data['team_avg_pct_diff'] = make_pct_diff_col(ds.data, 'home_avg', 'away_avg')\n",
    "ds.data['team_RD_pct_diff'] = make_pct_diff_col(ds.data, 'home_RD', 'away_RD')\n",
    "# ds.data['team_WPA_pct_diff'] = make_pct_diff_col(ds.data, 'home_WPA', 'away_WPA')\n",
    "ds.data['team_WHIP_pct_diff'] = make_pct_diff_col(ds.data, 'home_WHIP_offset1year', 'away_WHIP_offset1year')\n",
    "ds.data['team_FP_pct_diff'] = make_pct_diff_col(ds.data, 'home_FP_offset1year', 'away_FP_offset1year')\n",
    "ds.data['team_Rank_pct_diff'] = make_pct_diff_col(ds.data, 'home_Rank_offset1year', 'away_Rank_offset1year')\n",
    "ds.data['team_ERA_pct_diff'] = make_pct_diff_col(ds.data, 'home_ERA_offset1year', 'away_ERA_offset1year')\n",
    "ds.data['team_RA_pct_diff'] = make_pct_diff_col(ds.data, 'home_RA_offset1year', 'away_RA_offset1year')\n",
    "ds.data['team_R_pct_diff'] = make_pct_diff_col(ds.data, 'home_R_offset1year', 'away_R_offset1year')\n",
    "ds.data['team_bayes_pct_diff'] = make_pct_diff_col(ds.data, 'home_bayes_win', 'away_bayes_win')\n",
    "ds.data['team_pytha_pct_diff'] = make_pct_diff_col(ds.data, 'home_pythag_expect', 'away_pythag_expect')"
   ]
  },
  {
   "cell_type": "code",
   "execution_count": 881,
   "metadata": {},
   "outputs": [
    {
     "data": {
      "text/plain": [
       "Index(['date', 'Y', 'M', 'D', 'home_team', 'away_team', 'home_win',\n",
       "       'home_pitcher', 'away_pitcher', 'home_elo', 'away_elo', 'home_avg',\n",
       "       'away_avg', 'home_obp', 'away_obp', 'home_slg', 'away_slg', 'home_iso',\n",
       "       'away_iso', 'elo_diff', 'elo_pct_diff', 'avg_diff', 'obp_diff',\n",
       "       'slg_diff', 'team_avg_pct_diff', 'team_obp_pct_diff',\n",
       "       'team_slg_pct_diff', 'home_rest', 'away_rest',\n",
       "       'home_W-L-pct_offset1year', 'home_Avg_Attendance_offset1year',\n",
       "       'home_Rank_offset1year', 'home_R_offset1year', 'home_RA_offset1year',\n",
       "       'home_FP_offset1year', 'away_W-L-pct_offset1year',\n",
       "       'away_Avg_Attendance_offset1year', 'away_Rank_offset1year',\n",
       "       'away_R_offset1year', 'away_RA_offset1year', 'away_FP_offset1year',\n",
       "       'home_WHIP_offset1year', 'home_ERA_offset1year',\n",
       "       'away_WHIP_offset1year', 'away_ERA_offset1year',\n",
       "       'home_pitcher_season_game', 'home_pitcher_WHIP_avg_162games',\n",
       "       'home_pitcher_ERA_avg_162games', 'home_pitcher_IP_avg_162games',\n",
       "       'home_pitcher_WPA_avg_162games', 'away_pitcher_season_game',\n",
       "       'away_pitcher_WHIP_avg_162games', 'away_pitcher_ERA_avg_162games',\n",
       "       'away_pitcher_IP_avg_162games', 'away_pitcher_WPA_avg_162games',\n",
       "       'home_total_R', 'home_total_RA', 'away_total_R', 'away_total_RA',\n",
       "       'home_win_pct', 'away_win_pct', 'home_pythag_expect',\n",
       "       'away_pythag_expect', 'home_win_diff', 'away_win_diff',\n",
       "       'home_previous_WL', 'away_previous_WL', 'home_bayes_win',\n",
       "       'away_bayes_win', 'home_win_diff_bayes', 'away_win_diff_bayes',\n",
       "       'home_ops', 'away_ops', 'home_RD', 'away_RD', 'pitcher_WHIP_pct_diff',\n",
       "       'pitcher_ERA_pct_diff', 'pitcher_IP_pct_diff', 'team_W-L_pct_diff',\n",
       "       'team_ops_pct_diff', 'team_RD_pct_diff', 'team_FP_pct_diff',\n",
       "       'team_Rank_pct_diff', 'team_ERA_pct_diff', 'team_RA_pct_diff',\n",
       "       'team_R_pct_diff', 'team_bayes_pct_diff', 'team_pytha_pct_diff',\n",
       "       'log_5', 'team_WHIP_pct_diff'],\n",
       "      dtype='object')"
      ]
     },
     "execution_count": 881,
     "metadata": {},
     "output_type": "execute_result"
    }
   ],
   "source": [
    "ds.data.columns"
   ]
  },
  {
   "cell_type": "code",
   "execution_count": 872,
   "metadata": {},
   "outputs": [],
   "source": [
    "numerator = (ds.data['home_win_pct'] - (ds.data['home_win_pct']*ds.data['away_win_pct']))\n",
    "denominator = (ds.data['home_win_pct'] + ds.data['away_win_pct'] - (2*ds.data['home_win_pct']*ds.data['away_win_pct']))\n",
    "ds.data['log_5'] = numerator / denominator"
   ]
  },
  {
   "cell_type": "code",
   "execution_count": 873,
   "metadata": {},
   "outputs": [],
   "source": [
    "final_df = ds.data.drop(['date', 'D', 'home_pitcher', 'away_pitcher'], axis='columns')"
   ]
  },
  {
   "cell_type": "code",
   "execution_count": 887,
   "metadata": {},
   "outputs": [],
   "source": [
    "final_df.to_csv('../data/start_to_finish.csv', index=False)"
   ]
  },
  {
   "cell_type": "code",
   "execution_count": 862,
   "metadata": {},
   "outputs": [],
   "source": [
    "old_df = pd.read_csv('../data/Final Data/pct-diff-mlb-games.csv')"
   ]
  },
  {
   "cell_type": "code",
   "execution_count": 868,
   "metadata": {},
   "outputs": [
    {
     "data": {
      "text/plain": [
       "Index(['home_win', 'home_team', 'away_team', 'Y', 'M', 'avg_pct_diff',\n",
       "       'obp_pct_diff', 'slg_pct_diff', 'team_ERA_pct_diff',\n",
       "       'team_WHIP_pct_diff', 'team_W-L_pct_diff', 'team_Rank_pct_diff',\n",
       "       'team_FP_pct_diff', 'R_pct_diff', 'RA_pct_diff', 'pytha_pct_diff',\n",
       "       'win_pct_diff', 'bayes_pct_diff', 'pitcher_WHIP_pct_diff',\n",
       "       'pitcher_ERA_pct_diff', 'pitcher_IP_pct_diff', 'ops_pct_diff',\n",
       "       'RD_pct_diff', 'FP_pct_diff', 'Rank_pct_diff', 'WPA_pct_diff', 'log_5'],\n",
       "      dtype='object')"
      ]
     },
     "execution_count": 868,
     "metadata": {},
     "output_type": "execute_result"
    }
   ],
   "source": [
    "old_df.columns"
   ]
  },
  {
   "cell_type": "code",
   "execution_count": 874,
   "metadata": {},
   "outputs": [
    {
     "data": {
      "text/plain": [
       "Index(['Y', 'M', 'home_team', 'away_team', 'home_win', 'home_elo', 'away_elo',\n",
       "       'home_avg', 'away_avg', 'home_obp', 'away_obp', 'home_slg', 'away_slg',\n",
       "       'home_iso', 'away_iso', 'elo_diff', 'elo_pct_diff', 'avg_diff',\n",
       "       'obp_diff', 'slg_diff', 'team_avg_pct_diff', 'team_obp_pct_diff',\n",
       "       'team_slg_pct_diff', 'home_rest', 'away_rest',\n",
       "       'home_W-L-pct_offset1year', 'home_Avg_Attendance_offset1year',\n",
       "       'home_Rank_offset1year', 'home_R_offset1year', 'home_RA_offset1year',\n",
       "       'home_FP_offset1year', 'away_W-L-pct_offset1year',\n",
       "       'away_Avg_Attendance_offset1year', 'away_Rank_offset1year',\n",
       "       'away_R_offset1year', 'away_RA_offset1year', 'away_FP_offset1year',\n",
       "       'home_WHIP_offset1year', 'home_ERA_offset1year',\n",
       "       'away_WHIP_offset1year', 'away_ERA_offset1year',\n",
       "       'home_pitcher_season_game', 'home_pitcher_WHIP_avg_162games',\n",
       "       'home_pitcher_ERA_avg_162games', 'home_pitcher_IP_avg_162games',\n",
       "       'home_pitcher_WPA_avg_162games', 'away_pitcher_season_game',\n",
       "       'away_pitcher_WHIP_avg_162games', 'away_pitcher_ERA_avg_162games',\n",
       "       'away_pitcher_IP_avg_162games', 'away_pitcher_WPA_avg_162games',\n",
       "       'home_total_R', 'home_total_RA', 'away_total_R', 'away_total_RA',\n",
       "       'home_win_pct', 'away_win_pct', 'home_pythag_expect',\n",
       "       'away_pythag_expect', 'home_win_diff', 'away_win_diff',\n",
       "       'home_previous_WL', 'away_previous_WL', 'home_bayes_win',\n",
       "       'away_bayes_win', 'home_win_diff_bayes', 'away_win_diff_bayes',\n",
       "       'home_ops', 'away_ops', 'home_RD', 'away_RD', 'pitcher_WHIP_pct_diff',\n",
       "       'pitcher_ERA_pct_diff', 'pitcher_IP_pct_diff', 'team_W-L_pct_diff',\n",
       "       'team_ops_pct_diff', 'team_RD_pct_diff', 'team_FP_pct_diff',\n",
       "       'team_Rank_pct_diff', 'team_ERA_pct_diff', 'team_RA_pct_diff',\n",
       "       'team_R_pct_diff', 'team_bayes_pct_diff', 'team_pytha_pct_diff',\n",
       "       'log_5', 'team_WHIP_pct_diff'],\n",
       "      dtype='object')"
      ]
     },
     "execution_count": 874,
     "metadata": {},
     "output_type": "execute_result"
    }
   ],
   "source": [
    "final_df.columns"
   ]
  },
  {
   "cell_type": "code",
   "execution_count": 875,
   "metadata": {},
   "outputs": [],
   "source": [
    "missing_cols = list(set(old_df.columns) - set(final_df.columns))"
   ]
  },
  {
   "cell_type": "code",
   "execution_count": 882,
   "metadata": {},
   "outputs": [
    {
     "data": {
      "text/plain": [
       "['M',\n",
       " 'Y',\n",
       " 'pitcher_IP_pct_diff',\n",
       " 'team_ERA_pct_diff',\n",
       " 'team_ops_pct_diff',\n",
       " 'team_FP_pct_diff',\n",
       " 'team_slg_pct_diff',\n",
       " 'team_R_pct_diff',\n",
       " 'team_bayes_pct_diff',\n",
       " 'team_avg_pct_diff',\n",
       " 'team_obp_pct_diff',\n",
       " 'pitcher_ERA_pct_diff',\n",
       " 'pitcher_WHIP_pct_diff',\n",
       " 'log_5',\n",
       " 'home_win',\n",
       " 'team_win_pct_diff',\n",
       " 'team_W-L_pct_diff',\n",
       " 'team_Rank_pct_diff',\n",
       " 'away_team',\n",
       " 'home_team',\n",
       " 'team_WPA_pct_diff',\n",
       " 'team_pytha_pct_diff',\n",
       " 'team_RD_pct_diff',\n",
       " 'team_WHIP_pct_diff',\n",
       " 'team_RA_pct_diff',\n",
       " 'team_W-L_pct_diff']"
      ]
     },
     "execution_count": 882,
     "metadata": {},
     "output_type": "execute_result"
    }
   ],
   "source": [
    "common_cols = list(set(old_df.columns).intersection(final_df.columns))\n",
    "common_cols.extend([f'team_{c}' for c in missing_cols])\n",
    "common_cols = list(set(common_cols)) + ['team_W-L_pct_diff']\n",
    "common_cols"
   ]
  }
 ],
 "metadata": {
  "kernelspec": {
   "display_name": "Python 3",
   "language": "python",
   "name": "python3"
  },
  "language_info": {
   "codemirror_mode": {
    "name": "ipython",
    "version": 3
   },
   "file_extension": ".py",
   "mimetype": "text/x-python",
   "name": "python",
   "nbconvert_exporter": "python",
   "pygments_lexer": "ipython3",
   "version": "3.8.5"
  }
 },
 "nbformat": 4,
 "nbformat_minor": 4
}
