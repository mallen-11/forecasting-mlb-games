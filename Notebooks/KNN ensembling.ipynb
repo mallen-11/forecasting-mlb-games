{
 "cells": [
  {
   "cell_type": "markdown",
   "metadata": {},
   "source": [
    "# KNN ensembling\n",
    "\n",
    "The purpose of this notebook is to try various approaches to intelligently ensemble KNN with XGB/NN."
   ]
  },
  {
   "cell_type": "code",
   "execution_count": 64,
   "metadata": {},
   "outputs": [],
   "source": [
    "import pandas as pd\n",
    "import numpy as np\n",
    "from matplotlib import pyplot as plt"
   ]
  },
  {
   "cell_type": "code",
   "execution_count": 65,
   "metadata": {},
   "outputs": [],
   "source": [
    "df = pd.read_csv('../data/Final Data/start_to_finish_with_preds.csv')"
   ]
  },
  {
   "cell_type": "code",
   "execution_count": 66,
   "metadata": {},
   "outputs": [
    {
     "data": {
      "text/html": [
       "<div>\n",
       "<style scoped>\n",
       "    .dataframe tbody tr th:only-of-type {\n",
       "        vertical-align: middle;\n",
       "    }\n",
       "\n",
       "    .dataframe tbody tr th {\n",
       "        vertical-align: top;\n",
       "    }\n",
       "\n",
       "    .dataframe thead th {\n",
       "        text-align: right;\n",
       "    }\n",
       "</style>\n",
       "<table border=\"1\" class=\"dataframe\">\n",
       "  <thead>\n",
       "    <tr style=\"text-align: right;\">\n",
       "      <th></th>\n",
       "      <th>Y</th>\n",
       "      <th>M</th>\n",
       "      <th>home_team</th>\n",
       "      <th>away_team</th>\n",
       "      <th>home_elo</th>\n",
       "      <th>away_elo</th>\n",
       "      <th>home_avg</th>\n",
       "      <th>away_avg</th>\n",
       "      <th>home_obp</th>\n",
       "      <th>away_obp</th>\n",
       "      <th>...</th>\n",
       "      <th>team_WHIP_pct_diff</th>\n",
       "      <th>xgb_pred</th>\n",
       "      <th>knn_pred</th>\n",
       "      <th>knn_no_batting_pred</th>\n",
       "      <th>nn_pred</th>\n",
       "      <th>xgb_proba</th>\n",
       "      <th>knn_proba</th>\n",
       "      <th>knn_no_batting_proba</th>\n",
       "      <th>nn_proba</th>\n",
       "      <th>home_win</th>\n",
       "    </tr>\n",
       "  </thead>\n",
       "  <tbody>\n",
       "    <tr>\n",
       "      <th>0</th>\n",
       "      <td>2016</td>\n",
       "      <td>4</td>\n",
       "      <td>PIT</td>\n",
       "      <td>SLN</td>\n",
       "      <td>1533.1644</td>\n",
       "      <td>1526.7958</td>\n",
       "      <td>0.252810</td>\n",
       "      <td>0.246971</td>\n",
       "      <td>0.317378</td>\n",
       "      <td>0.316181</td>\n",
       "      <td>...</td>\n",
       "      <td>-0.012113</td>\n",
       "      <td>0.0</td>\n",
       "      <td>0.0</td>\n",
       "      <td>0.0</td>\n",
       "      <td>1</td>\n",
       "      <td>0.452681</td>\n",
       "      <td>0.500000</td>\n",
       "      <td>0.500000</td>\n",
       "      <td>0.615994</td>\n",
       "      <td>1.0</td>\n",
       "    </tr>\n",
       "    <tr>\n",
       "      <th>1</th>\n",
       "      <td>2016</td>\n",
       "      <td>4</td>\n",
       "      <td>TBA</td>\n",
       "      <td>TOR</td>\n",
       "      <td>1508.5856</td>\n",
       "      <td>1543.1775</td>\n",
       "      <td>0.246346</td>\n",
       "      <td>0.260793</td>\n",
       "      <td>0.309376</td>\n",
       "      <td>0.332750</td>\n",
       "      <td>...</td>\n",
       "      <td>0.014688</td>\n",
       "      <td>0.0</td>\n",
       "      <td>0.0</td>\n",
       "      <td>0.0</td>\n",
       "      <td>0</td>\n",
       "      <td>0.377228</td>\n",
       "      <td>0.493333</td>\n",
       "      <td>0.500000</td>\n",
       "      <td>0.446586</td>\n",
       "      <td>0.0</td>\n",
       "    </tr>\n",
       "    <tr>\n",
       "      <th>2</th>\n",
       "      <td>2016</td>\n",
       "      <td>4</td>\n",
       "      <td>KCA</td>\n",
       "      <td>NYN</td>\n",
       "      <td>1542.5957</td>\n",
       "      <td>1524.7207</td>\n",
       "      <td>0.262548</td>\n",
       "      <td>0.239915</td>\n",
       "      <td>0.317525</td>\n",
       "      <td>0.307705</td>\n",
       "      <td>...</td>\n",
       "      <td>0.080079</td>\n",
       "      <td>1.0</td>\n",
       "      <td>0.0</td>\n",
       "      <td>0.0</td>\n",
       "      <td>1</td>\n",
       "      <td>0.629717</td>\n",
       "      <td>0.500000</td>\n",
       "      <td>0.500000</td>\n",
       "      <td>0.588885</td>\n",
       "      <td>1.0</td>\n",
       "    </tr>\n",
       "    <tr>\n",
       "      <th>3</th>\n",
       "      <td>2016</td>\n",
       "      <td>4</td>\n",
       "      <td>OAK</td>\n",
       "      <td>CHA</td>\n",
       "      <td>1488.3344</td>\n",
       "      <td>1489.9082</td>\n",
       "      <td>0.246621</td>\n",
       "      <td>0.244771</td>\n",
       "      <td>0.308523</td>\n",
       "      <td>0.302390</td>\n",
       "      <td>...</td>\n",
       "      <td>-0.016226</td>\n",
       "      <td>1.0</td>\n",
       "      <td>1.0</td>\n",
       "      <td>1.0</td>\n",
       "      <td>1</td>\n",
       "      <td>0.572504</td>\n",
       "      <td>0.533333</td>\n",
       "      <td>0.540000</td>\n",
       "      <td>0.503614</td>\n",
       "      <td>0.0</td>\n",
       "    </tr>\n",
       "    <tr>\n",
       "      <th>4</th>\n",
       "      <td>2016</td>\n",
       "      <td>4</td>\n",
       "      <td>ANA</td>\n",
       "      <td>CHN</td>\n",
       "      <td>1509.8676</td>\n",
       "      <td>1526.6748</td>\n",
       "      <td>0.240166</td>\n",
       "      <td>0.239208</td>\n",
       "      <td>0.301890</td>\n",
       "      <td>0.316835</td>\n",
       "      <td>...</td>\n",
       "      <td>0.089003</td>\n",
       "      <td>1.0</td>\n",
       "      <td>1.0</td>\n",
       "      <td>1.0</td>\n",
       "      <td>1</td>\n",
       "      <td>0.515874</td>\n",
       "      <td>0.506667</td>\n",
       "      <td>0.513333</td>\n",
       "      <td>0.609053</td>\n",
       "      <td>0.0</td>\n",
       "    </tr>\n",
       "  </tbody>\n",
       "</table>\n",
       "<p>5 rows × 94 columns</p>\n",
       "</div>"
      ],
      "text/plain": [
       "      Y  M home_team away_team   home_elo   away_elo  home_avg  away_avg  \\\n",
       "0  2016  4       PIT       SLN  1533.1644  1526.7958  0.252810  0.246971   \n",
       "1  2016  4       TBA       TOR  1508.5856  1543.1775  0.246346  0.260793   \n",
       "2  2016  4       KCA       NYN  1542.5957  1524.7207  0.262548  0.239915   \n",
       "3  2016  4       OAK       CHA  1488.3344  1489.9082  0.246621  0.244771   \n",
       "4  2016  4       ANA       CHN  1509.8676  1526.6748  0.240166  0.239208   \n",
       "\n",
       "   home_obp  away_obp  ...  team_WHIP_pct_diff  xgb_pred  knn_pred  \\\n",
       "0  0.317378  0.316181  ...           -0.012113       0.0       0.0   \n",
       "1  0.309376  0.332750  ...            0.014688       0.0       0.0   \n",
       "2  0.317525  0.307705  ...            0.080079       1.0       0.0   \n",
       "3  0.308523  0.302390  ...           -0.016226       1.0       1.0   \n",
       "4  0.301890  0.316835  ...            0.089003       1.0       1.0   \n",
       "\n",
       "   knn_no_batting_pred  nn_pred  xgb_proba  knn_proba  knn_no_batting_proba  \\\n",
       "0                  0.0        1   0.452681   0.500000              0.500000   \n",
       "1                  0.0        0   0.377228   0.493333              0.500000   \n",
       "2                  0.0        1   0.629717   0.500000              0.500000   \n",
       "3                  1.0        1   0.572504   0.533333              0.540000   \n",
       "4                  1.0        1   0.515874   0.506667              0.513333   \n",
       "\n",
       "   nn_proba  home_win  \n",
       "0  0.615994       1.0  \n",
       "1  0.446586       0.0  \n",
       "2  0.588885       1.0  \n",
       "3  0.503614       0.0  \n",
       "4  0.609053       0.0  \n",
       "\n",
       "[5 rows x 94 columns]"
      ]
     },
     "execution_count": 66,
     "metadata": {},
     "output_type": "execute_result"
    }
   ],
   "source": [
    "df.head()"
   ]
  },
  {
   "cell_type": "code",
   "execution_count": 68,
   "metadata": {},
   "outputs": [],
   "source": [
    "reverse_cols = ['team_ERA_pct_diff', 'pitcher_ERA_pct_diff', 'team_WHIP_pct_diff',\n",
    "                'pitcher_WHIP_pct_diff', 'team_Rank_pct_diff', 'team_RA_pct_diff']\n",
    "prediction_cols = ['xgb_pred', 'xgb_proba', 'knn_pred', 'knn_proba', 'nn_pred', 'nn_proba']\n",
    "info_cols = ['home_team', 'away_team', 'home_win', 'Y', 'M']\n",
    "\n",
    "pct_diff_cols = [c for c in df.columns if c.endswith('_pct_diff')]\n",
    "\n",
    "for c in reverse_cols:\n",
    "    if c not in pct_diff_cols:\n",
    "        print(c)\n",
    "    else:\n",
    "        pct_diff_cols.remove(c)"
   ]
  },
  {
   "cell_type": "code",
   "execution_count": 69,
   "metadata": {},
   "outputs": [],
   "source": [
    "home_win_df = df[df['home_win'] == 1]\n",
    "home_loss_df = df[df['home_win'] == 0]"
   ]
  },
  {
   "cell_type": "code",
   "execution_count": 70,
   "metadata": {},
   "outputs": [
    {
     "data": {
      "image/png": "[encoded data removed]",
      "text/plain": [
       "<Figure size 864x576 with 1 Axes>"
      ]
     },
     "metadata": {
      "needs_background": "light"
     },
     "output_type": "display_data"
    }
   ],
   "source": [
    "plt.figure(figsize=(12, 8))\n",
    "(np.sum(home_win_df[pct_diff_cols] > 0, axis='rows') / home_win_df.shape[0]).plot(kind='bar', label='home win', color='blue', alpha=0.5)\n",
    "(np.sum(home_loss_df[pct_diff_cols] < 0, axis='rows') / home_loss_df.shape[0]).plot(kind='bar', label='home loss', color='red', alpha=0.5)\n",
    "plt.legend();"
   ]
  },
  {
   "cell_type": "code",
   "execution_count": 71,
   "metadata": {},
   "outputs": [
    {
     "data": {
      "image/png": "[encoded data removed]",
      "text/plain": [
       "<Figure size 864x576 with 1 Axes>"
      ]
     },
     "metadata": {
      "needs_background": "light"
     },
     "output_type": "display_data"
    }
   ],
   "source": [
    "plt.figure(figsize=(12, 8))\n",
    "(np.sum(home_win_df[reverse_cols] < 0, axis='rows') / home_win_df.shape[0]).plot(kind='bar', label='home win', color='blue', alpha=0.5)\n",
    "(np.sum(home_loss_df[reverse_cols] > 0, axis='rows') / home_loss_df.shape[0]).plot(kind='bar', label='home loss', color='red', alpha=0.5)\n",
    "plt.legend();"
   ]
  },
  {
   "cell_type": "code",
   "execution_count": null,
   "metadata": {},
   "outputs": [],
   "source": []
  }
 ],
 "metadata": {
  "kernelspec": {
   "display_name": "Python 3",
   "language": "python",
   "name": "python3"
  },
  "language_info": {
   "codemirror_mode": {
    "name": "ipython",
    "version": 3
   },
   "file_extension": ".py",
   "mimetype": "text/x-python",
   "name": "python",
   "nbconvert_exporter": "python",
   "pygments_lexer": "ipython3",
   "version": "3.8.5"
  }
 },
 "nbformat": 4,
 "nbformat_minor": 4
}
